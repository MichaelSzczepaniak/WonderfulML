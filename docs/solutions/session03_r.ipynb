{
 "cells": [
  {
   "cell_type": "markdown",
   "metadata": {},
   "source": [
    "## The Wonderful World of ML - Session 3 Assignment (Linear Regression)"
   ]
  },
  {
   "cell_type": "markdown",
   "metadata": {},
   "source": [
    "In addition to the references provided in session 2, I've uploading all the video and course notes from the [**Regression Models**](https://www.coursera.org/learn/regression-models) class from the Johns Hopkins Data Science Specialization on coursera to our meetup repo [here](https://github.com/focods/WonderfulML/tree/master/docs/JHU_DSS_RegMods).  This weeks assignment is adapted from an assignment given in this class."
   ]
  },
  {
   "cell_type": "markdown",
   "metadata": {},
   "source": [
    "If you haven't done so by now, install jupyter notebook and configure it with an R kernel if you are an R user.  If you are Python user, your Anaconda install will have Python configured out of the box.  For further details, refer to the top of the session 2 notebooks."
   ]
  },
  {
   "cell_type": "markdown",
   "metadata": {},
   "source": [
    "### Only one problem for this session, but it's a good one..."
   ]
  },
  {
   "cell_type": "markdown",
   "metadata": {},
   "source": [
    "The data for this assignment can be found in our meetup repo:\n",
    "\n",
    "[https://raw.githubusercontent.com/focods/WonderfulML/master/data/mtcars.csv](https://raw.githubusercontent.com/focods/WonderfulML/master/data/mtcars.csv)\n",
    "\n",
    "**Here is the scenario:**  *You work for Motor Trend, a magazine about the automobile industry. Looking at a data set of a collection of cars, they are interested in exploring the relationship between a set of variables and miles per gallon (MPG) (outcome). They are particularly interested in the following two questions:*\n",
    "\n",
    "1. Is an automatic or manual transmission better for MPG?  \n",
    "2. Quantify the MPG difference between automatic and manual transmissions.\n",
    "\n",
    "Here is some code to get you started."
   ]
  },
  {
   "cell_type": "code",
   "execution_count": 3,
   "metadata": {},
   "outputs": [
    {
     "data": {
      "text/html": [
       "<table>\n",
       "<thead><tr><th scope=col>model</th><th scope=col>mpg</th><th scope=col>cyl</th><th scope=col>disp</th><th scope=col>hp</th><th scope=col>drat</th><th scope=col>wt</th><th scope=col>qsec</th><th scope=col>vs</th><th scope=col>am</th><th scope=col>gear</th><th scope=col>carb</th></tr></thead>\n",
       "<tbody>\n",
       "\t<tr><td>Mazda RX4        </td><td>21.0             </td><td>6                </td><td>160              </td><td>110              </td><td>3.90             </td><td>2.620            </td><td>16.46            </td><td>0                </td><td>1                </td><td>4                </td><td>4                </td></tr>\n",
       "\t<tr><td>Mazda RX4 Wag    </td><td>21.0             </td><td>6                </td><td>160              </td><td>110              </td><td>3.90             </td><td>2.875            </td><td>17.02            </td><td>0                </td><td>1                </td><td>4                </td><td>4                </td></tr>\n",
       "\t<tr><td>Datsun 710       </td><td>22.8             </td><td>4                </td><td>108              </td><td> 93              </td><td>3.85             </td><td>2.320            </td><td>18.61            </td><td>1                </td><td>1                </td><td>4                </td><td>1                </td></tr>\n",
       "\t<tr><td>Hornet 4 Drive   </td><td>21.4             </td><td>6                </td><td>258              </td><td>110              </td><td>3.08             </td><td>3.215            </td><td>19.44            </td><td>1                </td><td>0                </td><td>3                </td><td>1                </td></tr>\n",
       "\t<tr><td>Hornet Sportabout</td><td>18.7             </td><td>8                </td><td>360              </td><td>175              </td><td>3.15             </td><td>3.440            </td><td>17.02            </td><td>0                </td><td>0                </td><td>3                </td><td>2                </td></tr>\n",
       "\t<tr><td>Valiant          </td><td>18.1             </td><td>6                </td><td>225              </td><td>105              </td><td>2.76             </td><td>3.460            </td><td>20.22            </td><td>1                </td><td>0                </td><td>3                </td><td>1                </td></tr>\n",
       "</tbody>\n",
       "</table>\n"
      ],
      "text/latex": [
       "\\begin{tabular}{r|llllllllllll}\n",
       " model & mpg & cyl & disp & hp & drat & wt & qsec & vs & am & gear & carb\\\\\n",
       "\\hline\n",
       "\t Mazda RX4         & 21.0              & 6                 & 160               & 110               & 3.90              & 2.620             & 16.46             & 0                 & 1                 & 4                 & 4                \\\\\n",
       "\t Mazda RX4 Wag     & 21.0              & 6                 & 160               & 110               & 3.90              & 2.875             & 17.02             & 0                 & 1                 & 4                 & 4                \\\\\n",
       "\t Datsun 710        & 22.8              & 4                 & 108               &  93               & 3.85              & 2.320             & 18.61             & 1                 & 1                 & 4                 & 1                \\\\\n",
       "\t Hornet 4 Drive    & 21.4              & 6                 & 258               & 110               & 3.08              & 3.215             & 19.44             & 1                 & 0                 & 3                 & 1                \\\\\n",
       "\t Hornet Sportabout & 18.7              & 8                 & 360               & 175               & 3.15              & 3.440             & 17.02             & 0                 & 0                 & 3                 & 2                \\\\\n",
       "\t Valiant           & 18.1              & 6                 & 225               & 105               & 2.76              & 3.460             & 20.22             & 1                 & 0                 & 3                 & 1                \\\\\n",
       "\\end{tabular}\n"
      ],
      "text/markdown": [
       "\n",
       "model | mpg | cyl | disp | hp | drat | wt | qsec | vs | am | gear | carb | \n",
       "|---|---|---|---|---|---|\n",
       "| Mazda RX4         | 21.0              | 6                 | 160               | 110               | 3.90              | 2.620             | 16.46             | 0                 | 1                 | 4                 | 4                 | \n",
       "| Mazda RX4 Wag     | 21.0              | 6                 | 160               | 110               | 3.90              | 2.875             | 17.02             | 0                 | 1                 | 4                 | 4                 | \n",
       "| Datsun 710        | 22.8              | 4                 | 108               |  93               | 3.85              | 2.320             | 18.61             | 1                 | 1                 | 4                 | 1                 | \n",
       "| Hornet 4 Drive    | 21.4              | 6                 | 258               | 110               | 3.08              | 3.215             | 19.44             | 1                 | 0                 | 3                 | 1                 | \n",
       "| Hornet Sportabout | 18.7              | 8                 | 360               | 175               | 3.15              | 3.440             | 17.02             | 0                 | 0                 | 3                 | 2                 | \n",
       "| Valiant           | 18.1              | 6                 | 225               | 105               | 2.76              | 3.460             | 20.22             | 1                 | 0                 | 3                 | 1                 | \n",
       "\n",
       "\n"
      ],
      "text/plain": [
       "  model             mpg  cyl disp hp  drat wt    qsec  vs am gear carb\n",
       "1 Mazda RX4         21.0 6   160  110 3.90 2.620 16.46 0  1  4    4   \n",
       "2 Mazda RX4 Wag     21.0 6   160  110 3.90 2.875 17.02 0  1  4    4   \n",
       "3 Datsun 710        22.8 4   108   93 3.85 2.320 18.61 1  1  4    1   \n",
       "4 Hornet 4 Drive    21.4 6   258  110 3.08 3.215 19.44 1  0  3    1   \n",
       "5 Hornet Sportabout 18.7 8   360  175 3.15 3.440 17.02 0  0  3    2   \n",
       "6 Valiant           18.1 6   225  105 2.76 3.460 20.22 1  0  3    1   "
      ]
     },
     "metadata": {},
     "output_type": "display_data"
    }
   ],
   "source": [
    "mtcars <- read.csv(\"https://raw.githubusercontent.com/focods/WonderfulML/master/data/mtcars.csv\")\n",
    "\n",
    "head(mtcars)"
   ]
  },
  {
   "cell_type": "markdown",
   "metadata": {
    "collapsed": true
   },
   "source": [
    "Let's do a little EDA..."
   ]
  },
  {
   "cell_type": "code",
   "execution_count": 1,
   "metadata": {},
   "outputs": [
    {
     "data": {
      "image/png": "[encoded data removed]",
      "text/plain": [
       "plot without title"
      ]
     },
     "metadata": {},
     "output_type": "display_data"
    }
   ],
   "source": [
    "suppressMessages(suppressWarnings(library(dplyr)))\n",
    "suppressMessages(suppressWarnings(library(bindrcpp)))\n",
    "suppressMessages(suppressWarnings(library(ggplot2)))\n",
    "suppressMessages(suppressWarnings(library(repr)))\n",
    "suppressMessages(suppressWarnings(library(GGally)))\n",
    "\n",
    "library(dplyr)  # make sure you've done an install.packages so you have these\n",
    "library(ggplot2)\n",
    "library(repr)      # need for plot resizing\n",
    "library(lazyeval)  # need for interp\n",
    "library(GGally) #install.packages(\"GGally\")\n",
    "\n",
    "func <- function(dat=mtcars, mapping, method=\"loess\", ...) {\n",
    "    p <- ggplot(data = dat, mapping = mapping)\n",
    "    p <- p + geom_point() + geom_smooth(method=method, ...)\n",
    "    \n",
    "    return(p)\n",
    "}\n",
    "\n",
    "g <- ggpairs(mtcars[, 2:ncol(mtcars)], lower = list(continuous = wrap(func, method=\"lm\")),\n",
    "             title = \"Figure 1: Pairs Plot of Variables in mtcars Dataset\")\n",
    "# http://blog.revolutionanalytics.com/2015/09/resizing-plots-in-the-r-kernel-for-jupyter-notebooks.html\n",
    "options(repr.plot.width=7, repr.plot.height=7)\n",
    "print(g)"
   ]
  },
  {
   "cell_type": "markdown",
   "metadata": {},
   "source": [
    "Let's take a look at the overall effect of transmission on MPG with this question in mind: *Is an automatic or manual transmission better for MPG?*  \n",
    "\n",
    "Let's start by taking a look at a box plot comparing all the automatics against all the manual transmissions:"
   ]
  },
  {
   "cell_type": "code",
   "execution_count": 5,
   "metadata": {},
   "outputs": [
    {
     "data": {},
     "metadata": {},
     "output_type": "display_data"
    },
    {
     "data": {
      "image/png": "[encoded data removed]",
      "text/plain": [
       "plot without title"
      ]
     },
     "metadata": {},
     "output_type": "display_data"
    }
   ],
   "source": [
    "## PlotTools.R contains multiplot function\n",
    "source('../../R/PlotTools.R')  # running notebook from docs/solutions/ dir under project\n",
    "\n",
    "## boxplot to compare automatics vs manuals\n",
    "p1 <- ggplot(mtcars, aes(factor(am), mpg))\n",
    "p1 <- p1 + ggtitle(\"Figure 2: MPG by Transmission Only\")\n",
    "p1 <- p1 + geom_boxplot(aes(fill = factor(am)));\n",
    "p1 <- p1 + scale_fill_discrete(name=\"Transmission\", breaks=c(0,1),\n",
    "                               labels=c(\"Automatics\", \"Manuals\"))\n",
    "p1 <- p1 + theme(legend.position=c(0.2,0.85))\n",
    "p1 <- p1 + labs(x = \"Transmission (0 = Automatic)\", y = \"MPG (Miles Per Gallon)\")\n",
    "\n",
    "options(repr.plot.width=4, repr.plot.height=4)\n",
    "\n",
    "p1"
   ]
  },
  {
   "cell_type": "markdown",
   "metadata": {},
   "source": [
    "The plot suggests that manuals get better mileage than automatics.  Let's see if a t-test confirms this:"
   ]
  },
  {
   "cell_type": "code",
   "execution_count": 6,
   "metadata": {},
   "outputs": [
    {
     "data": {
      "text/plain": [
       "\n",
       "\tWelch Two Sample t-test\n",
       "\n",
       "data:  mpg by factor(am)\n",
       "t = -3.7671, df = 18.332, p-value = 0.001374\n",
       "alternative hypothesis: true difference in means is not equal to 0\n",
       "95 percent confidence interval:\n",
       " -11.280194  -3.209684\n",
       "sample estimates:\n",
       "mean in group 0 mean in group 1 \n",
       "       17.14737        24.39231 \n"
      ]
     },
     "metadata": {},
     "output_type": "display_data"
    }
   ],
   "source": [
    "t.test(mpg ~ factor(am), paired=FALSE, var.equal=FALSE, data=mtcars)"
   ]
  },
  {
   "cell_type": "markdown",
   "metadata": {},
   "source": [
    "O.k., if we assume that other factors are **not** confounding our results, then the data suggests that manuals give better mileage.  So our next task is to check for factors that may be confounding the results keeping in mind that our goal is to create an *appropriate* linear model which focused on the effects of transmission (**am**), **not** to create a model that best predicts MPG from the dataset.\n",
    "\n",
    "An *appropriate* model for this goal was considered to be one that accurately quantified the effects of transmission on MPG (**mpg**) with only the required number of variables. Based on our initial assumption, the process of model selection should start by first building the simpliest possible model which is just the mean **mpg**.  This **f00** model will be our *reference*.\n",
    "\n",
    "The next simpliest model will again use **mpg** as the response, but include the **am** variable as a predictor.  This **f01** model will be our *base*.\n",
    "\n",
    "#### Important note here: We will use the entire dataset for this analysis because we are focusing on *characterization* of transmission on mpg rather than on prediction."
   ]
  },
  {
   "cell_type": "code",
   "execution_count": 7,
   "metadata": {},
   "outputs": [
    {
     "data": {
      "text/html": [
       "<table>\n",
       "<thead><tr><th></th><th scope=col>Estimate</th><th scope=col>Std. Error</th><th scope=col>t value</th><th scope=col>Pr(&gt;|t|)</th></tr></thead>\n",
       "<tbody>\n",
       "\t<tr><th scope=row>(Intercept)</th><td>20.09062    </td><td>1.065424    </td><td>18.85693    </td><td>1.526151e-18</td></tr>\n",
       "</tbody>\n",
       "</table>\n"
      ],
      "text/latex": [
       "\\begin{tabular}{r|llll}\n",
       "  & Estimate & Std. Error & t value & Pr(>\\textbar{}t\\textbar{})\\\\\n",
       "\\hline\n",
       "\t(Intercept) & 20.09062     & 1.065424     & 18.85693     & 1.526151e-18\\\\\n",
       "\\end{tabular}\n"
      ],
      "text/markdown": [
       "\n",
       "| <!--/--> | Estimate | Std. Error | t value | Pr(>|t|) | \n",
       "|---|\n",
       "| (Intercept) | 20.09062     | 1.065424     | 18.85693     | 1.526151e-18 | \n",
       "\n",
       "\n"
      ],
      "text/plain": [
       "            Estimate Std. Error t value  Pr(>|t|)    \n",
       "(Intercept) 20.09062 1.065424   18.85693 1.526151e-18"
      ]
     },
     "metadata": {},
     "output_type": "display_data"
    },
    {
     "data": {
      "text/html": [
       "<table>\n",
       "<thead><tr><th></th><th scope=col>Estimate</th><th scope=col>Std. Error</th><th scope=col>t value</th><th scope=col>Pr(&gt;|t|)</th></tr></thead>\n",
       "<tbody>\n",
       "\t<tr><th scope=row>(Intercept)</th><td>17.147368   </td><td>1.124603    </td><td>15.247492   </td><td>1.133983e-15</td></tr>\n",
       "\t<tr><th scope=row>am</th><td> 7.244939   </td><td>1.764422    </td><td> 4.106127   </td><td>2.850207e-04</td></tr>\n",
       "</tbody>\n",
       "</table>\n"
      ],
      "text/latex": [
       "\\begin{tabular}{r|llll}\n",
       "  & Estimate & Std. Error & t value & Pr(>\\textbar{}t\\textbar{})\\\\\n",
       "\\hline\n",
       "\t(Intercept) & 17.147368    & 1.124603     & 15.247492    & 1.133983e-15\\\\\n",
       "\tam &  7.244939    & 1.764422     &  4.106127    & 2.850207e-04\\\\\n",
       "\\end{tabular}\n"
      ],
      "text/markdown": [
       "\n",
       "| <!--/--> | Estimate | Std. Error | t value | Pr(>|t|) | \n",
       "|---|---|\n",
       "| (Intercept) | 17.147368    | 1.124603     | 15.247492    | 1.133983e-15 | \n",
       "| am |  7.244939    | 1.764422     |  4.106127    | 2.850207e-04 | \n",
       "\n",
       "\n"
      ],
      "text/plain": [
       "            Estimate  Std. Error t value   Pr(>|t|)    \n",
       "(Intercept) 17.147368 1.124603   15.247492 1.133983e-15\n",
       "am           7.244939 1.764422    4.106127 2.850207e-04"
      ]
     },
     "metadata": {},
     "output_type": "display_data"
    },
    {
     "data": {
      "text/html": [
       "<table>\n",
       "<thead><tr><th></th><th scope=col>Df</th><th scope=col>Sum Sq</th><th scope=col>Mean Sq</th><th scope=col>F value</th><th scope=col>Pr(&gt;F)</th></tr></thead>\n",
       "<tbody>\n",
       "\t<tr><th scope=row>am</th><td> 1          </td><td>405.1506    </td><td>405.15059   </td><td>16.86028    </td><td>0.0002850207</td></tr>\n",
       "\t<tr><th scope=row>Residuals</th><td>30          </td><td>720.8966    </td><td> 24.02989   </td><td>      NA    </td><td>          NA</td></tr>\n",
       "</tbody>\n",
       "</table>\n"
      ],
      "text/latex": [
       "\\begin{tabular}{r|lllll}\n",
       "  & Df & Sum Sq & Mean Sq & F value & Pr(>F)\\\\\n",
       "\\hline\n",
       "\tam &  1           & 405.1506     & 405.15059    & 16.86028     & 0.0002850207\\\\\n",
       "\tResiduals & 30           & 720.8966     &  24.02989    &       NA     &           NA\\\\\n",
       "\\end{tabular}\n"
      ],
      "text/markdown": [
       "\n",
       "| <!--/--> | Df | Sum Sq | Mean Sq | F value | Pr(>F) | \n",
       "|---|---|\n",
       "| am |  1           | 405.1506     | 405.15059    | 16.86028     | 0.0002850207 | \n",
       "| Residuals | 30           | 720.8966     |  24.02989    |       NA     |           NA | \n",
       "\n",
       "\n"
      ],
      "text/plain": [
       "          Df Sum Sq   Mean Sq   F value  Pr(>F)      \n",
       "am         1 405.1506 405.15059 16.86028 0.0002850207\n",
       "Residuals 30 720.8966  24.02989       NA           NA"
      ]
     },
     "metadata": {},
     "output_type": "display_data"
    }
   ],
   "source": [
    "#mpg_mean <- mean(mtcars$mpg)\n",
    "#mpg_mean  # 20.09062\n",
    "f00 <- lm(mpg ~ 1, mtcars); summary(f00)$coef  # reference model: predict w/ mean 20.09062\n",
    "f01 <- lm(mpg ~ am, mtcars); summary(f01)$coef # base model\n",
    "anova(f01)  # just a check: should show same Pr(>|t|) as shown for lm fit and does"
   ]
  },
  {
   "cell_type": "markdown",
   "metadata": {},
   "source": [
    "Since Pr(>|t|) = 2.850207e-04 < 0.05 for **am** in the second table above, we are better than 95% confident that the coefficient (**Estimate** column) is not zero.  Now let's check that we get a signicant drop in RSS by running an ANOVA against the reference and base models."
   ]
  },
  {
   "cell_type": "code",
   "execution_count": 8,
   "metadata": {},
   "outputs": [
    {
     "data": {
      "text/html": [
       "<table>\n",
       "<thead><tr><th scope=col>Res.Df</th><th scope=col>RSS</th><th scope=col>Df</th><th scope=col>Sum of Sq</th><th scope=col>F</th><th scope=col>Pr(&gt;F)</th></tr></thead>\n",
       "<tbody>\n",
       "\t<tr><td>31          </td><td>1126.0472   </td><td>NA          </td><td>      NA    </td><td>      NA    </td><td>          NA</td></tr>\n",
       "\t<tr><td>30          </td><td> 720.8966   </td><td> 1          </td><td>405.1506    </td><td>16.86028    </td><td>0.0002850207</td></tr>\n",
       "</tbody>\n",
       "</table>\n"
      ],
      "text/latex": [
       "\\begin{tabular}{r|llllll}\n",
       " Res.Df & RSS & Df & Sum of Sq & F & Pr(>F)\\\\\n",
       "\\hline\n",
       "\t 31           & 1126.0472    & NA           &       NA     &       NA     &           NA\\\\\n",
       "\t 30           &  720.8966    &  1           & 405.1506     & 16.86028     & 0.0002850207\\\\\n",
       "\\end{tabular}\n"
      ],
      "text/markdown": [
       "\n",
       "Res.Df | RSS | Df | Sum of Sq | F | Pr(>F) | \n",
       "|---|---|\n",
       "| 31           | 1126.0472    | NA           |       NA     |       NA     |           NA | \n",
       "| 30           |  720.8966    |  1           | 405.1506     | 16.86028     | 0.0002850207 | \n",
       "\n",
       "\n"
      ],
      "text/plain": [
       "  Res.Df RSS       Df Sum of Sq F        Pr(>F)      \n",
       "1 31     1126.0472 NA       NA        NA           NA\n",
       "2 30      720.8966  1 405.1506  16.86028 0.0002850207"
      ]
     },
     "metadata": {},
     "output_type": "display_data"
    }
   ],
   "source": [
    "anova(f00, f01)"
   ]
  },
  {
   "cell_type": "markdown",
   "metadata": {
    "collapsed": true
   },
   "source": [
    "The small value of Pr(>F) (probability that the RSS drop is NOT significant) indicates that the drop in RSS is signicant.\n",
    "\n",
    "We can now build successive models in a nested fashion by adding variables to the base model, and evaluating each new addition.  As long as the sign on the **am** coefficient doesn't flip, we'll assume that the variable we added is relatively independent from transmission.  If it does flip the sign, then we'll assume there is interacton aka confounding.\n",
    "\n",
    "If the variable we add can be considered relatively independent of transmission, we'll exclude it from our model.  We'll leave it out of our model because we are only interested in the effect of transmission.  If the variable we add confounds **am**, we'll add an interaction term, check for significance of both the new terms coefficient and the drop in RSS (ANOVA)."
   ]
  },
  {
   "cell_type": "code",
   "execution_count": 9,
   "metadata": {},
   "outputs": [
    {
     "data": {
      "text/html": [
       "<table>\n",
       "<thead><tr><th></th><th scope=col>Estimate</th><th scope=col>Std. Error</th><th scope=col>t value</th><th scope=col>Pr(&gt;|t|)</th></tr></thead>\n",
       "<tbody>\n",
       "\t<tr><th scope=row>(Intercept)</th><td>37.32155131 </td><td>3.0546385   </td><td>12.21799285 </td><td>5.843477e-13</td></tr>\n",
       "\t<tr><th scope=row>am</th><td>-0.02361522 </td><td>1.5456453   </td><td>-0.01527855 </td><td>9.879146e-01</td></tr>\n",
       "\t<tr><th scope=row>wt</th><td>-5.35281145 </td><td>0.7882438   </td><td>-6.79080719 </td><td>1.867415e-07</td></tr>\n",
       "</tbody>\n",
       "</table>\n"
      ],
      "text/latex": [
       "\\begin{tabular}{r|llll}\n",
       "  & Estimate & Std. Error & t value & Pr(>\\textbar{}t\\textbar{})\\\\\n",
       "\\hline\n",
       "\t(Intercept) & 37.32155131  & 3.0546385    & 12.21799285  & 5.843477e-13\\\\\n",
       "\tam & -0.02361522  & 1.5456453    & -0.01527855  & 9.879146e-01\\\\\n",
       "\twt & -5.35281145  & 0.7882438    & -6.79080719  & 1.867415e-07\\\\\n",
       "\\end{tabular}\n"
      ],
      "text/markdown": [
       "\n",
       "| <!--/--> | Estimate | Std. Error | t value | Pr(>|t|) | \n",
       "|---|---|---|\n",
       "| (Intercept) | 37.32155131  | 3.0546385    | 12.21799285  | 5.843477e-13 | \n",
       "| am | -0.02361522  | 1.5456453    | -0.01527855  | 9.879146e-01 | \n",
       "| wt | -5.35281145  | 0.7882438    | -6.79080719  | 1.867415e-07 | \n",
       "\n",
       "\n"
      ],
      "text/plain": [
       "            Estimate    Std. Error t value     Pr(>|t|)    \n",
       "(Intercept) 37.32155131 3.0546385  12.21799285 5.843477e-13\n",
       "am          -0.02361522 1.5456453  -0.01527855 9.879146e-01\n",
       "wt          -5.35281145 0.7882438  -6.79080719 1.867415e-07"
      ]
     },
     "metadata": {},
     "output_type": "display_data"
    }
   ],
   "source": [
    "# Add weight\n",
    "f02 <- lm(mpg ~ am + wt, mtcars); summary(f02)$coef"
   ]
  },
  {
   "cell_type": "markdown",
   "metadata": {},
   "source": [
    "Transmission flips sign indicating interaction. Signficance of transmission falls substantially when we add weight.  Let's add an interaction term:"
   ]
  },
  {
   "cell_type": "code",
   "execution_count": 10,
   "metadata": {},
   "outputs": [
    {
     "data": {
      "text/html": [
       "<table>\n",
       "<thead><tr><th></th><th scope=col>Estimate</th><th scope=col>Std. Error</th><th scope=col>t value</th><th scope=col>Pr(&gt;|t|)</th></tr></thead>\n",
       "<tbody>\n",
       "\t<tr><th scope=row>(Intercept)</th><td>31.416055   </td><td>3.0201093   </td><td>10.402291   </td><td>4.001043e-11</td></tr>\n",
       "\t<tr><th scope=row>am</th><td>14.878423   </td><td>4.2640422   </td><td> 3.489277   </td><td>1.621034e-03</td></tr>\n",
       "\t<tr><th scope=row>wt</th><td>-3.785908   </td><td>0.7856478   </td><td>-4.818836   </td><td>4.551182e-05</td></tr>\n",
       "\t<tr><th scope=row>am:wt</th><td>-5.298360   </td><td>1.4446993   </td><td>-3.667449   </td><td>1.017148e-03</td></tr>\n",
       "</tbody>\n",
       "</table>\n"
      ],
      "text/latex": [
       "\\begin{tabular}{r|llll}\n",
       "  & Estimate & Std. Error & t value & Pr(>\\textbar{}t\\textbar{})\\\\\n",
       "\\hline\n",
       "\t(Intercept) & 31.416055    & 3.0201093    & 10.402291    & 4.001043e-11\\\\\n",
       "\tam & 14.878423    & 4.2640422    &  3.489277    & 1.621034e-03\\\\\n",
       "\twt & -3.785908    & 0.7856478    & -4.818836    & 4.551182e-05\\\\\n",
       "\tam:wt & -5.298360    & 1.4446993    & -3.667449    & 1.017148e-03\\\\\n",
       "\\end{tabular}\n"
      ],
      "text/markdown": [
       "\n",
       "| <!--/--> | Estimate | Std. Error | t value | Pr(>|t|) | \n",
       "|---|---|---|---|\n",
       "| (Intercept) | 31.416055    | 3.0201093    | 10.402291    | 4.001043e-11 | \n",
       "| am | 14.878423    | 4.2640422    |  3.489277    | 1.621034e-03 | \n",
       "| wt | -3.785908    | 0.7856478    | -4.818836    | 4.551182e-05 | \n",
       "| am:wt | -5.298360    | 1.4446993    | -3.667449    | 1.017148e-03 | \n",
       "\n",
       "\n"
      ],
      "text/plain": [
       "            Estimate  Std. Error t value   Pr(>|t|)    \n",
       "(Intercept) 31.416055 3.0201093  10.402291 4.001043e-11\n",
       "am          14.878423 4.2640422   3.489277 1.621034e-03\n",
       "wt          -3.785908 0.7856478  -4.818836 4.551182e-05\n",
       "am:wt       -5.298360 1.4446993  -3.667449 1.017148e-03"
      ]
     },
     "metadata": {},
     "output_type": "display_data"
    },
    {
     "data": {
      "text/html": [
       "<strong>am:wt:</strong> -5.29836049197173"
      ],
      "text/latex": [
       "\\textbf{am:wt:} -5.29836049197173"
      ],
      "text/markdown": [
       "**am:wt:** -5.29836049197173"
      ],
      "text/plain": [
       "   am:wt \n",
       "-5.29836 "
      ]
     },
     "metadata": {},
     "output_type": "display_data"
    }
   ],
   "source": [
    "f03 <- lm(mpg ~ am + wt + am*wt, mtcars); summary(f03)$coef\n",
    "f03$coefficients['am:wt']"
   ]
  },
  {
   "cell_type": "markdown",
   "metadata": {},
   "source": [
    "The **am:wt** is significant, so let's look at the ANOVA:"
   ]
  },
  {
   "cell_type": "code",
   "execution_count": 11,
   "metadata": {},
   "outputs": [
    {
     "data": {
      "text/html": [
       "<table>\n",
       "<thead><tr><th scope=col>Res.Df</th><th scope=col>RSS</th><th scope=col>Df</th><th scope=col>Sum of Sq</th><th scope=col>F</th><th scope=col>Pr(&gt;F)</th></tr></thead>\n",
       "<tbody>\n",
       "\t<tr><td>29         </td><td>278.3197   </td><td>NA         </td><td>      NA   </td><td>      NA   </td><td>         NA</td></tr>\n",
       "\t<tr><td>28         </td><td>188.0077   </td><td> 1         </td><td>90.31203   </td><td>13.45018   </td><td>0.001017148</td></tr>\n",
       "</tbody>\n",
       "</table>\n"
      ],
      "text/latex": [
       "\\begin{tabular}{r|llllll}\n",
       " Res.Df & RSS & Df & Sum of Sq & F & Pr(>F)\\\\\n",
       "\\hline\n",
       "\t 29          & 278.3197    & NA          &       NA    &       NA    &          NA\\\\\n",
       "\t 28          & 188.0077    &  1          & 90.31203    & 13.45018    & 0.001017148\\\\\n",
       "\\end{tabular}\n"
      ],
      "text/markdown": [
       "\n",
       "Res.Df | RSS | Df | Sum of Sq | F | Pr(>F) | \n",
       "|---|---|\n",
       "| 29          | 278.3197    | NA          |       NA    |       NA    |          NA | \n",
       "| 28          | 188.0077    |  1          | 90.31203    | 13.45018    | 0.001017148 | \n",
       "\n",
       "\n"
      ],
      "text/plain": [
       "  Res.Df RSS      Df Sum of Sq F        Pr(>F)     \n",
       "1 29     278.3197 NA       NA        NA          NA\n",
       "2 28     188.0077  1 90.31203  13.45018 0.001017148"
      ]
     },
     "metadata": {},
     "output_type": "display_data"
    }
   ],
   "source": [
    "anova(f02, f03)"
   ]
  },
  {
   "cell_type": "markdown",
   "metadata": {
    "collapsed": true
   },
   "source": [
    "Adding **am*wt** interaction term improves mpg prediction (drop in RSS is significant).  Let's see what happens when we add number of cyliders to the model:"
   ]
  },
  {
   "cell_type": "code",
   "execution_count": 12,
   "metadata": {},
   "outputs": [
    {
     "data": {
      "text/html": [
       "<table>\n",
       "<thead><tr><th></th><th scope=col>Estimate</th><th scope=col>Std. Error</th><th scope=col>t value</th><th scope=col>Pr(&gt;|t|)</th></tr></thead>\n",
       "<tbody>\n",
       "\t<tr><th scope=row>(Intercept)</th><td>34.282998   </td><td>2.7964507   </td><td>12.259468   </td><td>1.518742e-12</td></tr>\n",
       "\t<tr><th scope=row>am</th><td>11.938516   </td><td>3.8453256   </td><td> 3.104683   </td><td>4.438319e-03</td></tr>\n",
       "\t<tr><th scope=row>wt</th><td>-2.368930   </td><td>0.8243992   </td><td>-2.873523   </td><td>7.815636e-03</td></tr>\n",
       "\t<tr><th scope=row>as.numeric(cyl)</th><td>-1.181366   </td><td>0.3802985   </td><td>-3.106417   </td><td>4.419268e-03</td></tr>\n",
       "\t<tr><th scope=row>am:wt</th><td>-4.197434   </td><td>1.3115498   </td><td>-3.200362   </td><td>3.496375e-03</td></tr>\n",
       "</tbody>\n",
       "</table>\n"
      ],
      "text/latex": [
       "\\begin{tabular}{r|llll}\n",
       "  & Estimate & Std. Error & t value & Pr(>\\textbar{}t\\textbar{})\\\\\n",
       "\\hline\n",
       "\t(Intercept) & 34.282998    & 2.7964507    & 12.259468    & 1.518742e-12\\\\\n",
       "\tam & 11.938516    & 3.8453256    &  3.104683    & 4.438319e-03\\\\\n",
       "\twt & -2.368930    & 0.8243992    & -2.873523    & 7.815636e-03\\\\\n",
       "\tas.numeric(cyl) & -1.181366    & 0.3802985    & -3.106417    & 4.419268e-03\\\\\n",
       "\tam:wt & -4.197434    & 1.3115498    & -3.200362    & 3.496375e-03\\\\\n",
       "\\end{tabular}\n"
      ],
      "text/markdown": [
       "\n",
       "| <!--/--> | Estimate | Std. Error | t value | Pr(>|t|) | \n",
       "|---|---|---|---|---|\n",
       "| (Intercept) | 34.282998    | 2.7964507    | 12.259468    | 1.518742e-12 | \n",
       "| am | 11.938516    | 3.8453256    |  3.104683    | 4.438319e-03 | \n",
       "| wt | -2.368930    | 0.8243992    | -2.873523    | 7.815636e-03 | \n",
       "| as.numeric(cyl) | -1.181366    | 0.3802985    | -3.106417    | 4.419268e-03 | \n",
       "| am:wt | -4.197434    | 1.3115498    | -3.200362    | 3.496375e-03 | \n",
       "\n",
       "\n"
      ],
      "text/plain": [
       "                Estimate  Std. Error t value   Pr(>|t|)    \n",
       "(Intercept)     34.282998 2.7964507  12.259468 1.518742e-12\n",
       "am              11.938516 3.8453256   3.104683 4.438319e-03\n",
       "wt              -2.368930 0.8243992  -2.873523 7.815636e-03\n",
       "as.numeric(cyl) -1.181366 0.3802985  -3.106417 4.419268e-03\n",
       "am:wt           -4.197434 1.3115498  -3.200362 3.496375e-03"
      ]
     },
     "metadata": {},
     "output_type": "display_data"
    }
   ],
   "source": [
    "f04 <- lm(mpg ~ am + wt + am*wt + as.numeric(cyl), mtcars); summary(f04)$coef"
   ]
  },
  {
   "cell_type": "markdown",
   "metadata": {},
   "source": [
    "Adding **cyl** had a non-zero coefficient, but does not flip the sign so we'll leave it out of our model.  Let's try adding displacement: **disp**"
   ]
  },
  {
   "cell_type": "code",
   "execution_count": 13,
   "metadata": {},
   "outputs": [
    {
     "data": {
      "text/html": [
       "<table>\n",
       "<thead><tr><th></th><th scope=col>Estimate</th><th scope=col>Std. Error</th><th scope=col>t value</th><th scope=col>Pr(&gt;|t|)</th></tr></thead>\n",
       "<tbody>\n",
       "\t<tr><th scope=row>(Intercept)</th><td>28.83107265 </td><td>3.026192252 </td><td> 9.527178   </td><td>3.972078e-10</td></tr>\n",
       "\t<tr><th scope=row>am</th><td>15.01016801 </td><td>3.969248403 </td><td> 3.781615   </td><td>7.863922e-04</td></tr>\n",
       "\t<tr><th scope=row>wt</th><td>-1.74591925 </td><td>1.147584061 </td><td>-1.521387   </td><td>1.397891e-01</td></tr>\n",
       "\t<tr><th scope=row>disp</th><td>-0.01757537 </td><td>0.007619728 </td><td>-2.306562   </td><td>2.898694e-02</td></tr>\n",
       "\t<tr><th scope=row>am:wt</th><td>-5.27453954 </td><td>1.344720670 </td><td>-3.922405   </td><td>5.432238e-04</td></tr>\n",
       "</tbody>\n",
       "</table>\n"
      ],
      "text/latex": [
       "\\begin{tabular}{r|llll}\n",
       "  & Estimate & Std. Error & t value & Pr(>\\textbar{}t\\textbar{})\\\\\n",
       "\\hline\n",
       "\t(Intercept) & 28.83107265  & 3.026192252  &  9.527178    & 3.972078e-10\\\\\n",
       "\tam & 15.01016801  & 3.969248403  &  3.781615    & 7.863922e-04\\\\\n",
       "\twt & -1.74591925  & 1.147584061  & -1.521387    & 1.397891e-01\\\\\n",
       "\tdisp & -0.01757537  & 0.007619728  & -2.306562    & 2.898694e-02\\\\\n",
       "\tam:wt & -5.27453954  & 1.344720670  & -3.922405    & 5.432238e-04\\\\\n",
       "\\end{tabular}\n"
      ],
      "text/markdown": [
       "\n",
       "| <!--/--> | Estimate | Std. Error | t value | Pr(>|t|) | \n",
       "|---|---|---|---|---|\n",
       "| (Intercept) | 28.83107265  | 3.026192252  |  9.527178    | 3.972078e-10 | \n",
       "| am | 15.01016801  | 3.969248403  |  3.781615    | 7.863922e-04 | \n",
       "| wt | -1.74591925  | 1.147584061  | -1.521387    | 1.397891e-01 | \n",
       "| disp | -0.01757537  | 0.007619728  | -2.306562    | 2.898694e-02 | \n",
       "| am:wt | -5.27453954  | 1.344720670  | -3.922405    | 5.432238e-04 | \n",
       "\n",
       "\n"
      ],
      "text/plain": [
       "            Estimate    Std. Error  t value   Pr(>|t|)    \n",
       "(Intercept) 28.83107265 3.026192252  9.527178 3.972078e-10\n",
       "am          15.01016801 3.969248403  3.781615 7.863922e-04\n",
       "wt          -1.74591925 1.147584061 -1.521387 1.397891e-01\n",
       "disp        -0.01757537 0.007619728 -2.306562 2.898694e-02\n",
       "am:wt       -5.27453954 1.344720670 -3.922405 5.432238e-04"
      ]
     },
     "metadata": {},
     "output_type": "display_data"
    }
   ],
   "source": [
    "f05 <- lm(mpg ~ am + wt + am*wt  + disp, mtcars); summary(f05)$coef;"
   ]
  },
  {
   "cell_type": "markdown",
   "metadata": {},
   "source": [
    "Same drill: displacement has a significant (non-zero) coefficient, but it doesn't flip the sign of **am**, so we'll exclude this on also.  This is what adding the rest of the variables looks like:"
   ]
  },
  {
   "cell_type": "code",
   "execution_count": 14,
   "metadata": {},
   "outputs": [
    {
     "data": {
      "text/html": [
       "<table>\n",
       "<thead><tr><th></th><th scope=col>Estimate</th><th scope=col>Std. Error</th><th scope=col>t value</th><th scope=col>Pr(&gt;|t|)</th></tr></thead>\n",
       "<tbody>\n",
       "\t<tr><th scope=row>(Intercept)</th><td>30.94733319 </td><td>2.723410935 </td><td>11.363446   </td><td>8.546944e-12</td></tr>\n",
       "\t<tr><th scope=row>am</th><td>11.55481296 </td><td>4.023276579 </td><td> 2.871991   </td><td>7.844579e-03</td></tr>\n",
       "\t<tr><th scope=row>wt</th><td>-2.51558550 </td><td>0.844496532 </td><td>-2.978799   </td><td>6.051842e-03</td></tr>\n",
       "\t<tr><th scope=row>hp</th><td>-0.02694935 </td><td>0.009795903 </td><td>-2.751084   </td><td>1.047673e-02</td></tr>\n",
       "\t<tr><th scope=row>am:wt</th><td>-3.57790980 </td><td>1.442795585 </td><td>-2.479845   </td><td>1.967639e-02</td></tr>\n",
       "</tbody>\n",
       "</table>\n"
      ],
      "text/latex": [
       "\\begin{tabular}{r|llll}\n",
       "  & Estimate & Std. Error & t value & Pr(>\\textbar{}t\\textbar{})\\\\\n",
       "\\hline\n",
       "\t(Intercept) & 30.94733319  & 2.723410935  & 11.363446    & 8.546944e-12\\\\\n",
       "\tam & 11.55481296  & 4.023276579  &  2.871991    & 7.844579e-03\\\\\n",
       "\twt & -2.51558550  & 0.844496532  & -2.978799    & 6.051842e-03\\\\\n",
       "\thp & -0.02694935  & 0.009795903  & -2.751084    & 1.047673e-02\\\\\n",
       "\tam:wt & -3.57790980  & 1.442795585  & -2.479845    & 1.967639e-02\\\\\n",
       "\\end{tabular}\n"
      ],
      "text/markdown": [
       "\n",
       "| <!--/--> | Estimate | Std. Error | t value | Pr(>|t|) | \n",
       "|---|---|---|---|---|\n",
       "| (Intercept) | 30.94733319  | 2.723410935  | 11.363446    | 8.546944e-12 | \n",
       "| am | 11.55481296  | 4.023276579  |  2.871991    | 7.844579e-03 | \n",
       "| wt | -2.51558550  | 0.844496532  | -2.978799    | 6.051842e-03 | \n",
       "| hp | -0.02694935  | 0.009795903  | -2.751084    | 1.047673e-02 | \n",
       "| am:wt | -3.57790980  | 1.442795585  | -2.479845    | 1.967639e-02 | \n",
       "\n",
       "\n"
      ],
      "text/plain": [
       "            Estimate    Std. Error  t value   Pr(>|t|)    \n",
       "(Intercept) 30.94733319 2.723410935 11.363446 8.546944e-12\n",
       "am          11.55481296 4.023276579  2.871991 7.844579e-03\n",
       "wt          -2.51558550 0.844496532 -2.978799 6.051842e-03\n",
       "hp          -0.02694935 0.009795903 -2.751084 1.047673e-02\n",
       "am:wt       -3.57790980 1.442795585 -2.479845 1.967639e-02"
      ]
     },
     "metadata": {},
     "output_type": "display_data"
    },
    {
     "data": {
      "text/html": [
       "<table>\n",
       "<thead><tr><th></th><th scope=col>Estimate</th><th scope=col>Std. Error</th><th scope=col>t value</th><th scope=col>Pr(&gt;|t|)</th></tr></thead>\n",
       "<tbody>\n",
       "\t<tr><th scope=row>(Intercept)</th><td>25.935401   </td><td>6.3627802   </td><td> 4.0761114  </td><td>0.0003617524</td></tr>\n",
       "\t<tr><th scope=row>am</th><td>13.914881   </td><td>4.3793004   </td><td> 3.1774209  </td><td>0.0037029803</td></tr>\n",
       "\t<tr><th scope=row>wt</th><td>-3.511890   </td><td>0.8345861   </td><td>-4.2079419  </td><td>0.0002547873</td></tr>\n",
       "\t<tr><th scope=row>drat</th><td> 1.353464   </td><td>1.3827219   </td><td> 0.9788405  </td><td>0.3363485410</td></tr>\n",
       "\t<tr><th scope=row>am:wt</th><td>-5.173097   </td><td>1.4514333   </td><td>-3.5641302  </td><td>0.0013846386</td></tr>\n",
       "</tbody>\n",
       "</table>\n"
      ],
      "text/latex": [
       "\\begin{tabular}{r|llll}\n",
       "  & Estimate & Std. Error & t value & Pr(>\\textbar{}t\\textbar{})\\\\\n",
       "\\hline\n",
       "\t(Intercept) & 25.935401    & 6.3627802    &  4.0761114   & 0.0003617524\\\\\n",
       "\tam & 13.914881    & 4.3793004    &  3.1774209   & 0.0037029803\\\\\n",
       "\twt & -3.511890    & 0.8345861    & -4.2079419   & 0.0002547873\\\\\n",
       "\tdrat &  1.353464    & 1.3827219    &  0.9788405   & 0.3363485410\\\\\n",
       "\tam:wt & -5.173097    & 1.4514333    & -3.5641302   & 0.0013846386\\\\\n",
       "\\end{tabular}\n"
      ],
      "text/markdown": [
       "\n",
       "| <!--/--> | Estimate | Std. Error | t value | Pr(>|t|) | \n",
       "|---|---|---|---|---|\n",
       "| (Intercept) | 25.935401    | 6.3627802    |  4.0761114   | 0.0003617524 | \n",
       "| am | 13.914881    | 4.3793004    |  3.1774209   | 0.0037029803 | \n",
       "| wt | -3.511890    | 0.8345861    | -4.2079419   | 0.0002547873 | \n",
       "| drat |  1.353464    | 1.3827219    |  0.9788405   | 0.3363485410 | \n",
       "| am:wt | -5.173097    | 1.4514333    | -3.5641302   | 0.0013846386 | \n",
       "\n",
       "\n"
      ],
      "text/plain": [
       "            Estimate  Std. Error t value    Pr(>|t|)    \n",
       "(Intercept) 25.935401 6.3627802   4.0761114 0.0003617524\n",
       "am          13.914881 4.3793004   3.1774209 0.0037029803\n",
       "wt          -3.511890 0.8345861  -4.2079419 0.0002547873\n",
       "drat         1.353464 1.3827219   0.9788405 0.3363485410\n",
       "am:wt       -5.173097 1.4514333  -3.5641302 0.0013846386"
      ]
     },
     "metadata": {},
     "output_type": "display_data"
    },
    {
     "data": {
      "text/html": [
       "<table>\n",
       "<thead><tr><th></th><th scope=col>Estimate</th><th scope=col>Std. Error</th><th scope=col>t value</th><th scope=col>Pr(&gt;|t|)</th></tr></thead>\n",
       "<tbody>\n",
       "\t<tr><th scope=row>(Intercept)</th><td> 9.723053   </td><td>5.8990407   </td><td> 1.648243   </td><td>0.1108925394</td></tr>\n",
       "\t<tr><th scope=row>am</th><td>14.079428   </td><td>3.4352512   </td><td> 4.098515   </td><td>0.0003408693</td></tr>\n",
       "\t<tr><th scope=row>wt</th><td>-2.936531   </td><td>0.6660253   </td><td>-4.409038   </td><td>0.0001488947</td></tr>\n",
       "\t<tr><th scope=row>qsec</th><td> 1.016974   </td><td>0.2520152   </td><td> 4.035366   </td><td>0.0004030165</td></tr>\n",
       "\t<tr><th scope=row>am:wt</th><td>-4.141376   </td><td>1.1968119   </td><td>-3.460340   </td><td>0.0018085763</td></tr>\n",
       "</tbody>\n",
       "</table>\n"
      ],
      "text/latex": [
       "\\begin{tabular}{r|llll}\n",
       "  & Estimate & Std. Error & t value & Pr(>\\textbar{}t\\textbar{})\\\\\n",
       "\\hline\n",
       "\t(Intercept) &  9.723053    & 5.8990407    &  1.648243    & 0.1108925394\\\\\n",
       "\tam & 14.079428    & 3.4352512    &  4.098515    & 0.0003408693\\\\\n",
       "\twt & -2.936531    & 0.6660253    & -4.409038    & 0.0001488947\\\\\n",
       "\tqsec &  1.016974    & 0.2520152    &  4.035366    & 0.0004030165\\\\\n",
       "\tam:wt & -4.141376    & 1.1968119    & -3.460340    & 0.0018085763\\\\\n",
       "\\end{tabular}\n"
      ],
      "text/markdown": [
       "\n",
       "| <!--/--> | Estimate | Std. Error | t value | Pr(>|t|) | \n",
       "|---|---|---|---|---|\n",
       "| (Intercept) |  9.723053    | 5.8990407    |  1.648243    | 0.1108925394 | \n",
       "| am | 14.079428    | 3.4352512    |  4.098515    | 0.0003408693 | \n",
       "| wt | -2.936531    | 0.6660253    | -4.409038    | 0.0001488947 | \n",
       "| qsec |  1.016974    | 0.2520152    |  4.035366    | 0.0004030165 | \n",
       "| am:wt | -4.141376    | 1.1968119    | -3.460340    | 0.0018085763 | \n",
       "\n",
       "\n"
      ],
      "text/plain": [
       "            Estimate  Std. Error t value   Pr(>|t|)    \n",
       "(Intercept)  9.723053 5.8990407   1.648243 0.1108925394\n",
       "am          14.079428 3.4352512   4.098515 0.0003408693\n",
       "wt          -2.936531 0.6660253  -4.409038 0.0001488947\n",
       "qsec         1.016974 0.2520152   4.035366 0.0004030165\n",
       "am:wt       -4.141376 1.1968119  -3.460340 0.0018085763"
      ]
     },
     "metadata": {},
     "output_type": "display_data"
    },
    {
     "data": {
      "text/html": [
       "<table>\n",
       "<thead><tr><th></th><th scope=col>Estimate</th><th scope=col>Std. Error</th><th scope=col>t value</th><th scope=col>Pr(&gt;|t|)</th></tr></thead>\n",
       "<tbody>\n",
       "\t<tr><th scope=row>(Intercept)</th><td>26.253922   </td><td>3.345821    </td><td> 7.846781   </td><td>1.948737e-08</td></tr>\n",
       "\t<tr><th scope=row>am</th><td>14.320385   </td><td>3.865840    </td><td> 3.704339   </td><td>9.623044e-04</td></tr>\n",
       "\t<tr><th scope=row>wt</th><td>-2.702632   </td><td>0.818323    </td><td>-3.302646   </td><td>2.702549e-03</td></tr>\n",
       "\t<tr><th scope=row>vs</th><td> 2.929749   </td><td>1.094536    </td><td> 2.676703   </td><td>1.248696e-02</td></tr>\n",
       "\t<tr><th scope=row>am:wt</th><td>-4.663422   </td><td>1.329216    </td><td>-3.508401   </td><td>1.598571e-03</td></tr>\n",
       "</tbody>\n",
       "</table>\n"
      ],
      "text/latex": [
       "\\begin{tabular}{r|llll}\n",
       "  & Estimate & Std. Error & t value & Pr(>\\textbar{}t\\textbar{})\\\\\n",
       "\\hline\n",
       "\t(Intercept) & 26.253922    & 3.345821     &  7.846781    & 1.948737e-08\\\\\n",
       "\tam & 14.320385    & 3.865840     &  3.704339    & 9.623044e-04\\\\\n",
       "\twt & -2.702632    & 0.818323     & -3.302646    & 2.702549e-03\\\\\n",
       "\tvs &  2.929749    & 1.094536     &  2.676703    & 1.248696e-02\\\\\n",
       "\tam:wt & -4.663422    & 1.329216     & -3.508401    & 1.598571e-03\\\\\n",
       "\\end{tabular}\n"
      ],
      "text/markdown": [
       "\n",
       "| <!--/--> | Estimate | Std. Error | t value | Pr(>|t|) | \n",
       "|---|---|---|---|---|\n",
       "| (Intercept) | 26.253922    | 3.345821     |  7.846781    | 1.948737e-08 | \n",
       "| am | 14.320385    | 3.865840     |  3.704339    | 9.623044e-04 | \n",
       "| wt | -2.702632    | 0.818323     | -3.302646    | 2.702549e-03 | \n",
       "| vs |  2.929749    | 1.094536     |  2.676703    | 1.248696e-02 | \n",
       "| am:wt | -4.663422    | 1.329216     | -3.508401    | 1.598571e-03 | \n",
       "\n",
       "\n"
      ],
      "text/plain": [
       "            Estimate  Std. Error t value   Pr(>|t|)    \n",
       "(Intercept) 26.253922 3.345821    7.846781 1.948737e-08\n",
       "am          14.320385 3.865840    3.704339 9.623044e-04\n",
       "wt          -2.702632 0.818323   -3.302646 2.702549e-03\n",
       "vs           2.929749 1.094536    2.676703 1.248696e-02\n",
       "am:wt       -4.663422 1.329216   -3.508401 1.598571e-03"
      ]
     },
     "metadata": {},
     "output_type": "display_data"
    },
    {
     "data": {
      "text/html": [
       "<table>\n",
       "<thead><tr><th></th><th scope=col>Estimate</th><th scope=col>Std. Error</th><th scope=col>t value</th><th scope=col>Pr(&gt;|t|)</th></tr></thead>\n",
       "<tbody>\n",
       "\t<tr><th scope=row>(Intercept)</th><td>28.9678830  </td><td>5.2367676   </td><td> 5.5316343  </td><td>7.328471e-06</td></tr>\n",
       "\t<tr><th scope=row>am</th><td>14.9124752  </td><td>4.3162787   </td><td> 3.4549380  </td><td>1.833792e-03</td></tr>\n",
       "\t<tr><th scope=row>wt</th><td>-3.6775362  </td><td>0.8171697   </td><td>-4.5003336  </td><td>1.165851e-04</td></tr>\n",
       "\t<tr><th scope=row>gear</th><td> 0.6353264  </td><td>1.1034411   </td><td> 0.5757683  </td><td>5.695402e-01</td></tr>\n",
       "\t<tr><th scope=row>am:wt</th><td>-5.5608348  </td><td>1.5316725   </td><td>-3.6305639  </td><td>1.165843e-03</td></tr>\n",
       "</tbody>\n",
       "</table>\n"
      ],
      "text/latex": [
       "\\begin{tabular}{r|llll}\n",
       "  & Estimate & Std. Error & t value & Pr(>\\textbar{}t\\textbar{})\\\\\n",
       "\\hline\n",
       "\t(Intercept) & 28.9678830   & 5.2367676    &  5.5316343   & 7.328471e-06\\\\\n",
       "\tam & 14.9124752   & 4.3162787    &  3.4549380   & 1.833792e-03\\\\\n",
       "\twt & -3.6775362   & 0.8171697    & -4.5003336   & 1.165851e-04\\\\\n",
       "\tgear &  0.6353264   & 1.1034411    &  0.5757683   & 5.695402e-01\\\\\n",
       "\tam:wt & -5.5608348   & 1.5316725    & -3.6305639   & 1.165843e-03\\\\\n",
       "\\end{tabular}\n"
      ],
      "text/markdown": [
       "\n",
       "| <!--/--> | Estimate | Std. Error | t value | Pr(>|t|) | \n",
       "|---|---|---|---|---|\n",
       "| (Intercept) | 28.9678830   | 5.2367676    |  5.5316343   | 7.328471e-06 | \n",
       "| am | 14.9124752   | 4.3162787    |  3.4549380   | 1.833792e-03 | \n",
       "| wt | -3.6775362   | 0.8171697    | -4.5003336   | 1.165851e-04 | \n",
       "| gear |  0.6353264   | 1.1034411    |  0.5757683   | 5.695402e-01 | \n",
       "| am:wt | -5.5608348   | 1.5316725    | -3.6305639   | 1.165843e-03 | \n",
       "\n",
       "\n"
      ],
      "text/plain": [
       "            Estimate   Std. Error t value    Pr(>|t|)    \n",
       "(Intercept) 28.9678830 5.2367676   5.5316343 7.328471e-06\n",
       "am          14.9124752 4.3162787   3.4549380 1.833792e-03\n",
       "wt          -3.6775362 0.8171697  -4.5003336 1.165851e-04\n",
       "gear         0.6353264 1.1034411   0.5757683 5.695402e-01\n",
       "am:wt       -5.5608348 1.5316725  -3.6305639 1.165843e-03"
      ]
     },
     "metadata": {},
     "output_type": "display_data"
    },
    {
     "data": {
      "text/html": [
       "<table>\n",
       "<thead><tr><th></th><th scope=col>Estimate</th><th scope=col>Std. Error</th><th scope=col>t value</th><th scope=col>Pr(&gt;|t|)</th></tr></thead>\n",
       "<tbody>\n",
       "\t<tr><th scope=row>(Intercept)</th><td>30.883322   </td><td>2.9719653   </td><td>10.391549   </td><td>6.188907e-11</td></tr>\n",
       "\t<tr><th scope=row>am</th><td>13.014478   </td><td>4.3428565   </td><td> 2.996755   </td><td>5.791591e-03</td></tr>\n",
       "\t<tr><th scope=row>wt</th><td>-3.178149   </td><td>0.8652286   </td><td>-3.673189   </td><td>1.043619e-03</td></tr>\n",
       "\t<tr><th scope=row>carb</th><td>-0.642290   </td><td>0.4216379   </td><td>-1.523321   </td><td>1.393063e-01</td></tr>\n",
       "\t<tr><th scope=row>am:wt</th><td>-4.133352   </td><td>1.6056300   </td><td>-2.574287   </td><td>1.584898e-02</td></tr>\n",
       "</tbody>\n",
       "</table>\n"
      ],
      "text/latex": [
       "\\begin{tabular}{r|llll}\n",
       "  & Estimate & Std. Error & t value & Pr(>\\textbar{}t\\textbar{})\\\\\n",
       "\\hline\n",
       "\t(Intercept) & 30.883322    & 2.9719653    & 10.391549    & 6.188907e-11\\\\\n",
       "\tam & 13.014478    & 4.3428565    &  2.996755    & 5.791591e-03\\\\\n",
       "\twt & -3.178149    & 0.8652286    & -3.673189    & 1.043619e-03\\\\\n",
       "\tcarb & -0.642290    & 0.4216379    & -1.523321    & 1.393063e-01\\\\\n",
       "\tam:wt & -4.133352    & 1.6056300    & -2.574287    & 1.584898e-02\\\\\n",
       "\\end{tabular}\n"
      ],
      "text/markdown": [
       "\n",
       "| <!--/--> | Estimate | Std. Error | t value | Pr(>|t|) | \n",
       "|---|---|---|---|---|\n",
       "| (Intercept) | 30.883322    | 2.9719653    | 10.391549    | 6.188907e-11 | \n",
       "| am | 13.014478    | 4.3428565    |  2.996755    | 5.791591e-03 | \n",
       "| wt | -3.178149    | 0.8652286    | -3.673189    | 1.043619e-03 | \n",
       "| carb | -0.642290    | 0.4216379    | -1.523321    | 1.393063e-01 | \n",
       "| am:wt | -4.133352    | 1.6056300    | -2.574287    | 1.584898e-02 | \n",
       "\n",
       "\n"
      ],
      "text/plain": [
       "            Estimate  Std. Error t value   Pr(>|t|)    \n",
       "(Intercept) 30.883322 2.9719653  10.391549 6.188907e-11\n",
       "am          13.014478 4.3428565   2.996755 5.791591e-03\n",
       "wt          -3.178149 0.8652286  -3.673189 1.043619e-03\n",
       "carb        -0.642290 0.4216379  -1.523321 1.393063e-01\n",
       "am:wt       -4.133352 1.6056300  -2.574287 1.584898e-02"
      ]
     },
     "metadata": {},
     "output_type": "display_data"
    }
   ],
   "source": [
    "f06 <- lm(mpg ~ am + wt + am*wt + hp, mtcars); summary(f06)$coef;\n",
    "f07 <- lm(mpg ~ am + wt + am*wt + drat, mtcars); summary(f07)$coef;\n",
    "f08 <- lm(mpg ~ am + wt + am*wt + qsec, mtcars); summary(f08)$coef;\n",
    "# https://stackoverflow.com/questions/18617174/r-mtcars-dataset-meaning-of-vs-variable\n",
    "f09 <- lm(mpg ~ am + wt + am*wt + vs, mtcars); summary(f09)$coef;\n",
    "f10 <- lm(mpg ~ am + wt + am*wt + gear, mtcars); summary(f10)$coef;\n",
    "f11 <- lm(mpg ~ am + wt + am*wt + carb, mtcars); summary(f11)$coef;"
   ]
  },
  {
   "cell_type": "markdown",
   "metadata": {},
   "source": [
    "The sign on the **am**, **wt** and **am:wt** remained the same and magnitudes didn't change much either, so **f03** is reasonable choice to quantify the effect of transmission.  But how do we deal with this confounding with weight?  At this point, we should take a look at a plot of **mpg** vs. **wt** by cylinders and transmission types and mark out the weight zone where transmission types overlap:"
   ]
  },
  {
   "cell_type": "code",
   "execution_count": 15,
   "metadata": {
    "scrolled": false
   },
   "outputs": [
    {
     "name": "stderr",
     "output_type": "stream",
     "text": [
      "Warning message:\n",
      "\"Removed 37 rows containing missing values (geom_path).\""
     ]
    },
    {
     "data": {},
     "metadata": {},
     "output_type": "display_data"
    },
    {
     "data": {
      "image/png": "[encoded data removed]",
      "text/plain": [
       "plot without title"
      ]
     },
     "metadata": {},
     "output_type": "display_data"
    }
   ],
   "source": [
    "# create model functions to overlay data\n",
    "f03_fun <- function(fit=f03, am_var, wt_var) {\n",
    "    y <- f03$coefficients['(Intercept)'] +\n",
    "         (f03$coefficients['am'] * am_var) +\n",
    "         (f03$coefficients['wt'] * wt_var) +\n",
    "         (f03$coefficients['am:wt'] * am_var * wt_var)\n",
    "    \n",
    "    return(y)\n",
    "}\n",
    "\n",
    "mpg_fun_auto <- function(wgt) { return(f03_fun(f03, 0, wgt)) }\n",
    "mpg_fun_manu <- function(wgt) { return(f03_fun(f03, 1, wgt)) }\n",
    "\n",
    "# find comparable weight zone (CWZ): overlapping weight range\n",
    "overlap.low.bound <- min(filter(mtcars, am == 0)$wt) # lightest automatic\n",
    "overlap.upp.bound <- max(filter(mtcars, am == 1)$wt) # heaviest manual\n",
    "\n",
    "p3 <- ggplot(mtcars, aes(x = wt, y = mpg, color=factor(am)))\n",
    "p3 <- p3 + ggtitle(\"Figure 3: MPG vs. Weight by Transmission: Model f03\")\n",
    "p3 <- p3 + geom_point(aes(shape=factor(cyl)), size = 2)\n",
    "p3 <- p3 + stat_function(fun = mpg_fun_auto, colour = \"#F8766D\", linetype = 2)\n",
    "p3 <- p3 + stat_function(fun = mpg_fun_manu, colour = \"#00BFC4\", linetype = 2)\n",
    "p3 <- p3 + geom_smooth(method = \"lm\")\n",
    "p3 <- p3 + geom_vline(xintercept = c(overlap.low.bound, overlap.upp.bound),\n",
    "                      colour=\"red\", linetype = \"longdash\")\n",
    "p3 <- p3 + annotate(\"text\", x = 3, y = 30, color = \"black\", angle = 50,\n",
    "                     label = \"Comparable Weight Zone (CWZ)\", size=3.4)\n",
    "p3 <- p3 + labs(x = \"Weight (1000 lbs.)\", y = \"MPG (Miles Per Gallon)\")\n",
    "p3 <- p3 + scale_y_continuous(limits = c(10, NA))\n",
    "p3 <- p3 + scale_color_discrete(name=c(\"Transmission\"), breaks=c(1,0),\n",
    "                               labels=c(\"Manuals\",\"Automatics\"))\n",
    "p3 <- p3 + scale_shape_discrete(name=c(\"Cylinders\"))\n",
    "p3 <- p3 + theme(legend.position=c(0.8,0.7))\n",
    "options(repr.plot.width=7, repr.plot.height=4)\n",
    "p3"
   ]
  },
  {
   "cell_type": "markdown",
   "metadata": {
    "collapsed": true
   },
   "source": [
    "If the slopes in the CWZ are not statistically different, then we can't claim a significant effect by transmission.  Let's write a function that tests these slopes."
   ]
  },
  {
   "cell_type": "code",
   "execution_count": 16,
   "metadata": {},
   "outputs": [
    {
     "data": {
      "text/html": [
       "0.0320504068139117"
      ],
      "text/latex": [
       "0.0320504068139117"
      ],
      "text/markdown": [
       "0.0320504068139117"
      ],
      "text/plain": [
       "[1] 0.03205041"
      ]
     },
     "metadata": {},
     "output_type": "display_data"
    },
    {
     "data": {
      "text/html": [
       "<ol class=list-inline>\n",
       "\t<li>-11.84996597963</li>\n",
       "\t<li>-6.31857006987616</li>\n",
       "</ol>\n"
      ],
      "text/latex": [
       "\\begin{enumerate*}\n",
       "\\item -11.84996597963\n",
       "\\item -6.31857006987616\n",
       "\\end{enumerate*}\n"
      ],
      "text/markdown": [
       "1. -11.84996597963\n",
       "2. -6.31857006987616\n",
       "\n",
       "\n"
      ],
      "text/plain": [
       "[1] -11.84997  -6.31857"
      ]
     },
     "metadata": {},
     "output_type": "display_data"
    },
    {
     "data": {
      "text/html": [
       "<ol class=list-inline>\n",
       "\t<li>-5.40320086083861</li>\n",
       "\t<li>-2.16861420472411</li>\n",
       "</ol>\n"
      ],
      "text/latex": [
       "\\begin{enumerate*}\n",
       "\\item -5.40320086083861\n",
       "\\item -2.16861420472411\n",
       "\\end{enumerate*}\n"
      ],
      "text/markdown": [
       "1. -5.40320086083861\n",
       "2. -2.16861420472411\n",
       "\n",
       "\n"
      ],
      "text/plain": [
       "[1] -5.403201 -2.168614"
      ]
     },
     "metadata": {},
     "output_type": "display_data"
    }
   ],
   "source": [
    "## Returns the p-value that the slope d(mpg)/d(add_param) is NOT significantly different\n",
    "## between values of base_compare: am = manual = 1 vs. am = automatic = 0\n",
    "## data - dataframe containing the data\n",
    "## model_fun - string representation of linear model formula (e.g. y ~ x),\n",
    "##             default: f03 formula string\n",
    "## base_compare - predictor which we are comparing slopes against: am in this analysis\n",
    "## add_param - last predictor being added to the linear model\n",
    "testSlopes <- function(data=mtcars, model_fun=\"mpg ~ am + wt + am*wt\", \n",
    "                       base_compare=\"am\", add_param=\"wt\") {\n",
    "    df.manual <- data %>% filter_(interp(~v == 1, v = as.name(base_compare)))\n",
    "    df.autom <- data %>% filter_(interp(~v == 0, v = as.name(base_compare)))\n",
    "    \n",
    "    fit.manual <- lm(as.formula(model_fun), data=df.manual)\n",
    "    fit.autom <- lm(as.formula(model_fun), data=df.autom)\n",
    "    beta1.hat.manual <- summary(fit.manual)$coef[2, 1]  # -9.084268\n",
    "    beta1.hat.autom <- summary(fit.autom)$coef[2, 1]    # -3.785908\n",
    "    \n",
    "    \n",
    "    sigma.manual <- summary(fit.manual)$sigma\n",
    "    sigma.autom <- summary(fit.autom)$sigma\n",
    "    sigma.beta1.manual <- sigma.manual / sqrt(sum((df.manual[[add_param]] -\n",
    "                                                   mean(df.manual[[add_param]]))^2))\n",
    "    sigma.beta1.autom <- sigma.autom / sqrt(sum((df.autom[[add_param]] -\n",
    "                                                 mean(df.autom[[add_param]]))^2))\n",
    "    # confidence interval specifics:\n",
    "    t.crit.manual <- qt(0.975, length(df.manual[[base_compare]]) - 2)  # 2.200985\n",
    "    t.crit.autom <- qt(0.975, length(df.autom[[base_compare]]) - 2)  # 2.109816\n",
    "    beta1.int.manual <- beta1.hat.manual + c(-1,1) * t.crit.manual * sigma.beta1.manual\n",
    "    beta1.int.autom <- beta1.hat.autom + c(-1,1) * t.crit.autom * sigma.beta1.autom\n",
    "    \n",
    "    # t-test specifics:\n",
    "    n.manual <- nrow(df.manual)\n",
    "    n.autom <- nrow(df.autom)\n",
    "    dof <- n.manual + n.autom - 2\n",
    "    s_pooled <- sqrt((((n.manual-1)*sigma.beta1.manual^2) +\n",
    "                          ((n.autom-1)*sigma.beta1.autom^2)) / dof) # 0.99205\n",
    "    t_stat <- (beta1.hat.manual - beta1.hat.autom) *\n",
    "              (1/n.manual + 1/n.autom)^0.5 / s_pooled  # -1.92236629\n",
    "    p_val <- pt(t_stat, dof, lower.tail=TRUE) # 0.0321 consistent w/conf int's: SIG\n",
    "    \n",
    "    return(list(p_val, beta1.int.manual, beta1.int.autom))\n",
    "}\n",
    "\n",
    "testSlopes()[[1]] # p-value\n",
    "testSlopes()[[2]] # manual slope 95% confidence interval\n",
    "testSlopes()[[3]] # automatic slope 95% confidence interval"
   ]
  },
  {
   "cell_type": "markdown",
   "metadata": {
    "collapsed": true
   },
   "source": [
    "### Conclusions\n",
    "\n",
    "We can see that these slope are significantly different by the p-value < 0.05 and by the fact that the 95% confidence intervals don't overlap.\n",
    "\n",
    "We can answer our first question by looking at Figure 3 and values in the previous cell.  As mentioned earlier, the transmission and weight have a strong interaction in modeling **mpg**.  Manuals do better than automatic below about 2800 lbs.  From about 2800 lbs. to a little over 3500 lbs. (heaviest manual), automatics tend to do better as weight increases.  Outside the CWZ, we can't draw any reasonable conclusions from the data for two reasons.  First, above the the CWZ, we only have data for 8 cylinder automatics.  Second, below the CWZ, wee only data for 4 cylinder manuals.\n",
    "\n",
    "Wrt to our second question, we have quantifed the difference in **mpg** in a linear function of weight and transmission of the form:\n",
    "\n",
    "$$\n",
    "    m = 31.416055 + (14.878423)t - (3.785908)w - (5.298360)tw\n",
    "$$\n",
    "\n",
    "where m = mileage in miles per gallon, t = transmission, a binary variable which is 0 if automatic or 1 if manual, and w = weight in 1000 lbs.\n",
    "\n",
    "The drop off in **mpg** is steeper for manuals ranging from -11.85 to -6.32 mpg per 1000 lb. weight increase.  For automatics, the drop in **mpg** ranges from -5.40 to -2.17 mpg per 1000 lbs..  Both of these ranges were constructed at the 95% confidence level ($\\alpha = 0.05$)  "
   ]
  },
  {
   "cell_type": "code",
   "execution_count": null,
   "metadata": {
    "collapsed": true
   },
   "outputs": [],
   "source": []
  },
  {
   "cell_type": "markdown",
   "metadata": {},
   "source": [
    "$$\\newcommand{\\xv}{\\mathbf{x}}\n",
    "\\newcommand{\\Xv}{\\mathbf{X}}\n",
    "\\newcommand{\\yv}{\\mathbf{y}}\n",
    "\\newcommand{\\Yv}{\\mathbf{Y}}\n",
    "\\newcommand{\\zv}{\\mathbf{z}}\n",
    "\\newcommand{\\av}{\\mathbf{a}}\n",
    "\\newcommand{\\Wv}{\\mathbf{W}}\n",
    "\\newcommand{\\wv}{\\mathbf{w}}\n",
    "\\newcommand{\\betav}{\\mathbf{\\beta}}\n",
    "\\newcommand{\\gv}{\\mathbf{g}}\n",
    "\\newcommand{\\Hv}{\\mathbf{H}}\n",
    "\\newcommand{\\dv}{\\mathbf{d}}\n",
    "\\newcommand{\\Vv}{\\mathbf{V}}\n",
    "\\newcommand{\\vv}{\\mathbf{v}}\n",
    "\\newcommand{\\tv}{\\mathbf{t}}\n",
    "\\newcommand{\\Tv}{\\mathbf{T}}\n",
    "\\newcommand{\\Sv}{\\mathbf{S}}\n",
    "\\newcommand{\\zv}{\\mathbf{z}}\n",
    "\\newcommand{\\Zv}{\\mathbf{Z}}\n",
    "\\newcommand{\\Norm}{\\mathcal{N}}\n",
    "\\newcommand{\\muv}{\\boldsymbol{\\mu}}\n",
    "\\newcommand{\\sigmav}{\\boldsymbol{\\sigma}}\n",
    "\\newcommand{\\phiv}{\\boldsymbol{\\phi}}\n",
    "\\newcommand{\\Phiv}{\\boldsymbol{\\Phi}}\n",
    "\\newcommand{\\Sigmav}{\\boldsymbol{\\Sigma}}\n",
    "\\newcommand{\\Lambdav}{\\boldsymbol{\\Lambda}}\n",
    "\\newcommand{\\half}{\\frac{1}{2}}\n",
    "\\newcommand{\\argmax}[1]{\\underset{#1}{\\operatorname{argmax}}}\n",
    "\\newcommand{\\argmin}[1]{\\underset{#1}{\\operatorname{argmin}}}\n",
    "\\newcommand{\\dimensionbar}[1]{\\underset{#1}{\\operatorname{|}}}\n",
    "\\newcommand{\\dimensionbar}[1]{\\underset{#1}{\\operatorname{|}}}\n",
    "\\newcommand{\\grad}{\\mathbf{\\nabla}}\n",
    "\\newcommand{\\ebx}[1]{e^{\\wv_{#1}^T \\xv_n}}\n",
    "\\newcommand{\\eby}[1]{e^{y_{n,#1}}}\n",
    "\\newcommand{\\Tiv}{\\mathbf{Ti}}\n",
    "\\newcommand{\\Fv}{\\mathbf{F}}\n",
    "\\newcommand{\\ones}[1]{\\mathbf{1}_{#1}}\n",
    "$$"
   ]
  },
  {
   "cell_type": "markdown",
   "metadata": {},
   "source": [
    "## The Wonderful World of ML - Session 3 Discussion: Logistic Regression"
   ]
  },
  {
   "cell_type": "markdown",
   "metadata": {},
   "source": [
    "<img src=\"https://raw.githubusercontent.com/MichaelSzczepaniak/WonderfulML/master/docs/graphics/child_on_logistic_curve_70per.jpg\">"
   ]
  },
  {
   "cell_type": "markdown",
   "metadata": {},
   "source": [
    "Logistic regression provides a straightforward way to model the probability that one of two mutually exclusive outcomes will occur. This is another way of saying that this is a technique used for **binary classification**. Because this is one of the simplest and most popular classifiers out there, this should be in every machine learning practicioners toolbox.  It also serves as a good starting point for more sophisticated classification techniques such as LDA and QDA which we'll cover in the next session.\n",
    "\n",
    "What are some examples of binary classification?\n",
    "+ Will a team win or loss a game?\n",
    "+ Will a customer buy or not buy?\n",
    "+ Will a person survive 90 days after a myocardial infarction (heart attack)?\n",
    "+ Will a passenger survive the Titanic disaster? (kaggle competition)"
   ]
  },
  {
   "cell_type": "markdown",
   "metadata": {},
   "source": [
    "### What is logistic regression modeling?\n",
    "\n",
    "At first look, it may seem odd to call this classifier logistic *regression* until you realize that this technique is modeling the underlying conditional probability of an event occuring given one or more predictors.  In other words, we are fitting a function to $p(C_n=k\\,|\\, \\xv_n)$ where $C_n=\\text{class of } n^\\text{th}\\text{ sample}$ which is binary,  meaning that k can only be 0 or 1.  The term $\\xv_n$ is a vector of predictors for the $n^{th}$ sample."
   ]
  },
  {
   "cell_type": "markdown",
   "metadata": {},
   "source": [
    "### How is this model constructed?"
   ]
  },
  {
   "cell_type": "markdown",
   "metadata": {},
   "source": [
    "A natural way to think about modeling a probablity is to divide the count of an event by the total number of events.  Let's start by proposing a function $f(\\xv;\\wv_k)$ that is proportional to the count or frequency of a given event $k$.  With our $f(\\xv;\\wv_k)$ as a function of our predictors $\\xv$ and some weight parameters $\\wv_k$ for each class, we can use this to compute probabilities by dividing $f(\\xv;\\wv_k)$ for a particular class $k$ by the total count in all classes which can be expressed as:\n",
    "\n",
    "1.$$\n",
    "    \\begin{align*}\n",
    "      p(C=k|\\xv) = \\frac{f(\\xv;\\wv_k)}{\\sum_{m=1}^K f(\\xv;\\wv_m)} = g_k(\\xv)\n",
    "    \\end{align*}\n",
    "$$\n",
    "\n",
    "The above ensures that $p(C=k|\\xv)$ will be between 0 and 1 if $f(\\xv;\\wv_k) \\gt 0$, but we have another contraint which is:\n",
    "\n",
    "2.$$\n",
    "      \\begin{align*}\n",
    "      1  = \\sum_{k=1}^K p_k(C=k|\\xv) = \\sum_{k=1}^K g_k(\\xv)\n",
    "      \\end{align*}\n",
    "$$\n",
    "\n",
    "If we look closely at this equation 2., we notice that this really gives us only $(k-1)$ contraints on $g_k(\\xv)$ because we can always determine one these contraints by subtracting 1 from the sum of the other.  In other words, for some arbitrary $g_m(\\xv)$ where $m \\ne k$, we can write:\n",
    "\n",
    "3.$$\n",
    "      \\begin{align*}\n",
    "      g_m(\\xv) = 1 - \\sum_{k=1, k \\ne m}^K g_k(\\xv)\n",
    "      \\end{align*}\n",
    "$$\n",
    "\n",
    "So, we'll just set the final $f(\\xv;\\wv_k)$, for $k=K$, to be 1.  This gives us:\n",
    "\n",
    "4.$$\n",
    "      \\begin{align*}\n",
    "        g_k(\\xv) = \\left \\{ \\begin{array}{ll}\n",
    "            \\dfrac{f(\\xv;\\wv_k)}{1+\\sum_{m=1}^{K-1} f(\\xv;\\wv_m)}, & k < K\\\\\n",
    "            \\dfrac{1}{1+\\sum_{m=1}^{K-1} f(\\xv;\\wv_m)}, & k = K\n",
    "          \\end{array}\n",
    "        \\right .\n",
    "      \\end{align*}\n",
    "$$\n",
    "\n",
    "Since we are only considering two classes, we can drop the subscript $k$ and write:\n",
    "\n",
    "5.$$\n",
    "      \\begin{align*}\n",
    "        g(\\xv) = \\dfrac{f(\\xv;\\wv)}{1+f(\\xv;\\wv)}\n",
    "      \\end{align*}\n",
    "$$"
   ]
  },
  {
   "cell_type": "markdown",
   "metadata": {},
   "source": [
    "So how do we select $f(\\xv;\\wv)$?  As it turns out, selecting $f(\\xv;\\wv) = e^{\\wv^T \\xv}$ allows us to more easily evaluate the gradient of the log-likelihood function which is used to find the best fit parameters which we'll touch on in the next section below.  For now, we'll just point out that selecting our $f(\\xv;\\wv)$ in this way results in the *logisitic function* shown in equation (4.2) in the ISL and more generally below:\n",
    "\n",
    "6.$$\n",
    "      \\begin{align*}\n",
    "        g(\\xv) = \\dfrac{e^{\\wv^T \\xv}}{1+e^{\\wv^T \\xv}} = p(C=k|\\xv)\n",
    "      \\end{align*}\n",
    "$$\n",
    "\n",
    "If you play with 6. a little, you can easily convince yourself that this is the same function as $sigmoid(x) = \\dfrac{1}{1+e^{-\\wv^T \\xv}}$.  Leaving 6. in the form of the logistic function allows us to more easily see that with a little manipulation, we can rewrite 6. in terms of the *odds* or *odds ration* as:\n",
    "\n",
    "7.$$\n",
    "      \\begin{align*}\n",
    "        \\frac{p(C=k|\\xv)}{1 - p(C=k|\\xv)} = e^{\\wv^T \\xv} = \\text{odds or odds ratio}\n",
    "      \\end{align*}\n",
    "$$"
   ]
  },
  {
   "cell_type": "markdown",
   "metadata": {},
   "source": [
    "If we take the natural log of both sides of 7., we get a more general form of what is shown as equation (4.4) in the ISL.\n",
    "\n",
    "8.$$\n",
    "      \\begin{align*}\n",
    "        \\ln{\\Big(\\frac{p(C=k|\\xv)}{1 - p(C=k|\\xv)}\\Big)} = \\wv^T \\xv\n",
    "      \\end{align*}\n",
    "$$\n",
    "\n",
    "The left side of 8. is referred to as the *log-odds* or *logit* and we can see clearly that the model assumes that this quantity is linear in the predictors $\\xv$."
   ]
  },
  {
   "cell_type": "markdown",
   "metadata": {},
   "source": [
    "### How do we find the best parameters for the model?"
   ]
  },
  {
   "cell_type": "markdown",
   "metadata": {},
   "source": [
    "The most common way to solve for our parameters is to *maximize the likelihood* of our model fit to the data.  *What is the likelihood?*  The likelihood is just the product of all $p(C=\\text{class of }\n",
    "n^\\text{th}\\text{ sample}\\,|\\,\\xv_n)$ values for sample $n$.  A common way to express this product is\n",
    "\n",
    "9.$$\n",
    "    \\begin{align*}\n",
    "      L(\\wv) = \\prod_{n=1}^N \\prod_{k=1}^K p(C=k\\,|\\, \\xv_n)^{t_{n,k}}\n",
    "    \\end{align*}\n",
    "$$\n",
    "\n",
    "\n",
    "What's that $t_{n,k}$ term in 9. mean?  This is referred to as a *binary indicator variable* which can only take on the values of 1 or 0. $t_{n,k}$ is 1 when $k$ is the correct (target) class and 0 at all other values of $k$.  For example, say we have three classes ($K=3$) and training sample $n$ is from Class 2, then the  product is\n",
    "\n",
    "$$\n",
    "      \\begin{align*}\n",
    "        p(C=1\\,|\\,\\xv_n)^{t_{n,1}} p(C=2\\,|\\,\\xv_n)^{t_{n,2}}\n",
    "        p(C=3\\,|\\,\\xv_n)^{t_{n,3}} & = \n",
    "         p(C=1\\,|\\,\\xv_n)^0 p(C=2\\,|\\,\\xv_n)^1 p(C=3\\,|\\,\\xv_n)^0 \\\\\n",
    "        & = 1\\; p(C=2\\,|\\,\\xv_n)^1 \\; 1 \\\\\n",
    "        & = p(C=2\\,|\\,\\xv_n) \n",
    "      \\end{align*}\n",
    "$$\n",
    "\n",
    "This shows how the indicator variables as exponents select the correct terms to be included in the product.\n",
    "\n",
    "Now that we know what our object function is, we can turn our attention to finding $\\wv$ that maximizes the data likelihood.  How should we proceed?\n",
    "\n",
    "Right.  Find the derivative of 9. with respect to each component of $\\wv$, or the gradient with respect to $\\wv$.  But there is a mess of products in this. So let's make this easier by working with the natural logarithm  $\\ln\\Big( L(\\wv)\\Big)$ which we will call $LL(\\wv)$.\n",
    "\n",
    "10.$$\n",
    "    \\begin{align*}\n",
    "      LL(\\wv) = \\ln\\Big( L(\\wv) \\Big) = \\sum_{n=1}^N \\sum_{k=1}^K t_{n,k}  \\log p(C=k\\,|\\,\\xv_n)\n",
    "    \\end{align*}\n",
    "$$\n",
    "\n",
    "Since $LL(\\wv)$ is not linear in $\\wv$, we need to solve 10. iteratively using gradient **ascent**, that is stepping up the gradient because we are **maximizing** our log-likelihood objective function as opposed to minimizing a *cost* function like we did for linear regression.\n",
    "\n",
    "The procedure is\n",
    "\n",
    "  * Initialize $\\wv$ to some value.\n",
    "  * Make small change to $\\wv$ in the direction of the  gradient of $LL(\\wv)$ with respect to $\\wv$  (or $\\grad_{\\wv} LL(\\wv)$)\n",
    "  * Repeat above step until $LL(\\wv)$ seems to be at a maximum.\n",
    "\n",
    "$$\n",
    "      \\begin{align*}\n",
    "        \\wv \\leftarrow \\wv + \\alpha \\grad_{\\wv} LL(\\wv)\n",
    "      \\end{align*}\n",
    "$$\n",
    "\n",
    "where $\\alpha$ is a constant that affects the step size.\n",
    "\n",
    "Deriving the expression for the gradient and the details regarding the update rules gets a bit involved, so for those that are interested, I describe these details in [this notebook (not available yet...)]()."
   ]
  },
  {
   "cell_type": "markdown",
   "metadata": {},
   "source": [
    "### What tools are available in R to do logistic regression?"
   ]
  },
  {
   "cell_type": "markdown",
   "metadata": {},
   "source": [
    "In R, the **glm** function is the most commonly used."
   ]
  },
  {
   "cell_type": "markdown",
   "metadata": {},
   "source": [
    "### How do we handle discrete and continuous variables in our model?"
   ]
  },
  {
   "cell_type": "markdown",
   "metadata": {},
   "source": [
    "This is best shown with an example.  Let's say we want to model how the Broncos did in their 2016 season.  We can use logistic regression to estimate the probability that the Broncos win as a function of whether they played their game at home or away (discrete) and as function of their final score (not strictly continuous, o.k. for our example).  Since this dataset is so small, we'll train on all the data which we wouldn't want to do in practice."
   ]
  },
  {
   "cell_type": "code",
   "execution_count": 17,
   "metadata": {},
   "outputs": [
    {
     "data": {
      "text/html": [
       "<table>\n",
       "<thead><tr><th scope=col>Date</th><th scope=col>Week</th><th scope=col>DenScore</th><th scope=col>OppScore</th><th scope=col>DenWin</th><th scope=col>Home</th><th scope=col>Notes</th></tr></thead>\n",
       "<tbody>\n",
       "\t<tr><td>09/08/2016</td><td>1         </td><td>21        </td><td>20        </td><td>1         </td><td>1         </td><td>          </td></tr>\n",
       "\t<tr><td>09/18/2016</td><td>2         </td><td>34        </td><td>20        </td><td>1         </td><td>1         </td><td>          </td></tr>\n",
       "\t<tr><td>09/25/2016</td><td>3         </td><td>29        </td><td>17        </td><td>1         </td><td>0         </td><td>          </td></tr>\n",
       "\t<tr><td>10/02/2016</td><td>4         </td><td>27        </td><td> 7        </td><td>1         </td><td>0         </td><td>          </td></tr>\n",
       "\t<tr><td>10/09/2016</td><td>5         </td><td>16        </td><td>23        </td><td>0         </td><td>1         </td><td>          </td></tr>\n",
       "\t<tr><td>10/13/2016</td><td>6         </td><td>13        </td><td>21        </td><td>0         </td><td>0         </td><td>          </td></tr>\n",
       "</tbody>\n",
       "</table>\n"
      ],
      "text/latex": [
       "\\begin{tabular}{r|lllllll}\n",
       " Date & Week & DenScore & OppScore & DenWin & Home & Notes\\\\\n",
       "\\hline\n",
       "\t 09/08/2016 & 1          & 21         & 20         & 1          & 1          &           \\\\\n",
       "\t 09/18/2016 & 2          & 34         & 20         & 1          & 1          &           \\\\\n",
       "\t 09/25/2016 & 3          & 29         & 17         & 1          & 0          &           \\\\\n",
       "\t 10/02/2016 & 4          & 27         &  7         & 1          & 0          &           \\\\\n",
       "\t 10/09/2016 & 5          & 16         & 23         & 0          & 1          &           \\\\\n",
       "\t 10/13/2016 & 6          & 13         & 21         & 0          & 0          &           \\\\\n",
       "\\end{tabular}\n"
      ],
      "text/markdown": [
       "\n",
       "Date | Week | DenScore | OppScore | DenWin | Home | Notes | \n",
       "|---|---|---|---|---|---|\n",
       "| 09/08/2016 | 1          | 21         | 20         | 1          | 1          |            | \n",
       "| 09/18/2016 | 2          | 34         | 20         | 1          | 1          |            | \n",
       "| 09/25/2016 | 3          | 29         | 17         | 1          | 0          |            | \n",
       "| 10/02/2016 | 4          | 27         |  7         | 1          | 0          |            | \n",
       "| 10/09/2016 | 5          | 16         | 23         | 0          | 1          |            | \n",
       "| 10/13/2016 | 6          | 13         | 21         | 0          | 0          |            | \n",
       "\n",
       "\n"
      ],
      "text/plain": [
       "  Date       Week DenScore OppScore DenWin Home Notes\n",
       "1 09/08/2016 1    21       20       1      1         \n",
       "2 09/18/2016 2    34       20       1      1         \n",
       "3 09/25/2016 3    29       17       1      0         \n",
       "4 10/02/2016 4    27        7       1      0         \n",
       "5 10/09/2016 5    16       23       0      1         \n",
       "6 10/13/2016 6    13       21       0      0         "
      ]
     },
     "metadata": {},
     "output_type": "display_data"
    }
   ],
   "source": [
    "data_path <- \"https://raw.githubusercontent.com/MichaelSzczepaniak/WonderfulML/master/data/broncos2016.csv\"\n",
    "broncos_data <- read.csv(data_path)\n",
    "head(broncos_data)"
   ]
  },
  {
   "cell_type": "code",
   "execution_count": 18,
   "metadata": {},
   "outputs": [
    {
     "data": {
      "text/plain": [
       "\n",
       "Call:\n",
       "glm(formula = broncos_data$DenWin ~ broncos_data$DenScore, family = \"binomial\")\n",
       "\n",
       "Deviance Residuals: \n",
       "    Min       1Q   Median       3Q      Max  \n",
       "-2.1947  -0.2699   0.2206   0.4761   1.2306  \n",
       "\n",
       "Coefficients:\n",
       "                      Estimate Std. Error z value Pr(>|z|)  \n",
       "(Intercept)            -7.0906     3.7653  -1.883   0.0597 .\n",
       "broncos_data$DenScore   0.3483     0.1702   2.047   0.0407 *\n",
       "---\n",
       "Signif. codes:  0 '***' 0.001 '**' 0.01 '*' 0.05 '.' 0.1 ' ' 1\n",
       "\n",
       "(Dispersion parameter for binomial family taken to be 1)\n",
       "\n",
       "    Null deviance: 21.930  on 15  degrees of freedom\n",
       "Residual deviance: 10.965  on 14  degrees of freedom\n",
       "AIC: 14.965\n",
       "\n",
       "Number of Fisher Scoring iterations: 6\n"
      ]
     },
     "metadata": {},
     "output_type": "display_data"
    }
   ],
   "source": [
    "logRegBroncos <- glm(broncos_data$DenWin ~ broncos_data$DenScore, family=\"binomial\")\n",
    "summary(logRegBroncos)"
   ]
  },
  {
   "cell_type": "code",
   "execution_count": 19,
   "metadata": {},
   "outputs": [
    {
     "data": {
      "text/html": [
       "<strong>(Intercept):</strong> -7.09056066494964"
      ],
      "text/latex": [
       "\\textbf{(Intercept):} -7.09056066494964"
      ],
      "text/markdown": [
       "**(Intercept):** -7.09056066494964"
      ],
      "text/plain": [
       "(Intercept) \n",
       "  -7.090561 "
      ]
     },
     "metadata": {},
     "output_type": "display_data"
    },
    {
     "data": {
      "text/html": [
       "<strong>broncos_data$DenScore:</strong> 0.348317384774341"
      ],
      "text/latex": [
       "\\textbf{broncos\\textbackslash{}\\_data\\textbackslash{}\\$DenScore:} 0.348317384774341"
      ],
      "text/markdown": [
       "**broncos_data$DenScore:** 0.348317384774341"
      ],
      "text/plain": [
       "broncos_data$DenScore \n",
       "            0.3483174 "
      ]
     },
     "metadata": {},
     "output_type": "display_data"
    }
   ],
   "source": [
    "logRegBroncos$coefficients[1]\n",
    "logRegBroncos$coefficients[2]"
   ]
  },
  {
   "cell_type": "code",
   "execution_count": 20,
   "metadata": {},
   "outputs": [
    {
     "data": {
      "image/png": "[encoded data removed]",
      "text/plain": [
       "plot without title"
      ]
     },
     "metadata": {},
     "output_type": "display_data"
    }
   ],
   "source": [
    "suppressMessages(suppressWarnings(library(dplyr)))\n",
    "suppressMessages(suppressWarnings(library(ggplot2)))\n",
    "library(ggplot2)\n",
    "\n",
    "logOddsInter <- logRegBroncos$coefficients[1]\n",
    "logOddsSlope <- logRegBroncos$coefficients[2]\n",
    "\n",
    "p <- ggplot(broncos_data, aes(x=DenScore, y=logRegBroncos$fitted))\n",
    "p <- p + geom_point(size=2) + stat_smooth(method=\"lm\",\n",
    "                                          formula = y ~ I(1 / (1 + exp((-logOddsSlope*x) - logOddsInter))))\n",
    "p <- p + labs(x=\"Broncos Score\", y=\"Prob of Broncos Win\")\n",
    "print(p)"
   ]
  },
  {
   "cell_type": "markdown",
   "metadata": {},
   "source": [
    "Now let's take a look at the **Home vs. Away** variable.  Before doing this, let's take a look at the Broncos home record:"
   ]
  },
  {
   "cell_type": "code",
   "execution_count": 21,
   "metadata": {},
   "outputs": [
    {
     "data": {
      "text/html": [
       "0.625"
      ],
      "text/latex": [
       "0.625"
      ],
      "text/markdown": [
       "0.625"
      ],
      "text/plain": [
       "[1] 0.625"
      ]
     },
     "metadata": {},
     "output_type": "display_data"
    }
   ],
   "source": [
    "home_wins <- sum(broncos_data$DenWin[broncos_data$Home == 1])\n",
    "home_games <- length(broncos_data$Home[broncos_data$Home == 1])\n",
    "home_wins/home_games"
   ]
  },
  {
   "cell_type": "markdown",
   "metadata": {},
   "source": [
    "This suggests that playing at home may offer a small advantage, but we need to be careful assuming this because score may be confounding the result.  With this in mind, let's add it to the model and see what happens."
   ]
  },
  {
   "cell_type": "code",
   "execution_count": 22,
   "metadata": {},
   "outputs": [
    {
     "data": {
      "text/plain": [
       "\n",
       "Call:\n",
       "glm(formula = broncos_data$DenWin ~ broncos_data$DenScore + broncos_data$Home, \n",
       "    family = \"binomial\")\n",
       "\n",
       "Deviance Residuals: \n",
       "    Min       1Q   Median       3Q      Max  \n",
       "-2.1067  -0.2845   0.1932   0.4868   1.2189  \n",
       "\n",
       "Coefficients:\n",
       "                      Estimate Std. Error z value Pr(>|z|)  \n",
       "(Intercept)            -7.1878     3.8402  -1.872   0.0612 .\n",
       "broncos_data$DenScore   0.3668     0.1826   2.009   0.0445 *\n",
       "broncos_data$Home      -0.6129     1.6402  -0.374   0.7086  \n",
       "---\n",
       "Signif. codes:  0 '***' 0.001 '**' 0.01 '*' 0.05 '.' 0.1 ' ' 1\n",
       "\n",
       "(Dispersion parameter for binomial family taken to be 1)\n",
       "\n",
       "    Null deviance: 21.93  on 15  degrees of freedom\n",
       "Residual deviance: 10.82  on 13  degrees of freedom\n",
       "AIC: 16.82\n",
       "\n",
       "Number of Fisher Scoring iterations: 6\n"
      ]
     },
     "metadata": {},
     "output_type": "display_data"
    }
   ],
   "source": [
    "logRegBroncos2 <- glm(broncos_data$DenWin ~ broncos_data$DenScore + broncos_data$Home, family=\"binomial\")\n",
    "summary(logRegBroncos2)"
   ]
  },
  {
   "cell_type": "markdown",
   "metadata": {},
   "source": [
    "Adding the **Home** variable wasn't significant (huge p-value), so leaving it out of the model would make sense"
   ]
  },
  {
   "cell_type": "code",
   "execution_count": null,
   "metadata": {
    "collapsed": true
   },
   "outputs": [],
   "source": []
  },
  {
   "cell_type": "code",
   "execution_count": null,
   "metadata": {
    "collapsed": true
   },
   "outputs": [],
   "source": []
  },
  {
   "cell_type": "code",
   "execution_count": null,
   "metadata": {
    "collapsed": true
   },
   "outputs": [],
   "source": []
  },
  {
   "cell_type": "code",
   "execution_count": null,
   "metadata": {
    "collapsed": true
   },
   "outputs": [],
   "source": []
  }
 ],
 "metadata": {
  "kernelspec": {
   "display_name": "R",
   "language": "R",
   "name": "ir"
  },
  "language_info": {
   "codemirror_mode": "r",
   "file_extension": ".r",
   "mimetype": "text/x-r-source",
   "name": "R",
   "pygments_lexer": "r",
   "version": "3.3.2"
  }
 },
 "nbformat": 4,
 "nbformat_minor": 2
}
