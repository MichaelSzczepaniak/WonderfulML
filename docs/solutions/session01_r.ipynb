{
 "cells": [
  {
   "cell_type": "markdown",
   "metadata": {},
   "source": [
    "## The Wonderful World of ML - Session 1 Assignment"
   ]
  },
  {
   "cell_type": "markdown",
   "metadata": {},
   "source": [
    "1) Install jupyter notebook and configure it with an R kernel if you are an R user.  If you are Python user, your Anaconda install will have Python configured out of the box."
   ]
  },
  {
   "cell_type": "markdown",
   "metadata": {},
   "source": [
    "*Python users -* If you have installed the [latest version of Anaconda](https://www.continuum.io/downloads), you should have jupyter notebook as part of this install.  If you have a distribution of Python which doesn't include jupyter, you can do a **pip** install as described [here](http://jupyter.readthedocs.io/en/latest/install.html).  \n",
    "\n",
    "*R users -*  Because jupyter runs on Python, you will also need to install a Python distribution if you don't have one installed on your system already.  I recommend installing the [latest version of Anaconda](https://www.continuum.io/downloads) if you don't have a compelling reason not to use this distribution because it comes with jupyter as mentioned earlier.\n",
    "\n",
    "After Python and jupyter, I recommend that both R and Python users configure jupyter with an R kerenel.  I followed the [instructions described in this video](https://www.youtube.com/watch?v=I9a9Jj2A95g) and used [this reference](https://irkernel.github.io/installation/) as I went through the process."
   ]
  },
  {
   "cell_type": "markdown",
   "metadata": {},
   "source": [
    "2) What is machine learning?  Describe 3 examples."
   ]
  },
  {
   "cell_type": "markdown",
   "metadata": {},
   "source": [
    "*Machine learning (ML) is a type of artificial intelligence (AI) that provides computers with the ability to learn without being explicitly programmed. Machine learning focuses on the development of computer programs that can change when exposed to new data.*[[1]](http://whatis.techtarget.com/definition/machine-learning)\n",
    "\n",
    "Some examples:\n",
    "<ol>\n",
    "<li>Netflix Competition</li>\n",
    "  <ul>\n",
    "  <li>Session 2 assignment: What kind of algorithm was used? (Hint: Sondra will talk about this algorithm.)</li>\n",
    "  <li>Session 2 assignment: What type of algorithm was this? (Hint: Sondra will talk about two types of ML. Which type is this particular algorithm?)</li>\n",
    "  </ul>\n",
    "<li>Classification of Handwritten Digits</li>\n",
    "  <ul>\n",
    "    <li>Practical example: Post Office Automated Zipcode Sorting</li>\n",
    "  </ul>\n",
    "<li>Voice Recognition</li>\n",
    "  <ul>\n",
    "    <li>Voice to text example: Dragon Naturally Speaking</li>\n",
    "    <li>Voice commands: Apple's Seri, Amazon's Alexa, chatbots</li>\n",
    "  </ul>\n",
    "</ol>\n",
    "\n",
    "[1] [http://whatis.techtarget.com/definition/machine-learning](http://whatis.techtarget.com/definition/machine-learning)"
   ]
  },
  {
   "cell_type": "markdown",
   "metadata": {},
   "source": [
    "3) What is the difference between a probability mass function and probability density function?"
   ]
  },
  {
   "cell_type": "markdown",
   "metadata": {},
   "source": [
    "There are two key differences between a **probability mass function (PMF)** and a **probability density function (PDF)**.  The first difference is the type of data each function is used to describe.  A PMF is typically used to describe **discrete** distributions.  That is, the values being considered can only take on a finite number of values (e.g. the roll of die or the flip of coin).  A PDF is typically used to discribe continuous data.  That is, the values being considered can take on an infinite number of values (e.g. temperature measurements, fuel efficiency of a car in miles per gallon).\n",
    "\n",
    "The second difference is the type of output each function produces.  A PMF maps a discrete value to a probability.  Since the output of PMF is a probability, each output value must lie between 0 and 1.  A PDF maps a continuous value to a probability **density**, not an actual probability.  To compute an actual probability from a PDF, you must specify an interval for the input (e.g. temperature between 70.2 and 76.3F) and the calculate the area under the curve (AUC) in the interval in which you are interested.  This area will be equal to the probability that the input value will be observed in the given range relative to values outside the given range.\n",
    "\n",
    "The sum of all the possible values a PMF can take on must equal 1 to be a proper PMF.  The AUC for the entire PDF must equal 1 to be a proper PDF."
   ]
  },
  {
   "cell_type": "markdown",
   "metadata": {},
   "source": [
    "4) The National Sleep Foundation (www.sleepfoundation.org) reports that around 3% of the American population has sleep apnea. They also report that around 10% of the North American and European population has restless leg syndrome. Does this imply that 13% of people will have at least one sleep problems of these sorts?"
   ]
  },
  {
   "cell_type": "markdown",
   "metadata": {},
   "source": [
    "Answer:"
   ]
  },
  {
   "cell_type": "markdown",
   "metadata": {},
   "source": [
    "5) Given two binary random variables: D = having a disease (true or false) and T = test results for a disease (+ or -), derive the formula for the probability of having a disease given a positive test result p(D=true | T=+) aka **positive predictive value**."
   ]
  },
  {
   "cell_type": "markdown",
   "metadata": {},
   "source": [
    "Answer:"
   ]
  },
  {
   "cell_type": "markdown",
   "metadata": {},
   "source": [
    "6) Rewrite this formula in terms of sensitivity p(T=+ | D=true) and specificity p(T=- | D=false) of the test."
   ]
  },
  {
   "cell_type": "markdown",
   "metadata": {},
   "source": [
    "Answer:"
   ]
  },
  {
   "cell_type": "markdown",
   "metadata": {},
   "source": [
    "7) If the probability of having disease D is 1% in the popultation and a test that diagnoses this disease is accurate 80% of the time, what is the probability that a person with a + test result has the disease if the test gives a false positive 9.6% of the time?"
   ]
  },
  {
   "cell_type": "markdown",
   "metadata": {},
   "source": [
    "Answer:"
   ]
  },
  {
   "cell_type": "markdown",
   "metadata": {},
   "source": [
    "8) Say the mean of some population is the value m, if we take a random sample of 50 item from this population, compute the mean, put that sample back into the population, repeat this 1000 times and plot the distibution, what would the shape of this distribution of sample means look like?  What would we expect the mean of this distribution to be?"
   ]
  },
  {
   "cell_type": "markdown",
   "metadata": {},
   "source": [
    "Answer:"
   ]
  },
  {
   "cell_type": "markdown",
   "metadata": {},
   "source": [
    "9) Say I have a function of two variables $x_1$ and $x_2$ which I want to find the minimum of.  A contour plot of f(x1, x2) looks like this:  \n",
    "\n",
    "<img src=\"https://raw.githubusercontent.com/MichaelSzczepaniak/WonderfulML/master/docs/graphics/question_01_08_contours.jpg\">  \n",
    "\n",
    "If I start my search at point A and I use gradient descent, what direction would my next guess be in?"
   ]
  },
  {
   "cell_type": "markdown",
   "metadata": {},
   "source": [
    "Answer:"
   ]
  },
  {
   "cell_type": "markdown",
   "metadata": {},
   "source": [
    "10) Most of know how to compute an average aka a **mean**.  Can you describe where the formula for the mean comes from?  How is it derived?  How about the standard deviation?"
   ]
  },
  {
   "cell_type": "markdown",
   "metadata": {},
   "source": [
    "Answer:"
   ]
  },
  {
   "cell_type": "markdown",
   "metadata": {},
   "source": [
    "11) Your boss sends you an email telling you that after buying \\$5k of radio advertising sales rose to 5.5k units.  After \\$10k, \\$15k, and \\$20k purchase, sales were 6.5, 11.5, and 8.5k respectively. Your boss wants a rough estimate for sales if he decides to spend \\$37k.  What would you tell her?"
   ]
  },
  {
   "cell_type": "code",
   "execution_count": 22,
   "metadata": {},
   "outputs": [
    {
     "data": {
      "text/html": [
       "<table>\n",
       "<thead><tr><th scope=col>ad_spend_k</th><th scope=col>sales_k</th></tr></thead>\n",
       "<tbody>\n",
       "\t<tr><td> 5  </td><td> 5.5</td></tr>\n",
       "\t<tr><td>10  </td><td> 6.5</td></tr>\n",
       "\t<tr><td>15  </td><td>11.5</td></tr>\n",
       "\t<tr><td>20  </td><td> 8.5</td></tr>\n",
       "</tbody>\n",
       "</table>\n"
      ],
      "text/latex": [
       "\\begin{tabular}{r|ll}\n",
       " ad\\_spend\\_k & sales\\_k\\\\\n",
       "\\hline\n",
       "\t  5   &  5.5\\\\\n",
       "\t 10   &  6.5\\\\\n",
       "\t 15   & 11.5\\\\\n",
       "\t 20   &  8.5\\\\\n",
       "\\end{tabular}\n"
      ],
      "text/markdown": [
       "\n",
       "ad_spend_k | sales_k | \n",
       "|---|---|---|---|\n",
       "|  5   |  5.5 | \n",
       "| 10   |  6.5 | \n",
       "| 15   | 11.5 | \n",
       "| 20   |  8.5 | \n",
       "\n",
       "\n"
      ],
      "text/plain": [
       "  ad_spend_k sales_k\n",
       "1  5          5.5   \n",
       "2 10          6.5   \n",
       "3 15         11.5   \n",
       "4 20          8.5   "
      ]
     },
     "metadata": {},
     "output_type": "display_data"
    }
   ],
   "source": [
    "x <- seq(5, 20, 5)\n",
    "y <- c(5.5, 6.5, 11.5, 8.5)\n",
    "df_live <- data.frame(ad_spend_k=x, sales_k=y)\n",
    "df_live"
   ]
  },
  {
   "cell_type": "code",
   "execution_count": 37,
   "metadata": {},
   "outputs": [
    {
     "data": {
      "text/html": [
       "28"
      ],
      "text/latex": [
       "28"
      ],
      "text/markdown": [
       "28"
      ],
      "text/plain": [
       "[1] 28"
      ]
     },
     "metadata": {},
     "output_type": "display_data"
    }
   ],
   "source": [
    "## get reaquainted with variable number of input parameters...\n",
    "varFunc <- function(x, y, ...) {\n",
    "    args <- unlist(list(...))\n",
    "    return(sum(c(x, y, args)))\n",
    "}\n",
    "\n",
    "varFunc(1,2,3,4,5,6,7)\n"
   ]
  },
  {
   "cell_type": "code",
   "execution_count": 56,
   "metadata": {},
   "outputs": [
    {
     "data": {
      "text/html": [
       "41"
      ],
      "text/latex": [
       "41"
      ],
      "text/markdown": [
       "41"
      ],
      "text/plain": [
       "[1] 41"
      ]
     },
     "metadata": {},
     "output_type": "display_data"
    }
   ],
   "source": [
    "## Returns single response based on linear model\n",
    "## x_input - n-dimensional input vector to estimate response from\n",
    "## params - first n-1 values are the slopes while last value is intercept\n",
    "linearEstimate <- function(x_input, params=c(1, 1, 0)) {\n",
    "    dim_input <- length(x_input)\n",
    "    m_slopes <- params[1:dim_input]\n",
    "    b_inter <- params[dim_input+1]\n",
    "    #return(m_slopes) #, b_inter))\n",
    "    return(sum(m_slopes * x_input) + b_inter)\n",
    "}\n",
    "\n",
    "linearEstimate(c(2, 3), c(3,7,14))  # test, should give 41, check!"
   ]
  },
  {
   "cell_type": "code",
   "execution_count": null,
   "metadata": {
    "collapsed": true
   },
   "outputs": [],
   "source": [
    "getEstimates <- function(est_vals_for=seq(5, 20, 5), est_type, estFun, ...) {\n",
    "    est_params <- unlist(list(...))\n",
    "    est <- estFun(spend_vals, slope, inter)\n",
    "    return(est)\n",
    "}\n",
    "\n"
   ]
  },
  {
   "cell_type": "code",
   "execution_count": 38,
   "metadata": {},
   "outputs": [
    {
     "ename": "ERROR",
     "evalue": "Error in estFun(spend_vals, slope, inter): unused argument (inter)\n",
     "output_type": "error",
     "traceback": [
      "Error in estFun(spend_vals, slope, inter): unused argument (inter)\nTraceback:\n",
      "1. data.frame(ad_spend_k = seq(0, 20, 5), sales_k = getEstimates(seq(0, \n .     20, 5), \"radio\", linearEstimator, slope_est, inter_est))",
      "2. getEstimates(seq(0, 20, 5), \"radio\", linearEstimator, slope_est, \n .     inter_est)",
      "3. estFun(spend_vals, slope, inter)   # at line 11 of file <text>"
     ]
    }
   ],
   "source": [
    "getRSS <- function(slope, inter, x1y2_df) {\n",
    "    rss <- 0\n",
    "    y_est <- (slope * x1y2_df[,1]) + inter\n",
    "    \n",
    "    return(y_est)\n",
    "}\n",
    "\n",
    "slope_est = 0.4\n",
    "inter_est = 3.0\n",
    "df_sales_est <- data.frame(ad_spend_k=seq(0, 20, 5), sales_k=getEstimate(seq(0, 20, 5), 'radio',\n",
    "                                                                          linearEstimate, slope_est, inter_est))\n",
    "df_sales_est"
   ]
  },
  {
   "cell_type": "code",
   "execution_count": 30,
   "metadata": {},
   "outputs": [
    {
     "data": {
      "image/png": "[encoded data removed]",
      "text/plain": [
       "plot without title"
      ]
     },
     "metadata": {},
     "output_type": "display_data"
    }
   ],
   "source": [
    "library(ggplot2)\n",
    "library(repr)\n",
    "suppressMessages(suppressWarnings(library(repr)))\n",
    "p <- ggplot(df_live, aes(x=ad_spend_k, y=sales_k))\n",
    "p <- p + geom_point() + xlim(0, 20) + ylim(0, 20)\n",
    "# add estimation line\n",
    "p <- p + geom_line(data=df_sales_est, aes(x=ad_spend_k, y=sales_k), color='green')\n",
    "# http://blog.revolutionanalytics.com/2015/09/resizing-plots-in-the-r-kernel-for-jupyter-notebooks.html\n",
    "options(repr.plot.width=4, repr.plot.height=3)\n",
    "print(p)"
   ]
  },
  {
   "cell_type": "code",
   "execution_count": null,
   "metadata": {
    "collapsed": true
   },
   "outputs": [],
   "source": []
  },
  {
   "cell_type": "code",
   "execution_count": null,
   "metadata": {
    "collapsed": true
   },
   "outputs": [],
   "source": []
  },
  {
   "cell_type": "code",
   "execution_count": null,
   "metadata": {
    "collapsed": true
   },
   "outputs": [],
   "source": []
  },
  {
   "cell_type": "markdown",
   "metadata": {},
   "source": [
    "Answer:"
   ]
  },
  {
   "cell_type": "code",
   "execution_count": null,
   "metadata": {
    "collapsed": true
   },
   "outputs": [],
   "source": []
  },
  {
   "cell_type": "code",
   "execution_count": null,
   "metadata": {
    "collapsed": true
   },
   "outputs": [],
   "source": []
  }
 ],
 "metadata": {
  "kernelspec": {
   "display_name": "R",
   "language": "R",
   "name": "ir"
  },
  "language_info": {
   "codemirror_mode": "r",
   "file_extension": ".r",
   "mimetype": "text/x-r-source",
   "name": "R",
   "pygments_lexer": "r",
   "version": "3.3.2"
  }
 },
 "nbformat": 4,
 "nbformat_minor": 2
}
