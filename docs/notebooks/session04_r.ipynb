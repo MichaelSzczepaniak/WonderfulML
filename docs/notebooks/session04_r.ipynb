{
 "cells": [
  {
   "cell_type": "markdown",
   "metadata": {},
   "source": [
    "## The Wonderful World of ML - Session 4 Assignment: Logistic Regression & Regularization"
   ]
  },
  {
   "cell_type": "markdown",
   "metadata": {},
   "source": [
    "### Problem 1 - Extend Logistic Regression Model From Session 3"
   ]
  },
  {
   "cell_type": "markdown",
   "metadata": {},
   "source": [
    "In the solutions notebook for session 3, we ran a logistic regression on 2016 Broncos data.  We found that when we added the **Home** variable, the coefficient on this variable was not significantly different from 0, so we left it out of our model.\n",
    "\n",
    "In this problem, we're going to do a little feature engineering and add a variable called **YrdsDiff** which is computed by taking the difference of offensive yards minus defensive yards.  Try the following:\n",
    "\n",
    "1) Read in the revised dataset that includes offensive and defensive stats.  Treat all interger variables as continuous and rebuild the logistic regression model using just the Broncos scare and call this  model **logRegBroncos1**.\n",
    "\n",
    "2) Create a new column in the dataframe called **YrdsDiff** and populate that column with the difference of offensive yards minus defensive yards.  Build a new model using **DenWin** and the new **YrdsDiff** variable and call this model **logRegBroncos3**.\n",
    "\n",
    "3) Is the coefficient for the new **YrdsDiff** variable significantly different from 0 to justify adding it to our final model?  Why / Why not?\n",
    "\n",
    "4) What does the difference in the values for AIC for **logRegBroncos** and **logRegBroncos3** suggest?"
   ]
  },
  {
   "cell_type": "code",
   "execution_count": 27,
   "metadata": {},
   "outputs": [
    {
     "data": {
      "text/html": [
       "<table>\n",
       "<thead><tr><th scope=col>Date</th><th scope=col>Week</th><th scope=col>DenScore</th><th scope=col>OppScore</th><th scope=col>DenWin</th><th scope=col>Home</th><th scope=col>Off1stDwns</th><th scope=col>OffPassYrds</th><th scope=col>OffRushYrds</th><th scope=col>Def1stDwns</th><th scope=col>DefPassYrds</th><th scope=col>DefRushYrds</th><th scope=col>Notes</th></tr></thead>\n",
       "<tbody>\n",
       "\t<tr><td>09/08/2016</td><td>1         </td><td>21        </td><td>20        </td><td>1         </td><td>1         </td><td>21        </td><td>159       </td><td>148       </td><td>21        </td><td>176       </td><td>157       </td><td>          </td></tr>\n",
       "\t<tr><td>09/18/2016</td><td>2         </td><td>34        </td><td>20        </td><td>1         </td><td>1         </td><td>24        </td><td>266       </td><td>134       </td><td>19        </td><td>170       </td><td> 83       </td><td>          </td></tr>\n",
       "\t<tr><td>09/25/2016</td><td>3         </td><td>29        </td><td>17        </td><td>1         </td><td>0         </td><td>21        </td><td>303       </td><td> 52       </td><td>20        </td><td>189       </td><td>143       </td><td>          </td></tr>\n",
       "\t<tr><td>10/02/2016</td><td>4         </td><td>27        </td><td> 7        </td><td>1         </td><td>0         </td><td>22        </td><td>218       </td><td> 89       </td><td>15        </td><td>143       </td><td> 72       </td><td>          </td></tr>\n",
       "\t<tr><td>10/09/2016</td><td>5         </td><td>16        </td><td>23        </td><td>0         </td><td>1         </td><td>18        </td><td>183       </td><td> 84       </td><td>19        </td><td>250       </td><td>122       </td><td>          </td></tr>\n",
       "\t<tr><td>10/13/2016</td><td>6         </td><td>13        </td><td>21        </td><td>0         </td><td>0         </td><td>16        </td><td>220       </td><td> 84       </td><td>16        </td><td>166       </td><td> 99       </td><td>          </td></tr>\n",
       "</tbody>\n",
       "</table>\n"
      ],
      "text/latex": [
       "\\begin{tabular}{r|lllllllllllll}\n",
       " Date & Week & DenScore & OppScore & DenWin & Home & Off1stDwns & OffPassYrds & OffRushYrds & Def1stDwns & DefPassYrds & DefRushYrds & Notes\\\\\n",
       "\\hline\n",
       "\t 09/08/2016 & 1          & 21         & 20         & 1          & 1          & 21         & 159        & 148        & 21         & 176        & 157        &           \\\\\n",
       "\t 09/18/2016 & 2          & 34         & 20         & 1          & 1          & 24         & 266        & 134        & 19         & 170        &  83        &           \\\\\n",
       "\t 09/25/2016 & 3          & 29         & 17         & 1          & 0          & 21         & 303        &  52        & 20         & 189        & 143        &           \\\\\n",
       "\t 10/02/2016 & 4          & 27         &  7         & 1          & 0          & 22         & 218        &  89        & 15         & 143        &  72        &           \\\\\n",
       "\t 10/09/2016 & 5          & 16         & 23         & 0          & 1          & 18         & 183        &  84        & 19         & 250        & 122        &           \\\\\n",
       "\t 10/13/2016 & 6          & 13         & 21         & 0          & 0          & 16         & 220        &  84        & 16         & 166        &  99        &           \\\\\n",
       "\\end{tabular}\n"
      ],
      "text/markdown": [
       "\n",
       "Date | Week | DenScore | OppScore | DenWin | Home | Off1stDwns | OffPassYrds | OffRushYrds | Def1stDwns | DefPassYrds | DefRushYrds | Notes | \n",
       "|---|---|---|---|---|---|\n",
       "| 09/08/2016 | 1          | 21         | 20         | 1          | 1          | 21         | 159        | 148        | 21         | 176        | 157        |            | \n",
       "| 09/18/2016 | 2          | 34         | 20         | 1          | 1          | 24         | 266        | 134        | 19         | 170        |  83        |            | \n",
       "| 09/25/2016 | 3          | 29         | 17         | 1          | 0          | 21         | 303        |  52        | 20         | 189        | 143        |            | \n",
       "| 10/02/2016 | 4          | 27         |  7         | 1          | 0          | 22         | 218        |  89        | 15         | 143        |  72        |            | \n",
       "| 10/09/2016 | 5          | 16         | 23         | 0          | 1          | 18         | 183        |  84        | 19         | 250        | 122        |            | \n",
       "| 10/13/2016 | 6          | 13         | 21         | 0          | 0          | 16         | 220        |  84        | 16         | 166        |  99        |            | \n",
       "\n",
       "\n"
      ],
      "text/plain": [
       "  Date       Week DenScore OppScore DenWin Home Off1stDwns OffPassYrds\n",
       "1 09/08/2016 1    21       20       1      1    21         159        \n",
       "2 09/18/2016 2    34       20       1      1    24         266        \n",
       "3 09/25/2016 3    29       17       1      0    21         303        \n",
       "4 10/02/2016 4    27        7       1      0    22         218        \n",
       "5 10/09/2016 5    16       23       0      1    18         183        \n",
       "6 10/13/2016 6    13       21       0      0    16         220        \n",
       "  OffRushYrds Def1stDwns DefPassYrds DefRushYrds Notes\n",
       "1 148         21         176         157              \n",
       "2 134         19         170          83              \n",
       "3  52         20         189         143              \n",
       "4  89         15         143          72              \n",
       "5  84         19         250         122              \n",
       "6  84         16         166          99              "
      ]
     },
     "metadata": {},
     "output_type": "display_data"
    },
    {
     "data": {
      "text/plain": [
       "\n",
       "Call:\n",
       "glm(formula = broncos_data$DenWin ~ broncos_data$DenScore, family = \"binomial\")\n",
       "\n",
       "Deviance Residuals: \n",
       "    Min       1Q   Median       3Q      Max  \n",
       "-2.1947  -0.2699   0.2206   0.4761   1.2306  \n",
       "\n",
       "Coefficients:\n",
       "                      Estimate Std. Error z value Pr(>|z|)  \n",
       "(Intercept)            -7.0906     3.7653  -1.883   0.0597 .\n",
       "broncos_data$DenScore   0.3483     0.1702   2.047   0.0407 *\n",
       "---\n",
       "Signif. codes:  0 '***' 0.001 '**' 0.01 '*' 0.05 '.' 0.1 ' ' 1\n",
       "\n",
       "(Dispersion parameter for binomial family taken to be 1)\n",
       "\n",
       "    Null deviance: 21.930  on 15  degrees of freedom\n",
       "Residual deviance: 10.965  on 14  degrees of freedom\n",
       "AIC: 14.965\n",
       "\n",
       "Number of Fisher Scoring iterations: 6\n"
      ]
     },
     "metadata": {},
     "output_type": "display_data"
    }
   ],
   "source": [
    "data_path <- \"https://raw.githubusercontent.com/MichaelSzczepaniak/WonderfulML/master/data/broncos2016.csv\"\n",
    "broncos_data <- read.csv(data_path)\n",
    "head(broncos_data)\n",
    "logRegBroncos <- glm(broncos_data$DenWin ~ broncos_data$DenScore, family=\"binomial\")\n",
    "summary(logRegBroncos)"
   ]
  },
  {
   "cell_type": "code",
   "execution_count": 28,
   "metadata": {},
   "outputs": [
    {
     "data": {
      "text/plain": [
       "\n",
       "Call:\n",
       "glm(formula = broncos_data$DenWin ~ broncos_data$DenScore + broncos_data$YrdsDiff, \n",
       "    family = \"binomial\")\n",
       "\n",
       "Deviance Residuals: \n",
       "     Min        1Q    Median        3Q       Max  \n",
       "-1.49668  -0.07598   0.07638   0.35998   1.35019  \n",
       "\n",
       "Coefficients:\n",
       "                       Estimate Std. Error z value Pr(>|z|)\n",
       "(Intercept)           -15.94706   10.46565  -1.524    0.128\n",
       "broncos_data$DenScore   0.74469    0.47232   1.577    0.115\n",
       "broncos_data$YrdsDiff  -0.01815    0.01417  -1.281    0.200\n",
       "\n",
       "(Dispersion parameter for binomial family taken to be 1)\n",
       "\n",
       "    Null deviance: 21.9301  on 15  degrees of freedom\n",
       "Residual deviance:  8.6284  on 13  degrees of freedom\n",
       "AIC: 14.628\n",
       "\n",
       "Number of Fisher Scoring iterations: 7\n"
      ]
     },
     "metadata": {},
     "output_type": "display_data"
    }
   ],
   "source": [
    "suppressMessages(suppressWarnings(library(dplyr)))\n",
    "suppressMessages(suppressWarnings(library(stats)))\n",
    "suppressMessages(suppressWarnings(library(base)))\n",
    "suppressMessages(suppressWarnings(library(bindrcpp)))\n",
    "\n",
    "library(dplyr)\n",
    "\n",
    "broncos_data <- mutate(broncos_data, Delta1stDwns = Off1stDwns - Def1stDwns)\n",
    "broncos_data <- mutate(broncos_data, YrdsOffTotal = OffPassYrds + OffRushYrds)\n",
    "broncos_data <- mutate(broncos_data, YrdsDefTotal = DefPassYrds + DefRushYrds)\n",
    "broncos_data <- mutate(broncos_data, YrdsDiff = YrdsOffTotal - YrdsDefTotal)\n",
    "#broncos_data[, c('DenWin', 'YrdsDiff')]\n",
    "#broncos_data\n",
    "logRegBroncos3 <- glm(broncos_data$DenWin ~ broncos_data$DenScore + broncos_data$YrdsDiff, family=\"binomial\")\n",
    "summary(logRegBroncos3)"
   ]
  },
  {
   "cell_type": "markdown",
   "metadata": {
    "collapsed": true
   },
   "source": [
    "Adding **YrdsDiff** is not significantly zero at 95% confidence, but the AIC is a little lower.  AIC is proxy for test error, so it suggests that **logRegBroncos3** might be slightly better than **logRegBroncos**."
   ]
  },
  {
   "cell_type": "code",
   "execution_count": null,
   "metadata": {
    "collapsed": true
   },
   "outputs": [],
   "source": []
  },
  {
   "cell_type": "markdown",
   "metadata": {},
   "source": [
    "### Problem 2 - Add an L2 Weight Penalty"
   ]
  },
  {
   "cell_type": "markdown",
   "metadata": {},
   "source": [
    "In session 3, we discussed how we could employ shrinkage methods to lower our risk of overfitting.  Specifically, we discussed the effects of applying L1 (lasso) and L2 (ridge) penalties to regression models.  What we did not discuss, was that you can apply them to classification.  The basic motivation behind applying these methods for classification are similar to those behind applying them for regression: We want to minimize overfitting.\n",
    "\n",
    "These 2 videos (in the repo) from the University of Washington's [**Machine Learning: Classification** class on coursera](https://www.coursera.org/learn/ml-classification/home/welcome) (requires an account on coursera) do a really nice job of describing why and how to apply an L2 weight penalty to a logistic regression model:\n",
    "\n",
    "+ [Penalizing large coefficients to mitigate overfitting](https://github.com/MichaelSzczepaniak/WonderfulML/raw/master/docs/resources/010%20-%20Penalizing%20large%20coefficients%20to%20mitigate%20overfitting.mp4)\n",
    "+ [L2 Regularized Logistic Regression](https://github.com/MichaelSzczepaniak/WonderfulML/raw/master/docs/resources/011%20-%20L2%20regularized%20logistic%20regression.mp4)\n",
    "\n",
    "Let's see how an L2 weight penalty can help us.  Try this task:\n",
    "\n",
    "1) Read in this cleaned and truncated version of the [Titanic data set](https://raw.githubusercontent.com/MichaelSzczepaniak/WonderfulML/master/data/titanic_class_sex_age.csv).  A description of the data can be found in the [Data Dictionary section of this document](https://github.com/MichaelSzczepaniak/Jamatitanic/blob/master/data/titanic%20data%20dictionary.pdf).  After the read, split the data into 3 partitions: 400 training sample, 200 test sample, and 114 validation samples.  Use the code provided below to get started.\n",
    "\n",
    "2) Using just the training set, fit a logistic regression model starting with **Pclass** then adding **Age** and **Sex** if they are significantly non-zero and improve AIC.  What does an improvement in AIC look like (increase or decrease)? Why?\n",
    "\n",
    "3) Use the training and validation set to determine which of these 10 values of L2 weight penalty $\\lambda$ minimizes the negative log-likelihood cost function (same as maximizing the log-likelihood).  Use the following algorithm:\n"
   ]
  },
  {
   "cell_type": "code",
   "execution_count": 29,
   "metadata": {},
   "outputs": [
    {
     "data": {
      "text/html": [
       "<table>\n",
       "<thead><tr><th scope=col>PassengerId</th><th scope=col>Survived</th><th scope=col>Pclass</th><th scope=col>Name</th><th scope=col>Sex</th><th scope=col>Age</th></tr></thead>\n",
       "<tbody>\n",
       "\t<tr><td>1                                                  </td><td>0                                                  </td><td>3                                                  </td><td>Braund, Mr. Owen Harris                            </td><td>male                                               </td><td>22                                                 </td></tr>\n",
       "\t<tr><td>2                                                  </td><td>1                                                  </td><td>1                                                  </td><td>Cumings, Mrs. John Bradley (Florence Briggs Thayer)</td><td>female                                             </td><td>38                                                 </td></tr>\n",
       "\t<tr><td>3                                                  </td><td>1                                                  </td><td>3                                                  </td><td>Heikkinen, Miss. Laina                             </td><td>female                                             </td><td>26                                                 </td></tr>\n",
       "\t<tr><td>4                                                  </td><td>1                                                  </td><td>1                                                  </td><td>Futrelle, Mrs. Jacques Heath (Lily May Peel)       </td><td>female                                             </td><td>35                                                 </td></tr>\n",
       "\t<tr><td>5                                                  </td><td>0                                                  </td><td>3                                                  </td><td>Allen, Mr. William Henry                           </td><td>male                                               </td><td>35                                                 </td></tr>\n",
       "\t<tr><td>7                                                  </td><td>0                                                  </td><td>1                                                  </td><td>McCarthy, Mr. Timothy J                            </td><td>male                                               </td><td>54                                                 </td></tr>\n",
       "</tbody>\n",
       "</table>\n"
      ],
      "text/latex": [
       "\\begin{tabular}{r|llllll}\n",
       " PassengerId & Survived & Pclass & Name & Sex & Age\\\\\n",
       "\\hline\n",
       "\t 1                                                   & 0                                                   & 3                                                   & Braund, Mr. Owen Harris                             & male                                                & 22                                                 \\\\\n",
       "\t 2                                                   & 1                                                   & 1                                                   & Cumings, Mrs. John Bradley (Florence Briggs Thayer) & female                                              & 38                                                 \\\\\n",
       "\t 3                                                   & 1                                                   & 3                                                   & Heikkinen, Miss. Laina                              & female                                              & 26                                                 \\\\\n",
       "\t 4                                                   & 1                                                   & 1                                                   & Futrelle, Mrs. Jacques Heath (Lily May Peel)        & female                                              & 35                                                 \\\\\n",
       "\t 5                                                   & 0                                                   & 3                                                   & Allen, Mr. William Henry                            & male                                                & 35                                                 \\\\\n",
       "\t 7                                                   & 0                                                   & 1                                                   & McCarthy, Mr. Timothy J                             & male                                                & 54                                                 \\\\\n",
       "\\end{tabular}\n"
      ],
      "text/markdown": [
       "\n",
       "PassengerId | Survived | Pclass | Name | Sex | Age | \n",
       "|---|---|---|---|---|---|\n",
       "| 1                                                   | 0                                                   | 3                                                   | Braund, Mr. Owen Harris                             | male                                                | 22                                                  | \n",
       "| 2                                                   | 1                                                   | 1                                                   | Cumings, Mrs. John Bradley (Florence Briggs Thayer) | female                                              | 38                                                  | \n",
       "| 3                                                   | 1                                                   | 3                                                   | Heikkinen, Miss. Laina                              | female                                              | 26                                                  | \n",
       "| 4                                                   | 1                                                   | 1                                                   | Futrelle, Mrs. Jacques Heath (Lily May Peel)        | female                                              | 35                                                  | \n",
       "| 5                                                   | 0                                                   | 3                                                   | Allen, Mr. William Henry                            | male                                                | 35                                                  | \n",
       "| 7                                                   | 0                                                   | 1                                                   | McCarthy, Mr. Timothy J                             | male                                                | 54                                                  | \n",
       "\n",
       "\n"
      ],
      "text/plain": [
       "  PassengerId Survived Pclass\n",
       "1 1           0        3     \n",
       "2 2           1        1     \n",
       "3 3           1        3     \n",
       "4 4           1        1     \n",
       "5 5           0        3     \n",
       "6 7           0        1     \n",
       "  Name                                                Sex    Age\n",
       "1 Braund, Mr. Owen Harris                             male   22 \n",
       "2 Cumings, Mrs. John Bradley (Florence Briggs Thayer) female 38 \n",
       "3 Heikkinen, Miss. Laina                              female 26 \n",
       "4 Futrelle, Mrs. Jacques Heath (Lily May Peel)        female 35 \n",
       "5 Allen, Mr. William Henry                            male   35 \n",
       "6 McCarthy, Mr. Timothy J                             male   54 "
      ]
     },
     "metadata": {},
     "output_type": "display_data"
    }
   ],
   "source": [
    "data_all <- read.csv(\"https://raw.githubusercontent.com/MichaelSzczepaniak/WonderfulML/master/data/titanic_class_sex_age.csv\", na.strings = c(\"NA\", \"\"), stringsAsFactors = FALSE)\n",
    "data_all <- data_all[, c('PassengerId','Survived', 'Pclass', 'Name', 'Sex', 'Age')]\n",
    "head(data_all)"
   ]
  },
  {
   "cell_type": "code",
   "execution_count": 30,
   "metadata": {},
   "outputs": [
    {
     "data": {
      "text/html": [
       "<ol class=list-inline>\n",
       "\t<li>400</li>\n",
       "\t<li>200</li>\n",
       "\t<li>114</li>\n",
       "\t<li>714</li>\n",
       "</ol>\n"
      ],
      "text/latex": [
       "\\begin{enumerate*}\n",
       "\\item 400\n",
       "\\item 200\n",
       "\\item 114\n",
       "\\item 714\n",
       "\\end{enumerate*}\n"
      ],
      "text/markdown": [
       "1. 400\n",
       "2. 200\n",
       "3. 114\n",
       "4. 714\n",
       "\n",
       "\n"
      ],
      "text/plain": [
       "[1] 400 200 114 714"
      ]
     },
     "metadata": {},
     "output_type": "display_data"
    }
   ],
   "source": [
    "suppressMessages(suppressWarnings(library(caret)))\n",
    "suppressMessages(suppressWarnings(library(lattice)))\n",
    "suppressMessages(suppressWarnings(library(ggplot2)))\n",
    "suppressMessages(suppressWarnings(library(e1071)))\n",
    "\n",
    "library(caret)\n",
    "library(e1071)\n",
    "set.seed(711)\n",
    "\n",
    "# Factorize the discrete variables\n",
    "data_all$Survived <- factor(data_all$Survived)\n",
    "data_all$Sex <- factor(data_all$Sex)\n",
    "data_all$Pclass <- factor(data_all$Pclass)\n",
    "\n",
    "# Create training, validation, and test datasets\n",
    "train_test_indices <- sample(1:nrow(data_all), 600)\n",
    "valid_data <- data_all[-train_test_indices, ]     # 714 - 600 = 114 validation samples\n",
    "train_indices <- sample(train_test_indices, 400)  # 400 train samples\n",
    "test_indices <- setdiff(train_test_indices, train_indices)\n",
    "train_data <- data_all[train_indices, ]\n",
    "test_data <- data_all[test_indices, ]             # 200 test samples\n",
    "# Check: If train, test, and validation are disjoint, id_keys should have nrow(data_all) = 714 rows\n",
    "id_keys <- union(union(train_data$PassengerId, test_data$PassengerId), valid_data$PassengerId)\n",
    "c(nrow(train_data), nrow(test_data), nrow(valid_data), length(id_keys))"
   ]
  },
  {
   "cell_type": "code",
   "execution_count": 31,
   "metadata": {},
   "outputs": [
    {
     "data": {
      "text/plain": [
       "\n",
       "Call:\n",
       "glm(formula = Survived ~ Pclass, family = \"binomial\", data = train_data)\n",
       "\n",
       "Deviance Residuals: \n",
       "    Min       1Q   Median       3Q      Max  \n",
       "-1.4028  -0.7059  -0.7059   0.9860   1.7389  \n",
       "\n",
       "Coefficients:\n",
       "            Estimate Std. Error z value Pr(>|z|)    \n",
       "(Intercept)   0.5158     0.1998   2.581  0.00984 ** \n",
       "Pclass2      -0.1863     0.2861  -0.651  0.51488    \n",
       "Pclass3      -1.7785     0.2641  -6.734 1.65e-11 ***\n",
       "---\n",
       "Signif. codes:  0 '***' 0.001 '**' 0.01 '*' 0.05 '.' 0.1 ' ' 1\n",
       "\n",
       "(Dispersion parameter for binomial family taken to be 1)\n",
       "\n",
       "    Null deviance: 543.58  on 399  degrees of freedom\n",
       "Residual deviance: 480.43  on 397  degrees of freedom\n",
       "AIC: 486.43\n",
       "\n",
       "Number of Fisher Scoring iterations: 4\n"
      ]
     },
     "metadata": {},
     "output_type": "display_data"
    }
   ],
   "source": [
    "titanic_mod1 <- glm(Survived ~ Pclass, data=train_data, family=\"binomial\")\n",
    "summary(titanic_mod1)"
   ]
  },
  {
   "cell_type": "markdown",
   "metadata": {},
   "source": [
    "Significance of the intercept and **Pclass** slope look good.  Let's add **Age** and see what happens."
   ]
  },
  {
   "cell_type": "code",
   "execution_count": 32,
   "metadata": {},
   "outputs": [
    {
     "data": {
      "text/plain": [
       "\n",
       "Call:\n",
       "glm(formula = Survived ~ Pclass + Age, family = \"binomial\", data = train_data)\n",
       "\n",
       "Deviance Residuals: \n",
       "    Min       1Q   Median       3Q      Max  \n",
       "-2.1395  -0.8144  -0.5592   0.9203   2.4766  \n",
       "\n",
       "Coefficients:\n",
       "             Estimate Std. Error z value Pr(>|z|)    \n",
       "(Intercept)  2.270464   0.419155   5.417 6.07e-08 ***\n",
       "Pclass2     -0.520854   0.308600  -1.688   0.0915 .  \n",
       "Pclass3     -2.493670   0.321131  -7.765 8.15e-15 ***\n",
       "Age         -0.044378   0.008941  -4.963 6.92e-07 ***\n",
       "---\n",
       "Signif. codes:  0 '***' 0.001 '**' 0.01 '*' 0.05 '.' 0.1 ' ' 1\n",
       "\n",
       "(Dispersion parameter for binomial family taken to be 1)\n",
       "\n",
       "    Null deviance: 543.58  on 399  degrees of freedom\n",
       "Residual deviance: 452.79  on 396  degrees of freedom\n",
       "AIC: 460.79\n",
       "\n",
       "Number of Fisher Scoring iterations: 3\n"
      ]
     },
     "metadata": {},
     "output_type": "display_data"
    }
   ],
   "source": [
    "titanic_mod2 <- glm(Survived ~ Pclass + Age, data=train_data, family=\"binomial\")\n",
    "summary(titanic_mod2)"
   ]
  },
  {
   "cell_type": "markdown",
   "metadata": {},
   "source": [
    "All parameters appear significant and we got a small reduction in AIC, so it looks like we are going in the right direction.  Let's add our last parameter **Sex** and see what happens."
   ]
  },
  {
   "cell_type": "code",
   "execution_count": 33,
   "metadata": {},
   "outputs": [
    {
     "data": {
      "text/plain": [
       "\n",
       "Call:\n",
       "glm(formula = Survived ~ Pclass + Age + Sex, family = \"binomial\", \n",
       "    data = train_data)\n",
       "\n",
       "Deviance Residuals: \n",
       "    Min       1Q   Median       3Q      Max  \n",
       "-2.7544  -0.6141  -0.3442   0.5282   2.5527  \n",
       "\n",
       "Coefficients:\n",
       "            Estimate Std. Error z value Pr(>|z|)    \n",
       "(Intercept)  3.84730    0.54922   7.005 2.47e-12 ***\n",
       "Pclass2     -0.74882    0.37871  -1.977 0.048009 *  \n",
       "Pclass3     -2.54751    0.38901  -6.549 5.80e-11 ***\n",
       "Age         -0.03838    0.01034  -3.712 0.000206 ***\n",
       "Sexmale     -2.83001    0.29192  -9.695  < 2e-16 ***\n",
       "---\n",
       "Signif. codes:  0 '***' 0.001 '**' 0.01 '*' 0.05 '.' 0.1 ' ' 1\n",
       "\n",
       "(Dispersion parameter for binomial family taken to be 1)\n",
       "\n",
       "    Null deviance: 543.58  on 399  degrees of freedom\n",
       "Residual deviance: 333.29  on 395  degrees of freedom\n",
       "AIC: 343.29\n",
       "\n",
       "Number of Fisher Scoring iterations: 5\n"
      ]
     },
     "metadata": {},
     "output_type": "display_data"
    }
   ],
   "source": [
    "titanic_mod3 <- glm(Survived ~ Pclass + Age + Sex, data=train_data, family=\"binomial\")\n",
    "summary(titanic_mod3)"
   ]
  },
  {
   "cell_type": "markdown",
   "metadata": {},
   "source": [
    "All parameters are still significant and we got an even bigger reduction in AIC, so let's see how this model does on the validation set."
   ]
  },
  {
   "cell_type": "code",
   "execution_count": 34,
   "metadata": {
    "scrolled": false
   },
   "outputs": [
    {
     "data": {
      "text/html": [
       "0.815789473684211"
      ],
      "text/latex": [
       "0.815789473684211"
      ],
      "text/markdown": [
       "0.815789473684211"
      ],
      "text/plain": [
       "[1] 0.8157895"
      ]
     },
     "metadata": {},
     "output_type": "display_data"
    }
   ],
   "source": [
    "# retrain using caret interface for easier evaluation\n",
    "titanic_mod3 <- train(Survived ~ Pclass + Age + Sex, method='glm', data=train_data, family=\"binomial\")\n",
    "mod3_valid_results <- predict(titanic_mod3, newdata=valid_data)\n",
    "mod3_valid_acc <- sum(mod3_valid_results == valid_data$Survived) / nrow(valid_data)\n",
    "mod3_valid_acc"
   ]
  },
  {
   "cell_type": "markdown",
   "metadata": {},
   "source": [
    "Not too bad, now lets manually implement a search for an L2 weight penalty."
   ]
  },
  {
   "cell_type": "code",
   "execution_count": null,
   "metadata": {
    "collapsed": true
   },
   "outputs": [],
   "source": []
  },
  {
   "cell_type": "code",
   "execution_count": null,
   "metadata": {
    "collapsed": true
   },
   "outputs": [],
   "source": []
  },
  {
   "cell_type": "code",
   "execution_count": null,
   "metadata": {
    "collapsed": true
   },
   "outputs": [],
   "source": []
  },
  {
   "cell_type": "markdown",
   "metadata": {},
   "source": [
    "$$\\newcommand{\\xv}{\\mathbf{x}}\n",
    "\\newcommand{\\Xv}{\\mathbf{X}}\n",
    "\\newcommand{\\yv}{\\mathbf{y}}\n",
    "\\newcommand{\\Yv}{\\mathbf{Y}}\n",
    "\\newcommand{\\zv}{\\mathbf{z}}\n",
    "\\newcommand{\\av}{\\mathbf{a}}\n",
    "\\newcommand{\\Wv}{\\mathbf{W}}\n",
    "\\newcommand{\\wv}{\\mathbf{w}}\n",
    "\\newcommand{\\betav}{\\mathbf{\\beta}}\n",
    "\\newcommand{\\gv}{\\mathbf{g}}\n",
    "\\newcommand{\\Hv}{\\mathbf{H}}\n",
    "\\newcommand{\\dv}{\\mathbf{d}}\n",
    "\\newcommand{\\Vv}{\\mathbf{V}}\n",
    "\\newcommand{\\vv}{\\mathbf{v}}\n",
    "\\newcommand{\\tv}{\\mathbf{t}}\n",
    "\\newcommand{\\Tv}{\\mathbf{T}}\n",
    "\\newcommand{\\Sv}{\\mathbf{S}}\n",
    "\\newcommand{\\zv}{\\mathbf{z}}\n",
    "\\newcommand{\\Zv}{\\mathbf{Z}}\n",
    "\\newcommand{\\Norm}{\\mathcal{N}}\n",
    "\\newcommand{\\muv}{\\boldsymbol{\\mu}}\n",
    "\\newcommand{\\sigmav}{\\boldsymbol{\\sigma}}\n",
    "\\newcommand{\\phiv}{\\boldsymbol{\\phi}}\n",
    "\\newcommand{\\Phiv}{\\boldsymbol{\\Phi}}\n",
    "\\newcommand{\\Sigmav}{\\boldsymbol{\\Sigma}}\n",
    "\\newcommand{\\Lambdav}{\\boldsymbol{\\Lambda}}\n",
    "\\newcommand{\\half}{\\frac{1}{2}}\n",
    "\\newcommand{\\argmax}[1]{\\underset{#1}{\\operatorname{argmax}}}\n",
    "\\newcommand{\\argmin}[1]{\\underset{#1}{\\operatorname{argmin}}}\n",
    "\\newcommand{\\dimensionbar}[1]{\\underset{#1}{\\operatorname{|}}}\n",
    "\\newcommand{\\dimensionbar}[1]{\\underset{#1}{\\operatorname{|}}}\n",
    "\\newcommand{\\grad}{\\mathbf{\\nabla}}\n",
    "\\newcommand{\\ebx}[1]{e^{\\wv_{#1}^T \\xv_n}}\n",
    "\\newcommand{\\eby}[1]{e^{y_{n,#1}}}\n",
    "\\newcommand{\\Tiv}{\\mathbf{Ti}}\n",
    "\\newcommand{\\Fv}{\\mathbf{F}}\n",
    "\\newcommand{\\ones}[1]{\\mathbf{1}_{#1}}\n",
    "$$"
   ]
  },
  {
   "cell_type": "markdown",
   "metadata": {
    "collapsed": true
   },
   "source": [
    "## The Wonderful World of ML - Session 4 Discussion: \n",
    "## Linear & Quadratic Discriminant Analysis (LDA & QDA)"
   ]
  },
  {
   "cell_type": "markdown",
   "metadata": {
    "collapsed": true
   },
   "source": [
    "In logistic regression, we were fitting a function directly to our probablity of a certain class given the data or $P(C_n=k\\,|\\, \\xv_n)$ where $C_n=\\text{class of } n^\\text{th}\\text{ sample}$.  In LDA and QDA, we do something a little different.  We start by modeling the likelihood of the data within each class or $P(\\xv_n\\,|\\, C=k)$ and then use Bayes' Theorem (shown below) to compute the probability of a certain class given that data or $P(C_n=k\\,|\\, \\xv_n)$.\n",
    "\n",
    "(1)$$\n",
    "\tP(C=k|x) = \\frac{P(x|C=k) P(C=k)}{P(x)}\n",
    "$$\n",
    "\n",
    "This seems a little cumbersome doesn't it?  Can you think of any reasons why we would want to do this?"
   ]
  },
  {
   "cell_type": "markdown",
   "metadata": {
    "collapsed": true
   },
   "source": []
  },
  {
   "cell_type": "markdown",
   "metadata": {
    "collapsed": true
   },
   "source": [
    "Well, if we think about this a little, we might realize that we typically can observe how the data is distributed within a class (sometimes referred to as \"the likelihood of the data\") which is the $p(\\xv_n\\,|\\, C=k)$ term.  We might then conclude that it is natural to use these distributions within each class to infer the actual class from the data.\n",
    "\n",
    "In order to make use of (1), we need to make a important assumption about the probability distribution of a data sample from each class to define $P(\\xv_n\\,|\\, C=k)$.  A common assumption is that this distribution is Normal with mean $\\mu_k$ and covariance matrix $\\Sigma_k$.  This assumption allows $P(\\xv_n\\,|\\, C=k)$ to be expressed using the common relationship for the d-dimensional Guassian distribution as shown in equation (2).\n",
    "\n",
    "(2)$$\n",
    "P(x|C=k) = \\frac{1}{(2\\pi)^{\\frac{p}{2}} |\\Sigma_k|^{\\frac{1}{2}}}\n",
    "e^{-\\frac{1}{2}(x-\\mu_k)^T \\Sigma_k^{-1} (x-\\mu_k)}\n",
    "$$\n",
    "\n",
    "\n"
   ]
  },
  {
   "cell_type": "markdown",
   "metadata": {
    "collapsed": true
   },
   "source": [
    "To classify $x$ as being from Class 1 in a two-class discrimination problem, we must check to see if  $P(C=1 | x) > P(C=2 | x)$ is true.  Rewriting each side of the inequality using Bayes' Theorem we get equation (3).\n",
    "\n",
    "(3)$$\n",
    "P(x|C=1) P(C=1) / P(x) > P(x|C=2)P(C=2)/P(x)\n",
    "$$\n",
    "\n",
    "Since $P(x)$ is positive, it can be removed from each side.  And since we have defined $P(x|C=k)$ to be a Normal distribution involving an exponential, we can take the logarithm and expand both sides as shown in equations (4) and (5).\n",
    "\n",
    "(4)$$\n",
    "\\log( P(x|C=1) P(C=1)) > \\log( P(x|C=2) P(C=2))\n",
    "$$\n",
    "\n",
    "(5)$$\n",
    "\\log( P(x|C=1)) + \\log( P(C=1)) > \\log( P(x|C=2)) + \\log( P(C=2))\n",
    "$$\n",
    "\n",
    "If we substitute equation (2) into (5) and simplify, the left side of the inequality would look like what is shown in (6) and the right side would look like what is shown in (7).\n",
    "\n",
    "(6)$$\n",
    "-\\frac{1}{2} \\log |\\Sigma_1| -\\frac{1}{2}(x-\\mu_1)^T \\Sigma_1^{-1} (x-\\mu_1) + \\log P(C=1)\n",
    "$$\n",
    "\n",
    "(7)$$\n",
    "-\\frac{1}{2} \\log |\\Sigma_2| -\\frac{1}{2}(x-\\mu_2)^T \\Sigma_2^{-1} (x-\\mu_2) + \\log P(C=2)\n",
    "$$\n",
    "\n",
    "If we define each side of this inequality as a discriminant function, $\\delta(x)$ for\n",
    "Class 1 or 2, then, in general\n",
    "\n",
    "(8)$$\n",
    "\\delta_k(x) = -\\frac{1}{2} \\log |\\Sigma_k| -\\frac{1}{2}(x-\\mu_k)^T\n",
    "\\Sigma_k^{-1} (x-\\mu_k) + \\log P(C=k)\n",
    "$$\n",
    "\n",
    "and the class of a new sample $x$ is $argmax_k \\delta_k(x)$.  Notice\n",
    "that the boundary between Class 1 and Class 2 is the set of points $x$\n",
    "for which $\\delta_1(x) = \\delta_2(x)$.  Substituting in the definitions of these discriminant functions we see that this equation is quadratic in $x$, meaning that the boundary between Class 1 and 2 is quadratic.  We have just defined **Quadratic Discriminant Analysis**, or **QDA**.  "
   ]
  },
  {
   "cell_type": "markdown",
   "metadata": {},
   "source": [
    "In order to apply QDA to a given sets of data samples $X_1, X_2, \\ldots, X_K$ from Classes $1, 2, \\dots, K$, we must compute the likelihood and prior terms: $P(x|C=k)$ and $P(C=k)$ respectively, using (9), (10), and (11):\n",
    "\n",
    "(9)$$\n",
    "\\mu_k = \\frac{1}{N_k} \\sum_{x \\in X_k} x\n",
    "$$\n",
    "\n",
    "(10)$$\n",
    "\\Sigma_k = \\frac{1}{N_k-1} \\sum_{x\\in X_k} (x-\\mu_k) (x-\\mu_k)^T\n",
    "$$\n",
    "\n",
    "(11)$$\n",
    "P(C=k) = \\frac{N_k}{N}\n",
    "$$\n",
    "\n",
    "where $N_k$ is the number of samples in $X_k$ and $N$ is the number of all samples."
   ]
  },
  {
   "cell_type": "markdown",
   "metadata": {},
   "source": [
    "### Linear Discriminant Analysis (LDA)"
   ]
  },
  {
   "cell_type": "markdown",
   "metadata": {},
   "source": [
    "LDA is derived in the same way as QDA with the additional assumption that the variance within each class are equal.  Making this additional assumption allows us to simplify the terms in (6) and (7) defined on both sides inequality as shown in equation (12).\n",
    "\n",
    "(12)$$\n",
    "x^T \\Sigma^{-1} \\mu_1 - \\frac{1}{2}\\mu_1^T \\Sigma^{-1} \\mu_1 + \\log P(C=1) >\n",
    "x^T \\Sigma^{-1} \\mu_2 - \\frac{1}{2}\\mu_2^T \\Sigma^{-1} \\mu_2 + \\log P(C=2)\n",
    "$$\n",
    "\n",
    "which results in the new discriminant defined in equation (13) which is the same as equation (4.19) in the ESL.\n",
    "\n",
    "(13)$$\n",
    "\\delta_k(x) = x^T \\Sigma^{-1} \\mu_k - \\frac{1}{2} \\mu_k^T \\Sigma^{-1} \\mu_k + \\log P(C=k)\n",
    "$$\n",
    "\n",
    "where the new effectively averaged covariance matrix is defined by (14).\n",
    "\n",
    "(14)$$\n",
    "\\Sigma = \\frac{1}{N-K} \\sum_{k=1}^K \\sum_{x\\in X_k}(x-\\mu_k)(x-\\mu_k)^T\n",
    "$$\n",
    "\n",
    "Like QDA, the maximum $\\delta_k(x)$ for a given $x$ determines the class."
   ]
  },
  {
   "cell_type": "markdown",
   "metadata": {},
   "source": [
    "Let's implement QDA and LDA on some 1 and 2-D sythetic data for illustration purposes.  After that, we'll take them for a spin on [an interesting real data set](http://archive.ics.uci.edu/ml/datasets/heart+Disease).  Let's start with QDA on 1-D data."
   ]
  },
  {
   "cell_type": "markdown",
   "metadata": {},
   "source": [
    "### 1-D QDA & LDA Visualizations On Synthetic Data"
   ]
  },
  {
   "cell_type": "markdown",
   "metadata": {},
   "source": [
    "#### QDA On 1-D Data"
   ]
  },
  {
   "cell_type": "code",
   "execution_count": 35,
   "metadata": {},
   "outputs": [
    {
     "data": {
      "image/png": "[encoded data removed]"
     },
     "metadata": {},
     "output_type": "display_data"
    }
   ],
   "source": [
    "# The following functions live in QdaLda.R:\n",
    "# priorPofC, classMeans, classCovars, mydnormm, deltQda, deltLda (used in the next section)\n",
    "source('../../R/QdaLda.R')  # assumes notebook running in ../WonderfulML/docs/solutions\n",
    "\n",
    "# Creates and returns a 1-D data table. nc = number of classes,\n",
    "# ms = the mean of the 1-D dataset, stds = std. deviation of the 1-D\n",
    "# data set.\n",
    "getData1D <- function(nc, ms, stds, seed=711) {\n",
    "    set.seed(seed)\n",
    "    data <- NULL\n",
    "\n",
    "    # create the data to classify\n",
    "    for (class in 1:nc) {\n",
    "        data <- rbind(data, cbind(rep(class, 10), rnorm(10,ms[class],stds)))\n",
    "    }\n",
    "    colnames(data) <- c(\"class\", \"sample\")\n",
    "\n",
    "    return(data)\n",
    "}\n",
    "\n",
    "plot1D_Training <- function(dat) {\n",
    "    plt <- plot(dat[,2],dat[,1],xlab=\"x (training data)\",ylab=\"class\",\n",
    "     main=c(\"Training Data with means=1,2,3\",\n",
    "            \"and standard deviation=0.1\"), axes=FALSE)\n",
    "    axis(1, seq(0,4,by=1.0))\n",
    "    axis(2, 1:4)\n",
    "    \n",
    "    return(plt)\n",
    "}\n",
    "\n",
    "# Creates a 3x2 panel of plots for the result of QDA on 1D synthetic data\n",
    "plotQda_1d <- function(class_means=c(1, 2, 3), class_stdevs=c(0.1, 0.1, 0.1)) {\n",
    "    # generate 3x2 plots for QDA evaluation\n",
    "    par(mfrow=c(3,2))  # adjust as plots are added\n",
    "    # generate and plot 1-D training data\n",
    "    xtrain <- getData1D(3, class_means, class_stdevs)\n",
    "    plot1D_Training(xtrain)\n",
    "\n",
    "    # generate sample 1-D test data\n",
    "    xtest <- matrix(seq(0,4,len=100),100,1)\n",
    "    Ntest <- length(xtest)\n",
    "    \n",
    "    # compute priors, class means, and class covariance matrices\n",
    "    pc <- priorPofC(xtrain)\n",
    "    muk <- classMeans(xtrain)\n",
    "    var <- classCovars(xtrain, muk) \n",
    "\n",
    "    # generate some sample 1-D test data\n",
    "    xtest <- matrix(seq(0,4,len=100),100,1)\n",
    "    Ntest <- length(xtest)\n",
    "\n",
    "    # calc & plot P(x|C=k) vs. x, start by eval'ing the first class\n",
    "    pxc <- xtest\n",
    "    pxc <- cbind(pxc, mydnormm(xtest, muk[1,], var[[1]]))\n",
    "    colnames(pxc)[] <- c(\"x\", \"pxc 1\")\n",
    "    plot(pxc[,1], pxc[,2], type=\"b\", xlim=c(0,4), ylim=c(0,5),\n",
    "         pch=paste(1), cex=0.7, main=c(\"P(x|C=k) vs. x (test data, N=100)\",\n",
    "         \"Using QDA class covariants\"),\n",
    "         xlab=\"x (test data)\", ylab=\"P(x|C=k)\")\n",
    "    \n",
    "    # now evaluate the remaining classes\n",
    "    for(class in 2:nclass){\n",
    "      #pxc <- cbind(pxc, data[which(data[,1]==class),2])\n",
    "      pcalcs <- mydnormm(xtest,muk[class,],var[[class]])\n",
    "      pxc <- cbind(pxc, pcalcs)\n",
    "      colnames(pxc)[ncol(pxc)] <- paste(\"pxc\", class)\n",
    "      points(pxc[,1],pxc[,class+1], type=\"b\",\n",
    "             pch=paste(class), cex=0.7)\n",
    "    }\n",
    "    \n",
    "    # calc & plot P(x) vs. x\n",
    "    ptable <- cbind(pxc, rep(0,Ntest))  # init P(x) in last col\n",
    "    pxcol <- ncol(ptable)               # set up P(x) column of values\n",
    "    colnames(ptable)[pxcol] <- \"pofx\"\n",
    "    for(class in 1:nclass)\n",
    "      ptable[,pxcol] <- ptable[,pxcol]+(pxc[,class+1]*pc[class])\n",
    "\n",
    "    plot(ptable[,1],ptable[,pxcol], type=\"b\",\n",
    "        main=c(\"P(x) vs. x (test data, N=100)\",\n",
    "               \"Using QDA class covariants\"),\n",
    "               xlab=\"x (test data)\", ylab=\"P(x)\")\n",
    "\n",
    "    # calc & plot P(C|x) vs. x\n",
    "    for(class in 1:nclass) {\n",
    "      pcx <- ptable[,class+1] * pc[class] / ptable[,nclass+2]\n",
    "      ptable <- cbind(ptable, pcx)\n",
    "      colnames(ptable)[ncol(ptable)] <- paste(\"pcx\", class)\n",
    "    }\n",
    "    pcx1col <- nclass + 3\n",
    "    pcxkcol <- pcx1col + (nclass - 1)\n",
    "    matplot(ptable[,1],ptable[,pcx1col:pcxkcol], type=\"b\", cex=0.7,\n",
    "           main=c(\"P(C=k|x) vs. x (test data, N=100)\",\n",
    "           \"Using QDA class covariants\"),\n",
    "           xlab=\"x (test data)\", ylab=\"P(C=k|x)\")\n",
    "        \n",
    "    # calc & plot little delta(x) QDA disciminant vs. x\n",
    "    dx <- deltQda(xtest, Ntest, nclass, pc, muk, var)\n",
    "    dx <- cbind(xtest,dx)\n",
    "    matplot(dx[,1], dx[,2:ncol(dx)], ylim=c(-300,0), cex=0.7,\n",
    "            main=c(\"QDA discriminant vs. x (test data, N=100)\",\n",
    "            \"Using QDA class covariants\"),\n",
    "            xlab=\"x (test data)\", ylab=\"deltak(x)\")\n",
    "\n",
    "    # do the QDA classification and plot the results\n",
    "    classif <- dx\n",
    "    classif <- cbind(classif, rep(0,nrow(classif)))\n",
    "    colnames(classif) <- c(\"x\", paste(\"dx\", 1:nclass), \"class\")\n",
    "    for(rw in 1:nrow(classif))\n",
    "      classif[rw,ncol(classif)] <- which.max(classif[rw,2:(ncol(classif)-1)])\n",
    "\n",
    "    plot(classif[,1],classif[,ncol(classif)],\n",
    "        xlab=\"x (test data)\",ylab=\"class\",\n",
    "        main=c(\"Test Data Classifications\",\n",
    "        \"Quadratic Discriminant\"), axes=FALSE)\n",
    "    axis(1, seq(0,4,by=0.5))\n",
    "    axis(2, 1:4)\n",
    "}\n",
    "\n",
    "plotQda_1d()"
   ]
  },
  {
   "cell_type": "markdown",
   "metadata": {},
   "source": [
    "#### LDA On 1-D Data"
   ]
  },
  {
   "cell_type": "code",
   "execution_count": 36,
   "metadata": {
    "scrolled": false
   },
   "outputs": [
    {
     "data": {
      "image/png": "[encoded data removed]"
     },
     "metadata": {},
     "output_type": "display_data"
    }
   ],
   "source": [
    "# plot the 1-D LDA results\n",
    "plotLda_1d <- function(class_means=c(1, 2, 3), class_stdevs=c(0.1, 0.1, 0.1)) {\n",
    "    # generate 3x2 plots for LDA evaluation\n",
    "    par(mfrow=c(3,2))  # adjust as plots are added\n",
    "    # generate and plot 1-D training data\n",
    "    xtrain <- getData1D(3, class_means, class_stdevs)\n",
    "    plot1D_Training(xtrain)\n",
    "\n",
    "    # generate sample 1-D test data\n",
    "    xtest <- matrix(seq(0,4,len=100),100,1)\n",
    "    Ntest <- length(xtest)\n",
    "\n",
    "    # calculate priors and class means\n",
    "    pc <- priorPofC(xtrain)\n",
    "    muk <- classMeans(xtrain)\n",
    "    # compute the average covariance matrix if data is 2 or more dimensions\n",
    "    # single average variance value if data is 1 dimensional\n",
    "    var <- AvgLdaCovar(xtrain)\n",
    "\n",
    "    # generate some sample 1-D test data\n",
    "    xtest <- matrix(seq(0,4,len=100),100,1)\n",
    "    Ntest <- length(xtest)\n",
    "\n",
    "    # calc & plot P(x|C=k) vs. x, start by eval'ing the first class\n",
    "    pxc <- xtest\n",
    "    pxc <- cbind(pxc, mydnormm(xtest, muk[1,], var))\n",
    "    colnames(pxc)[] <- c(\"x\", \"pxc 1\")\n",
    "    plot(pxc[,1],pxc[,2],type=\"b\", xlim=c(0,4), ylim=c(0,5),\n",
    "         pch=paste(1), cex=0.7,\n",
    "         main=c(\"P(x|C=k) vs. x (test data, N=100)\",\n",
    "         \"Using single avg. LDA covariant\"),\n",
    "         xlab=\"x (test data)\", ylab=\"P(x|C=k)\")\n",
    "\n",
    "    # now evaluate the remaining classes\n",
    "    for(class in 2:nclass){\n",
    "        #pxc <- cbind(pxc, data[which(data[,1]==class),2])\n",
    "        pcalcs <- mydnormm(xtest,muk[class,], var)\n",
    "        pxc <- cbind(pxc, pcalcs)\n",
    "        colnames(pxc)[ncol(pxc)] <- paste(\"pxc\", class)\n",
    "        points(pxc[,1], pxc[,class+1], type=\"b\",\n",
    "             pch=paste(class), cex=0.7)\n",
    "    }\n",
    "\n",
    "    # calc & plot P(x) vs. x\n",
    "    ptable <- cbind(pxc, rep(0,Ntest))  # init P(x) in last col\n",
    "    pxcol <- ncol(ptable)               # set up P(x) column of values\n",
    "    colnames(ptable)[pxcol] <- \"pofx\"\n",
    "    for(class in 1:nclass)\n",
    "        ptable[,pxcol] <- ptable[,pxcol]+(pxc[,class+1]*pc[class])\n",
    "\n",
    "    plot(ptable[,1],ptable[,pxcol], type=\"b\",\n",
    "         main=c(\"P(x) vs. x (test data, N=100)\",\n",
    "         \"Using single avg. LDA covariant\"),\n",
    "         xlab=\"x (test data)\", ylab=\"P(x)\")\n",
    "\n",
    "\n",
    "    # calc & plot P(C|x) vs. x\n",
    "    for(class in 1:nclass) {\n",
    "        pcx <- ptable[,class+1] * pc[class] / ptable[,nclass+2]\n",
    "        ptable <- cbind(ptable, pcx)\n",
    "        colnames(ptable)[ncol(ptable)] <- paste(\"pcx\", class)\n",
    "    }\n",
    "    pcx1col <- nclass + 3\n",
    "    pcxkcol <- pcx1col + (nclass - 1)\n",
    "    matplot(ptable[,1],ptable[,pcx1col:pcxkcol], type=\"b\", cex=0.7,\n",
    "            main=c(\"P(C=k|x) vs. x (test data, N=100)\",\n",
    "            \"Using single avg. LDA covariant\"),\n",
    "            xlab=\"x (test data)\", ylab=\"P(C=k|x)\")\n",
    "\n",
    "\n",
    "    # calc & plot little delta(x) LDA disciminant vs. x\n",
    "    dx <- deltLda(xtest, Ntest, nclass, pc, muk, var)\n",
    "    dx <- cbind(xtest,dx)\n",
    "    matplot(dx[,1],dx[,2:ncol(dx)],cex=0.7,\n",
    "            main=c(\"LDA discriminant vs. x (test data, N=100)\",\n",
    "            \"Using single avg. LDA covariant\"),\n",
    "            xlab=\"x (test data)\", ylab=\"deltak(x)\")\n",
    "\n",
    "\n",
    "    # do the LDA classification and plot the results\n",
    "    classif <- dx\n",
    "    classif <- cbind(classif, rep(0,nrow(classif)))\n",
    "    colnames(classif) <- c(\"x\", paste(\"dx\", 1:nclass), \"class\")\n",
    "    for(rw in 1:nrow(classif))\n",
    "        classif[rw,ncol(classif)] <- which.max(classif[rw,2:(ncol(classif)-1)])\n",
    "\n",
    "    plot(classif[,1],classif[,ncol(classif)],\n",
    "         xlab=\"x (test data)\",ylab=\"class\",\n",
    "         main=c(\"Test Data Classifications\",\n",
    "         \"Linear Discriminant\"), axes=FALSE)\n",
    "\n",
    "    axis(1, seq(0,4,by=0.5))\n",
    "    axis(2, 1:4)\n",
    "}\n",
    "\n",
    "plotLda_1d()"
   ]
  },
  {
   "cell_type": "markdown",
   "metadata": {},
   "source": [
    "### 2-D QDA & LDA Visualizations On Synthetic Data\n",
    "\n",
    "In this section we'll generate 2 datasets for each analysis: one nice and one naughty.  The plotting code used to generate the plots in this section has been considated into it's own source in order.  It's all checked into the repo if you want to see these details.\n",
    "\n",
    "#### 2-D QDA On Nice Data\n",
    "\n",
    "The first dataset will be *nice* meaning that it is seperable in 2-D space.  Notice the upper left plot."
   ]
  },
  {
   "cell_type": "code",
   "execution_count": 37,
   "metadata": {},
   "outputs": [
    {
     "data": {
      "image/png": "[encoded data removed]",
      "text/plain": [
       "Plot with title \"QDA Classification\""
      ]
     },
     "metadata": {},
     "output_type": "display_data"
    }
   ],
   "source": [
    "# The Qda2dPlotting.R source file needs function from QdaLda.R, so you may need to change\n",
    "# the first source line in QdaLda2DPlots.R so it can find QdaLda.R\n",
    "source('../../R/QdaLda2DPlots.R')  # assumes notebook running in ../WonderfulML/docs/solutions\n",
    "plotQda_2d()"
   ]
  },
  {
   "cell_type": "markdown",
   "metadata": {},
   "source": [
    "#### 2-D QDA On Naughty Data\n",
    "\n",
    "Let's take a look at a data that is \"naughty\" (not seperable in 2-D).  Notice the overlapping of the class data in the plot in the upper left."
   ]
  },
  {
   "cell_type": "code",
   "execution_count": 38,
   "metadata": {},
   "outputs": [
    {
     "data": {
      "image/png": "[encoded data removed]",
      "text/plain": [
       "Plot with title \"QDA Classification\""
      ]
     },
     "metadata": {},
     "output_type": "display_data"
    }
   ],
   "source": [
    "plotQda_2d(1)  # any number not 0 will be naughty data"
   ]
  },
  {
   "cell_type": "markdown",
   "metadata": {
    "collapsed": true
   },
   "source": [
    "#### 2-D LDA On Nice Data"
   ]
  },
  {
   "cell_type": "code",
   "execution_count": 39,
   "metadata": {},
   "outputs": [
    {
     "data": {
      "image/png": "[encoded data removed]",
      "text/plain": [
       "Plot with title \"Classification of Test Data\""
      ]
     },
     "metadata": {},
     "output_type": "display_data"
    }
   ],
   "source": [
    "plotLda_2d()"
   ]
  },
  {
   "cell_type": "markdown",
   "metadata": {
    "collapsed": true
   },
   "source": [
    "#### 2-D LDA On Naughty Data"
   ]
  },
  {
   "cell_type": "code",
   "execution_count": 40,
   "metadata": {},
   "outputs": [
    {
     "data": {
      "image/png": "[encoded data removed]",
      "text/plain": [
       "Plot with title \"Classification of Test Data\""
      ]
     },
     "metadata": {},
     "output_type": "display_data"
    }
   ],
   "source": [
    "plotLda_2d(1)"
   ]
  },
  {
   "cell_type": "markdown",
   "metadata": {},
   "source": [
    "### Applying LDA and QDA on Cleveland Heart Data (CHD)\n",
    "\n",
    "In this section, we'll take our LDA and QDA models out for a spin on some real data.  The plots below shows the results of the 2-dimensional analysis of the CHD using LDA and QDA.  First, we need to do a little clean up of the data.  The last column (14) hold the targets designated 0-4.  As [described in the documentation](https://raw.githubusercontent.com/MichaelSzczepaniak/WonderfulML/master/data/cleveland_heart_disease_data_description.txt), 0 indicates no presence of heart disease, while values from 1 to 4 indicate varying degrees of heart disease.  To simply our analysis, we'll turn this into a binary classification problem and consider anything > 0 to indicate heart disease.\n",
    "\n",
    "In the intrest of brevity, I'll skip over much of the details of the EDA so we can focus on the classification itself.  Of the 13 predictors in the abbreviated dataset, the following 8 variables didn't appear to have any significant effect on heart disease (**dhd** target variable):  2. sex, 3. cp, 6. fbs, 7. restecg, 9. exang, 11. slope, 12. ca, 13. thal.  The number preceding the original variable name is the column in the abbreviated dataset, (e.g. column 2 for *sex*).\n",
    "\n",
    "A pairs plot of the remaining 5 predictors can be found [here](https://github.com/MichaelSzczepaniak/WonderfulML/raw/master/docs/graphics/chd_pairs_plot.jpg) and code used to create this plot can be found [here](https://raw.githubusercontent.com/MichaelSzczepaniak/WonderfulML/master/R/ClevelandHeartPairsPlot.R).  From the last last row of the pairs plot, the three factors that seemed to show some influence on **dhd** (renamed target variable, short for *detected heart disease*) were $\\texttt{age}$, $\\texttt{thalach}$ (abbreviated $\\texttt{thlch}$), and $\\texttt{oldpeak}$ (abbreviated $\\texttt{oldpk}$). The $\\texttt{age}$ and $\\texttt{oldpk}$ factors to positively correlate to $\\texttt{dhd}$, meaning that increases in these factors generally resulted in increase in $\\texttt{dhd}$.  The factor $\\texttt{thlch}$ appeared to correlate negatively.  From these observations, the three most prominant factors were reduces to two factors as follows:\n",
    "\n",
    "$$\n",
    "x_1 = \\frac{\\texttt{age}}{thlch}\n",
    "$$\n",
    "and\n",
    "$$  \n",
    "x_2 = \\frac{\\texttt{oldpk}+1}{(\\texttt{thlch})}\n",
    "$$"
   ]
  },
  {
   "cell_type": "markdown",
   "metadata": {},
   "source": [
    "### LDA Results On Test Set"
   ]
  },
  {
   "cell_type": "code",
   "execution_count": 41,
   "metadata": {},
   "outputs": [
    {
     "data": {
      "image/png": "[encoded data removed]"
     },
     "metadata": {},
     "output_type": "display_data"
    }
   ],
   "source": [
    "suppressMessages(suppressWarnings(library(repr)))\n",
    "library(repr)\n",
    "## Target column (dhd) is 14\n",
    "dpath <- \"https://raw.githubusercontent.com/MichaelSzczepaniak/WonderfulML/master/data/processed_cleveland_data.csv\"\n",
    "## Converts the 5 target categories in the CHD to 2: 1 = no heart disease, 2 = detected heart disease\n",
    "makeChdBinaryCats <- function(data_file=dpath) {\n",
    "    # read the original data\n",
    "    clevdat <- read.table(data_file, sep=',')\n",
    "    # clean up the data - remove rows with missing data\n",
    "    keep.rows <- apply(clevdat != \"?\",1,all)\n",
    "    clevdat <- clevdat[keep.rows,]\n",
    "    # group target classifications - assign 0 to class 1,\n",
    "    # assign 1-4 to class 2\n",
    "    for(rw in 1:nrow(clevdat)) {\n",
    "        if(clevdat[rw,14]==0)\n",
    "            clevdat[rw,14] <- 1\n",
    "        else if((clevdat[rw,3]==1)||(clevdat[rw,3] == 2))\n",
    "            clevdat[rw,14] <- 2\n",
    "        else if((clevdat[rw,3]==3)||(clevdat[rw,3] == 4))\n",
    "            clevdat[rw,14] <- 2\n",
    "    }\n",
    "    \n",
    "    # cull out vars I don't readily see a correl\n",
    "    clevdat <- clevdat[,c(-2:-3,-6,-7,-9,-11:-13)]\n",
    "    # rename remaining columns\n",
    "    colnames(clevdat) <- c(\"age\", \"restbp\", \"chol\", \"thlch\", \"oldpk\", \"dhd\")\n",
    "    \n",
    "    return(clevdat)\n",
    "}\n",
    "\n",
    "clev_dat <- makeChdBinaryCats()\n",
    "# create engineered variables x1 and x2 as describe in previous cell\n",
    "clev_dat <- cbind(clev_dat, clev_dat[,1]/clev_dat[,4])      # create and bind x1\n",
    "colnames(clev_dat)[ncol(clev_dat)] <- \"x1\"\n",
    "clev_dat <- cbind(clev_dat, (1+clev_dat[,5])/clev_dat[,4])  # create and bind x2\n",
    "colnames(clev_dat)[ncol(clev_dat)] <- \"x2\"\n",
    "            \n",
    "# partition data into 80% training, 20% test\n",
    "source('../../R/DataTools.R')  # for trainSetRows and testSetRows functions\n",
    "train_rows <- trainSetRows(clev_dat, 0.8)\n",
    "test_rows <- testSetRows(seq(1:nrow(clev_dat)), train_rows)\n",
    "xtrain <- as.matrix(clev_dat[train_rows, 6:8]) # class in 1st col after operation\n",
    "xtest_with_class <- as.matrix(clev_dat[test_rows,6:8])\n",
    "xtest <- as.matrix(clev_dat[test_rows,7:8])  # class removed, use to make predictions\n",
    "\n",
    "# compute 2D LDA discriminant parameters from training data\n",
    "nclass <- length(unique(xtrain[,1]))  # should only be 2\n",
    "pc <- priorPofC(xtrain)\n",
    "muk <- classMeans(xtrain)\n",
    "var <- AvgLdaCovar(xtrain)\n",
    "# compute 2D LDA discriminant function on the test data\n",
    "dx <- deltLda(xtest, Ntest, nclass, pc, muk, var)  # returns Nxd matrix\n",
    "dx <- cbind(xtest_with_class, dx) # dhd, x1, x2, delta_class1(x), delta_class2(x)\n",
    "# do the LDA classification and plot the results\n",
    "classif <- dx\n",
    "classif <- cbind(classif, rep(0,nrow(classif)))  # add 6th col to hold predicted class\n",
    "classif <- cbind(classif, rep(0,nrow(classif)))  # add 7th col to hold plotting label\n",
    "colnames(classif) <- c(\"dhd\", \"x1\", \"x2\", paste(\"dx\",1:nclass), \"predicted_dhd\", \"plot_lab\")\n",
    "# structure of classif: dhd (actual class) in 1st col, x1 in 2nd col, x2 in 3rd col,\n",
    "#                       delta_class1(x) in 4th col, delta_class2(x) in 5th col,\n",
    "#                       6th col to be populated with predicted dhd,\n",
    "#                       7th col to be populated with plotting label:\n",
    "# 1=correctly classify no disease, 2=correctly classify disease,\n",
    "# 3=classify disease but did NOT have disease (false positive, Type I error),\n",
    "# 4=classify no disease, but had disease (false negative, Type II error)\n",
    "symbols <- vector(mode = \"character\", length = nrow(classif))\n",
    "symbol_colors <- vector(mode = \"character\", length = nrow(classif))\n",
    "for(rw in 1:nrow(classif)) {\n",
    "    # populate predicted class column by max of discriminants in cols 4 and 5 = ncol(classif)-2\n",
    "    actual_class <- classif[rw, 1]\n",
    "    predicted_class <- which.max(classif[rw, 4:(ncol(classif)-2)])\n",
    "    classif[rw, ncol(classif)-1] <- predicted_class\n",
    "    if(predicted_class > actual_class) { # test for false positive\n",
    "        classif[rw, ncol(classif)] <- 3\n",
    "        symbols[rw] <- \"+\"\n",
    "        symbol_colors[rw] <- \"red\"\n",
    "    } else if(predicted_class < actual_class) { # test for false negative\n",
    "        classif[rw, ncol(classif)] <- 4\n",
    "        symbols[rw] <- \"O\"\n",
    "        symbol_colors[rw] <- \"black\"\n",
    "    } else {\n",
    "        # correct classification\n",
    "        classif[rw, ncol(classif)] <- predicted_class\n",
    "        if(predicted_class == 1) {\n",
    "            symbols[rw] <- \"1\"\n",
    "            symbol_colors[rw] <- \"green\"\n",
    "        } else {\n",
    "            symbols[rw] <- \"2\"\n",
    "            symbol_colors[rw] <- \"blue\"\n",
    "        }\n",
    "    }\n",
    "}\n",
    "\n",
    "    \n",
    "#symbol_colors\n",
    "#head(classif, 10)\n",
    "\n",
    "options(repr.plot.width=6, repr.plot.height=6)\n",
    "\n",
    "plot(classif[, 2], classif[, 3], col=symbol_colors, pch=symbols,\n",
    "     xlab=\"x1 = age/thalach\", ylab=\"x2 = (1+oldpk)/thalach\",\n",
    "     main=c(\"20% Testing Partition\", \"Catagorized by Linear DA\"))\n",
    "\n",
    "legend(\"topleft\", inset=0.05, title=\"Class Type\", c(\"Correct No HD\", \"Correct HD\", \"False 2+, (3)\", \"False 1-, (9)\"),\n",
    "       pch=c(\"1\", \"2\", \"+\", \"O\"), col=c(\"green\", \"blue\", \"red\", \"black\"))"
   ]
  },
  {
   "cell_type": "markdown",
   "metadata": {
    "collapsed": true
   },
   "source": [
    "### QDA Results On Test Set"
   ]
  },
  {
   "cell_type": "code",
   "execution_count": 42,
   "metadata": {},
   "outputs": [
    {
     "data": {
      "image/png": "[encoded data removed]"
     },
     "metadata": {},
     "output_type": "display_data"
    }
   ],
   "source": [
    "# compute 2D QDA discriminant parameters from training data\n",
    "nclass <- length(unique(xtrain[,1]))  # should only be 2\n",
    "pc <- priorPofC(xtrain)\n",
    "muk <- classMeans(xtrain)\n",
    "var <- classCovars(xtrain, muk)\n",
    "# compute 2D QDA discriminant function on the test data\n",
    "dx <- deltQda(xtest, Ntest, nclass, pc, muk, var)  # returns Nxd matrix\n",
    "dx <- cbind(xtest_with_class, dx) # dhd, x1, x2, delta_class1(x), delta_class2(x)\n",
    "# do the QDA classification and plot the results\n",
    "classif <- dx\n",
    "classif <- cbind(classif, rep(0,nrow(classif)))  # add 6th col to hold predicted class\n",
    "classif <- cbind(classif, rep(0,nrow(classif)))  # add 7th col to hold plotting label\n",
    "colnames(classif) <- c(\"dhd\", \"x1\", \"x2\", paste(\"dx\",1:nclass), \"predicted_dhd\", \"plot_lab\")\n",
    "# structure of classif: dhd (actual class) in 1st col, x1 in 2nd col, x2 in 3rd col,\n",
    "#                       delta_class1(x) in 4th col, delta_class2(x) in 5th col,\n",
    "#                       6th col to be populated with predicted dhd,\n",
    "#                       7th col to be populated with plotting label:\n",
    "# 1=correctly classify no disease, 2=correctly classify disease,\n",
    "# 3=classify disease but did NOT have disease (false positive, Type I error),\n",
    "# 4=classify no disease, but had disease (false negative, Type II error)\n",
    "symbols <- vector(mode = \"character\", length = nrow(classif))\n",
    "symbol_colors <- vector(mode = \"character\", length = nrow(classif))\n",
    "for(rw in 1:nrow(classif)) {\n",
    "    # populate predicted class column by max of discriminants in cols 4 and 5 = ncol(classif)-2\n",
    "    actual_class <- classif[rw, 1]\n",
    "    predicted_class <- which.max(classif[rw, 4:(ncol(classif)-2)])\n",
    "    classif[rw, ncol(classif)-1] <- predicted_class\n",
    "    if(predicted_class > actual_class) { # test for false positive\n",
    "        classif[rw, ncol(classif)] <- 3\n",
    "        symbols[rw] <- \"+\"\n",
    "        symbol_colors[rw] <- \"red\"\n",
    "    } else if(predicted_class < actual_class) { # test for false negative\n",
    "        classif[rw, ncol(classif)] <- 4\n",
    "        symbols[rw] <- \"O\"\n",
    "        symbol_colors[rw] <- \"black\"\n",
    "    } else {\n",
    "        # correct classification\n",
    "        classif[rw, ncol(classif)] <- predicted_class\n",
    "        if(predicted_class == 1) {\n",
    "            symbols[rw] <- \"1\"\n",
    "            symbol_colors[rw] <- \"green\"\n",
    "        } else {\n",
    "            symbols[rw] <- \"2\"\n",
    "            symbol_colors[rw] <- \"blue\"\n",
    "        }\n",
    "    }\n",
    "}\n",
    "\n",
    "    \n",
    "#symbol_colors\n",
    "#head(classif, 10)\n",
    "\n",
    "options(repr.plot.width=6, repr.plot.height=6)\n",
    "\n",
    "plot(classif[, 2], classif[, 3], col=symbol_colors, pch=symbols,\n",
    "     xlab=\"x1 = age/thalach\", ylab=\"x2 = (1+oldpk)/thalach\",\n",
    "     main=c(\"20% Testing Partition\", \"Catagorized by Quadradic DA\"))\n",
    "\n",
    "legend(\"topleft\", inset=0.05, title=\"Class Type\", c(\"Correct No HD\", \"Correct HD\", \"False 2+, (1)\", \"False 1-, (9)\"),\n",
    "       pch=c(\"1\", \"2\", \"+\", \"O\"), col=c(\"green\", \"blue\", \"red\", \"black\"))"
   ]
  },
  {
   "cell_type": "code",
   "execution_count": null,
   "metadata": {
    "collapsed": true
   },
   "outputs": [],
   "source": []
  },
  {
   "cell_type": "code",
   "execution_count": null,
   "metadata": {
    "collapsed": true
   },
   "outputs": [],
   "source": []
  },
  {
   "cell_type": "code",
   "execution_count": null,
   "metadata": {
    "collapsed": true
   },
   "outputs": [],
   "source": []
  },
  {
   "cell_type": "code",
   "execution_count": null,
   "metadata": {
    "collapsed": true
   },
   "outputs": [],
   "source": []
  },
  {
   "cell_type": "code",
   "execution_count": null,
   "metadata": {
    "collapsed": true
   },
   "outputs": [],
   "source": []
  }
 ],
 "metadata": {
  "kernelspec": {
   "display_name": "R",
   "language": "R",
   "name": "ir"
  },
  "language_info": {
   "codemirror_mode": "r",
   "file_extension": ".r",
   "mimetype": "text/x-r-source",
   "name": "R",
   "pygments_lexer": "r",
   "version": "3.3.2"
  }
 },
 "nbformat": 4,
 "nbformat_minor": 2
}
