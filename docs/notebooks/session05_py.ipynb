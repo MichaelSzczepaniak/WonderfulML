{
 "cells": [
  {
   "cell_type": "markdown",
   "metadata": {},
   "source": [
    "$$\\newcommand{\\xv}{\\mathbf{x}}\n",
    "\\newcommand{\\Xv}{\\mathbf{X}}\n",
    "\\newcommand{\\yv}{\\mathbf{y}}\n",
    "\\newcommand{\\Yv}{\\mathbf{Y}}\n",
    "\\newcommand{\\zv}{\\mathbf{z}}\n",
    "\\newcommand{\\av}{\\mathbf{a}}\n",
    "\\newcommand{\\Wv}{\\mathbf{W}}\n",
    "\\newcommand{\\wv}{\\mathbf{w}}\n",
    "\\newcommand{\\betav}{\\mathbf{\\beta}}\n",
    "\\newcommand{\\gv}{\\mathbf{g}}\n",
    "\\newcommand{\\Hv}{\\mathbf{H}}\n",
    "\\newcommand{\\dv}{\\mathbf{d}}\n",
    "\\newcommand{\\Vv}{\\mathbf{V}}\n",
    "\\newcommand{\\vv}{\\mathbf{v}}\n",
    "\\newcommand{\\tv}{\\mathbf{t}}\n",
    "\\newcommand{\\Tv}{\\mathbf{T}}\n",
    "\\newcommand{\\Sv}{\\mathbf{S}}\n",
    "\\newcommand{\\zv}{\\mathbf{z}}\n",
    "\\newcommand{\\Zv}{\\mathbf{Z}}\n",
    "\\newcommand{\\Norm}{\\mathcal{N}}\n",
    "\\newcommand{\\muv}{\\boldsymbol{\\mu}}\n",
    "\\newcommand{\\sigmav}{\\boldsymbol{\\sigma}}\n",
    "\\newcommand{\\phiv}{\\boldsymbol{\\phi}}\n",
    "\\newcommand{\\Phiv}{\\boldsymbol{\\Phi}}\n",
    "\\newcommand{\\Sigmav}{\\boldsymbol{\\Sigma}}\n",
    "\\newcommand{\\Lambdav}{\\boldsymbol{\\Lambda}}\n",
    "\\newcommand{\\half}{\\frac{1}{2}}\n",
    "\\newcommand{\\argmax}[1]{\\underset{#1}{\\operatorname{argmax}}}\n",
    "\\newcommand{\\argmin}[1]{\\underset{#1}{\\operatorname{argmin}}}\n",
    "\\newcommand{\\dimensionbar}[1]{\\underset{#1}{\\operatorname{|}}}\n",
    "\\newcommand{\\dimensionbar}[1]{\\underset{#1}{\\operatorname{|}}}\n",
    "\\newcommand{\\grad}{\\mathbf{\\nabla}}\n",
    "\\newcommand{\\ebx}[1]{e^{\\wv_{#1}^T \\xv_n}}\n",
    "\\newcommand{\\eby}[1]{e^{y_{n,#1}}}\n",
    "\\newcommand{\\Tiv}{\\mathbf{Ti}}\n",
    "\\newcommand{\\Fv}{\\mathbf{F}}\n",
    "\\newcommand{\\ones}[1]{\\mathbf{1}_{#1}}\n",
    "$$"
   ]
  },
  {
   "cell_type": "markdown",
   "metadata": {},
   "source": [
    "## The Wonderful World of ML - Session 5 Discussion: Trees"
   ]
  },
  {
   "cell_type": "markdown",
   "metadata": {},
   "source": [
    "Let's start by taking a look a couple of simple trees. The data for the tree in **Figure 1.A** was taken from the **ISLR** package in **R** and can be found [here](https://github.com/MichaelSzczepaniak/WonderfulML/raw/master/data/HittersISLR.csv) (1.).  The data for the tree in **Figure 1.B** was originally downloaded from [here](http://www-bcf.usc.edu/~gareth/ISL/Heart.csv), but it has been replicated [here](https://github.com/MichaelSzczepaniak/WonderfulML/raw/master/data/Heart.csv) in case the original link goes away.\n",
    "\n",
    "<img src=\"https://github.com/MichaelSzczepaniak/WonderfulML/raw/master/docs/graphics/Trees_03_Fig1.jpg\">"
   ]
  },
  {
   "cell_type": "markdown",
   "metadata": {},
   "source": [
    "**Figure 1.A** shows an example of a **regression tree**.  **Figure 1.B** shows an example of a **classification tree**.  While both of these trees are binary (only split 2 ways at each non-leaf node), they can contain more than 2 splits at any node as shown by the **Credit** node in **Figure 2.** below.\n",
    "\n",
    "<img src=\"https://github.com/MichaelSzczepaniak/WonderfulML/raw/master/docs/graphics/Trees_04_Fig2.jpg\">"
   ]
  },
  {
   "cell_type": "markdown",
   "metadata": {},
   "source": [
    "Another difference to notice are the types of variable each node is split on.  In **Figure 1.A**, all the nodes are continuous variables.  In **Figure 2.**, all the nodes are treated as catagorical.  In **Figure 1.B**, the root (top) node is catagorical and the rest are continuous.  So trees are flexible enough to handle both catagorical and continuous variables.\n",
    "\n",
    "So once we have trained/built our tree, how do we make a prediction with new data?  This turns out to pretty easy.  All we have to do is follow the path from the root node to a leaf node.  Let's do a simple example."
   ]
  },
  {
   "cell_type": "markdown",
   "metadata": {},
   "source": [
    "### Make a prediction with a tree\n",
    "\n",
    "#### Example 1. - Regression\n",
    "\n",
    "Assume that the **leaf nodes** (terminal nodes at the bottom of the tree where values for predicitons are obtained) in **Figure 1.A** are log (base 10) values of salaries for baseball players.  What would the model predict for the salary of a player that has been in the league 7 years and had 113 hits?"
   ]
  },
  {
   "cell_type": "markdown",
   "metadata": {
    "collapsed": true
   },
   "source": [
    "#### Answer 1.\n",
    "\n",
    "Starting at the top (root) node of the tree in **Figure 1.A**, we traverse right because 7 > 4.5.  This brings us to the **Hits** node where we split left because 113 < 117.5.  This brings us to the leaf with value of **6.0**.  Since this is the base-10 log of the salary, our prediction would be:"
   ]
  },
  {
   "cell_type": "code",
   "execution_count": 1,
   "metadata": {},
   "outputs": [
    {
     "name": "stdout",
     "output_type": "stream",
     "text": [
      "predicted salary = $1000000.00\n"
     ]
    }
   ],
   "source": [
    "print(\"predicted salary = ${:.2f}\".format(10**(6.0)))"
   ]
  },
  {
   "cell_type": "markdown",
   "metadata": {},
   "source": [
    "#### Example 2. - Classification\n",
    "\n",
    "The leaf nodes in **Figure 1.B** represent the presence of heart disease.  A **Yes** means that heart disease is present and **No** means heart disease is not present.  If the **Thal** (Thallium stress test) is normal (left branch of this node), what would the model predict for an individual with [**Ca**](http://archive.ics.uci.edu/ml/datasets/heart+Disease) < 0.5 and a maximum heart rate (**MaxHR**) > 161.5?  Would the model's prediction change if **MaxHR** < 161.5?"
   ]
  },
  {
   "cell_type": "markdown",
   "metadata": {
    "collapsed": true
   },
   "source": [
    "#### Answer 2. \n",
    "Following the left branch from the root (**Thal:a**) node, at the **Ca < 0.5** node, we follow the left branch to the **MaxHR** node and then to right **No** leaf node.  Because both leaf nodes under **MaxHR** are **No**, the model prediction would not change if maximum heart rate were < 161.5."
   ]
  },
  {
   "cell_type": "markdown",
   "metadata": {},
   "source": [
    "### Building Trees\n",
    "\n",
    "A tree represents a recipe for how to slice up feature space.  The better the recipe, the better the predictions the tree is able to make.  So how do we build trees that make good predictions on test data?  Like other machine learning models, we typically derive some cost or objective function to minimize or maximize and trees are no different in this regard.\n",
    "\n",
    "### Cost Functions\n",
    "\n",
    "The following three cost functions are the one most commonly used to build decision trees:\n",
    "\n",
    "+ Overall Error Rate\n",
    "+ Gini Score\n",
    "+ Cross-Entropy\n",
    "\n",
    "#### Overall Error Rate\n",
    "\n",
    "This is the most intuitive cost function used to building decisions trees.  To compute the overall error rate, we simpy count the number of mistakes the tree made in making predictions and then divide this by the total number of predictions.  Using the overall error rate will work as well as the other two for binary trees because they all are 0 for a pure group (either all group 1, $p_1 = 0$ or all group 2, $p_2 = 0$) and take on their maximum value at $p_1 = p_2 = 0.5$ as shown in Figure 3. below."
   ]
  },
  {
   "cell_type": "code",
   "execution_count": 21,
   "metadata": {},
   "outputs": [
    {
     "data": {
      "image/png": "[encoded data removed]",
      "text/plain": [
       "<matplotlib.figure.Figure at 0x1aab0bb8908>"
      ]
     },
     "metadata": {},
     "output_type": "display_data"
    },
    {
     "data": {
      "text/plain": [
       "array([ 0.  ,  0.16,  0.24,  0.24,  0.16,  0.  ])"
      ]
     },
     "execution_count": 21,
     "metadata": {},
     "output_type": "execute_result"
    }
   ],
   "source": [
    "import math\n",
    "import numpy as np\n",
    "import matplotlib.pyplot as plt\n",
    "\n",
    "# Returns the binary error rate\n",
    "# prob - probability of one of binary classes\n",
    "def overallError(prob):\n",
    "    error = prob\n",
    "    if(prob > 0.5):\n",
    "        error = 1 - prob\n",
    "        \n",
    "    return error\n",
    "\n",
    "# Returns the binary cross-entropy cost\n",
    "# prob - probability of one of binary classes\n",
    "def crossEntropy(prob):\n",
    "    ce = 0.\n",
    "    if prob > 0:\n",
    "        ce = - prob * math.log(prob)\n",
    "        \n",
    "    return ce\n",
    "\n",
    "# Returns the binary gini score\n",
    "# prob - probability of one of binary classes\n",
    "def giniScore(prob):\n",
    "    return prob * (1. - prob)\n",
    "\n",
    "# vectorize the cost functions\n",
    "overallError = np.vectorize(overallError)\n",
    "crossEntropy = np.vectorize(crossEntropy)\n",
    "giniScore = np.vectorize(giniScore)\n",
    "\n",
    "probs = np.linspace(0, 1.0, 101)\n",
    "# Plot 3 cost functions\n",
    "import matplotlib as mp, matplotlib.pyplot as plt\n",
    "%matplotlib inline\n",
    "plt.figure(figsize=(12, 8))\n",
    "plt.plot(probs, overallError(probs), 'g^', label='overall error')\n",
    "plt.plot(probs, crossEntropy(probs), 'ro', label='cross-entropy')\n",
    "plt.plot(probs, giniScore(probs), 'bs', label='gini score')\n",
    "plt.legend(loc='upper right')\n",
    "plt.show()\n",
    "\n",
    "giniScore(np.array([0, 0.2, 0.4, 0.6, 0.8, 1.0]))"
   ]
  },
  {
   "cell_type": "markdown",
   "metadata": {
    "collapsed": true
   },
   "source": [
    "The problem with the overall error rate is that it is not as sensitive as the *Gini Score* or *Cross-Entropy*.  To see a good little example of why the *Cross-Entropy* is a better cost function, check out [this little write up](http://rpubs.com/mszczepaniak/classificationgoodness).  A similar intuition can be applied in explaining why *Gini Score* is superior to overall error rate as shown in the chart below."
   ]
  },
  {
   "cell_type": "code",
   "execution_count": null,
   "metadata": {
    "collapsed": true
   },
   "outputs": [],
   "source": []
  },
  {
   "cell_type": "markdown",
   "metadata": {
    "collapsed": true
   },
   "source": [
    "#### Regression Trees\n",
    "\n",
    "Like linear regression, the residual sum of squares (RSS) is well suited for training regression trees.  Also similar to linear regression models, we need to select predictors that matter and discard ones that don't.  The way this is typically done for regression trees is to grow a full tree with all the predictors and follow this by applying a technique called **cost complexity pruning** to remove branches that aren't as important.\n",
    "\n",
    "#### Classification Trees\n",
    "\n",
    "#### Overfitting\n",
    "\n",
    "Like other forms of machine learning, trees can "
   ]
  },
  {
   "cell_type": "code",
   "execution_count": null,
   "metadata": {
    "collapsed": true
   },
   "outputs": [],
   "source": []
  },
  {
   "cell_type": "code",
   "execution_count": null,
   "metadata": {
    "collapsed": true
   },
   "outputs": [],
   "source": []
  },
  {
   "cell_type": "code",
   "execution_count": null,
   "metadata": {
    "collapsed": true
   },
   "outputs": [],
   "source": []
  },
  {
   "cell_type": "code",
   "execution_count": null,
   "metadata": {
    "collapsed": true
   },
   "outputs": [],
   "source": []
  },
  {
   "cell_type": "code",
   "execution_count": null,
   "metadata": {
    "collapsed": true
   },
   "outputs": [],
   "source": []
  },
  {
   "cell_type": "code",
   "execution_count": null,
   "metadata": {
    "collapsed": true
   },
   "outputs": [],
   "source": []
  },
  {
   "cell_type": "code",
   "execution_count": null,
   "metadata": {
    "collapsed": true
   },
   "outputs": [],
   "source": []
  },
  {
   "cell_type": "code",
   "execution_count": 2,
   "metadata": {},
   "outputs": [
    {
     "data": {
      "image/png": "[encoded data removed]",
      "text/plain": [
       "<matplotlib.figure.Figure at 0x255795979b0>"
      ]
     },
     "execution_count": 2,
     "metadata": {},
     "output_type": "execute_result"
    }
   ],
   "source": [
    "import sys\n",
    "# https://stackoverflow.com/questions/4383571/importing-files-from-different-folder\n",
    "sys.path.insert(0, '../../Python/')\n",
    "import BinaryDecisionTree as b\n",
    "import matplotlib.pyplot as plt\n",
    "import numpy as np\n",
    "# test data from http://machinelearningmastery.com/implement-decision-tree-algorithm-scratch-python/\n",
    "dataset = np.array([[2.771244718,1.784783929,0],\n",
    "                    [1.728571309,1.169761413,0],\n",
    "                    [3.678319846,2.81281357,0],\n",
    "                    [3.961043357,2.61995032,0],\n",
    "                    [2.999208922,2.209014212,0],\n",
    "                    [7.497545867,3.162953546,1],\n",
    "                    [9.00220326,3.339047188,1],\n",
    "                    [7.444542326,0.476683375,1],\n",
    "                    [10.12493903,3.234550982,1],\n",
    "                    [6.642287351,3.319983761,1]])\n",
    "\n",
    "# Visualize the test data\n",
    "fig = plt.figure(figsize=(12, 8))  # width, height\n",
    "ax = fig.add_subplot(111)\n",
    "ax.plot(dataset[:5,0], dataset[:5,1], 'bo', label='class 0')\n",
    "ax.plot(dataset[5:,0], dataset[5:,1], 'rs', label='class 1')\n",
    "ax.set_xlabel('X1')\n",
    "ax.set_ylabel('X2')\n",
    "fig"
   ]
  },
  {
   "cell_type": "code",
   "execution_count": 3,
   "metadata": {},
   "outputs": [
    {
     "name": "stdout",
     "output_type": "stream",
     "text": [
      "X1 < 2.771 Gini=0.444\n",
      "X1 < 1.729 Gini=0.500\n",
      "X1 < 3.678 Gini=0.286\n",
      "X1 < 3.961 Gini=0.167\n",
      "X1 < 2.999 Gini=0.375\n",
      "X1 < 7.498 Gini=0.286\n",
      "X1 < 9.002 Gini=0.375\n",
      "X1 < 7.445 Gini=0.167\n",
      "X1 < 10.125 Gini=0.444\n",
      "X1 < 6.642 Gini=0.000\n",
      "X2 < 1.785 Gini=0.500\n",
      "X2 < 1.170 Gini=0.444\n",
      "X2 < 2.813 Gini=0.320\n",
      "X2 < 2.620 Gini=0.417\n",
      "X2 < 2.209 Gini=0.476\n",
      "X2 < 3.163 Gini=0.167\n",
      "X2 < 3.339 Gini=0.444\n",
      "X2 < 0.477 Gini=0.500\n",
      "X2 < 3.235 Gini=0.286\n",
      "X2 < 3.320 Gini=0.375\n",
      "Split: [X1 < 6.642]\n"
     ]
    }
   ],
   "source": [
    "split = b.get_split(dataset)\n",
    "print('Split: [X%d < %.3f]' % ((split['index']+1), split['value']))"
   ]
  },
  {
   "cell_type": "code",
   "execution_count": null,
   "metadata": {
    "collapsed": true
   },
   "outputs": [],
   "source": []
  },
  {
   "cell_type": "code",
   "execution_count": 4,
   "metadata": {},
   "outputs": [
    {
     "name": "stdout",
     "output_type": "stream",
     "text": [
      "X1 < 2.771 Gini=0.444\n",
      "X1 < 1.729 Gini=0.500\n",
      "X1 < 3.678 Gini=0.286\n",
      "X1 < 3.961 Gini=0.167\n",
      "X1 < 2.999 Gini=0.375\n",
      "X1 < 7.498 Gini=0.286\n",
      "X1 < 9.002 Gini=0.375\n",
      "X1 < 7.445 Gini=0.167\n",
      "X1 < 10.125 Gini=0.444\n",
      "X1 < 6.642 Gini=0.000\n",
      "X2 < 1.785 Gini=0.500\n",
      "X2 < 1.170 Gini=0.444\n",
      "X2 < 2.813 Gini=0.320\n",
      "X2 < 2.620 Gini=0.417\n",
      "X2 < 2.209 Gini=0.476\n",
      "X2 < 3.163 Gini=0.167\n",
      "X2 < 3.339 Gini=0.444\n",
      "X2 < 0.477 Gini=0.500\n",
      "X2 < 3.235 Gini=0.286\n",
      "X2 < 3.320 Gini=0.375\n",
      "[X1 < 6.642]\n",
      " [0.0]\n",
      " [1.0]\n"
     ]
    }
   ],
   "source": [
    "tree = b.build_tree(dataset, 1, 1)\n",
    "b.print_tree(tree)"
   ]
  },
  {
   "cell_type": "code",
   "execution_count": 5,
   "metadata": {},
   "outputs": [
    {
     "name": "stdout",
     "output_type": "stream",
     "text": [
      "X1 < 2.771 Gini=0.444\n",
      "X1 < 1.729 Gini=0.500\n",
      "X1 < 3.678 Gini=0.286\n",
      "X1 < 3.961 Gini=0.167\n",
      "X1 < 2.999 Gini=0.375\n",
      "X1 < 7.498 Gini=0.286\n",
      "X1 < 9.002 Gini=0.375\n",
      "X1 < 7.445 Gini=0.167\n",
      "X1 < 10.125 Gini=0.444\n",
      "X1 < 6.642 Gini=0.000\n",
      "X2 < 1.785 Gini=0.500\n",
      "X2 < 1.170 Gini=0.444\n",
      "X2 < 2.813 Gini=0.320\n",
      "X2 < 2.620 Gini=0.417\n",
      "X2 < 2.209 Gini=0.476\n",
      "X2 < 3.163 Gini=0.167\n",
      "X2 < 3.339 Gini=0.444\n",
      "X2 < 0.477 Gini=0.500\n",
      "X2 < 3.235 Gini=0.286\n",
      "X2 < 3.320 Gini=0.375\n",
      "X1 < 2.771 Gini=0.000\n",
      "X1 < 1.729 Gini=0.000\n",
      "X1 < 3.678 Gini=0.000\n",
      "X1 < 3.961 Gini=0.000\n",
      "X1 < 2.999 Gini=0.000\n",
      "X2 < 1.785 Gini=0.000\n",
      "X2 < 1.170 Gini=0.000\n",
      "X2 < 2.813 Gini=0.000\n",
      "X2 < 2.620 Gini=0.000\n",
      "X2 < 2.209 Gini=0.000\n",
      "X1 < 7.498 Gini=0.000\n",
      "X1 < 9.002 Gini=0.000\n",
      "X1 < 7.445 Gini=0.000\n",
      "X1 < 10.125 Gini=0.000\n",
      "X1 < 6.642 Gini=0.000\n",
      "X2 < 3.163 Gini=0.000\n",
      "X2 < 3.339 Gini=0.000\n",
      "X2 < 0.477 Gini=0.000\n",
      "X2 < 3.235 Gini=0.000\n",
      "X2 < 3.320 Gini=0.000\n",
      "[X1 < 6.642]\n",
      " [X1 < 2.771]\n",
      "  [0.0]\n",
      "  [0.0]\n",
      " [X1 < 7.498]\n",
      "  [1.0]\n",
      "  [1.0]\n"
     ]
    }
   ],
   "source": [
    "tree2 = b.build_tree(dataset, 2, 1)\n",
    "b.print_tree(tree2)"
   ]
  },
  {
   "cell_type": "code",
   "execution_count": 6,
   "metadata": {},
   "outputs": [
    {
     "name": "stdout",
     "output_type": "stream",
     "text": [
      "Expected=0, Got=0\n",
      "Expected=0, Got=0\n",
      "Expected=0, Got=0\n",
      "Expected=0, Got=0\n",
      "Expected=0, Got=0\n",
      "Expected=1, Got=1\n",
      "Expected=1, Got=1\n",
      "Expected=1, Got=1\n",
      "Expected=1, Got=1\n",
      "Expected=1, Got=1\n"
     ]
    }
   ],
   "source": [
    "#  predict with a stump\n",
    "stump = {'index': 0, 'right': 1, 'value': 6.642287351, 'left': 0}\n",
    "for row in dataset:\n",
    "    prediction = b.predict(stump, row)\n",
    "    print('Expected=%d, Got=%d' % (row[-1], prediction))"
   ]
  },
  {
   "cell_type": "code",
   "execution_count": 7,
   "metadata": {},
   "outputs": [
    {
     "data": {
      "text/plain": [
       "7"
      ]
     },
     "execution_count": 7,
     "metadata": {},
     "output_type": "execute_result"
    }
   ],
   "source": [
    "x = [1,2,3]; y = [4,5,6,7]\n",
    "groups = x, y\n",
    "group_sizes = [len(group) for group in groups]\n",
    "group_sizes\n",
    "sum(group_sizes)"
   ]
  },
  {
   "cell_type": "code",
   "execution_count": null,
   "metadata": {
    "collapsed": true
   },
   "outputs": [],
   "source": []
  },
  {
   "cell_type": "markdown",
   "metadata": {
    "collapsed": true
   },
   "source": []
  },
  {
   "cell_type": "code",
   "execution_count": null,
   "metadata": {
    "collapsed": true
   },
   "outputs": [],
   "source": []
  },
  {
   "cell_type": "code",
   "execution_count": null,
   "metadata": {
    "collapsed": true
   },
   "outputs": [],
   "source": []
  },
  {
   "cell_type": "code",
   "execution_count": null,
   "metadata": {
    "collapsed": true
   },
   "outputs": [],
   "source": []
  },
  {
   "cell_type": "code",
   "execution_count": null,
   "metadata": {
    "collapsed": true
   },
   "outputs": [],
   "source": []
  },
  {
   "cell_type": "code",
   "execution_count": null,
   "metadata": {
    "collapsed": true
   },
   "outputs": [],
   "source": []
  },
  {
   "cell_type": "code",
   "execution_count": null,
   "metadata": {
    "collapsed": true
   },
   "outputs": [],
   "source": []
  },
  {
   "cell_type": "code",
   "execution_count": null,
   "metadata": {
    "collapsed": true
   },
   "outputs": [],
   "source": []
  },
  {
   "cell_type": "markdown",
   "metadata": {
    "collapsed": true
   },
   "source": [
    "### References\n",
    "\n",
    "1. Figures 1.A and 1.B are taken from \"An Introduction to Statistical Learning, with applications in R\"  (Springer, 2013) with permission from the authors: G. James, D. Witten,  T. Hastie and R. Tibshirani"
   ]
  }
 ],
 "metadata": {
  "kernelspec": {
   "display_name": "Python 3",
   "language": "python",
   "name": "python3"
  },
  "language_info": {
   "codemirror_mode": {
    "name": "ipython",
    "version": 3
   },
   "file_extension": ".py",
   "mimetype": "text/x-python",
   "name": "python",
   "nbconvert_exporter": "python",
   "pygments_lexer": "ipython3",
   "version": "3.6.1"
  }
 },
 "nbformat": 4,
 "nbformat_minor": 2
}
