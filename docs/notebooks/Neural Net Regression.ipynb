{
 "cells": [
  {
   "cell_type": "markdown",
   "metadata": {
    "collapsed": true
   },
   "source": [
    "$\\newcommand{\\xv}{\\mathbf{x}}\n",
    "\\newcommand{\\Xv}{\\mathbf{X}}\n",
    "\\newcommand{\\yv}{\\mathbf{y}}\n",
    "\\newcommand{\\Yv}{\\mathbf{Y}}\n",
    "\\newcommand{\\zv}{\\mathbf{z}}\n",
    "\\newcommand{\\av}{\\mathbf{a}}\n",
    "\\newcommand{\\Wv}{\\mathbf{W}}\n",
    "\\newcommand{\\wv}{\\mathbf{w}}\n",
    "\\newcommand{\\gv}{\\mathbf{g}}\n",
    "\\newcommand{\\Hv}{\\mathbf{H}}\n",
    "\\newcommand{\\dv}{\\mathbf{d}}\n",
    "\\newcommand{\\Vv}{\\mathbf{V}}\n",
    "\\newcommand{\\vv}{\\mathbf{v}}\n",
    "\\newcommand{\\tv}{\\mathbf{t}}\n",
    "\\newcommand{\\Tv}{\\mathbf{T}}\n",
    "\\newcommand{\\zv}{\\mathbf{z}}\n",
    "\\newcommand{\\Zv}{\\mathbf{Z}}\n",
    "\\newcommand{\\muv}{\\boldsymbol{\\mu}}\n",
    "\\newcommand{\\sigmav}{\\boldsymbol{\\sigma}}\n",
    "\\newcommand{\\phiv}{\\boldsymbol{\\phi}}\n",
    "\\newcommand{\\Phiv}{\\boldsymbol{\\Phi}}\n",
    "\\newcommand{\\Sigmav}{\\boldsymbol{\\Sigma}}\n",
    "\\newcommand{\\Lambdav}{\\boldsymbol{\\Lambda}}\n",
    "\\newcommand{\\half}{\\frac{1}{2}}\n",
    "\\newcommand{\\argmax}[1]{\\underset{#1}{\\operatorname{argmax}}}\n",
    "\\newcommand{\\argmin}[1]{\\underset{#1}{\\operatorname{argmin}}}\n",
    "\\newcommand{\\dimensionbar}[1]{\\underset{#1}{\\operatorname{|}}}\n",
    "$"
   ]
  },
  {
   "cell_type": "markdown",
   "metadata": {},
   "source": [
    "# Nonlinear Regression with Neural Networks"
   ]
  },
  {
   "cell_type": "markdown",
   "metadata": {},
   "source": [
    "One way to start thinking about neural networks is that they are just one way to fit a non-linear model to some data.  Neural nets are used for both regression and classification in supervised learning as well as for various types of unsupervised learning such as auto encoders and Restricted Boltzmann Machines.  In developing the math to fit a neural network (NN), it helps to start the discussion with a good picture:"
   ]
  },
  {
   "cell_type": "markdown",
   "metadata": {
    "collapsed": true
   },
   "source": [
    "<img src=\"https://cdn.rawgit.com/MichaelSzczepaniak/WonderfulML/master/docs/graphics/regression_ff_nn.svg\">"
   ]
  },
  {
   "cell_type": "code",
   "execution_count": null,
   "metadata": {
    "collapsed": true
   },
   "outputs": [],
   "source": []
  },
  {
   "cell_type": "code",
   "execution_count": null,
   "metadata": {
    "collapsed": true
   },
   "outputs": [],
   "source": []
  },
  {
   "cell_type": "markdown",
   "metadata": {
    "collapsed": true
   },
   "source": [
    "Because we are typically dealing with large numbers of parameters in these types of modes, it is necessary to think in terms of matrices.  In Figure 2. above, the shape of each matrix is shown at the bottom of the diagram.  As we'll say as we continue to work with these systems, it's very important to keep these shapes in mind especially when debugging code that computes the weights."
   ]
  },
  {
   "cell_type": "markdown",
   "metadata": {},
   "source": [
    "The derivation of the forward and backward passes through the network can be found [in this notebook](https://cdn.rawgit.com/MichaelSzczepaniak/WonderfulML/master/docs/tbd_gradient_derivation.ipynb).  Here is a summary of the results of the derivation.\n",
    "\n",
    "The forward pass math:\n",
    "\n",
    "$$\n",
    "    \\begin{align*}\n",
    "      \\Zv &= h(\\tilde{\\Xv} \\Vv)\\\\\n",
    "      \\Yv &= \\tilde{\\Zv} \\Wv\\\\\n",
    "    \\end{align*}\n",
    "$$\n",
    "\n",
    "The backward pass math:\n",
    "\n",
    "$$\n",
    "     \\begin{align*}\n",
    "       \\Vv & \\leftarrow \\Vv + \\rho_h \\frac{1}{N} \\frac{1}{K} \\tilde{\\Xv}^T \\left ( (\\Tv - \\Yv) \\hat{\\Wv}^T \\cdot  (1-\\Zv^2) \\right )\\\\\n",
    "      \\Wv & \\leftarrow \\Wv + \\rho_o \\frac{1}{N}  \\frac{1}{K}\\tilde{\\Zv}^T (\\Tv - \\Yv)\n",
    "     \\end{align*}\n",
    "$$\n",
    "\n",
    "The tilde over the inputs $\\tilde{\\Xv}$ and $\\tilde{\\Zv}$ are the inputs to the input and hidden layers augmented with the constant 1 respectively."
   ]
  },
  {
   "cell_type": "markdown",
   "metadata": {},
   "source": [
    "### A Simple Example\n",
    "\n",
    "Let's fit a neural net to a simple function:\n",
    "\n",
    "$$\n",
    "f(x) = 0.2 + 0.05 (x+10) + 0.4 \\sin(x+10)) + 0.2 \\epsilon\n",
    "$$\n",
    "\n",
    "We'll add a little noise gaussian noise with the $\\epsilon$ term which is a random variable drawn from the standard normal distribution with mean of 0 and standard deviation of 1, or $\\epsilon \\sim \\mathcal{N}(0,1)$, and $x \\in [-10,10]$."
   ]
  },
  {
   "cell_type": "code",
   "execution_count": 1,
   "metadata": {
    "collapsed": true
   },
   "outputs": [],
   "source": [
    "import numpy as np\n",
    "import matplotlib.pyplot as plt\n",
    "%matplotlib inline\n",
    "\n",
    "import IPython.display as ipd  # for display and clear_output\n",
    "import time  # for sleep"
   ]
  },
  {
   "cell_type": "code",
   "execution_count": 2,
   "metadata": {},
   "outputs": [
    {
     "data": {
      "text/plain": [
       "array([[ 4, 10, 15, 20],\n",
       "       [10, 24, 35, 46],\n",
       "       [16, 38, 55, 72]])"
      ]
     },
     "execution_count": 2,
     "metadata": {},
     "output_type": "execute_result"
    }
   ],
   "source": [
    "a = np.array([1,2,3,4,5,6])\n",
    "m1_3x2 = a.reshape(3,2)\n",
    "m2_2x4 = np.array([2,4,5,6,1,3,5,7]).reshape(2,4)\n",
    "np.dot(m1_3x2, m2_2x4)"
   ]
  },
  {
   "cell_type": "code",
   "execution_count": 3,
   "metadata": {},
   "outputs": [
    {
     "data": {
      "text/plain": [
       "array([[1, 2],\n",
       "       [3, 4],\n",
       "       [5, 6]])"
      ]
     },
     "execution_count": 3,
     "metadata": {},
     "output_type": "execute_result"
    }
   ],
   "source": [
    "m1_3x2"
   ]
  },
  {
   "cell_type": "code",
   "execution_count": 4,
   "metadata": {},
   "outputs": [
    {
     "name": "stdout",
     "output_type": "stream",
     "text": [
      "21 1\n"
     ]
    }
   ],
   "source": [
    "# Make some training data\n",
    "def get_test_data(x_1d):\n",
    "    data = 0.2 + 0.05 * (x_1d + 10) + 0.4 * np.sin(x_1d + 10)\n",
    "    return(data)\n",
    "np.random.seed(711)  # for repeatablity\n",
    "n = 21  # number of points to plot\n",
    "x_train = np.linspace(0., n-1, n).reshape((n, 1)) - 10  # same as matrix(-10:10, nrow = 21) in R\n",
    "t_true = get_test_data(x_train)  # true function to fit\n",
    "t_train = t_true + 0.2 * np.random.normal(size=(n,1))  # train on noise version of true function\n",
    "\n",
    "# Make some testing data\n",
    "x_test = x_train + 0.1 * np.random.normal(size=(n, 1))\n",
    "t_test = get_test_data(x_test) + 0.2 * np.random.normal(size=(n, 1))\n",
    "\n",
    "nSamples = x_train.shape[0]\n",
    "nOutputs = t_train.shape[1]\n",
    "\n",
    "print(nSamples, nOutputs)"
   ]
  },
  {
   "cell_type": "code",
   "execution_count": 5,
   "metadata": {
    "collapsed": true
   },
   "outputs": [],
   "source": [
    "# https://stats.stackexchange.com/questions/47590/what-are-good-initial-weights-in-a-neural-network\n"
   ]
  },
  {
   "cell_type": "code",
   "execution_count": null,
   "metadata": {
    "collapsed": true
   },
   "outputs": [],
   "source": []
  },
  {
   "cell_type": "code",
   "execution_count": null,
   "metadata": {
    "collapsed": true
   },
   "outputs": [],
   "source": []
  },
  {
   "cell_type": "code",
   "execution_count": null,
   "metadata": {
    "collapsed": true
   },
   "outputs": [],
   "source": []
  },
  {
   "cell_type": "code",
   "execution_count": null,
   "metadata": {
    "collapsed": true
   },
   "outputs": [],
   "source": []
  },
  {
   "cell_type": "code",
   "execution_count": null,
   "metadata": {
    "collapsed": true
   },
   "outputs": [],
   "source": []
  },
  {
   "cell_type": "code",
   "execution_count": null,
   "metadata": {
    "collapsed": true
   },
   "outputs": [],
   "source": []
  },
  {
   "cell_type": "code",
   "execution_count": null,
   "metadata": {
    "collapsed": true
   },
   "outputs": [],
   "source": []
  },
  {
   "cell_type": "code",
   "execution_count": 7,
   "metadata": {},
   "outputs": [],
   "source": [
    "import numpy as np\n",
    "import sys\n",
    "# https://stackoverflow.com/questions/4383571/importing-files-from-different-folder\n",
    "sys.path.insert(0, '../../Python/')\n",
    "import scaledconjugategradient as scg\n",
    "import mlutils as ml  # for draw()\n",
    "from copy import copy\n",
    "\n",
    "# Adapted from Chuck Anderson\n",
    "class NeuralNetwork:\n",
    "\n",
    "    def __init__(self, ni,nhs,no):        \n",
    "        try:\n",
    "            nihs = [ni] + list(nhs)\n",
    "        except:\n",
    "            nihs = [ni] + [nhs]\n",
    "            nhs = [nhs]\n",
    "        self.Vs = [1/np.sqrt(nihs[i])*\n",
    "                   np.random.uniform(-1,1,size=(1+nihs[i],nihs[i+1])) for i in range(len(nihs)-1)]\n",
    "        self.W = 1/np.sqrt(nhs[-1])*np.random.uniform(-1,1,size=(1+nhs[-1],no))\n",
    "        self.ni,self.nhs,self.no = ni,nhs,no\n",
    "        self.Xmeans = None\n",
    "        self.Xstds = None\n",
    "        self.Tmeans = None\n",
    "        self.Tstds = None\n",
    "        self.trained = False\n",
    "        self.reason = None\n",
    "        self.errorTrace = None\n",
    "        self.numberOfIterations = None\n",
    "\n",
    "    def __repr__(self):\n",
    "        str = 'NeuralNetwork({}, {}, {})'.format(self.ni,self.nhs,self.no)\n",
    "        # str += '  Standardization parameters' + (' not' if self.Xmeans == None else '') + ' calculated.'\n",
    "        if self.trained:\n",
    "            str += '\\n   Network was trained for {} iterations. Final error is {}.'.format(self.numberOfIterations,\n",
    "                                                                                           self.errorTrace[-1])\n",
    "        else:\n",
    "            str += '  Network is not trained.'\n",
    "        return str\n",
    "            \n",
    "    def standardizeX(self,X):\n",
    "        result = (X - self.Xmeans) / self.XstdsFixed\n",
    "        result[:,self.Xconstant] = 0.0\n",
    "        return result\n",
    "    def unstandardizeX(self,Xs):\n",
    "        return self.Xstds * Xs + self.Xmeans\n",
    "    def standardizeT(self,T):\n",
    "        result = (T - self.Tmeans) / self.TstdsFixed\n",
    "        result[:,self.Tconstant] = 0.0\n",
    "        return result\n",
    "    def unstandardizeT(self,Ts):\n",
    "        return self.Tstds * Ts + self.Tmeans\n",
    "   \n",
    "    def train(self,X,T,nIterations=100,verbose=False,\n",
    "              weightPrecision=0,errorPrecision=0):\n",
    "        \n",
    "        if self.Xmeans is None:\n",
    "            self.Xmeans = X.mean(axis=0)\n",
    "            self.Xstds = X.std(axis=0)\n",
    "            self.Xconstant = self.Xstds == 0\n",
    "            self.XstdsFixed = copy(self.Xstds)\n",
    "            self.XstdsFixed[self.Xconstant] = 1\n",
    "        X = self.standardizeX(X)\n",
    "\n",
    "        if T.ndim == 1:\n",
    "            T = T.reshape((-1,1))\n",
    "\n",
    "        if self.Tmeans is None:\n",
    "            self.Tmeans = T.mean(axis=0)\n",
    "            self.Tstds = T.std(axis=0)\n",
    "            self.Tconstant = self.Tstds == 0\n",
    "            self.TstdsFixed = copy(self.Tstds)\n",
    "            self.TstdsFixed[self.Tconstant] = 1\n",
    "        T = self.standardizeT(T)\n",
    "\n",
    "        # Local functions used by scg()\n",
    "\n",
    "        def pack(Vs,W):\n",
    "            return np.hstack([V.flat for V in Vs] + [W.flat])\n",
    "\n",
    "        def unpack(w):\n",
    "            first = 0\n",
    "            numInThisLayer = self.ni\n",
    "            for i in range(len(self.Vs)):\n",
    "                self.Vs[i][:] = w[first:first+(numInThisLayer+1)*self.nhs[i]].reshape((numInThisLayer+1,self.nhs[i]))\n",
    "                first += (numInThisLayer+1) * self.nhs[i]\n",
    "                numInThisLayer = self.nhs[i]\n",
    "            self.W[:] = w[first:].reshape((numInThisLayer+1,self.no))\n",
    "\n",
    "        def objectiveF(w):\n",
    "            unpack(w)\n",
    "            Zprev = X\n",
    "            for i in range(len(self.nhs)):\n",
    "                V = self.Vs[i]\n",
    "                Zprev = np.tanh(np.dot(Zprev,V[1:,:]) + V[0:1,:])  # handling bias weight without adding column of 1's\n",
    "            Y = np.dot(Zprev, self.W[1:,:]) + self.W[0:1,:]\n",
    "            return np.mean((T-Y)**2)\n",
    "\n",
    "        def gradF(w):\n",
    "            unpack(w)\n",
    "            Zprev = X\n",
    "            Z = [Zprev]\n",
    "            for i in range(len(self.nhs)):\n",
    "                V = self.Vs[i]\n",
    "                Zprev = np.tanh(np.dot(Zprev,V[1:,:]) + V[0:1,:])\n",
    "                Z.append(Zprev)\n",
    "            Y = np.dot(Zprev, self.W[1:,:]) + self.W[0:1,:]\n",
    "            delta = -(T - Y) / (X.shape[0] * T.shape[1])\n",
    "            dW = 2 * np.vstack((np.dot(np.ones((1,delta.shape[0])),delta),  np.dot( Z[-1].T, delta)))\n",
    "            dVs = []\n",
    "            delta = (1-Z[-1]**2) * np.dot( delta, self.W[1:,:].T)\n",
    "            for Zi in range(len(self.nhs),0,-1):\n",
    "                Vi = Zi - 1 # because X is first element of Z\n",
    "                dV = 2 * np.vstack(( np.dot(np.ones((1,delta.shape[0])), delta),\n",
    "                                 np.dot( Z[Zi-1].T, delta)))\n",
    "                dVs.insert(0,dV)\n",
    "                delta = np.dot( delta, self.Vs[Vi][1:,:].T) * (1-Z[Zi-1]**2)\n",
    "            return pack(dVs,dW)\n",
    "\n",
    "        scgresult = scg.scg(pack(self.Vs,self.W), objectiveF, gradF,\n",
    "                            xPrecision = weightPrecision,\n",
    "                            fPrecision = errorPrecision,\n",
    "                            nIterations = nIterations,\n",
    "                            verbose=verbose,\n",
    "                            ftracep=True)\n",
    "\n",
    "        unpack(scgresult['x'])\n",
    "        self.reason = scgresult['reason']\n",
    "        self.errorTrace = np.sqrt(scgresult['ftrace']) # * self.Tstds # to unstandardize the MSEs\n",
    "        self.numberOfIterations = len(self.errorTrace)\n",
    "        self.trained = True\n",
    "        return self\n",
    "\n",
    "    def use(self,X,allOutputs=False):\n",
    "        Zprev = self.standardizeX(X)\n",
    "        Z = [Zprev]\n",
    "        for i in range(len(self.nhs)):\n",
    "            V = self.Vs[i]\n",
    "            Zprev = np.tanh(np.dot(Zprev,V[1:,:]) + V[0:1,:])\n",
    "            Z.append(Zprev)\n",
    "        Y = np.dot(Zprev, self.W[1:,:]) + self.W[0:1,:]\n",
    "        Y = self.unstandardizeT(Y)\n",
    "        return (Y,Z[1:]) if allOutputs else Y\n",
    "\n",
    "    def getNumberOfIterations(self):\n",
    "        return self.numberOfIterations\n",
    "    \n",
    "    def getErrors(self):\n",
    "        return self.errorTrace\n",
    "        \n",
    "    def draw(self,inputNames = None, outputNames = None):\n",
    "        ml.draw(self.Vs, self.W, inputNames, outputNames)"
   ]
  },
  {
   "cell_type": "code",
   "execution_count": null,
   "metadata": {
    "collapsed": true
   },
   "outputs": [],
   "source": []
  },
  {
   "cell_type": "code",
   "execution_count": 8,
   "metadata": {},
   "outputs": [
    {
     "name": "stdout",
     "output_type": "stream",
     "text": [
      "SCG stopped after 1001 iterations: did not converge\n",
      "Final RMSE: train 0.00411279186107 test 2.99724642631\n"
     ]
    },
    {
     "data": {
      "image/png": "[encoded data removed]",
      "text/plain": [
       "<matplotlib.figure.Figure at 0x1fe78a479e8>"
      ]
     },
     "metadata": {},
     "output_type": "display_data"
    }
   ],
   "source": [
    "import neuralnetworks as nn\n",
    "import imp\n",
    "imp.reload(nn)\n",
    "\n",
    "nSamples = 10\n",
    "X = np.linspace(0,10,nSamples).reshape((-1,1))\n",
    "T = 1.5 + 0.6 * X + 0.8 * np.sin(1.5*X)\n",
    "T[np.logical_and(X > 2, X < 3)] *= 3\n",
    "T[np.logical_and(X > 5, X < 7)] *= 3\n",
    "\n",
    "nSamples = 100\n",
    "Xtest = np.linspace(0,10,nSamples).reshape((-1,1)) + 10.0/nSamples/2\n",
    "Ttest = 1.5 + 0.6 * Xtest + 0.8 * np.sin(1.5*Xtest) + np.random.uniform(-2,2,size=(nSamples,1))\n",
    "Ttest[np.logical_and(Xtest > 2, Xtest < 3)] *= 3\n",
    "Ttest[np.logical_and(Xtest > 5,Xtest < 7)] *= 3\n",
    "\n",
    "nnet = nn.NeuralNetwork(1,4,1)\n",
    "\n",
    "nnet.train(X,T,errorPrecision=1.e-10,weightPrecision=1.e-10,nIterations=1000)\n",
    "print(\"SCG stopped after\",nnet.getNumberOfIterations(),\"iterations:\",nnet.reason)\n",
    "Y = nnet.use(X)\n",
    "Ytest,Ztest = nnet.use(Xtest, allOutputs=True)\n",
    "print(\"Final RMSE: train\", np.sqrt(np.mean((Y-T)**2)),\"test\",np.sqrt(np.mean((Ytest-Ttest)**2)))\n",
    "\n",
    "plt.figure(figsize=(15,15))\n",
    "\n",
    "nHLayers = len(nnet.nhs)\n",
    "nPlotRows = 3 + nHLayers\n",
    "\n",
    "plt.subplot(nPlotRows,2,1)\n",
    "plt.plot(nnet.getErrors())\n",
    "plt.title('Regression Example')\n",
    "plt.subplot(nPlotRows,2,3)\n",
    "plt.plot(X,T,'o-')\n",
    "plt.plot(X,Y,'o-')\n",
    "plt.ylabel('Training Data')\n",
    "plt.legend(('Train Target','Train NN Output'),loc='lower right', prop={'size':9})\n",
    "plt.subplot(nPlotRows,2,5)\n",
    "plt.plot(Xtest,Ttest,'o-')\n",
    "plt.plot(Xtest,Ytest,'o-')\n",
    "plt.ylabel('Testing Data')\n",
    "plt.xlim(0,10)\n",
    "plt.legend(('Test Target','Test NN Output'),loc='lower right', prop={'size':9})\n",
    "for i in range(nHLayers):\n",
    "    layer = nHLayers-i-1\n",
    "    plt.subplot(nPlotRows,2,i*2+7)\n",
    "    plt.plot(Xtest,Ztest[layer])\n",
    "    plt.xlim(0,10)\n",
    "    plt.ylim(-1.1,1.1)\n",
    "    plt.ylabel('Hidden Units')\n",
    "    plt.text(8,0, 'Layer {}'.format(layer+1))"
   ]
  },
  {
   "cell_type": "code",
   "execution_count": null,
   "metadata": {
    "collapsed": true
   },
   "outputs": [],
   "source": []
  },
  {
   "cell_type": "code",
   "execution_count": null,
   "metadata": {
    "collapsed": true
   },
   "outputs": [],
   "source": []
  },
  {
   "cell_type": "code",
   "execution_count": null,
   "metadata": {
    "collapsed": true
   },
   "outputs": [],
   "source": []
  },
  {
   "cell_type": "code",
   "execution_count": null,
   "metadata": {
    "collapsed": true
   },
   "outputs": [],
   "source": []
  },
  {
   "cell_type": "code",
   "execution_count": null,
   "metadata": {
    "collapsed": true
   },
   "outputs": [],
   "source": []
  },
  {
   "cell_type": "markdown",
   "metadata": {},
   "source": [
    "### Reference\n",
    "[1] Acknowledgement to [Dr. Chuck Anderson at Colorado State University](http://www.cs.colostate.edu/~anderson/newsite/) for introducing me to this way of thinking about neural nets and provided the SCG code.  \n",
    "[2]  \n",
    "[3]"
   ]
  },
  {
   "cell_type": "code",
   "execution_count": null,
   "metadata": {
    "collapsed": true
   },
   "outputs": [],
   "source": []
  }
 ],
 "metadata": {
  "kernelspec": {
   "display_name": "Python 3",
   "language": "python",
   "name": "python3"
  },
  "language_info": {
   "codemirror_mode": {
    "name": "ipython",
    "version": 3
   },
   "file_extension": ".py",
   "mimetype": "text/x-python",
   "name": "python",
   "nbconvert_exporter": "python",
   "pygments_lexer": "ipython3",
   "version": "3.6.1"
  }
 },
 "nbformat": 4,
 "nbformat_minor": 2
}
