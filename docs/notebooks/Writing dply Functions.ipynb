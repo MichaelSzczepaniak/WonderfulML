{
 "cells": [
  {
   "cell_type": "code",
   "execution_count": null,
   "metadata": {
    "collapsed": true
   },
   "outputs": [],
   "source": []
  },
  {
   "cell_type": "code",
   "execution_count": null,
   "metadata": {
    "collapsed": true
   },
   "outputs": [],
   "source": []
  },
  {
   "cell_type": "code",
   "execution_count": null,
   "metadata": {
    "collapsed": true
   },
   "outputs": [],
   "source": []
  },
  {
   "cell_type": "code",
   "execution_count": null,
   "metadata": {
    "collapsed": true
   },
   "outputs": [],
   "source": []
  },
  {
   "cell_type": "code",
   "execution_count": 23,
   "metadata": {
    "collapsed": false
   },
   "outputs": [
    {
     "data": {
      "text/html": [
       "<table>\n",
       "<thead><tr><th scope=col>sale_date</th><th scope=col>sales_person</th><th scope=col>region</th><th scope=col>forecast_a</th><th scope=col>forecast_b</th><th scope=col>forecast_c</th><th scope=col>actual_a</th><th scope=col>actual_b</th><th scope=col>actual_c</th></tr></thead>\n",
       "<tbody>\n",
       "\t<tr><td>2018-01-01</td><td>Abbie     </td><td>west      </td><td>1.3       </td><td>1.04      </td><td>0.83      </td><td>1.38      </td><td>1.08      </td><td>0.72      </td></tr>\n",
       "\t<tr><td>2018-01-02</td><td>Abbie     </td><td>west      </td><td>2.6       </td><td>2.08      </td><td>1.66      </td><td>2.55      </td><td>1.94      </td><td>2.03      </td></tr>\n",
       "\t<tr><td>2018-01-03</td><td>Abbie     </td><td>west      </td><td>3.9       </td><td>3.12      </td><td>2.50      </td><td>4.05      </td><td>2.82      </td><td>2.63      </td></tr>\n",
       "\t<tr><td>2018-01-04</td><td>Abbie     </td><td>west      </td><td>5.2       </td><td>4.16      </td><td>3.33      </td><td>4.86      </td><td>4.12      </td><td>3.47      </td></tr>\n",
       "\t<tr><td>2018-01-05</td><td>Abbie     </td><td>west      </td><td>6.5       </td><td>5.20      </td><td>4.16      </td><td>6.09      </td><td>4.98      </td><td>4.09      </td></tr>\n",
       "\t<tr><td>2018-01-01</td><td>Brenda    </td><td>east      </td><td>1.7       </td><td>1.36      </td><td>1.09      </td><td>1.72      </td><td>1.41      </td><td>0.94      </td></tr>\n",
       "\t<tr><td>2018-01-02</td><td>Brenda    </td><td>east      </td><td>3.4       </td><td>2.72      </td><td>2.18      </td><td>3.16      </td><td>2.97      </td><td>2.03      </td></tr>\n",
       "\t<tr><td>2018-01-03</td><td>Brenda    </td><td>east      </td><td>5.1       </td><td>4.08      </td><td>3.26      </td><td>5.06      </td><td>3.75      </td><td>3.18      </td></tr>\n",
       "\t<tr><td>2018-01-04</td><td>Brenda    </td><td>east      </td><td>6.8       </td><td>5.44      </td><td>4.35      </td><td>6.46      </td><td>5.51      </td><td>4.76      </td></tr>\n",
       "\t<tr><td>2018-01-05</td><td>Brenda    </td><td>east      </td><td>8.5       </td><td>6.80      </td><td>5.44      </td><td>8.67      </td><td>6.86      </td><td>5.64      </td></tr>\n",
       "\t<tr><td>2018-01-01</td><td>Carl      </td><td>east      </td><td>0.9       </td><td>0.72      </td><td>0.58      </td><td>0.97      </td><td>0.77      </td><td>0.53      </td></tr>\n",
       "\t<tr><td>2018-01-02</td><td>Carl      </td><td>east      </td><td>1.8       </td><td>1.44      </td><td>1.15      </td><td>1.79      </td><td>1.32      </td><td>1.27      </td></tr>\n",
       "</tbody>\n",
       "</table>\n"
      ],
      "text/latex": [
       "\\begin{tabular}{r|lllllllll}\n",
       " sale\\_date & sales\\_person & region & forecast\\_a & forecast\\_b & forecast\\_c & actual\\_a & actual\\_b & actual\\_c\\\\\n",
       "\\hline\n",
       "\t 2018-01-01 & Abbie      & west       & 1.3        & 1.04       & 0.83       & 1.38       & 1.08       & 0.72      \\\\\n",
       "\t 2018-01-02 & Abbie      & west       & 2.6        & 2.08       & 1.66       & 2.55       & 1.94       & 2.03      \\\\\n",
       "\t 2018-01-03 & Abbie      & west       & 3.9        & 3.12       & 2.50       & 4.05       & 2.82       & 2.63      \\\\\n",
       "\t 2018-01-04 & Abbie      & west       & 5.2        & 4.16       & 3.33       & 4.86       & 4.12       & 3.47      \\\\\n",
       "\t 2018-01-05 & Abbie      & west       & 6.5        & 5.20       & 4.16       & 6.09       & 4.98       & 4.09      \\\\\n",
       "\t 2018-01-01 & Brenda     & east       & 1.7        & 1.36       & 1.09       & 1.72       & 1.41       & 0.94      \\\\\n",
       "\t 2018-01-02 & Brenda     & east       & 3.4        & 2.72       & 2.18       & 3.16       & 2.97       & 2.03      \\\\\n",
       "\t 2018-01-03 & Brenda     & east       & 5.1        & 4.08       & 3.26       & 5.06       & 3.75       & 3.18      \\\\\n",
       "\t 2018-01-04 & Brenda     & east       & 6.8        & 5.44       & 4.35       & 6.46       & 5.51       & 4.76      \\\\\n",
       "\t 2018-01-05 & Brenda     & east       & 8.5        & 6.80       & 5.44       & 8.67       & 6.86       & 5.64      \\\\\n",
       "\t 2018-01-01 & Carl       & east       & 0.9        & 0.72       & 0.58       & 0.97       & 0.77       & 0.53      \\\\\n",
       "\t 2018-01-02 & Carl       & east       & 1.8        & 1.44       & 1.15       & 1.79       & 1.32       & 1.27      \\\\\n",
       "\\end{tabular}\n"
      ],
      "text/markdown": [
       "\n",
       "sale_date | sales_person | region | forecast_a | forecast_b | forecast_c | actual_a | actual_b | actual_c | \n",
       "|---|---|---|---|---|---|---|---|---|---|---|---|\n",
       "| 2018-01-01 | Abbie      | west       | 1.3        | 1.04       | 0.83       | 1.38       | 1.08       | 0.72       | \n",
       "| 2018-01-02 | Abbie      | west       | 2.6        | 2.08       | 1.66       | 2.55       | 1.94       | 2.03       | \n",
       "| 2018-01-03 | Abbie      | west       | 3.9        | 3.12       | 2.50       | 4.05       | 2.82       | 2.63       | \n",
       "| 2018-01-04 | Abbie      | west       | 5.2        | 4.16       | 3.33       | 4.86       | 4.12       | 3.47       | \n",
       "| 2018-01-05 | Abbie      | west       | 6.5        | 5.20       | 4.16       | 6.09       | 4.98       | 4.09       | \n",
       "| 2018-01-01 | Brenda     | east       | 1.7        | 1.36       | 1.09       | 1.72       | 1.41       | 0.94       | \n",
       "| 2018-01-02 | Brenda     | east       | 3.4        | 2.72       | 2.18       | 3.16       | 2.97       | 2.03       | \n",
       "| 2018-01-03 | Brenda     | east       | 5.1        | 4.08       | 3.26       | 5.06       | 3.75       | 3.18       | \n",
       "| 2018-01-04 | Brenda     | east       | 6.8        | 5.44       | 4.35       | 6.46       | 5.51       | 4.76       | \n",
       "| 2018-01-05 | Brenda     | east       | 8.5        | 6.80       | 5.44       | 8.67       | 6.86       | 5.64       | \n",
       "| 2018-01-01 | Carl       | east       | 0.9        | 0.72       | 0.58       | 0.97       | 0.77       | 0.53       | \n",
       "| 2018-01-02 | Carl       | east       | 1.8        | 1.44       | 1.15       | 1.79       | 1.32       | 1.27       | \n",
       "\n",
       "\n"
      ],
      "text/plain": [
       "   sale_date  sales_person region forecast_a forecast_b forecast_c actual_a\n",
       "1  2018-01-01 Abbie        west   1.3        1.04       0.83       1.38    \n",
       "2  2018-01-02 Abbie        west   2.6        2.08       1.66       2.55    \n",
       "3  2018-01-03 Abbie        west   3.9        3.12       2.50       4.05    \n",
       "4  2018-01-04 Abbie        west   5.2        4.16       3.33       4.86    \n",
       "5  2018-01-05 Abbie        west   6.5        5.20       4.16       6.09    \n",
       "6  2018-01-01 Brenda       east   1.7        1.36       1.09       1.72    \n",
       "7  2018-01-02 Brenda       east   3.4        2.72       2.18       3.16    \n",
       "8  2018-01-03 Brenda       east   5.1        4.08       3.26       5.06    \n",
       "9  2018-01-04 Brenda       east   6.8        5.44       4.35       6.46    \n",
       "10 2018-01-05 Brenda       east   8.5        6.80       5.44       8.67    \n",
       "11 2018-01-01 Carl         east   0.9        0.72       0.58       0.97    \n",
       "12 2018-01-02 Carl         east   1.8        1.44       1.15       1.79    \n",
       "   actual_b actual_c\n",
       "1  1.08     0.72    \n",
       "2  1.94     2.03    \n",
       "3  2.82     2.63    \n",
       "4  4.12     3.47    \n",
       "5  4.98     4.09    \n",
       "6  1.41     0.94    \n",
       "7  2.97     2.03    \n",
       "8  3.75     3.18    \n",
       "9  5.51     4.76    \n",
       "10 6.86     5.64    \n",
       "11 0.77     0.53    \n",
       "12 1.32     1.27    "
      ]
     },
     "metadata": {},
     "output_type": "display_data"
    }
   ],
   "source": [
    "suppressMessages(suppressWarnings(library(dplyr)))\n",
    "# Generate some example data to work with - TODO: move this into it's own script\n",
    "sales_person <- rep(\"Abbie\", 5)\n",
    "sales_person <- append(sales_person, rep(\"Brenda\", 5))\n",
    "sales_person <- append(sales_person, rep(\"Carl\", 5))\n",
    "sales_person <- append(sales_person, rep(\"Dirk\", 5))\n",
    "sales_person <- append(sales_person, rep(\"Ed\", 5))\n",
    "region <- rep('west', 5)                  # Abbie is in west region\n",
    "region <- append(region, rep('east', 5))  # Brenda is in east region\n",
    "region <- append(region, rep('east', 5))  # Carl is in east region\n",
    "region <- append(region, rep('west', 5))  # Dirk is in west region\n",
    "region <- append(region, rep('east', 5))  # Ed is in east region\n",
    "sale_date <- rep(seq(as.Date(\"2018-01-01\"), by = \"day\", length.out = 5), 5)\n",
    "forecast_a <- 1.3 * seq(1, 5, by = 1)\n",
    "forecast_a <- append(forecast_a, 1.7 * seq(1, 5, by = 1))\n",
    "forecast_a <- append(forecast_a, 0.9 * seq(1, 5, by = 1))\n",
    "forecast_a <- append(forecast_a, 2.1 * seq(1, 5, by = 1))\n",
    "forecast_a <- round(append(forecast_a, 0.5 * seq(1, 5, by = 1)), 2)\n",
    "forecast_b <- round(0.8 * forecast_a, 2)\n",
    "forecast_c <- round(0.8 * forecast_b, 2)\n",
    "# add a little noise to the forecast to simulate actual looking values\n",
    "set.seed(201801)\n",
    "actual_a <- round(forecast_a + rnorm(25, 0, 0.2), 2)\n",
    "actual_b <- round(forecast_b + rnorm(25, 0, 0.2), 2)\n",
    "actual_c <- round(forecast_c + rnorm(25, 0, 0.2), 2)\n",
    "\n",
    "sales_data <- tibble(sale_date, sales_person, region,\n",
    "                     forecast_a, forecast_b, forecast_c,\n",
    "                     actual_a, actual_b, actual_c)\n",
    "head(sales_data, 12) #[c(1,5,6,10,11,15,16,20,21,25),]"
   ]
  },
  {
   "cell_type": "code",
   "execution_count": null,
   "metadata": {
    "collapsed": true
   },
   "outputs": [],
   "source": []
  },
  {
   "cell_type": "code",
   "execution_count": 27,
   "metadata": {
    "collapsed": false
   },
   "outputs": [
    {
     "data": {
      "text/html": [
       "<table>\n",
       "<thead><tr><th scope=col>region</th><th scope=col>sum_forecast_a</th></tr></thead>\n",
       "<tbody>\n",
       "\t<tr><td>east</td><td>46.5</td></tr>\n",
       "\t<tr><td>west</td><td>51.0</td></tr>\n",
       "</tbody>\n",
       "</table>\n"
      ],
      "text/latex": [
       "\\begin{tabular}{r|ll}\n",
       " region & sum\\_forecast\\_a\\\\\n",
       "\\hline\n",
       "\t east & 46.5\\\\\n",
       "\t west & 51.0\\\\\n",
       "\\end{tabular}\n"
      ],
      "text/markdown": [
       "\n",
       "region | sum_forecast_a | \n",
       "|---|---|\n",
       "| east | 46.5 | \n",
       "| west | 51.0 | \n",
       "\n",
       "\n"
      ],
      "text/plain": [
       "  region sum_forecast_a\n",
       "1 east   46.5          \n",
       "2 west   51.0          "
      ]
     },
     "metadata": {},
     "output_type": "display_data"
    },
    {
     "data": {
      "text/html": [
       "<table>\n",
       "<thead><tr><th scope=col>region</th><th scope=col>sum_forecast_b</th></tr></thead>\n",
       "<tbody>\n",
       "\t<tr><td>east</td><td>37.2</td></tr>\n",
       "\t<tr><td>west</td><td>40.8</td></tr>\n",
       "</tbody>\n",
       "</table>\n"
      ],
      "text/latex": [
       "\\begin{tabular}{r|ll}\n",
       " region & sum\\_forecast\\_b\\\\\n",
       "\\hline\n",
       "\t east & 37.2\\\\\n",
       "\t west & 40.8\\\\\n",
       "\\end{tabular}\n"
      ],
      "text/markdown": [
       "\n",
       "region | sum_forecast_b | \n",
       "|---|---|\n",
       "| east | 37.2 | \n",
       "| west | 40.8 | \n",
       "\n",
       "\n"
      ],
      "text/plain": [
       "  region sum_forecast_b\n",
       "1 east   37.2          \n",
       "2 west   40.8          "
      ]
     },
     "metadata": {},
     "output_type": "display_data"
    },
    {
     "data": {
      "text/html": [
       "<table>\n",
       "<thead><tr><th scope=col>region</th><th scope=col>sum_forecast_c</th></tr></thead>\n",
       "<tbody>\n",
       "\t<tr><td>east </td><td>29.76</td></tr>\n",
       "\t<tr><td>west </td><td>32.64</td></tr>\n",
       "</tbody>\n",
       "</table>\n"
      ],
      "text/latex": [
       "\\begin{tabular}{r|ll}\n",
       " region & sum\\_forecast\\_c\\\\\n",
       "\\hline\n",
       "\t east  & 29.76\\\\\n",
       "\t west  & 32.64\\\\\n",
       "\\end{tabular}\n"
      ],
      "text/markdown": [
       "\n",
       "region | sum_forecast_c | \n",
       "|---|---|\n",
       "| east  | 29.76 | \n",
       "| west  | 32.64 | \n",
       "\n",
       "\n"
      ],
      "text/plain": [
       "  region sum_forecast_c\n",
       "1 east   29.76         \n",
       "2 west   32.64         "
      ]
     },
     "metadata": {},
     "output_type": "display_data"
    }
   ],
   "source": [
    "sales_data %>% group_by(region) %>% summarize(sum_forecast_a = sum(forecast_a))\n",
    "sales_data %>% group_by(region) %>% summarize(sum_forecast_b = sum(forecast_b))\n",
    "sales_data %>% group_by(region) %>% summarize(sum_forecast_c = sum(forecast_c))"
   ]
  },
  {
   "cell_type": "code",
   "execution_count": null,
   "metadata": {
    "collapsed": true
   },
   "outputs": [],
   "source": []
  },
  {
   "cell_type": "code",
   "execution_count": 34,
   "metadata": {
    "collapsed": false
   },
   "outputs": [
    {
     "data": {
      "text/html": [
       "<table>\n",
       "<thead><tr><th scope=col>region</th><th scope=col>sum_forecast</th></tr></thead>\n",
       "<tbody>\n",
       "\t<tr><td>east</td><td>46.5</td></tr>\n",
       "\t<tr><td>west</td><td>51.0</td></tr>\n",
       "</tbody>\n",
       "</table>\n"
      ],
      "text/latex": [
       "\\begin{tabular}{r|ll}\n",
       " region & sum\\_forecast\\\\\n",
       "\\hline\n",
       "\t east & 46.5\\\\\n",
       "\t west & 51.0\\\\\n",
       "\\end{tabular}\n"
      ],
      "text/markdown": [
       "\n",
       "region | sum_forecast | \n",
       "|---|---|\n",
       "| east | 46.5 | \n",
       "| west | 51.0 | \n",
       "\n",
       "\n"
      ],
      "text/plain": [
       "  region sum_forecast\n",
       "1 east   46.5        \n",
       "2 west   51.0        "
      ]
     },
     "metadata": {},
     "output_type": "display_data"
    }
   ],
   "source": [
    "sumByVar1 <- function(df, sum_col) {\n",
    "    quo_sum_col <- enquo(sum_col)\n",
    "    ret_df <- df %>% group_by(region) %>% summarize(sum_forecast = sum(!!quo_sum_col))\n",
    "    return(ret_df)\n",
    "}\n",
    "\n",
    "sumByVar1(sales_data, forecast_a)"
   ]
  },
  {
   "cell_type": "code",
   "execution_count": null,
   "metadata": {
    "collapsed": true
   },
   "outputs": [],
   "source": []
  },
  {
   "cell_type": "code",
   "execution_count": 37,
   "metadata": {
    "collapsed": false
   },
   "outputs": [
    {
     "data": {
      "text/html": [
       "<table>\n",
       "<thead><tr><th scope=col>region</th><th scope=col>sum_forecast</th></tr></thead>\n",
       "<tbody>\n",
       "\t<tr><td>east</td><td>37.2</td></tr>\n",
       "\t<tr><td>west</td><td>40.8</td></tr>\n",
       "</tbody>\n",
       "</table>\n"
      ],
      "text/latex": [
       "\\begin{tabular}{r|ll}\n",
       " region & sum\\_forecast\\\\\n",
       "\\hline\n",
       "\t east & 37.2\\\\\n",
       "\t west & 40.8\\\\\n",
       "\\end{tabular}\n"
      ],
      "text/markdown": [
       "\n",
       "region | sum_forecast | \n",
       "|---|---|\n",
       "| east | 37.2 | \n",
       "| west | 40.8 | \n",
       "\n",
       "\n"
      ],
      "text/plain": [
       "  region sum_forecast\n",
       "1 east   37.2        \n",
       "2 west   40.8        "
      ]
     },
     "metadata": {},
     "output_type": "display_data"
    }
   ],
   "source": [
    "sumByVar2 <- function(df, grp_col, sum_col) {\n",
    "    quo_grp_col <- enquo(grp_col)\n",
    "    quo_sum_col <- enquo(sum_col)\n",
    "    ret_df <- df %>% group_by(!!quo_grp_col) %>% summarize(sum_forecast = sum(!!quo_sum_col))\n",
    "    return(ret_df)\n",
    "}\n",
    "\n",
    "sumByVar2(sales_data, region, forecast_b)"
   ]
  },
  {
   "cell_type": "code",
   "execution_count": null,
   "metadata": {
    "collapsed": true
   },
   "outputs": [],
   "source": []
  },
  {
   "cell_type": "code",
   "execution_count": 44,
   "metadata": {
    "collapsed": false
   },
   "outputs": [
    {
     "data": {
      "text/html": [
       "<table>\n",
       "<thead><tr><th scope=col>region</th><th scope=col>sum_forecast_c</th></tr></thead>\n",
       "<tbody>\n",
       "\t<tr><td>east </td><td>29.76</td></tr>\n",
       "\t<tr><td>west </td><td>32.64</td></tr>\n",
       "</tbody>\n",
       "</table>\n"
      ],
      "text/latex": [
       "\\begin{tabular}{r|ll}\n",
       " region & sum\\_forecast\\_c\\\\\n",
       "\\hline\n",
       "\t east  & 29.76\\\\\n",
       "\t west  & 32.64\\\\\n",
       "\\end{tabular}\n"
      ],
      "text/markdown": [
       "\n",
       "region | sum_forecast_c | \n",
       "|---|---|\n",
       "| east  | 29.76 | \n",
       "| west  | 32.64 | \n",
       "\n",
       "\n"
      ],
      "text/plain": [
       "  region sum_forecast_c\n",
       "1 east   29.76         \n",
       "2 west   32.64         "
      ]
     },
     "metadata": {},
     "output_type": "display_data"
    }
   ],
   "source": [
    "sumByVar3 <- function(df, grp_col, sum_col) {\n",
    "    quo_grp_col <- enquo(grp_col)\n",
    "    quo_sum_col <- enquo(sum_col)\n",
    "    sum_name <- paste0(\"sum_\", quo_name(quo_sum_col))\n",
    "    ret_df <- df %>% group_by(!!quo_grp_col) %>% summarize(!!sum_name := sum(!!quo_sum_col))\n",
    "    return(ret_df)\n",
    "}\n",
    "\n",
    "sumByVar3(sales_data, region, forecast_c)"
   ]
  },
  {
   "cell_type": "code",
   "execution_count": null,
   "metadata": {
    "collapsed": true
   },
   "outputs": [],
   "source": []
  },
  {
   "cell_type": "code",
   "execution_count": null,
   "metadata": {
    "collapsed": true
   },
   "outputs": [],
   "source": []
  },
  {
   "cell_type": "code",
   "execution_count": null,
   "metadata": {
    "collapsed": true
   },
   "outputs": [],
   "source": []
  },
  {
   "cell_type": "code",
   "execution_count": null,
   "metadata": {
    "collapsed": true
   },
   "outputs": [],
   "source": []
  },
  {
   "cell_type": "code",
   "execution_count": null,
   "metadata": {
    "collapsed": true
   },
   "outputs": [],
   "source": []
  },
  {
   "cell_type": "markdown",
   "metadata": {},
   "source": [
    "## Refences\n",
    "\n",
    "1.  Programming with dplyr - Hadley Wickham [https://rpubs.com/hadley/dplyr-programming](https://rpubs.com/hadley/dplyr-programming)"
   ]
  }
 ],
 "metadata": {
  "kernelspec": {
   "display_name": "R",
   "language": "R",
   "name": "ir"
  },
  "language_info": {
   "codemirror_mode": "r",
   "file_extension": ".r",
   "mimetype": "text/x-r-source",
   "name": "R",
   "pygments_lexer": "r",
   "version": "3.4.3"
  }
 },
 "nbformat": 4,
 "nbformat_minor": 2
}
