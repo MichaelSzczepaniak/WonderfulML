{
 "cells": [
  {
   "cell_type": "markdown",
   "metadata": {},
   "source": [
    "## The Wonderful World of ML - Session 6: Data Wrangling in R - Part 1"
   ]
  },
  {
   "cell_type": "markdown",
   "metadata": {},
   "source": [
    "### Why focus on data wrangling?"
   ]
  },
  {
   "cell_type": "markdown",
   "metadata": {},
   "source": [
    "In the first of these sessions, we jumped right into a few of the basic ML algorithms: linear regresssion, logistic regression, LDA, QDA, and decision trees.  In this session we'll step back and look at data wrangling.  It's an important topic because the literature suggests [[1]](https://www.jstatsoft.org/article/view/v059i10/v59i10.pdf), it consumes roughly 80% of the time spent doing an analysis.\n",
    "\n",
    "If it takes this much time just to get the data in a usable form, it makes sense to spend a little time in building some skills in this area.\n",
    "\n",
    "\n"
   ]
  },
  {
   "cell_type": "code",
   "execution_count": null,
   "metadata": {
    "collapsed": true
   },
   "outputs": [],
   "source": []
  },
  {
   "cell_type": "code",
   "execution_count": null,
   "metadata": {
    "collapsed": true
   },
   "outputs": [],
   "source": []
  },
  {
   "cell_type": "markdown",
   "metadata": {
    "collapsed": true
   },
   "source": [
    "### Connect to example database\n",
    "\n",
    "We'll use the data from the dplyr tutorial given by Hadely Wickham here: [[2]](https://www.youtube.com/watch?v=8SGif63VW6E), [[3]](https://www.youtube.com/watch?v=Ue08LVuk790).  The database has been downloaded to the project so we can connect to it locally.  Here's a bit of code to do the connection and list out the tables in the database:"
   ]
  },
  {
   "cell_type": "code",
   "execution_count": 3,
   "metadata": {},
   "outputs": [
    {
     "data": {
      "text/html": [
       "<ol class=list-inline>\n",
       "\t<li>'airports'</li>\n",
       "\t<li>'flights'</li>\n",
       "\t<li>'planes'</li>\n",
       "\t<li>'sqlite_stat1'</li>\n",
       "\t<li>'weather'</li>\n",
       "</ol>\n"
      ],
      "text/latex": [
       "\\begin{enumerate*}\n",
       "\\item 'airports'\n",
       "\\item 'flights'\n",
       "\\item 'planes'\n",
       "\\item 'sqlite\\_stat1'\n",
       "\\item 'weather'\n",
       "\\end{enumerate*}\n"
      ],
      "text/markdown": [
       "1. 'airports'\n",
       "2. 'flights'\n",
       "3. 'planes'\n",
       "4. 'sqlite_stat1'\n",
       "5. 'weather'\n",
       "\n",
       "\n"
      ],
      "text/plain": [
       "[1] \"airports\"     \"flights\"      \"planes\"       \"sqlite_stat1\" \"weather\"     "
      ]
     },
     "metadata": {},
     "output_type": "display_data"
    }
   ],
   "source": [
    "suppressMessages(\n",
    "    suppressWarnings(\n",
    "        install.packages('RSQLite', repos = 'https://rweb.crmda.ku.edu/cran/')))\n",
    "suppressMessages(suppressWarnings(library(DBI)))\n",
    "suppressMessages(suppressWarnings(library(RSQLite)))\n",
    "# connect to the sqlite file - currently in the notebooks dir of the project\n",
    "# so we need to go up 2 levels to get to the data dir\n",
    "con = dbConnect(SQLite(), dbname=\"../../data/2014_dplyr_flight_data/hflights.sqlite3\")\n",
    "# get a list of all tables\n",
    "alltables = dbListTables(con)\n",
    "alltables"
   ]
  },
  {
   "cell_type": "markdown",
   "metadata": {},
   "source": [
    "### All roads lead to Rome - Many ways to get the same result\n",
    "\n",
    "A typical scenario which I've run into when I start some kind of analysis boils down to a series of choice that range from one of the two following extremes:\n",
    "\n",
    "+ Write (what's often turns out to be) a complex SQL query to give you exactly what you need: both content and structure.\n",
    "+ Write a simple SQL query that gets you the basic data content, but not in the right structure.  Then do a bunch of wrangling with dplyr to it into the right form.\n",
    "\n",
    "This trade-off isn't apparent until you have do one or more joins to get the kind of dataframe you need to work on.  We'll show such an example, but for now, we'll keep it simple while we cover the basics."
   ]
  },
  {
   "cell_type": "markdown",
   "metadata": {
    "collapsed": true
   },
   "source": [
    "### SQL Basics\n",
    "\n",
    "Let's make a simple SQL call from R to our database and take a look at the resulting dataframe."
   ]
  },
  {
   "cell_type": "code",
   "execution_count": 4,
   "metadata": {},
   "outputs": [
    {
     "data": {
      "text/html": [
       "<table>\n",
       "<thead><tr><th scope=col>date</th><th scope=col>hour</th><th scope=col>minute</th><th scope=col>dep</th><th scope=col>arr</th><th scope=col>dep_delay</th><th scope=col>arr_delay</th><th scope=col>carrier</th><th scope=col>flight</th><th scope=col>dest</th><th scope=col>plane</th><th scope=col>cancelled</th><th scope=col>time</th><th scope=col>dist</th></tr></thead>\n",
       "<tbody>\n",
       "\t<tr><td>14975 </td><td>14    </td><td> 0    </td><td>1400  </td><td>1500  </td><td> 0    </td><td>-10   </td><td>AA    </td><td>428   </td><td>DFW   </td><td>N576AA</td><td>0     </td><td>40    </td><td>224   </td></tr>\n",
       "\t<tr><td>14976 </td><td>14    </td><td> 1    </td><td>1401  </td><td>1501  </td><td> 1    </td><td> -9   </td><td>AA    </td><td>428   </td><td>DFW   </td><td>N557AA</td><td>0     </td><td>45    </td><td>224   </td></tr>\n",
       "\t<tr><td>14977 </td><td>13    </td><td>52    </td><td>1352  </td><td>1502  </td><td>-8    </td><td> -8   </td><td>AA    </td><td>428   </td><td>DFW   </td><td>N541AA</td><td>0     </td><td>48    </td><td>224   </td></tr>\n",
       "\t<tr><td>14978 </td><td>14    </td><td> 3    </td><td>1403  </td><td>1513  </td><td> 3    </td><td>  3   </td><td>AA    </td><td>428   </td><td>DFW   </td><td>N403AA</td><td>0     </td><td>39    </td><td>224   </td></tr>\n",
       "\t<tr><td>14979 </td><td>14    </td><td> 5    </td><td>1405  </td><td>1507  </td><td> 5    </td><td> -3   </td><td>AA    </td><td>428   </td><td>DFW   </td><td>N492AA</td><td>0     </td><td>44    </td><td>224   </td></tr>\n",
       "\t<tr><td>14980 </td><td>13    </td><td>59    </td><td>1359  </td><td>1503  </td><td>-1    </td><td> -7   </td><td>AA    </td><td>428   </td><td>DFW   </td><td>N262AA</td><td>0     </td><td>45    </td><td>224   </td></tr>\n",
       "</tbody>\n",
       "</table>\n"
      ],
      "text/latex": [
       "\\begin{tabular}{r|llllllllllllll}\n",
       " date & hour & minute & dep & arr & dep\\_delay & arr\\_delay & carrier & flight & dest & plane & cancelled & time & dist\\\\\n",
       "\\hline\n",
       "\t 14975  & 14     &  0     & 1400   & 1500   &  0     & -10    & AA     & 428    & DFW    & N576AA & 0      & 40     & 224   \\\\\n",
       "\t 14976  & 14     &  1     & 1401   & 1501   &  1     &  -9    & AA     & 428    & DFW    & N557AA & 0      & 45     & 224   \\\\\n",
       "\t 14977  & 13     & 52     & 1352   & 1502   & -8     &  -8    & AA     & 428    & DFW    & N541AA & 0      & 48     & 224   \\\\\n",
       "\t 14978  & 14     &  3     & 1403   & 1513   &  3     &   3    & AA     & 428    & DFW    & N403AA & 0      & 39     & 224   \\\\\n",
       "\t 14979  & 14     &  5     & 1405   & 1507   &  5     &  -3    & AA     & 428    & DFW    & N492AA & 0      & 44     & 224   \\\\\n",
       "\t 14980  & 13     & 59     & 1359   & 1503   & -1     &  -7    & AA     & 428    & DFW    & N262AA & 0      & 45     & 224   \\\\\n",
       "\\end{tabular}\n"
      ],
      "text/markdown": [
       "\n",
       "date | hour | minute | dep | arr | dep_delay | arr_delay | carrier | flight | dest | plane | cancelled | time | dist | \n",
       "|---|---|---|---|---|---|\n",
       "| 14975  | 14     |  0     | 1400   | 1500   |  0     | -10    | AA     | 428    | DFW    | N576AA | 0      | 40     | 224    | \n",
       "| 14976  | 14     |  1     | 1401   | 1501   |  1     |  -9    | AA     | 428    | DFW    | N557AA | 0      | 45     | 224    | \n",
       "| 14977  | 13     | 52     | 1352   | 1502   | -8     |  -8    | AA     | 428    | DFW    | N541AA | 0      | 48     | 224    | \n",
       "| 14978  | 14     |  3     | 1403   | 1513   |  3     |   3    | AA     | 428    | DFW    | N403AA | 0      | 39     | 224    | \n",
       "| 14979  | 14     |  5     | 1405   | 1507   |  5     |  -3    | AA     | 428    | DFW    | N492AA | 0      | 44     | 224    | \n",
       "| 14980  | 13     | 59     | 1359   | 1503   | -1     |  -7    | AA     | 428    | DFW    | N262AA | 0      | 45     | 224    | \n",
       "\n",
       "\n"
      ],
      "text/plain": [
       "  date  hour minute dep  arr  dep_delay arr_delay carrier flight dest plane \n",
       "1 14975 14    0     1400 1500  0        -10       AA      428    DFW  N576AA\n",
       "2 14976 14    1     1401 1501  1         -9       AA      428    DFW  N557AA\n",
       "3 14977 13   52     1352 1502 -8         -8       AA      428    DFW  N541AA\n",
       "4 14978 14    3     1403 1513  3          3       AA      428    DFW  N403AA\n",
       "5 14979 14    5     1405 1507  5         -3       AA      428    DFW  N492AA\n",
       "6 14980 13   59     1359 1503 -1         -7       AA      428    DFW  N262AA\n",
       "  cancelled time dist\n",
       "1 0         40   224 \n",
       "2 0         45   224 \n",
       "3 0         48   224 \n",
       "4 0         39   224 \n",
       "5 0         44   224 \n",
       "6 0         45   224 "
      ]
     },
     "metadata": {},
     "output_type": "display_data"
    },
    {
     "data": {
      "text/html": [
       "227496"
      ],
      "text/latex": [
       "227496"
      ],
      "text/markdown": [
       "227496"
      ],
      "text/plain": [
       "[1] 227496"
      ]
     },
     "metadata": {},
     "output_type": "display_data"
    }
   ],
   "source": [
    "query_string <- \"SELECT * FROM flights\"  # get all the records in the flights table\n",
    "# Fetch all query results into a data frame:\n",
    "flight_data <- dbGetQuery(con, query_string)\n",
    "head(flight_data)\n",
    "nrow(flight_data)\n",
    "\n",
    "# in case we need the df from the csv\n",
    "#library(dplyr)\n",
    "#path_flight_data <- \"D:\\\\dev\\\\WonderfulML\\\\data\\\\2014_dplyr_flight_data\\\\flights.csv\"\n",
    "#flights_csv <- tbl_df(read.csv(path_flight_data, stringsAsFactors = FALSE))\n",
    "#flights_csv$date <- as.Date(flights$date)"
   ]
  },
  {
   "cell_type": "markdown",
   "metadata": {},
   "source": [
    "Let's fix those dates.  This is the kind of stuff you'll typically run into when you start working with a new dataset.  After reading a little of the SQLite doc's on date types [[6]](https://www.sqlite.org/datatype3.html#date_and_time_datatype), we discover that there are no explicit \"date\" types.  Instead, dates are expressed as either TEXT, INTEGER, or REAL types.\n",
    "\n",
    "So how do we find out what type what types each field are in?  Again, you need some database-specific info here which you can get of the doc's.  To save a some time, you submit a query using structured like this:"
   ]
  },
  {
   "cell_type": "code",
   "execution_count": 5,
   "metadata": {},
   "outputs": [
    {
     "data": {
      "text/html": [
       "<table>\n",
       "<thead><tr><th scope=col>cid</th><th scope=col>name</th><th scope=col>type</th><th scope=col>notnull</th><th scope=col>dflt_value</th><th scope=col>pk</th></tr></thead>\n",
       "<tbody>\n",
       "\t<tr><td> 0       </td><td>date     </td><td>REAL     </td><td>0        </td><td>NA       </td><td>0        </td></tr>\n",
       "\t<tr><td> 1       </td><td>hour     </td><td>INTEGER  </td><td>0        </td><td>NA       </td><td>0        </td></tr>\n",
       "\t<tr><td> 2       </td><td>minute   </td><td>INTEGER  </td><td>0        </td><td>NA       </td><td>0        </td></tr>\n",
       "\t<tr><td> 3       </td><td>dep      </td><td>INTEGER  </td><td>0        </td><td>NA       </td><td>0        </td></tr>\n",
       "\t<tr><td> 4       </td><td>arr      </td><td>INTEGER  </td><td>0        </td><td>NA       </td><td>0        </td></tr>\n",
       "\t<tr><td> 5       </td><td>dep_delay</td><td>INTEGER  </td><td>0        </td><td>NA       </td><td>0        </td></tr>\n",
       "\t<tr><td> 6       </td><td>arr_delay</td><td>INTEGER  </td><td>0        </td><td>NA       </td><td>0        </td></tr>\n",
       "\t<tr><td> 7       </td><td>carrier  </td><td>TEXT     </td><td>0        </td><td>NA       </td><td>0        </td></tr>\n",
       "\t<tr><td> 8       </td><td>flight   </td><td>INTEGER  </td><td>0        </td><td>NA       </td><td>0        </td></tr>\n",
       "\t<tr><td> 9       </td><td>dest     </td><td>TEXT     </td><td>0        </td><td>NA       </td><td>0        </td></tr>\n",
       "\t<tr><td>10       </td><td>plane    </td><td>TEXT     </td><td>0        </td><td>NA       </td><td>0        </td></tr>\n",
       "\t<tr><td>11       </td><td>cancelled</td><td>INTEGER  </td><td>0        </td><td>NA       </td><td>0        </td></tr>\n",
       "\t<tr><td>12       </td><td>time     </td><td>INTEGER  </td><td>0        </td><td>NA       </td><td>0        </td></tr>\n",
       "\t<tr><td>13       </td><td>dist     </td><td>INTEGER  </td><td>0        </td><td>NA       </td><td>0        </td></tr>\n",
       "</tbody>\n",
       "</table>\n"
      ],
      "text/latex": [
       "\\begin{tabular}{r|llllll}\n",
       " cid & name & type & notnull & dflt\\_value & pk\\\\\n",
       "\\hline\n",
       "\t  0        & date      & REAL      & 0         & NA        & 0        \\\\\n",
       "\t  1        & hour      & INTEGER   & 0         & NA        & 0        \\\\\n",
       "\t  2        & minute    & INTEGER   & 0         & NA        & 0        \\\\\n",
       "\t  3        & dep       & INTEGER   & 0         & NA        & 0        \\\\\n",
       "\t  4        & arr       & INTEGER   & 0         & NA        & 0        \\\\\n",
       "\t  5          & dep\\_delay & INTEGER     & 0           & NA          & 0          \\\\\n",
       "\t  6          & arr\\_delay & INTEGER     & 0           & NA          & 0          \\\\\n",
       "\t  7        & carrier   & TEXT      & 0         & NA        & 0        \\\\\n",
       "\t  8        & flight    & INTEGER   & 0         & NA        & 0        \\\\\n",
       "\t  9        & dest      & TEXT      & 0         & NA        & 0        \\\\\n",
       "\t 10        & plane     & TEXT      & 0         & NA        & 0        \\\\\n",
       "\t 11        & cancelled & INTEGER   & 0         & NA        & 0        \\\\\n",
       "\t 12        & time      & INTEGER   & 0         & NA        & 0        \\\\\n",
       "\t 13        & dist      & INTEGER   & 0         & NA        & 0        \\\\\n",
       "\\end{tabular}\n"
      ],
      "text/markdown": [
       "\n",
       "cid | name | type | notnull | dflt_value | pk | \n",
       "|---|---|---|---|---|---|---|---|---|---|---|---|---|---|\n",
       "|  0        | date      | REAL      | 0         | NA        | 0         | \n",
       "|  1        | hour      | INTEGER   | 0         | NA        | 0         | \n",
       "|  2        | minute    | INTEGER   | 0         | NA        | 0         | \n",
       "|  3        | dep       | INTEGER   | 0         | NA        | 0         | \n",
       "|  4        | arr       | INTEGER   | 0         | NA        | 0         | \n",
       "|  5        | dep_delay | INTEGER   | 0         | NA        | 0         | \n",
       "|  6        | arr_delay | INTEGER   | 0         | NA        | 0         | \n",
       "|  7        | carrier   | TEXT      | 0         | NA        | 0         | \n",
       "|  8        | flight    | INTEGER   | 0         | NA        | 0         | \n",
       "|  9        | dest      | TEXT      | 0         | NA        | 0         | \n",
       "| 10        | plane     | TEXT      | 0         | NA        | 0         | \n",
       "| 11        | cancelled | INTEGER   | 0         | NA        | 0         | \n",
       "| 12        | time      | INTEGER   | 0         | NA        | 0         | \n",
       "| 13        | dist      | INTEGER   | 0         | NA        | 0         | \n",
       "\n",
       "\n"
      ],
      "text/plain": [
       "   cid name      type    notnull dflt_value pk\n",
       "1   0  date      REAL    0       NA         0 \n",
       "2   1  hour      INTEGER 0       NA         0 \n",
       "3   2  minute    INTEGER 0       NA         0 \n",
       "4   3  dep       INTEGER 0       NA         0 \n",
       "5   4  arr       INTEGER 0       NA         0 \n",
       "6   5  dep_delay INTEGER 0       NA         0 \n",
       "7   6  arr_delay INTEGER 0       NA         0 \n",
       "8   7  carrier   TEXT    0       NA         0 \n",
       "9   8  flight    INTEGER 0       NA         0 \n",
       "10  9  dest      TEXT    0       NA         0 \n",
       "11 10  plane     TEXT    0       NA         0 \n",
       "12 11  cancelled INTEGER 0       NA         0 \n",
       "13 12  time      INTEGER 0       NA         0 \n",
       "14 13  dist      INTEGER 0       NA         0 "
      ]
     },
     "metadata": {},
     "output_type": "display_data"
    }
   ],
   "source": [
    "data_types_flights <- dbGetQuery(con, \"Pragma table_info (flights)\")\n",
    "data_types_flights"
   ]
  },
  {
   "cell_type": "markdown",
   "metadata": {
    "collapsed": true
   },
   "source": [
    "Looks like a real, but it can't be: \n",
    "\n",
    "*the number of days since noon in Greenwich on November 24, 4714 B.C. according to the proleptic Gregorian calendar*\n",
    "\n",
    "as described in the documentation because the values are way too small.  So how do we hack these dates?"
   ]
  },
  {
   "cell_type": "markdown",
   "metadata": {},
   "source": [
    "Here's where some hacking skills come in handy.  I'll bet these dates are actually INTEGER instead of REAL."
   ]
  },
  {
   "cell_type": "code",
   "execution_count": 8,
   "metadata": {
    "collapsed": false
   },
   "outputs": [
    {
     "data": {
      "text/html": [
       "<time datetime=\"2011-01-01\">2011-01-01</time>"
      ],
      "text/latex": [
       "2011-01-01"
      ],
      "text/markdown": [
       "2011-01-01"
      ],
      "text/plain": [
       "[1] \"2011-01-01\""
      ]
     },
     "metadata": {},
     "output_type": "display_data"
    }
   ],
   "source": [
    "first_date <- as.Date(\"1970-01-01\") + as.integer(flight_data$date[1])\n",
    "first_date"
   ]
  },
  {
   "cell_type": "markdown",
   "metadata": {},
   "source": [
    "If we look at the **flights.csv** file, we see that this is the date of the first record.  So we our hunch seemed on the mark."
   ]
  },
  {
   "cell_type": "code",
   "execution_count": 14,
   "metadata": {},
   "outputs": [
    {
     "data": {
      "text/html": [
       "<table>\n",
       "<thead><tr><th scope=col>DATE</th><th scope=col>hour</th><th scope=col>minute</th><th scope=col>dep</th><th scope=col>arr</th><th scope=col>dep_delay</th><th scope=col>arr_delay</th><th scope=col>carrier</th><th scope=col>flight</th><th scope=col>dest</th><th scope=col>plane</th><th scope=col>cancelled</th><th scope=col>time</th><th scope=col>dist</th></tr></thead>\n",
       "<tbody>\n",
       "\t<tr><td>14975 </td><td>14    </td><td> 0    </td><td>1400  </td><td>1500  </td><td> 0    </td><td>-10   </td><td>AA    </td><td>428   </td><td>DFW   </td><td>N576AA</td><td>0     </td><td>40    </td><td>224   </td></tr>\n",
       "\t<tr><td>14976 </td><td>14    </td><td> 1    </td><td>1401  </td><td>1501  </td><td> 1    </td><td> -9   </td><td>AA    </td><td>428   </td><td>DFW   </td><td>N557AA</td><td>0     </td><td>45    </td><td>224   </td></tr>\n",
       "\t<tr><td>14977 </td><td>13    </td><td>52    </td><td>1352  </td><td>1502  </td><td>-8    </td><td> -8   </td><td>AA    </td><td>428   </td><td>DFW   </td><td>N541AA</td><td>0     </td><td>48    </td><td>224   </td></tr>\n",
       "\t<tr><td>14978 </td><td>14    </td><td> 3    </td><td>1403  </td><td>1513  </td><td> 3    </td><td>  3   </td><td>AA    </td><td>428   </td><td>DFW   </td><td>N403AA</td><td>0     </td><td>39    </td><td>224   </td></tr>\n",
       "\t<tr><td>14979 </td><td>14    </td><td> 5    </td><td>1405  </td><td>1507  </td><td> 5    </td><td> -3   </td><td>AA    </td><td>428   </td><td>DFW   </td><td>N492AA</td><td>0     </td><td>44    </td><td>224   </td></tr>\n",
       "\t<tr><td>14980 </td><td>13    </td><td>59    </td><td>1359  </td><td>1503  </td><td>-1    </td><td> -7   </td><td>AA    </td><td>428   </td><td>DFW   </td><td>N262AA</td><td>0     </td><td>45    </td><td>224   </td></tr>\n",
       "</tbody>\n",
       "</table>\n"
      ],
      "text/latex": [
       "\\begin{tabular}{r|llllllllllllll}\n",
       " DATE & hour & minute & dep & arr & dep\\_delay & arr\\_delay & carrier & flight & dest & plane & cancelled & time & dist\\\\\n",
       "\\hline\n",
       "\t 14975  & 14     &  0     & 1400   & 1500   &  0     & -10    & AA     & 428    & DFW    & N576AA & 0      & 40     & 224   \\\\\n",
       "\t 14976  & 14     &  1     & 1401   & 1501   &  1     &  -9    & AA     & 428    & DFW    & N557AA & 0      & 45     & 224   \\\\\n",
       "\t 14977  & 13     & 52     & 1352   & 1502   & -8     &  -8    & AA     & 428    & DFW    & N541AA & 0      & 48     & 224   \\\\\n",
       "\t 14978  & 14     &  3     & 1403   & 1513   &  3     &   3    & AA     & 428    & DFW    & N403AA & 0      & 39     & 224   \\\\\n",
       "\t 14979  & 14     &  5     & 1405   & 1507   &  5     &  -3    & AA     & 428    & DFW    & N492AA & 0      & 44     & 224   \\\\\n",
       "\t 14980  & 13     & 59     & 1359   & 1503   & -1     &  -7    & AA     & 428    & DFW    & N262AA & 0      & 45     & 224   \\\\\n",
       "\\end{tabular}\n"
      ],
      "text/markdown": [
       "\n",
       "DATE | hour | minute | dep | arr | dep_delay | arr_delay | carrier | flight | dest | plane | cancelled | time | dist | \n",
       "|---|---|---|---|---|---|\n",
       "| 14975  | 14     |  0     | 1400   | 1500   |  0     | -10    | AA     | 428    | DFW    | N576AA | 0      | 40     | 224    | \n",
       "| 14976  | 14     |  1     | 1401   | 1501   |  1     |  -9    | AA     | 428    | DFW    | N557AA | 0      | 45     | 224    | \n",
       "| 14977  | 13     | 52     | 1352   | 1502   | -8     |  -8    | AA     | 428    | DFW    | N541AA | 0      | 48     | 224    | \n",
       "| 14978  | 14     |  3     | 1403   | 1513   |  3     |   3    | AA     | 428    | DFW    | N403AA | 0      | 39     | 224    | \n",
       "| 14979  | 14     |  5     | 1405   | 1507   |  5     |  -3    | AA     | 428    | DFW    | N492AA | 0      | 44     | 224    | \n",
       "| 14980  | 13     | 59     | 1359   | 1503   | -1     |  -7    | AA     | 428    | DFW    | N262AA | 0      | 45     | 224    | \n",
       "\n",
       "\n"
      ],
      "text/plain": [
       "  DATE  hour minute dep  arr  dep_delay arr_delay carrier flight dest plane \n",
       "1 14975 14    0     1400 1500  0        -10       AA      428    DFW  N576AA\n",
       "2 14976 14    1     1401 1501  1         -9       AA      428    DFW  N557AA\n",
       "3 14977 13   52     1352 1502 -8         -8       AA      428    DFW  N541AA\n",
       "4 14978 14    3     1403 1513  3          3       AA      428    DFW  N403AA\n",
       "5 14979 14    5     1405 1507  5         -3       AA      428    DFW  N492AA\n",
       "6 14980 13   59     1359 1503 -1         -7       AA      428    DFW  N262AA\n",
       "  cancelled time dist\n",
       "1 0         40   224 \n",
       "2 0         45   224 \n",
       "3 0         48   224 \n",
       "4 0         39   224 \n",
       "5 0         44   224 \n",
       "6 0         45   224 "
      ]
     },
     "metadata": {},
     "output_type": "display_data"
    },
    {
     "data": {
      "text/html": [
       "'type before conversion: Date'"
      ],
      "text/latex": [
       "'type before conversion: Date'"
      ],
      "text/markdown": [
       "'type before conversion: Date'"
      ],
      "text/plain": [
       "[1] \"type before conversion: Date\""
      ]
     },
     "metadata": {},
     "output_type": "display_data"
    },
    {
     "data": {
      "text/html": [
       "'type AFTER conversion: Date'"
      ],
      "text/latex": [
       "'type AFTER conversion: Date'"
      ],
      "text/markdown": [
       "'type AFTER conversion: Date'"
      ],
      "text/plain": [
       "[1] \"type AFTER conversion: Date\""
      ]
     },
     "metadata": {},
     "output_type": "display_data"
    },
    {
     "data": {
      "text/html": [
       "<table>\n",
       "<thead><tr><th scope=col>DATE</th><th scope=col>hour</th><th scope=col>minute</th><th scope=col>dep</th><th scope=col>arr</th><th scope=col>dep_delay</th><th scope=col>arr_delay</th><th scope=col>carrier</th><th scope=col>flight</th><th scope=col>dest</th><th scope=col>plane</th><th scope=col>cancelled</th><th scope=col>time</th><th scope=col>dist</th></tr></thead>\n",
       "<tbody>\n",
       "\t<tr><td>2011-01-01</td><td>14        </td><td> 0        </td><td>1400      </td><td>1500      </td><td> 0        </td><td>-10       </td><td>AA        </td><td>428       </td><td>DFW       </td><td>N576AA    </td><td>0         </td><td>40        </td><td>224       </td></tr>\n",
       "\t<tr><td>2011-01-02</td><td>14        </td><td> 1        </td><td>1401      </td><td>1501      </td><td> 1        </td><td> -9       </td><td>AA        </td><td>428       </td><td>DFW       </td><td>N557AA    </td><td>0         </td><td>45        </td><td>224       </td></tr>\n",
       "\t<tr><td>2011-01-03</td><td>13        </td><td>52        </td><td>1352      </td><td>1502      </td><td>-8        </td><td> -8       </td><td>AA        </td><td>428       </td><td>DFW       </td><td>N541AA    </td><td>0         </td><td>48        </td><td>224       </td></tr>\n",
       "\t<tr><td>2011-01-04</td><td>14        </td><td> 3        </td><td>1403      </td><td>1513      </td><td> 3        </td><td>  3       </td><td>AA        </td><td>428       </td><td>DFW       </td><td>N403AA    </td><td>0         </td><td>39        </td><td>224       </td></tr>\n",
       "\t<tr><td>2011-01-05</td><td>14        </td><td> 5        </td><td>1405      </td><td>1507      </td><td> 5        </td><td> -3       </td><td>AA        </td><td>428       </td><td>DFW       </td><td>N492AA    </td><td>0         </td><td>44        </td><td>224       </td></tr>\n",
       "\t<tr><td>2011-01-06</td><td>13        </td><td>59        </td><td>1359      </td><td>1503      </td><td>-1        </td><td> -7       </td><td>AA        </td><td>428       </td><td>DFW       </td><td>N262AA    </td><td>0         </td><td>45        </td><td>224       </td></tr>\n",
       "</tbody>\n",
       "</table>\n"
      ],
      "text/latex": [
       "\\begin{tabular}{r|llllllllllllll}\n",
       " DATE & hour & minute & dep & arr & dep\\_delay & arr\\_delay & carrier & flight & dest & plane & cancelled & time & dist\\\\\n",
       "\\hline\n",
       "\t 2011-01-01 & 14         &  0         & 1400       & 1500       &  0         & -10        & AA         & 428        & DFW        & N576AA     & 0          & 40         & 224       \\\\\n",
       "\t 2011-01-02 & 14         &  1         & 1401       & 1501       &  1         &  -9        & AA         & 428        & DFW        & N557AA     & 0          & 45         & 224       \\\\\n",
       "\t 2011-01-03 & 13         & 52         & 1352       & 1502       & -8         &  -8        & AA         & 428        & DFW        & N541AA     & 0          & 48         & 224       \\\\\n",
       "\t 2011-01-04 & 14         &  3         & 1403       & 1513       &  3         &   3        & AA         & 428        & DFW        & N403AA     & 0          & 39         & 224       \\\\\n",
       "\t 2011-01-05 & 14         &  5         & 1405       & 1507       &  5         &  -3        & AA         & 428        & DFW        & N492AA     & 0          & 44         & 224       \\\\\n",
       "\t 2011-01-06 & 13         & 59         & 1359       & 1503       & -1         &  -7        & AA         & 428        & DFW        & N262AA     & 0          & 45         & 224       \\\\\n",
       "\\end{tabular}\n"
      ],
      "text/markdown": [
       "\n",
       "DATE | hour | minute | dep | arr | dep_delay | arr_delay | carrier | flight | dest | plane | cancelled | time | dist | \n",
       "|---|---|---|---|---|---|\n",
       "| 2011-01-01 | 14         |  0         | 1400       | 1500       |  0         | -10        | AA         | 428        | DFW        | N576AA     | 0          | 40         | 224        | \n",
       "| 2011-01-02 | 14         |  1         | 1401       | 1501       |  1         |  -9        | AA         | 428        | DFW        | N557AA     | 0          | 45         | 224        | \n",
       "| 2011-01-03 | 13         | 52         | 1352       | 1502       | -8         |  -8        | AA         | 428        | DFW        | N541AA     | 0          | 48         | 224        | \n",
       "| 2011-01-04 | 14         |  3         | 1403       | 1513       |  3         |   3        | AA         | 428        | DFW        | N403AA     | 0          | 39         | 224        | \n",
       "| 2011-01-05 | 14         |  5         | 1405       | 1507       |  5         |  -3        | AA         | 428        | DFW        | N492AA     | 0          | 44         | 224        | \n",
       "| 2011-01-06 | 13         | 59         | 1359       | 1503       | -1         |  -7        | AA         | 428        | DFW        | N262AA     | 0          | 45         | 224        | \n",
       "\n",
       "\n"
      ],
      "text/plain": [
       "  DATE       hour minute dep  arr  dep_delay arr_delay carrier flight dest\n",
       "1 2011-01-01 14    0     1400 1500  0        -10       AA      428    DFW \n",
       "2 2011-01-02 14    1     1401 1501  1         -9       AA      428    DFW \n",
       "3 2011-01-03 13   52     1352 1502 -8         -8       AA      428    DFW \n",
       "4 2011-01-04 14    3     1403 1513  3          3       AA      428    DFW \n",
       "5 2011-01-05 14    5     1405 1507  5         -3       AA      428    DFW \n",
       "6 2011-01-06 13   59     1359 1503 -1         -7       AA      428    DFW \n",
       "  plane  cancelled time dist\n",
       "1 N576AA 0         40   224 \n",
       "2 N557AA 0         45   224 \n",
       "3 N541AA 0         48   224 \n",
       "4 N403AA 0         39   224 \n",
       "5 N492AA 0         44   224 \n",
       "6 N262AA 0         45   224 "
      ]
     },
     "metadata": {},
     "output_type": "display_data"
    }
   ],
   "source": [
    "query_string <- paste0(\"SELECT CAST(date AS INTEGER) as DATE, \",\n",
    "                       \"hour, minute, dep, arr, dep_delay, arr_delay, carrier, \",\n",
    "                       \"flight, dest, plane, cancelled, time, dist FROM flights\")\n",
    "flights <- dbGetQuery(con, query_string)\n",
    "head(flight_data)\n",
    "msg <- paste0(\"type before conversion: \", class(flight_data$DATE))\n",
    "msg\n",
    "suppressMessages(suppressWarnings(library(dplyr)))\n",
    "flights <- mutate(flights, DATE = as.Date(DATE))\n",
    "msg <- paste0(\"type AFTER conversion: \", class(flight_data$DATE))\n",
    "msg\n",
    "head(flight_data)"
   ]
  },
  {
   "cell_type": "markdown",
   "metadata": {},
   "source": [
    "Single table dplyr verbs:\n",
    "\n",
    "+ **filter**: keep rows matching criteria\n",
    "+ **select**: pick columns by name\n",
    "+ **arrange**: reorder rows\n",
    "+ **mutate**: add new variables\n",
    "+ **summarise**: reduce variables to values (typically used with **group_by**)\n",
    "\n",
    "Let's look at how to use **filter**.  From page 18 in Hadley's slides [4]:"
   ]
  },
  {
   "cell_type": "code",
   "execution_count": 15,
   "metadata": {},
   "outputs": [
    {
     "data": {
      "text/html": [
       "<table>\n",
       "<thead><tr><th scope=col>color</th><th scope=col>value</th></tr></thead>\n",
       "<tbody>\n",
       "\t<tr><td>blue</td><td>1   </td></tr>\n",
       "\t<tr><td>blue</td><td>3   </td></tr>\n",
       "\t<tr><td>blue</td><td>4   </td></tr>\n",
       "</tbody>\n",
       "</table>\n"
      ],
      "text/latex": [
       "\\begin{tabular}{r|ll}\n",
       " color & value\\\\\n",
       "\\hline\n",
       "\t blue & 1   \\\\\n",
       "\t blue & 3   \\\\\n",
       "\t blue & 4   \\\\\n",
       "\\end{tabular}\n"
      ],
      "text/markdown": [
       "\n",
       "color | value | \n",
       "|---|---|---|\n",
       "| blue | 1    | \n",
       "| blue | 3    | \n",
       "| blue | 4    | \n",
       "\n",
       "\n"
      ],
      "text/plain": [
       "  color value\n",
       "1 blue  1    \n",
       "2 blue  3    \n",
       "3 blue  4    "
      ]
     },
     "metadata": {},
     "output_type": "display_data"
    }
   ],
   "source": [
    "df <- data.frame(color = c(\"blue\", \"black\", \"blue\", \"blue\", \"black\"), value = 1:5)\n",
    "suppressMessages(suppressWarnings(library(dplyr)))\n",
    "filter(df, color == \"blue\")"
   ]
  },
  {
   "cell_type": "markdown",
   "metadata": {},
   "source": [
    "Find all flights:\n",
    "+ To SFO or OAK\n",
    "+ In January\n",
    "+ Delayed by more than an hour\n",
    "+ That departed between midnight and five am.\n",
    "+ Where the arrival delay was more than twice the departure delay"
   ]
  },
  {
   "cell_type": "code",
   "execution_count": 18,
   "metadata": {},
   "outputs": [
    {
     "data": {
      "text/html": [
       "'Date'"
      ],
      "text/latex": [
       "'Date'"
      ],
      "text/markdown": [
       "'Date'"
      ],
      "text/plain": [
       "[1] \"Date\""
      ]
     },
     "metadata": {},
     "output_type": "display_data"
    }
   ],
   "source": [
    "class(flights$DATE)"
   ]
  },
  {
   "cell_type": "code",
   "execution_count": 20,
   "metadata": {},
   "outputs": [
    {
     "data": {
      "text/html": [
       "<table>\n",
       "<thead><tr><th scope=col>DATE</th><th scope=col>hour</th><th scope=col>minute</th><th scope=col>dep</th><th scope=col>arr</th><th scope=col>dep_delay</th><th scope=col>arr_delay</th><th scope=col>carrier</th><th scope=col>flight</th><th scope=col>dest</th><th scope=col>plane</th><th scope=col>cancelled</th><th scope=col>time</th><th scope=col>dist</th></tr></thead>\n",
       "<tbody>\n",
       "\t<tr><td>2011-01-31</td><td> 8        </td><td>51        </td><td> 851      </td><td>1052      </td><td> 1        </td><td>-27       </td><td>CO        </td><td>170       </td><td>SFO       </td><td>N35407    </td><td>0         </td><td>225       </td><td>1635      </td></tr>\n",
       "\t<tr><td>2011-01-31</td><td>11        </td><td>29        </td><td>1129      </td><td>1351      </td><td> 4        </td><td>  1       </td><td>CO        </td><td>270       </td><td>SFO       </td><td>N37420    </td><td>0         </td><td>228       </td><td>1635      </td></tr>\n",
       "\t<tr><td>2011-01-31</td><td>14        </td><td>32        </td><td>1432      </td><td>1656      </td><td> 7        </td><td>  5       </td><td>CO        </td><td>370       </td><td>SFO       </td><td>N27213    </td><td>0         </td><td>229       </td><td>1635      </td></tr>\n",
       "\t<tr><td>2011-01-31</td><td>17        </td><td>48        </td><td>1748      </td><td>2001      </td><td> 3        </td><td> -4       </td><td>CO        </td><td>570       </td><td>SFO       </td><td>N75436    </td><td>0         </td><td>236       </td><td>1635      </td></tr>\n",
       "\t<tr><td>2011-01-31</td><td>21        </td><td>43        </td><td>2143      </td><td>2338      </td><td>50        </td><td> 24       </td><td>CO        </td><td>770       </td><td>SFO       </td><td>N37281    </td><td>0         </td><td>224       </td><td>1635      </td></tr>\n",
       "\t<tr><td>2011-01-31</td><td> 7        </td><td>29        </td><td> 729      </td><td>1002      </td><td>-1        </td><td>  2       </td><td>CO        </td><td>771       </td><td>SFO       </td><td>N26226    </td><td>0         </td><td>237       </td><td>1635      </td></tr>\n",
       "</tbody>\n",
       "</table>\n"
      ],
      "text/latex": [
       "\\begin{tabular}{r|llllllllllllll}\n",
       " DATE & hour & minute & dep & arr & dep\\_delay & arr\\_delay & carrier & flight & dest & plane & cancelled & time & dist\\\\\n",
       "\\hline\n",
       "\t 2011-01-31 &  8         & 51         &  851       & 1052       &  1         & -27        & CO         & 170        & SFO        & N35407     & 0          & 225        & 1635      \\\\\n",
       "\t 2011-01-31 & 11         & 29         & 1129       & 1351       &  4         &   1        & CO         & 270        & SFO        & N37420     & 0          & 228        & 1635      \\\\\n",
       "\t 2011-01-31 & 14         & 32         & 1432       & 1656       &  7         &   5        & CO         & 370        & SFO        & N27213     & 0          & 229        & 1635      \\\\\n",
       "\t 2011-01-31 & 17         & 48         & 1748       & 2001       &  3         &  -4        & CO         & 570        & SFO        & N75436     & 0          & 236        & 1635      \\\\\n",
       "\t 2011-01-31 & 21         & 43         & 2143       & 2338       & 50         &  24        & CO         & 770        & SFO        & N37281     & 0          & 224        & 1635      \\\\\n",
       "\t 2011-01-31 &  7         & 29         &  729       & 1002       & -1         &   2        & CO         & 771        & SFO        & N26226     & 0          & 237        & 1635      \\\\\n",
       "\\end{tabular}\n"
      ],
      "text/markdown": [
       "\n",
       "DATE | hour | minute | dep | arr | dep_delay | arr_delay | carrier | flight | dest | plane | cancelled | time | dist | \n",
       "|---|---|---|---|---|---|\n",
       "| 2011-01-31 |  8         | 51         |  851       | 1052       |  1         | -27        | CO         | 170        | SFO        | N35407     | 0          | 225        | 1635       | \n",
       "| 2011-01-31 | 11         | 29         | 1129       | 1351       |  4         |   1        | CO         | 270        | SFO        | N37420     | 0          | 228        | 1635       | \n",
       "| 2011-01-31 | 14         | 32         | 1432       | 1656       |  7         |   5        | CO         | 370        | SFO        | N27213     | 0          | 229        | 1635       | \n",
       "| 2011-01-31 | 17         | 48         | 1748       | 2001       |  3         |  -4        | CO         | 570        | SFO        | N75436     | 0          | 236        | 1635       | \n",
       "| 2011-01-31 | 21         | 43         | 2143       | 2338       | 50         |  24        | CO         | 770        | SFO        | N37281     | 0          | 224        | 1635       | \n",
       "| 2011-01-31 |  7         | 29         |  729       | 1002       | -1         |   2        | CO         | 771        | SFO        | N26226     | 0          | 237        | 1635       | \n",
       "\n",
       "\n"
      ],
      "text/plain": [
       "  DATE       hour minute dep  arr  dep_delay arr_delay carrier flight dest\n",
       "1 2011-01-31  8   51      851 1052  1        -27       CO      170    SFO \n",
       "2 2011-01-31 11   29     1129 1351  4          1       CO      270    SFO \n",
       "3 2011-01-31 14   32     1432 1656  7          5       CO      370    SFO \n",
       "4 2011-01-31 17   48     1748 2001  3         -4       CO      570    SFO \n",
       "5 2011-01-31 21   43     2143 2338 50         24       CO      770    SFO \n",
       "6 2011-01-31  7   29      729 1002 -1          2       CO      771    SFO \n",
       "  plane  cancelled time dist\n",
       "1 N35407 0         225  1635\n",
       "2 N37420 0         228  1635\n",
       "3 N27213 0         229  1635\n",
       "4 N75436 0         236  1635\n",
       "5 N37281 0         224  1635\n",
       "6 N26226 0         237  1635"
      ]
     },
     "metadata": {},
     "output_type": "display_data"
    },
    {
     "data": {
      "text/html": [
       "<table>\n",
       "<thead><tr><th scope=col>DATE</th><th scope=col>hour</th><th scope=col>minute</th><th scope=col>dep</th><th scope=col>arr</th><th scope=col>dep_delay</th><th scope=col>arr_delay</th><th scope=col>carrier</th><th scope=col>flight</th><th scope=col>dest</th><th scope=col>plane</th><th scope=col>cancelled</th><th scope=col>time</th><th scope=col>dist</th></tr></thead>\n",
       "<tbody>\n",
       "</tbody>\n",
       "</table>\n"
      ],
      "text/latex": [
       "\\begin{tabular}{r|llllllllllllll}\n",
       " DATE & hour & minute & dep & arr & dep\\_delay & arr\\_delay & carrier & flight & dest & plane & cancelled & time & dist\\\\\n",
       "\\hline\n",
       "\\end{tabular}\n"
      ],
      "text/markdown": [
       "\n",
       "DATE | hour | minute | dep | arr | dep_delay | arr_delay | carrier | flight | dest | plane | cancelled | time | dist | \n",
       "||\n",
       "\n",
       "\n"
      ],
      "text/plain": [
       "     DATE hour minute dep arr dep_delay arr_delay carrier flight dest plane\n",
       "     cancelled time dist"
      ]
     },
     "metadata": {},
     "output_type": "display_data"
    },
    {
     "data": {
      "text/html": [
       "<table>\n",
       "<thead><tr><th scope=col>DATE</th><th scope=col>hour</th><th scope=col>minute</th><th scope=col>dep</th><th scope=col>arr</th><th scope=col>dep_delay</th><th scope=col>arr_delay</th><th scope=col>carrier</th><th scope=col>flight</th><th scope=col>dest</th><th scope=col>plane</th><th scope=col>cancelled</th><th scope=col>time</th><th scope=col>dist</th></tr></thead>\n",
       "<tbody>\n",
       "\t<tr><td>2011-01-17</td><td>15        </td><td>30        </td><td>1530      </td><td>1634      </td><td> 90       </td><td> 84       </td><td>AA        </td><td> 428      </td><td>DFW       </td><td>N518AA    </td><td>0         </td><td> 48       </td><td>224       </td></tr>\n",
       "\t<tr><td>2011-01-20</td><td>15        </td><td> 7        </td><td>1507      </td><td>1622      </td><td> 67       </td><td> 72       </td><td>AA        </td><td> 428      </td><td>DFW       </td><td>N425AA    </td><td>0         </td><td> 42       </td><td>224       </td></tr>\n",
       "\t<tr><td>2011-01-14</td><td>21        </td><td>19        </td><td>2119      </td><td>2229      </td><td> 74       </td><td> 69       </td><td>AA        </td><td> 533      </td><td>DFW       </td><td>N549AA    </td><td>0         </td><td> 45       </td><td>224       </td></tr>\n",
       "\t<tr><td>2011-01-09</td><td>18        </td><td>35        </td><td>1835      </td><td>1951      </td><td>125       </td><td>126       </td><td>AA        </td><td>1121      </td><td>DFW       </td><td>N574AA    </td><td>0         </td><td> 50       </td><td>224       </td></tr>\n",
       "\t<tr><td>2011-01-11</td><td>17        </td><td>52        </td><td>1752      </td><td>1855      </td><td> 82       </td><td> 70       </td><td>AA        </td><td>1121      </td><td>DFW       </td><td>N586AA    </td><td>0         </td><td> 41       </td><td>224       </td></tr>\n",
       "\t<tr><td>2011-01-10</td><td>19        </td><td>34        </td><td>1934      </td><td>2235      </td><td> 99       </td><td> 80       </td><td>AA        </td><td>1294      </td><td>MIA       </td><td>N3BXAA    </td><td>0         </td><td>107       </td><td>964       </td></tr>\n",
       "</tbody>\n",
       "</table>\n"
      ],
      "text/latex": [
       "\\begin{tabular}{r|llllllllllllll}\n",
       " DATE & hour & minute & dep & arr & dep\\_delay & arr\\_delay & carrier & flight & dest & plane & cancelled & time & dist\\\\\n",
       "\\hline\n",
       "\t 2011-01-17 & 15         & 30         & 1530       & 1634       &  90        &  84        & AA         &  428       & DFW        & N518AA     & 0          &  48        & 224       \\\\\n",
       "\t 2011-01-20 & 15         &  7         & 1507       & 1622       &  67        &  72        & AA         &  428       & DFW        & N425AA     & 0          &  42        & 224       \\\\\n",
       "\t 2011-01-14 & 21         & 19         & 2119       & 2229       &  74        &  69        & AA         &  533       & DFW        & N549AA     & 0          &  45        & 224       \\\\\n",
       "\t 2011-01-09 & 18         & 35         & 1835       & 1951       & 125        & 126        & AA         & 1121       & DFW        & N574AA     & 0          &  50        & 224       \\\\\n",
       "\t 2011-01-11 & 17         & 52         & 1752       & 1855       &  82        &  70        & AA         & 1121       & DFW        & N586AA     & 0          &  41        & 224       \\\\\n",
       "\t 2011-01-10 & 19         & 34         & 1934       & 2235       &  99        &  80        & AA         & 1294       & MIA        & N3BXAA     & 0          & 107        & 964       \\\\\n",
       "\\end{tabular}\n"
      ],
      "text/markdown": [
       "\n",
       "DATE | hour | minute | dep | arr | dep_delay | arr_delay | carrier | flight | dest | plane | cancelled | time | dist | \n",
       "|---|---|---|---|---|---|\n",
       "| 2011-01-17 | 15         | 30         | 1530       | 1634       |  90        |  84        | AA         |  428       | DFW        | N518AA     | 0          |  48        | 224        | \n",
       "| 2011-01-20 | 15         |  7         | 1507       | 1622       |  67        |  72        | AA         |  428       | DFW        | N425AA     | 0          |  42        | 224        | \n",
       "| 2011-01-14 | 21         | 19         | 2119       | 2229       |  74        |  69        | AA         |  533       | DFW        | N549AA     | 0          |  45        | 224        | \n",
       "| 2011-01-09 | 18         | 35         | 1835       | 1951       | 125        | 126        | AA         | 1121       | DFW        | N574AA     | 0          |  50        | 224        | \n",
       "| 2011-01-11 | 17         | 52         | 1752       | 1855       |  82        |  70        | AA         | 1121       | DFW        | N586AA     | 0          |  41        | 224        | \n",
       "| 2011-01-10 | 19         | 34         | 1934       | 2235       |  99        |  80        | AA         | 1294       | MIA        | N3BXAA     | 0          | 107        | 964        | \n",
       "\n",
       "\n"
      ],
      "text/plain": [
       "  DATE       hour minute dep  arr  dep_delay arr_delay carrier flight dest\n",
       "1 2011-01-17 15   30     1530 1634  90        84       AA       428   DFW \n",
       "2 2011-01-20 15    7     1507 1622  67        72       AA       428   DFW \n",
       "3 2011-01-14 21   19     2119 2229  74        69       AA       533   DFW \n",
       "4 2011-01-09 18   35     1835 1951 125       126       AA      1121   DFW \n",
       "5 2011-01-11 17   52     1752 1855  82        70       AA      1121   DFW \n",
       "6 2011-01-10 19   34     1934 2235  99        80       AA      1294   MIA \n",
       "  plane  cancelled time dist\n",
       "1 N518AA 0          48  224 \n",
       "2 N425AA 0          42  224 \n",
       "3 N549AA 0          45  224 \n",
       "4 N574AA 0          50  224 \n",
       "5 N586AA 0          41  224 \n",
       "6 N3BXAA 0         107  964 "
      ]
     },
     "metadata": {},
     "output_type": "display_data"
    }
   ],
   "source": [
    "# In dplyr: step by step\n",
    "\n",
    "p1 <- filter(flights, dest %in% c(\"SFO\", \"OAK\"))\n",
    "p2 <- filter(flights, DATE < \"2001-02-01\")  # or if ANDing together: p2 <- filter(p1, DATE < \"2001-02-01\")\n",
    "p3 <- filter(flights, dep_delay > 60)\n",
    "\n",
    "head(p1)\n",
    "head(p2)\n",
    "head(p3)"
   ]
  },
  {
   "cell_type": "code",
   "execution_count": 25,
   "metadata": {},
   "outputs": [
    {
     "data": {
      "text/html": [
       "'SELECT * FROM flights WHERE dest IN (\\'SFO\\', \\'OAK\\')'"
      ],
      "text/latex": [
       "'SELECT * FROM flights WHERE dest IN (\\textbackslash{}'SFO\\textbackslash{}', \\textbackslash{}'OAK\\textbackslash{}')'"
      ],
      "text/markdown": [
       "'SELECT * FROM flights WHERE dest IN (\\'SFO\\', \\'OAK\\')'"
      ],
      "text/plain": [
       "[1] \"SELECT * FROM flights WHERE dest IN ('SFO', 'OAK')\""
      ]
     },
     "metadata": {},
     "output_type": "display_data"
    },
    {
     "data": {
      "text/html": [
       "<table>\n",
       "<thead><tr><th scope=col>date</th><th scope=col>hour</th><th scope=col>minute</th><th scope=col>dep</th><th scope=col>arr</th><th scope=col>dep_delay</th><th scope=col>arr_delay</th><th scope=col>carrier</th><th scope=col>flight</th><th scope=col>dest</th><th scope=col>plane</th><th scope=col>cancelled</th><th scope=col>time</th><th scope=col>dist</th></tr></thead>\n",
       "<tbody>\n",
       "\t<tr><td>14975 </td><td>17    </td><td>50    </td><td>1750  </td><td>2002  </td><td>10    </td><td>  2   </td><td>WN    </td><td>1911  </td><td>OAK   </td><td>N723SW</td><td>0     </td><td>237   </td><td>1642  </td></tr>\n",
       "\t<tr><td>14976 </td><td>20    </td><td>19    </td><td>2019  </td><td>2217  </td><td>44    </td><td> 22   </td><td>WN    </td><td>1106  </td><td>OAK   </td><td>N407WN</td><td>0     </td><td>224   </td><td>1642  </td></tr>\n",
       "\t<tr><td>14976 </td><td>10    </td><td>43    </td><td>1043  </td><td>1254  </td><td>28    </td><td> 24   </td><td>WN    </td><td>1892  </td><td>OAK   </td><td>N403WN</td><td>0     </td><td>240   </td><td>1642  </td></tr>\n",
       "\t<tr><td>14977 </td><td>10    </td><td>32    </td><td>1032  </td><td>1235  </td><td> 2    </td><td>-15   </td><td>WN    </td><td>   9  </td><td>OAK   </td><td>N404WN</td><td>0     </td><td>230   </td><td>1642  </td></tr>\n",
       "\t<tr><td>14977 </td><td>21    </td><td>35    </td><td>2135  </td><td>2337  </td><td>60    </td><td> 42   </td><td>WN    </td><td> 165  </td><td>OAK   </td><td>N232WN</td><td>0     </td><td>230   </td><td>1642  </td></tr>\n",
       "\t<tr><td>14978 </td><td>10    </td><td>34    </td><td>1034  </td><td>1237  </td><td> 4    </td><td>-13   </td><td>WN    </td><td>   9  </td><td>OAK   </td><td>N222WN</td><td>0     </td><td>230   </td><td>1642  </td></tr>\n",
       "</tbody>\n",
       "</table>\n"
      ],
      "text/latex": [
       "\\begin{tabular}{r|llllllllllllll}\n",
       " date & hour & minute & dep & arr & dep\\_delay & arr\\_delay & carrier & flight & dest & plane & cancelled & time & dist\\\\\n",
       "\\hline\n",
       "\t 14975  & 17     & 50     & 1750   & 2002   & 10     &   2    & WN     & 1911   & OAK    & N723SW & 0      & 237    & 1642  \\\\\n",
       "\t 14976  & 20     & 19     & 2019   & 2217   & 44     &  22    & WN     & 1106   & OAK    & N407WN & 0      & 224    & 1642  \\\\\n",
       "\t 14976  & 10     & 43     & 1043   & 1254   & 28     &  24    & WN     & 1892   & OAK    & N403WN & 0      & 240    & 1642  \\\\\n",
       "\t 14977  & 10     & 32     & 1032   & 1235   &  2     & -15    & WN     &    9   & OAK    & N404WN & 0      & 230    & 1642  \\\\\n",
       "\t 14977  & 21     & 35     & 2135   & 2337   & 60     &  42    & WN     &  165   & OAK    & N232WN & 0      & 230    & 1642  \\\\\n",
       "\t 14978  & 10     & 34     & 1034   & 1237   &  4     & -13    & WN     &    9   & OAK    & N222WN & 0      & 230    & 1642  \\\\\n",
       "\\end{tabular}\n"
      ],
      "text/markdown": [
       "\n",
       "date | hour | minute | dep | arr | dep_delay | arr_delay | carrier | flight | dest | plane | cancelled | time | dist | \n",
       "|---|---|---|---|---|---|\n",
       "| 14975  | 17     | 50     | 1750   | 2002   | 10     |   2    | WN     | 1911   | OAK    | N723SW | 0      | 237    | 1642   | \n",
       "| 14976  | 20     | 19     | 2019   | 2217   | 44     |  22    | WN     | 1106   | OAK    | N407WN | 0      | 224    | 1642   | \n",
       "| 14976  | 10     | 43     | 1043   | 1254   | 28     |  24    | WN     | 1892   | OAK    | N403WN | 0      | 240    | 1642   | \n",
       "| 14977  | 10     | 32     | 1032   | 1235   |  2     | -15    | WN     |    9   | OAK    | N404WN | 0      | 230    | 1642   | \n",
       "| 14977  | 21     | 35     | 2135   | 2337   | 60     |  42    | WN     |  165   | OAK    | N232WN | 0      | 230    | 1642   | \n",
       "| 14978  | 10     | 34     | 1034   | 1237   |  4     | -13    | WN     |    9   | OAK    | N222WN | 0      | 230    | 1642   | \n",
       "\n",
       "\n"
      ],
      "text/plain": [
       "  date  hour minute dep  arr  dep_delay arr_delay carrier flight dest plane \n",
       "1 14975 17   50     1750 2002 10          2       WN      1911   OAK  N723SW\n",
       "2 14976 20   19     2019 2217 44         22       WN      1106   OAK  N407WN\n",
       "3 14976 10   43     1043 1254 28         24       WN      1892   OAK  N403WN\n",
       "4 14977 10   32     1032 1235  2        -15       WN         9   OAK  N404WN\n",
       "5 14977 21   35     2135 2337 60         42       WN       165   OAK  N232WN\n",
       "6 14978 10   34     1034 1237  4        -13       WN         9   OAK  N222WN\n",
       "  cancelled time dist\n",
       "1 0         237  1642\n",
       "2 0         224  1642\n",
       "3 0         240  1642\n",
       "4 0         230  1642\n",
       "5 0         230  1642\n",
       "6 0         230  1642"
      ]
     },
     "metadata": {},
     "output_type": "display_data"
    }
   ],
   "source": [
    "# In SQL\n",
    "\n",
    "query1 <- paste0(\"SELECT * FROM flights \",\n",
    "                 \"WHERE dest IN ('SFO', 'OAK')\") # be careful with quotes here!\n",
    "query1\n",
    "r1_sql <- dbGetQuery(con, query1)\n",
    "head(r1_sql)"
   ]
  },
  {
   "cell_type": "code",
   "execution_count": null,
   "metadata": {
    "collapsed": true
   },
   "outputs": [],
   "source": []
  },
  {
   "cell_type": "markdown",
   "metadata": {},
   "source": [
    "Notice how similar this is to using SQL WHERE clauses!\n",
    "\n",
    "Let's take a quick look at **select**.  From page 23-24 in Hadley's slides [4]:"
   ]
  },
  {
   "cell_type": "code",
   "execution_count": 26,
   "metadata": {},
   "outputs": [
    {
     "data": {
      "text/html": [
       "<table>\n",
       "<thead><tr><th scope=col>color</th></tr></thead>\n",
       "<tbody>\n",
       "\t<tr><td>blue </td></tr>\n",
       "\t<tr><td>black</td></tr>\n",
       "\t<tr><td>blue </td></tr>\n",
       "\t<tr><td>blue </td></tr>\n",
       "\t<tr><td>black</td></tr>\n",
       "</tbody>\n",
       "</table>\n"
      ],
      "text/latex": [
       "\\begin{tabular}{r|l}\n",
       " color\\\\\n",
       "\\hline\n",
       "\t blue \\\\\n",
       "\t black\\\\\n",
       "\t blue \\\\\n",
       "\t blue \\\\\n",
       "\t black\\\\\n",
       "\\end{tabular}\n"
      ],
      "text/markdown": [
       "\n",
       "color | \n",
       "|---|---|---|---|---|\n",
       "| blue  | \n",
       "| black | \n",
       "| blue  | \n",
       "| blue  | \n",
       "| black | \n",
       "\n",
       "\n"
      ],
      "text/plain": [
       "  color\n",
       "1 blue \n",
       "2 black\n",
       "3 blue \n",
       "4 blue \n",
       "5 black"
      ]
     },
     "metadata": {},
     "output_type": "display_data"
    },
    {
     "data": {
      "text/html": [
       "<table>\n",
       "<thead><tr><th scope=col>value</th></tr></thead>\n",
       "<tbody>\n",
       "\t<tr><td>1</td></tr>\n",
       "\t<tr><td>2</td></tr>\n",
       "\t<tr><td>3</td></tr>\n",
       "\t<tr><td>4</td></tr>\n",
       "\t<tr><td>5</td></tr>\n",
       "</tbody>\n",
       "</table>\n"
      ],
      "text/latex": [
       "\\begin{tabular}{r|l}\n",
       " value\\\\\n",
       "\\hline\n",
       "\t 1\\\\\n",
       "\t 2\\\\\n",
       "\t 3\\\\\n",
       "\t 4\\\\\n",
       "\t 5\\\\\n",
       "\\end{tabular}\n"
      ],
      "text/markdown": [
       "\n",
       "value | \n",
       "|---|---|---|---|---|\n",
       "| 1 | \n",
       "| 2 | \n",
       "| 3 | \n",
       "| 4 | \n",
       "| 5 | \n",
       "\n",
       "\n"
      ],
      "text/plain": [
       "  value\n",
       "1 1    \n",
       "2 2    \n",
       "3 3    \n",
       "4 4    \n",
       "5 5    "
      ]
     },
     "metadata": {},
     "output_type": "display_data"
    }
   ],
   "source": [
    "select(df, color)\n",
    "select(df, -color)"
   ]
  },
  {
   "cell_type": "markdown",
   "metadata": {
    "collapsed": true
   },
   "source": [
    "So it's like SQL Select, but more powerful because we do things like:"
   ]
  },
  {
   "cell_type": "code",
   "execution_count": 28,
   "metadata": {},
   "outputs": [
    {
     "data": {
      "text/html": [
       "<table>\n",
       "<thead><tr><th scope=col>dep_delay</th><th scope=col>arr_delay</th></tr></thead>\n",
       "<tbody>\n",
       "\t<tr><td> 0 </td><td>-10</td></tr>\n",
       "\t<tr><td> 1 </td><td> -9</td></tr>\n",
       "\t<tr><td>-8 </td><td> -8</td></tr>\n",
       "\t<tr><td> 3 </td><td>  3</td></tr>\n",
       "\t<tr><td> 5 </td><td> -3</td></tr>\n",
       "\t<tr><td>-1 </td><td> -7</td></tr>\n",
       "</tbody>\n",
       "</table>\n"
      ],
      "text/latex": [
       "\\begin{tabular}{r|ll}\n",
       " dep\\_delay & arr\\_delay\\\\\n",
       "\\hline\n",
       "\t  0  & -10\\\\\n",
       "\t  1  &  -9\\\\\n",
       "\t -8  &  -8\\\\\n",
       "\t  3  &   3\\\\\n",
       "\t  5  &  -3\\\\\n",
       "\t -1  &  -7\\\\\n",
       "\\end{tabular}\n"
      ],
      "text/markdown": [
       "\n",
       "dep_delay | arr_delay | \n",
       "|---|---|---|---|---|---|\n",
       "|  0  | -10 | \n",
       "|  1  |  -9 | \n",
       "| -8  |  -8 | \n",
       "|  3  |   3 | \n",
       "|  5  |  -3 | \n",
       "| -1  |  -7 | \n",
       "\n",
       "\n"
      ],
      "text/plain": [
       "  dep_delay arr_delay\n",
       "1  0        -10      \n",
       "2  1         -9      \n",
       "3 -8         -8      \n",
       "4  3          3      \n",
       "5  5         -3      \n",
       "6 -1         -7      "
      ]
     },
     "metadata": {},
     "output_type": "display_data"
    },
    {
     "data": {
      "text/html": [
       "<table>\n",
       "<thead><tr><th scope=col>dep_delay</th><th scope=col>arr_delay</th></tr></thead>\n",
       "<tbody>\n",
       "\t<tr><td> 0 </td><td>-10</td></tr>\n",
       "\t<tr><td> 1 </td><td> -9</td></tr>\n",
       "\t<tr><td>-8 </td><td> -8</td></tr>\n",
       "\t<tr><td> 3 </td><td>  3</td></tr>\n",
       "\t<tr><td> 5 </td><td> -3</td></tr>\n",
       "\t<tr><td>-1 </td><td> -7</td></tr>\n",
       "</tbody>\n",
       "</table>\n"
      ],
      "text/latex": [
       "\\begin{tabular}{r|ll}\n",
       " dep\\_delay & arr\\_delay\\\\\n",
       "\\hline\n",
       "\t  0  & -10\\\\\n",
       "\t  1  &  -9\\\\\n",
       "\t -8  &  -8\\\\\n",
       "\t  3  &   3\\\\\n",
       "\t  5  &  -3\\\\\n",
       "\t -1  &  -7\\\\\n",
       "\\end{tabular}\n"
      ],
      "text/markdown": [
       "\n",
       "dep_delay | arr_delay | \n",
       "|---|---|---|---|---|---|\n",
       "|  0  | -10 | \n",
       "|  1  |  -9 | \n",
       "| -8  |  -8 | \n",
       "|  3  |   3 | \n",
       "|  5  |  -3 | \n",
       "| -1  |  -7 | \n",
       "\n",
       "\n"
      ],
      "text/plain": [
       "  dep_delay arr_delay\n",
       "1  0        -10      \n",
       "2  1         -9      \n",
       "3 -8         -8      \n",
       "4  3          3      \n",
       "5  5         -3      \n",
       "6 -1         -7      "
      ]
     },
     "metadata": {},
     "output_type": "display_data"
    }
   ],
   "source": [
    "head(select(flights, ends_with(\"delay\")))\n",
    "head(select(flights, contains(\"delay\")))"
   ]
  },
  {
   "cell_type": "markdown",
   "metadata": {
    "collapsed": true
   },
   "source": [
    "How would you do this above in SQL?  Hint: It's not trivial!!!"
   ]
  },
  {
   "cell_type": "markdown",
   "metadata": {},
   "source": [
    "The 3rd dplyr verb from our list is **arrange** which is sort of like an **ORDER BY** clause in SQL:"
   ]
  },
  {
   "cell_type": "code",
   "execution_count": 29,
   "metadata": {},
   "outputs": [
    {
     "data": {
      "text/html": [
       "<table>\n",
       "<thead><tr><th scope=col>color</th><th scope=col>value</th></tr></thead>\n",
       "<tbody>\n",
       "\t<tr><td>black</td><td>2    </td></tr>\n",
       "\t<tr><td>black</td><td>5    </td></tr>\n",
       "\t<tr><td>blue </td><td>1    </td></tr>\n",
       "\t<tr><td>blue </td><td>3    </td></tr>\n",
       "\t<tr><td>blue </td><td>4    </td></tr>\n",
       "</tbody>\n",
       "</table>\n"
      ],
      "text/latex": [
       "\\begin{tabular}{r|ll}\n",
       " color & value\\\\\n",
       "\\hline\n",
       "\t black & 2    \\\\\n",
       "\t black & 5    \\\\\n",
       "\t blue  & 1    \\\\\n",
       "\t blue  & 3    \\\\\n",
       "\t blue  & 4    \\\\\n",
       "\\end{tabular}\n"
      ],
      "text/markdown": [
       "\n",
       "color | value | \n",
       "|---|---|---|---|---|\n",
       "| black | 2     | \n",
       "| black | 5     | \n",
       "| blue  | 1     | \n",
       "| blue  | 3     | \n",
       "| blue  | 4     | \n",
       "\n",
       "\n"
      ],
      "text/plain": [
       "  color value\n",
       "1 black 2    \n",
       "2 black 5    \n",
       "3 blue  1    \n",
       "4 blue  3    \n",
       "5 blue  4    "
      ]
     },
     "metadata": {},
     "output_type": "display_data"
    },
    {
     "data": {
      "text/html": [
       "<table>\n",
       "<thead><tr><th scope=col>color</th><th scope=col>value</th></tr></thead>\n",
       "<tbody>\n",
       "\t<tr><td>blue </td><td>1    </td></tr>\n",
       "\t<tr><td>blue </td><td>3    </td></tr>\n",
       "\t<tr><td>blue </td><td>4    </td></tr>\n",
       "\t<tr><td>black</td><td>2    </td></tr>\n",
       "\t<tr><td>black</td><td>5    </td></tr>\n",
       "</tbody>\n",
       "</table>\n"
      ],
      "text/latex": [
       "\\begin{tabular}{r|ll}\n",
       " color & value\\\\\n",
       "\\hline\n",
       "\t blue  & 1    \\\\\n",
       "\t blue  & 3    \\\\\n",
       "\t blue  & 4    \\\\\n",
       "\t black & 2    \\\\\n",
       "\t black & 5    \\\\\n",
       "\\end{tabular}\n"
      ],
      "text/markdown": [
       "\n",
       "color | value | \n",
       "|---|---|---|---|---|\n",
       "| blue  | 1     | \n",
       "| blue  | 3     | \n",
       "| blue  | 4     | \n",
       "| black | 2     | \n",
       "| black | 5     | \n",
       "\n",
       "\n"
      ],
      "text/plain": [
       "  color value\n",
       "1 blue  1    \n",
       "2 blue  3    \n",
       "3 blue  4    \n",
       "4 black 2    \n",
       "5 black 5    "
      ]
     },
     "metadata": {},
     "output_type": "display_data"
    }
   ],
   "source": [
    "arrange(df, color)\n",
    "arrange(df, desc(color))"
   ]
  },
  {
   "cell_type": "markdown",
   "metadata": {},
   "source": [
    "Exercise from page 29 in Hadley's slides [4]:\n",
    "\n",
    "+ Order the flights by departure date and time.\n",
    "+ Which flights were most delayed?\n",
    "+ Which flights caught up the most time during the flight?"
   ]
  },
  {
   "cell_type": "code",
   "execution_count": 32,
   "metadata": {},
   "outputs": [
    {
     "data": {
      "text/html": [
       "<table>\n",
       "<thead><tr><th scope=col>DATE</th><th scope=col>hour</th><th scope=col>minute</th><th scope=col>dep</th><th scope=col>arr</th><th scope=col>dep_delay</th><th scope=col>arr_delay</th><th scope=col>carrier</th><th scope=col>flight</th><th scope=col>dest</th><th scope=col>plane</th><th scope=col>cancelled</th><th scope=col>time</th><th scope=col>dist</th></tr></thead>\n",
       "<tbody>\n",
       "\t<tr><td>2011-01-01</td><td>0         </td><td> 1        </td><td>  1       </td><td> 621      </td><td> 2        </td><td> 24       </td><td>CO        </td><td>1542      </td><td>SJU       </td><td>N76254    </td><td>0         </td><td>234       </td><td>2007      </td></tr>\n",
       "\t<tr><td>2011-01-01</td><td>5         </td><td>49        </td><td>549       </td><td> 846      </td><td>-1        </td><td>-11       </td><td>DL        </td><td>1248      </td><td>ATL       </td><td>N980DL    </td><td>0         </td><td> 91       </td><td> 689      </td></tr>\n",
       "\t<tr><td>2011-01-01</td><td>5         </td><td>57        </td><td>557       </td><td> 906      </td><td>-3        </td><td> -9       </td><td>AA        </td><td>1994      </td><td>MIA       </td><td>N3BBAA    </td><td>0         </td><td>113       </td><td> 964      </td></tr>\n",
       "\t<tr><td>2011-01-01</td><td>5         </td><td>58        </td><td>558       </td><td>1006      </td><td>-2        </td><td> -6       </td><td>CO        </td><td>  89      </td><td>EWR       </td><td>N73406    </td><td>0         </td><td>161       </td><td>1400      </td></tr>\n",
       "\t<tr><td>2011-01-01</td><td>5         </td><td>59        </td><td>559       </td><td> 758      </td><td>-1        </td><td>  6       </td><td>US        </td><td> 270      </td><td>PHX       </td><td>N313AW    </td><td>0         </td><td>156       </td><td>1009      </td></tr>\n",
       "\t<tr><td>2011-01-01</td><td>6         </td><td> 0        </td><td>600       </td><td> 657      </td><td> 0        </td><td>-13       </td><td>MQ        </td><td>3265      </td><td>DFW       </td><td>N684MQ    </td><td>0         </td><td> 43       </td><td> 247      </td></tr>\n",
       "</tbody>\n",
       "</table>\n"
      ],
      "text/latex": [
       "\\begin{tabular}{r|llllllllllllll}\n",
       " DATE & hour & minute & dep & arr & dep\\_delay & arr\\_delay & carrier & flight & dest & plane & cancelled & time & dist\\\\\n",
       "\\hline\n",
       "\t 2011-01-01 & 0          &  1         &   1        &  621       &  2         &  24        & CO         & 1542       & SJU        & N76254     & 0          & 234        & 2007      \\\\\n",
       "\t 2011-01-01 & 5          & 49         & 549        &  846       & -1         & -11        & DL         & 1248       & ATL        & N980DL     & 0          &  91        &  689      \\\\\n",
       "\t 2011-01-01 & 5          & 57         & 557        &  906       & -3         &  -9        & AA         & 1994       & MIA        & N3BBAA     & 0          & 113        &  964      \\\\\n",
       "\t 2011-01-01 & 5          & 58         & 558        & 1006       & -2         &  -6        & CO         &   89       & EWR        & N73406     & 0          & 161        & 1400      \\\\\n",
       "\t 2011-01-01 & 5          & 59         & 559        &  758       & -1         &   6        & US         &  270       & PHX        & N313AW     & 0          & 156        & 1009      \\\\\n",
       "\t 2011-01-01 & 6          &  0         & 600        &  657       &  0         & -13        & MQ         & 3265       & DFW        & N684MQ     & 0          &  43        &  247      \\\\\n",
       "\\end{tabular}\n"
      ],
      "text/markdown": [
       "\n",
       "DATE | hour | minute | dep | arr | dep_delay | arr_delay | carrier | flight | dest | plane | cancelled | time | dist | \n",
       "|---|---|---|---|---|---|\n",
       "| 2011-01-01 | 0          |  1         |   1        |  621       |  2         |  24        | CO         | 1542       | SJU        | N76254     | 0          | 234        | 2007       | \n",
       "| 2011-01-01 | 5          | 49         | 549        |  846       | -1         | -11        | DL         | 1248       | ATL        | N980DL     | 0          |  91        |  689       | \n",
       "| 2011-01-01 | 5          | 57         | 557        |  906       | -3         |  -9        | AA         | 1994       | MIA        | N3BBAA     | 0          | 113        |  964       | \n",
       "| 2011-01-01 | 5          | 58         | 558        | 1006       | -2         |  -6        | CO         |   89       | EWR        | N73406     | 0          | 161        | 1400       | \n",
       "| 2011-01-01 | 5          | 59         | 559        |  758       | -1         |   6        | US         |  270       | PHX        | N313AW     | 0          | 156        | 1009       | \n",
       "| 2011-01-01 | 6          |  0         | 600        |  657       |  0         | -13        | MQ         | 3265       | DFW        | N684MQ     | 0          |  43        |  247       | \n",
       "\n",
       "\n"
      ],
      "text/plain": [
       "  DATE       hour minute dep arr  dep_delay arr_delay carrier flight dest\n",
       "1 2011-01-01 0     1       1  621  2         24       CO      1542   SJU \n",
       "2 2011-01-01 5    49     549  846 -1        -11       DL      1248   ATL \n",
       "3 2011-01-01 5    57     557  906 -3         -9       AA      1994   MIA \n",
       "4 2011-01-01 5    58     558 1006 -2         -6       CO        89   EWR \n",
       "5 2011-01-01 5    59     559  758 -1          6       US       270   PHX \n",
       "6 2011-01-01 6     0     600  657  0        -13       MQ      3265   DFW \n",
       "  plane  cancelled time dist\n",
       "1 N76254 0         234  2007\n",
       "2 N980DL 0          91   689\n",
       "3 N3BBAA 0         113   964\n",
       "4 N73406 0         161  1400\n",
       "5 N313AW 0         156  1009\n",
       "6 N684MQ 0          43   247"
      ]
     },
     "metadata": {},
     "output_type": "display_data"
    },
    {
     "data": {
      "text/html": [
       "<table>\n",
       "<thead><tr><th scope=col>DATE</th><th scope=col>hour</th><th scope=col>minute</th><th scope=col>dep</th><th scope=col>arr</th><th scope=col>dep_delay</th><th scope=col>arr_delay</th><th scope=col>carrier</th><th scope=col>flight</th><th scope=col>dest</th><th scope=col>plane</th><th scope=col>cancelled</th><th scope=col>time</th><th scope=col>dist</th></tr></thead>\n",
       "<tbody>\n",
       "\t<tr><td>2011-08-01</td><td> 1        </td><td>56        </td><td> 156      </td><td> 452      </td><td>981       </td><td>957       </td><td>CO        </td><td>   1      </td><td>HNL       </td><td>N69063    </td><td>0         </td><td>461       </td><td>3904      </td></tr>\n",
       "\t<tr><td>2011-12-12</td><td> 6        </td><td>50        </td><td> 650      </td><td> 808      </td><td>970       </td><td>978       </td><td>AA        </td><td>1740      </td><td>DFW       </td><td>N473AA    </td><td>0         </td><td> 49       </td><td> 224      </td></tr>\n",
       "\t<tr><td>2011-11-08</td><td> 7        </td><td>21        </td><td> 721      </td><td> 948      </td><td>931       </td><td>918       </td><td>MQ        </td><td>3786      </td><td>ORD       </td><td>N502MQ    </td><td>0         </td><td>120       </td><td> 925      </td></tr>\n",
       "\t<tr><td>2011-06-21</td><td>23        </td><td>34        </td><td>2334      </td><td> 124      </td><td>869       </td><td>861       </td><td>UA        </td><td> 855      </td><td>SFO       </td><td>N670UA    </td><td>0         </td><td>216       </td><td>1635      </td></tr>\n",
       "\t<tr><td>2011-06-09</td><td>20        </td><td>29        </td><td>2029      </td><td>2243      </td><td>814       </td><td>793       </td><td>MQ        </td><td>3859      </td><td>ORD       </td><td>N6EAMQ    </td><td>0         </td><td>117       </td><td> 925      </td></tr>\n",
       "\t<tr><td>2011-05-20</td><td> 8        </td><td>58        </td><td> 858      </td><td>1027      </td><td>803       </td><td>822       </td><td>MQ        </td><td>3328      </td><td>DFW       </td><td>N609MQ    </td><td>0         </td><td> 55       </td><td> 247      </td></tr>\n",
       "</tbody>\n",
       "</table>\n"
      ],
      "text/latex": [
       "\\begin{tabular}{r|llllllllllllll}\n",
       " DATE & hour & minute & dep & arr & dep\\_delay & arr\\_delay & carrier & flight & dest & plane & cancelled & time & dist\\\\\n",
       "\\hline\n",
       "\t 2011-08-01 &  1         & 56         &  156       &  452       & 981        & 957        & CO         &    1       & HNL        & N69063     & 0          & 461        & 3904      \\\\\n",
       "\t 2011-12-12 &  6         & 50         &  650       &  808       & 970        & 978        & AA         & 1740       & DFW        & N473AA     & 0          &  49        &  224      \\\\\n",
       "\t 2011-11-08 &  7         & 21         &  721       &  948       & 931        & 918        & MQ         & 3786       & ORD        & N502MQ     & 0          & 120        &  925      \\\\\n",
       "\t 2011-06-21 & 23         & 34         & 2334       &  124       & 869        & 861        & UA         &  855       & SFO        & N670UA     & 0          & 216        & 1635      \\\\\n",
       "\t 2011-06-09 & 20         & 29         & 2029       & 2243       & 814        & 793        & MQ         & 3859       & ORD        & N6EAMQ     & 0          & 117        &  925      \\\\\n",
       "\t 2011-05-20 &  8         & 58         &  858       & 1027       & 803        & 822        & MQ         & 3328       & DFW        & N609MQ     & 0          &  55        &  247      \\\\\n",
       "\\end{tabular}\n"
      ],
      "text/markdown": [
       "\n",
       "DATE | hour | minute | dep | arr | dep_delay | arr_delay | carrier | flight | dest | plane | cancelled | time | dist | \n",
       "|---|---|---|---|---|---|\n",
       "| 2011-08-01 |  1         | 56         |  156       |  452       | 981        | 957        | CO         |    1       | HNL        | N69063     | 0          | 461        | 3904       | \n",
       "| 2011-12-12 |  6         | 50         |  650       |  808       | 970        | 978        | AA         | 1740       | DFW        | N473AA     | 0          |  49        |  224       | \n",
       "| 2011-11-08 |  7         | 21         |  721       |  948       | 931        | 918        | MQ         | 3786       | ORD        | N502MQ     | 0          | 120        |  925       | \n",
       "| 2011-06-21 | 23         | 34         | 2334       |  124       | 869        | 861        | UA         |  855       | SFO        | N670UA     | 0          | 216        | 1635       | \n",
       "| 2011-06-09 | 20         | 29         | 2029       | 2243       | 814        | 793        | MQ         | 3859       | ORD        | N6EAMQ     | 0          | 117        |  925       | \n",
       "| 2011-05-20 |  8         | 58         |  858       | 1027       | 803        | 822        | MQ         | 3328       | DFW        | N609MQ     | 0          |  55        |  247       | \n",
       "\n",
       "\n"
      ],
      "text/plain": [
       "  DATE       hour minute dep  arr  dep_delay arr_delay carrier flight dest\n",
       "1 2011-08-01  1   56      156  452 981       957       CO         1   HNL \n",
       "2 2011-12-12  6   50      650  808 970       978       AA      1740   DFW \n",
       "3 2011-11-08  7   21      721  948 931       918       MQ      3786   ORD \n",
       "4 2011-06-21 23   34     2334  124 869       861       UA       855   SFO \n",
       "5 2011-06-09 20   29     2029 2243 814       793       MQ      3859   ORD \n",
       "6 2011-05-20  8   58      858 1027 803       822       MQ      3328   DFW \n",
       "  plane  cancelled time dist\n",
       "1 N69063 0         461  3904\n",
       "2 N473AA 0          49   224\n",
       "3 N502MQ 0         120   925\n",
       "4 N670UA 0         216  1635\n",
       "5 N6EAMQ 0         117   925\n",
       "6 N609MQ 0          55   247"
      ]
     },
     "metadata": {},
     "output_type": "display_data"
    },
    {
     "data": {
      "text/html": [
       "<table>\n",
       "<thead><tr><th scope=col>DATE</th><th scope=col>hour</th><th scope=col>minute</th><th scope=col>dep</th><th scope=col>arr</th><th scope=col>dep_delay</th><th scope=col>arr_delay</th><th scope=col>carrier</th><th scope=col>flight</th><th scope=col>dest</th><th scope=col>plane</th><th scope=col>cancelled</th><th scope=col>time</th><th scope=col>dist</th></tr></thead>\n",
       "<tbody>\n",
       "\t<tr><td>2011-12-12</td><td> 6        </td><td>50        </td><td> 650      </td><td> 808      </td><td>970       </td><td>978       </td><td>AA        </td><td>1740      </td><td>DFW       </td><td>N473AA    </td><td>0         </td><td> 49       </td><td> 224      </td></tr>\n",
       "\t<tr><td>2011-08-01</td><td> 1        </td><td>56        </td><td> 156      </td><td> 452      </td><td>981       </td><td>957       </td><td>CO        </td><td>   1      </td><td>HNL       </td><td>N69063    </td><td>0         </td><td>461       </td><td>3904      </td></tr>\n",
       "\t<tr><td>2011-11-08</td><td> 7        </td><td>21        </td><td> 721      </td><td> 948      </td><td>931       </td><td>918       </td><td>MQ        </td><td>3786      </td><td>ORD       </td><td>N502MQ    </td><td>0         </td><td>120       </td><td> 925      </td></tr>\n",
       "\t<tr><td>2011-06-21</td><td>23        </td><td>34        </td><td>2334      </td><td> 124      </td><td>869       </td><td>861       </td><td>UA        </td><td> 855      </td><td>SFO       </td><td>N670UA    </td><td>0         </td><td>216       </td><td>1635      </td></tr>\n",
       "\t<tr><td>2011-05-20</td><td> 8        </td><td>58        </td><td> 858      </td><td>1027      </td><td>803       </td><td>822       </td><td>MQ        </td><td>3328      </td><td>DFW       </td><td>N609MQ    </td><td>0         </td><td> 55       </td><td> 247      </td></tr>\n",
       "\t<tr><td>2011-06-09</td><td>20        </td><td>29        </td><td>2029      </td><td>2243      </td><td>814       </td><td>793       </td><td>MQ        </td><td>3859      </td><td>ORD       </td><td>N6EAMQ    </td><td>0         </td><td>117       </td><td> 925      </td></tr>\n",
       "</tbody>\n",
       "</table>\n"
      ],
      "text/latex": [
       "\\begin{tabular}{r|llllllllllllll}\n",
       " DATE & hour & minute & dep & arr & dep\\_delay & arr\\_delay & carrier & flight & dest & plane & cancelled & time & dist\\\\\n",
       "\\hline\n",
       "\t 2011-12-12 &  6         & 50         &  650       &  808       & 970        & 978        & AA         & 1740       & DFW        & N473AA     & 0          &  49        &  224      \\\\\n",
       "\t 2011-08-01 &  1         & 56         &  156       &  452       & 981        & 957        & CO         &    1       & HNL        & N69063     & 0          & 461        & 3904      \\\\\n",
       "\t 2011-11-08 &  7         & 21         &  721       &  948       & 931        & 918        & MQ         & 3786       & ORD        & N502MQ     & 0          & 120        &  925      \\\\\n",
       "\t 2011-06-21 & 23         & 34         & 2334       &  124       & 869        & 861        & UA         &  855       & SFO        & N670UA     & 0          & 216        & 1635      \\\\\n",
       "\t 2011-05-20 &  8         & 58         &  858       & 1027       & 803        & 822        & MQ         & 3328       & DFW        & N609MQ     & 0          &  55        &  247      \\\\\n",
       "\t 2011-06-09 & 20         & 29         & 2029       & 2243       & 814        & 793        & MQ         & 3859       & ORD        & N6EAMQ     & 0          & 117        &  925      \\\\\n",
       "\\end{tabular}\n"
      ],
      "text/markdown": [
       "\n",
       "DATE | hour | minute | dep | arr | dep_delay | arr_delay | carrier | flight | dest | plane | cancelled | time | dist | \n",
       "|---|---|---|---|---|---|\n",
       "| 2011-12-12 |  6         | 50         |  650       |  808       | 970        | 978        | AA         | 1740       | DFW        | N473AA     | 0          |  49        |  224       | \n",
       "| 2011-08-01 |  1         | 56         |  156       |  452       | 981        | 957        | CO         |    1       | HNL        | N69063     | 0          | 461        | 3904       | \n",
       "| 2011-11-08 |  7         | 21         |  721       |  948       | 931        | 918        | MQ         | 3786       | ORD        | N502MQ     | 0          | 120        |  925       | \n",
       "| 2011-06-21 | 23         | 34         | 2334       |  124       | 869        | 861        | UA         |  855       | SFO        | N670UA     | 0          | 216        | 1635       | \n",
       "| 2011-05-20 |  8         | 58         |  858       | 1027       | 803        | 822        | MQ         | 3328       | DFW        | N609MQ     | 0          |  55        |  247       | \n",
       "| 2011-06-09 | 20         | 29         | 2029       | 2243       | 814        | 793        | MQ         | 3859       | ORD        | N6EAMQ     | 0          | 117        |  925       | \n",
       "\n",
       "\n"
      ],
      "text/plain": [
       "  DATE       hour minute dep  arr  dep_delay arr_delay carrier flight dest\n",
       "1 2011-12-12  6   50      650  808 970       978       AA      1740   DFW \n",
       "2 2011-08-01  1   56      156  452 981       957       CO         1   HNL \n",
       "3 2011-11-08  7   21      721  948 931       918       MQ      3786   ORD \n",
       "4 2011-06-21 23   34     2334  124 869       861       UA       855   SFO \n",
       "5 2011-05-20  8   58      858 1027 803       822       MQ      3328   DFW \n",
       "6 2011-06-09 20   29     2029 2243 814       793       MQ      3859   ORD \n",
       "  plane  cancelled time dist\n",
       "1 N473AA 0          49   224\n",
       "2 N69063 0         461  3904\n",
       "3 N502MQ 0         120   925\n",
       "4 N670UA 0         216  1635\n",
       "5 N609MQ 0          55   247\n",
       "6 N6EAMQ 0         117   925"
      ]
     },
     "metadata": {},
     "output_type": "display_data"
    },
    {
     "data": {
      "text/html": [
       "<table>\n",
       "<thead><tr><th scope=col>DATE</th><th scope=col>hour</th><th scope=col>minute</th><th scope=col>dep</th><th scope=col>arr</th><th scope=col>dep_delay</th><th scope=col>arr_delay</th><th scope=col>carrier</th><th scope=col>flight</th><th scope=col>dest</th><th scope=col>plane</th><th scope=col>cancelled</th><th scope=col>time</th><th scope=col>dist</th></tr></thead>\n",
       "<tbody>\n",
       "\t<tr><td>2011-07-03</td><td>19        </td><td>14        </td><td>1914      </td><td>2039      </td><td>-1        </td><td>-70       </td><td>XE        </td><td>2804      </td><td>MEM       </td><td>N12157    </td><td>0         </td><td> 66       </td><td> 468      </td></tr>\n",
       "\t<tr><td>2011-12-24</td><td>12        </td><td> 9        </td><td>1209      </td><td>1346      </td><td>54        </td><td> -3       </td><td>CO        </td><td>1669      </td><td>SFO       </td><td>N73406    </td><td>0         </td><td>201       </td><td>1635      </td></tr>\n",
       "\t<tr><td>2011-12-24</td><td>21        </td><td>29        </td><td>2129      </td><td>2337      </td><td>-1        </td><td>-55       </td><td>CO        </td><td>1552      </td><td>SEA       </td><td>N37437    </td><td>0         </td><td>234       </td><td>1874      </td></tr>\n",
       "\t<tr><td>2011-12-24</td><td>21        </td><td>17        </td><td>2117      </td><td>2258      </td><td> 2        </td><td>-51       </td><td>CO        </td><td>1712      </td><td>SFO       </td><td>N74856    </td><td>0         </td><td>200       </td><td>1635      </td></tr>\n",
       "\t<tr><td>2011-12-25</td><td> 7        </td><td>41        </td><td> 741      </td><td> 926      </td><td>-4        </td><td>-57       </td><td>OO        </td><td>4591      </td><td>SLC       </td><td>N814SK    </td><td>0         </td><td>147       </td><td>1195      </td></tr>\n",
       "\t<tr><td>2011-08-26</td><td>21        </td><td> 7        </td><td>2107      </td><td>2205      </td><td>-3        </td><td>-55       </td><td>OO        </td><td>2003      </td><td>BFL       </td><td>N713SK    </td><td>0         </td><td>163       </td><td>1428      </td></tr>\n",
       "</tbody>\n",
       "</table>\n"
      ],
      "text/latex": [
       "\\begin{tabular}{r|llllllllllllll}\n",
       " DATE & hour & minute & dep & arr & dep\\_delay & arr\\_delay & carrier & flight & dest & plane & cancelled & time & dist\\\\\n",
       "\\hline\n",
       "\t 2011-07-03 & 19         & 14         & 1914       & 2039       & -1         & -70        & XE         & 2804       & MEM        & N12157     & 0          &  66        &  468      \\\\\n",
       "\t 2011-12-24 & 12         &  9         & 1209       & 1346       & 54         &  -3        & CO         & 1669       & SFO        & N73406     & 0          & 201        & 1635      \\\\\n",
       "\t 2011-12-24 & 21         & 29         & 2129       & 2337       & -1         & -55        & CO         & 1552       & SEA        & N37437     & 0          & 234        & 1874      \\\\\n",
       "\t 2011-12-24 & 21         & 17         & 2117       & 2258       &  2         & -51        & CO         & 1712       & SFO        & N74856     & 0          & 200        & 1635      \\\\\n",
       "\t 2011-12-25 &  7         & 41         &  741       &  926       & -4         & -57        & OO         & 4591       & SLC        & N814SK     & 0          & 147        & 1195      \\\\\n",
       "\t 2011-08-26 & 21         &  7         & 2107       & 2205       & -3         & -55        & OO         & 2003       & BFL        & N713SK     & 0          & 163        & 1428      \\\\\n",
       "\\end{tabular}\n"
      ],
      "text/markdown": [
       "\n",
       "DATE | hour | minute | dep | arr | dep_delay | arr_delay | carrier | flight | dest | plane | cancelled | time | dist | \n",
       "|---|---|---|---|---|---|\n",
       "| 2011-07-03 | 19         | 14         | 1914       | 2039       | -1         | -70        | XE         | 2804       | MEM        | N12157     | 0          |  66        |  468       | \n",
       "| 2011-12-24 | 12         |  9         | 1209       | 1346       | 54         |  -3        | CO         | 1669       | SFO        | N73406     | 0          | 201        | 1635       | \n",
       "| 2011-12-24 | 21         | 29         | 2129       | 2337       | -1         | -55        | CO         | 1552       | SEA        | N37437     | 0          | 234        | 1874       | \n",
       "| 2011-12-24 | 21         | 17         | 2117       | 2258       |  2         | -51        | CO         | 1712       | SFO        | N74856     | 0          | 200        | 1635       | \n",
       "| 2011-12-25 |  7         | 41         |  741       |  926       | -4         | -57        | OO         | 4591       | SLC        | N814SK     | 0          | 147        | 1195       | \n",
       "| 2011-08-26 | 21         |  7         | 2107       | 2205       | -3         | -55        | OO         | 2003       | BFL        | N713SK     | 0          | 163        | 1428       | \n",
       "\n",
       "\n"
      ],
      "text/plain": [
       "  DATE       hour minute dep  arr  dep_delay arr_delay carrier flight dest\n",
       "1 2011-07-03 19   14     1914 2039 -1        -70       XE      2804   MEM \n",
       "2 2011-12-24 12    9     1209 1346 54         -3       CO      1669   SFO \n",
       "3 2011-12-24 21   29     2129 2337 -1        -55       CO      1552   SEA \n",
       "4 2011-12-24 21   17     2117 2258  2        -51       CO      1712   SFO \n",
       "5 2011-12-25  7   41      741  926 -4        -57       OO      4591   SLC \n",
       "6 2011-08-26 21    7     2107 2205 -3        -55       OO      2003   BFL \n",
       "  plane  cancelled time dist\n",
       "1 N12157 0          66   468\n",
       "2 N73406 0         201  1635\n",
       "3 N37437 0         234  1874\n",
       "4 N74856 0         200  1635\n",
       "5 N814SK 0         147  1195\n",
       "6 N713SK 0         163  1428"
      ]
     },
     "metadata": {},
     "output_type": "display_data"
    }
   ],
   "source": [
    "r1 <- arrange(flights, DATE, hour, minute)\n",
    "r2 <- arrange(flights, desc(dep_delay))\n",
    "r3 <- arrange(flights, desc(arr_delay))\n",
    "r4 <- arrange(flights, desc(dep_delay - arr_delay))\n",
    "\n",
    "head(r1)\n",
    "head(r2)\n",
    "head(r3)\n",
    "head(r4)"
   ]
  },
  {
   "cell_type": "markdown",
   "metadata": {},
   "source": [
    "The next dplyr verb is **mutate** which we've had a peek at earlier in this notebook.  This allows us to create new columns or transform existing ones.  As a simple example from page 31 in Hadley's slides [4]:"
   ]
  },
  {
   "cell_type": "code",
   "execution_count": 33,
   "metadata": {},
   "outputs": [
    {
     "data": {
      "text/html": [
       "<table>\n",
       "<thead><tr><th scope=col>color</th><th scope=col>value</th><th scope=col>double</th></tr></thead>\n",
       "<tbody>\n",
       "\t<tr><td>blue </td><td>1    </td><td> 2   </td></tr>\n",
       "\t<tr><td>black</td><td>2    </td><td> 4   </td></tr>\n",
       "\t<tr><td>blue </td><td>3    </td><td> 6   </td></tr>\n",
       "\t<tr><td>blue </td><td>4    </td><td> 8   </td></tr>\n",
       "\t<tr><td>black</td><td>5    </td><td>10   </td></tr>\n",
       "</tbody>\n",
       "</table>\n"
      ],
      "text/latex": [
       "\\begin{tabular}{r|lll}\n",
       " color & value & double\\\\\n",
       "\\hline\n",
       "\t blue  & 1     &  2   \\\\\n",
       "\t black & 2     &  4   \\\\\n",
       "\t blue  & 3     &  6   \\\\\n",
       "\t blue  & 4     &  8   \\\\\n",
       "\t black & 5     & 10   \\\\\n",
       "\\end{tabular}\n"
      ],
      "text/markdown": [
       "\n",
       "color | value | double | \n",
       "|---|---|---|---|---|\n",
       "| blue  | 1     |  2    | \n",
       "| black | 2     |  4    | \n",
       "| blue  | 3     |  6    | \n",
       "| blue  | 4     |  8    | \n",
       "| black | 5     | 10    | \n",
       "\n",
       "\n"
      ],
      "text/plain": [
       "  color value double\n",
       "1 blue  1      2    \n",
       "2 black 2      4    \n",
       "3 blue  3      6    \n",
       "4 blue  4      8    \n",
       "5 black 5     10    "
      ]
     },
     "metadata": {},
     "output_type": "display_data"
    }
   ],
   "source": [
    "mutate(df, double = 2 * value)"
   ]
  },
  {
   "cell_type": "markdown",
   "metadata": {},
   "source": [
    "How would you create a column for the average speed?"
   ]
  },
  {
   "cell_type": "code",
   "execution_count": 38,
   "metadata": {},
   "outputs": [
    {
     "data": {
      "text/html": [
       "<table>\n",
       "<thead><tr><th scope=col>AVG_SPEED</th></tr></thead>\n",
       "<tbody>\n",
       "\t<tr><td>5.600000</td></tr>\n",
       "\t<tr><td>4.977778</td></tr>\n",
       "\t<tr><td>4.666667</td></tr>\n",
       "\t<tr><td>5.743590</td></tr>\n",
       "\t<tr><td>5.090909</td></tr>\n",
       "\t<tr><td>4.977778</td></tr>\n",
       "</tbody>\n",
       "</table>\n"
      ],
      "text/latex": [
       "\\begin{tabular}{r|l}\n",
       " AVG\\_SPEED\\\\\n",
       "\\hline\n",
       "\t 5.600000\\\\\n",
       "\t 4.977778\\\\\n",
       "\t 4.666667\\\\\n",
       "\t 5.743590\\\\\n",
       "\t 5.090909\\\\\n",
       "\t 4.977778\\\\\n",
       "\\end{tabular}\n"
      ],
      "text/markdown": [
       "\n",
       "AVG_SPEED | \n",
       "|---|---|---|---|---|---|\n",
       "| 5.600000 | \n",
       "| 4.977778 | \n",
       "| 4.666667 | \n",
       "| 5.743590 | \n",
       "| 5.090909 | \n",
       "| 4.977778 | \n",
       "\n",
       "\n"
      ],
      "text/plain": [
       "  AVG_SPEED\n",
       "1 5.600000 \n",
       "2 4.977778 \n",
       "3 4.666667 \n",
       "4 5.743590 \n",
       "5 5.090909 \n",
       "6 4.977778 "
      ]
     },
     "metadata": {},
     "output_type": "display_data"
    },
    {
     "data": {
      "text/html": [
       "<table>\n",
       "<thead><tr><th scope=col>AVG_SPEED</th></tr></thead>\n",
       "<tbody>\n",
       "\t<tr><td>5.600000</td></tr>\n",
       "\t<tr><td>4.977778</td></tr>\n",
       "\t<tr><td>4.666667</td></tr>\n",
       "\t<tr><td>5.743590</td></tr>\n",
       "\t<tr><td>5.090909</td></tr>\n",
       "\t<tr><td>4.977778</td></tr>\n",
       "</tbody>\n",
       "</table>\n"
      ],
      "text/latex": [
       "\\begin{tabular}{r|l}\n",
       " AVG\\_SPEED\\\\\n",
       "\\hline\n",
       "\t 5.600000\\\\\n",
       "\t 4.977778\\\\\n",
       "\t 4.666667\\\\\n",
       "\t 5.743590\\\\\n",
       "\t 5.090909\\\\\n",
       "\t 4.977778\\\\\n",
       "\\end{tabular}\n"
      ],
      "text/markdown": [
       "\n",
       "AVG_SPEED | \n",
       "|---|---|---|---|---|---|\n",
       "| 5.600000 | \n",
       "| 4.977778 | \n",
       "| 4.666667 | \n",
       "| 5.743590 | \n",
       "| 5.090909 | \n",
       "| 4.977778 | \n",
       "\n",
       "\n"
      ],
      "text/plain": [
       "  AVG_SPEED\n",
       "1 5.600000 \n",
       "2 4.977778 \n",
       "3 4.666667 \n",
       "4 5.743590 \n",
       "5 5.090909 \n",
       "6 4.977778 "
      ]
     },
     "metadata": {},
     "output_type": "display_data"
    }
   ],
   "source": [
    "# In SQL - # https://www.sqlite.org/lang_expr.html#castexpr\n",
    "query2 <- \"SELECT CAST(dist AS REAL)/CAST(time AS REAL) as AVG_SPEED FROM flights\"  \n",
    "r2_sql <- dbGetQuery(con, query2)\n",
    "head(r2_sql)\n",
    "\n",
    "# In dplyr - look ma, no cast!\n",
    "r2_dplyr <- mutate(flights, AVG_SPEED = dist/time) %>% select(AVG_SPEED)\n",
    "head(r2_dplyr)"
   ]
  },
  {
   "cell_type": "markdown",
   "metadata": {},
   "source": [
    "The last dplyr verb on our list is **summerise** (if your Australian) or **summerize** (if you prefer US English).  Either on works exactly the same.  Most basic way to use this verb is without a group_by like this:"
   ]
  },
  {
   "cell_type": "code",
   "execution_count": 10,
   "metadata": {},
   "outputs": [
    {
     "data": {
      "text/html": [
       "<table>\n",
       "<thead><tr><th scope=col>total</th></tr></thead>\n",
       "<tbody>\n",
       "\t<tr><td>15</td></tr>\n",
       "</tbody>\n",
       "</table>\n"
      ],
      "text/latex": [
       "\\begin{tabular}{r|l}\n",
       " total\\\\\n",
       "\\hline\n",
       "\t 15\\\\\n",
       "\\end{tabular}\n"
      ],
      "text/markdown": [
       "\n",
       "total | \n",
       "|---|\n",
       "| 15 | \n",
       "\n",
       "\n"
      ],
      "text/plain": [
       "  total\n",
       "1 15   "
      ]
     },
     "metadata": {},
     "output_type": "display_data"
    }
   ],
   "source": [
    "summarise(df, total = sum(value))"
   ]
  },
  {
   "cell_type": "markdown",
   "metadata": {},
   "source": [
    "If you wanted to get the totals for each color, you'll need to do a group_by like this:"
   ]
  },
  {
   "cell_type": "code",
   "execution_count": 9,
   "metadata": {},
   "outputs": [
    {
     "data": {
      "text/html": [
       "<table>\n",
       "<thead><tr><th scope=col>color</th><th scope=col>total</th></tr></thead>\n",
       "<tbody>\n",
       "\t<tr><td>black</td><td>7    </td></tr>\n",
       "\t<tr><td>blue </td><td>8    </td></tr>\n",
       "</tbody>\n",
       "</table>\n"
      ],
      "text/latex": [
       "\\begin{tabular}{r|ll}\n",
       " color & total\\\\\n",
       "\\hline\n",
       "\t black & 7    \\\\\n",
       "\t blue  & 8    \\\\\n",
       "\\end{tabular}\n"
      ],
      "text/markdown": [
       "\n",
       "color | total | \n",
       "|---|---|\n",
       "| black | 7     | \n",
       "| blue  | 8     | \n",
       "\n",
       "\n"
      ],
      "text/plain": [
       "  color total\n",
       "1 black 7    \n",
       "2 blue  8    "
      ]
     },
     "metadata": {},
     "output_type": "display_data"
    }
   ],
   "source": [
    "by_color <- group_by(df, color)\n",
    "summarise(by_color, total = sum(value))"
   ]
  },
  {
   "cell_type": "markdown",
   "metadata": {
    "collapsed": true
   },
   "source": [
    "Nice list of the summarize function on page 39 of the slides:\n",
    "\n",
    "min(x), median(x), max(x),  \n",
    "quantile(x, p)  \n",
    "n(), n_distinct(), sum(x), mean(x)  \n",
    "sum(x > 10), mean(x > 10)  \n",
    "sd(x), var(x), IQR(x), mad(x)  "
   ]
  },
  {
   "cell_type": "code",
   "execution_count": null,
   "metadata": {
    "collapsed": true
   },
   "outputs": [],
   "source": []
  },
  {
   "cell_type": "markdown",
   "metadata": {
    "collapsed": true
   },
   "source": [
    "### Pipes - I didn't like these at first, but they grow on you!\n",
    "\n",
    "First a little motivation... Can you tell what this is doing?"
   ]
  },
  {
   "cell_type": "code",
   "execution_count": 41,
   "metadata": {},
   "outputs": [
    {
     "data": {
      "text/html": [
       "<table>\n",
       "<thead><tr><th scope=col>DATE</th><th scope=col>hour</th><th scope=col>delay</th><th scope=col>n</th></tr></thead>\n",
       "<tbody>\n",
       "\t<tr><td>2011-01-01</td><td> 7        </td><td> 5.233333 </td><td>30        </td></tr>\n",
       "\t<tr><td>2011-01-01</td><td> 8        </td><td> 4.222222 </td><td>18        </td></tr>\n",
       "\t<tr><td>2011-01-01</td><td> 9        </td><td> 4.103448 </td><td>29        </td></tr>\n",
       "\t<tr><td>2011-01-01</td><td>10        </td><td> 2.425532 </td><td>47        </td></tr>\n",
       "\t<tr><td>2011-01-01</td><td>11        </td><td>10.574468 </td><td>47        </td></tr>\n",
       "\t<tr><td>2011-01-01</td><td>12        </td><td> 3.863636 </td><td>44        </td></tr>\n",
       "</tbody>\n",
       "</table>\n"
      ],
      "text/latex": [
       "\\begin{tabular}{r|llll}\n",
       " DATE & hour & delay & n\\\\\n",
       "\\hline\n",
       "\t 2011-01-01 &  7         &  5.233333  & 30        \\\\\n",
       "\t 2011-01-01 &  8         &  4.222222  & 18        \\\\\n",
       "\t 2011-01-01 &  9         &  4.103448  & 29        \\\\\n",
       "\t 2011-01-01 & 10         &  2.425532  & 47        \\\\\n",
       "\t 2011-01-01 & 11         & 10.574468  & 47        \\\\\n",
       "\t 2011-01-01 & 12         &  3.863636  & 44        \\\\\n",
       "\\end{tabular}\n"
      ],
      "text/markdown": [
       "\n",
       "DATE | hour | delay | n | \n",
       "|---|---|---|---|---|---|\n",
       "| 2011-01-01 |  7         |  5.233333  | 30         | \n",
       "| 2011-01-01 |  8         |  4.222222  | 18         | \n",
       "| 2011-01-01 |  9         |  4.103448  | 29         | \n",
       "| 2011-01-01 | 10         |  2.425532  | 47         | \n",
       "| 2011-01-01 | 11         | 10.574468  | 47         | \n",
       "| 2011-01-01 | 12         |  3.863636  | 44         | \n",
       "\n",
       "\n"
      ],
      "text/plain": [
       "  DATE       hour delay     n \n",
       "1 2011-01-01  7    5.233333 30\n",
       "2 2011-01-01  8    4.222222 18\n",
       "3 2011-01-01  9    4.103448 29\n",
       "4 2011-01-01 10    2.425532 47\n",
       "5 2011-01-01 11   10.574468 47\n",
       "6 2011-01-01 12    3.863636 44"
      ]
     },
     "metadata": {},
     "output_type": "display_data"
    }
   ],
   "source": [
    "# Downside of functional interface is that it's hard to read multiple operations:\n",
    "hourly_delay <- filter(\n",
    "    summarise(\n",
    "        group_by(filter(flights, !is.na(dep_delay)),\n",
    "                 DATE, hour),\n",
    "        delay = mean(dep_delay),\n",
    "        n = n()),\n",
    "    n > 10\n",
    ")\n",
    "\n",
    "head(hourly_delay)"
   ]
  },
  {
   "cell_type": "markdown",
   "metadata": {},
   "source": [
    "### A more readable way to do the above"
   ]
  },
  {
   "cell_type": "code",
   "execution_count": 40,
   "metadata": {},
   "outputs": [
    {
     "data": {
      "text/html": [
       "<table>\n",
       "<thead><tr><th scope=col>DATE</th><th scope=col>hour</th><th scope=col>delay</th><th scope=col>n</th></tr></thead>\n",
       "<tbody>\n",
       "\t<tr><td>2011-01-01</td><td> 7        </td><td> 5.233333 </td><td>30        </td></tr>\n",
       "\t<tr><td>2011-01-01</td><td> 8        </td><td> 4.222222 </td><td>18        </td></tr>\n",
       "\t<tr><td>2011-01-01</td><td> 9        </td><td> 4.103448 </td><td>29        </td></tr>\n",
       "\t<tr><td>2011-01-01</td><td>10        </td><td> 2.425532 </td><td>47        </td></tr>\n",
       "\t<tr><td>2011-01-01</td><td>11        </td><td>10.574468 </td><td>47        </td></tr>\n",
       "\t<tr><td>2011-01-01</td><td>12        </td><td> 3.863636 </td><td>44        </td></tr>\n",
       "</tbody>\n",
       "</table>\n"
      ],
      "text/latex": [
       "\\begin{tabular}{r|llll}\n",
       " DATE & hour & delay & n\\\\\n",
       "\\hline\n",
       "\t 2011-01-01 &  7         &  5.233333  & 30        \\\\\n",
       "\t 2011-01-01 &  8         &  4.222222  & 18        \\\\\n",
       "\t 2011-01-01 &  9         &  4.103448  & 29        \\\\\n",
       "\t 2011-01-01 & 10         &  2.425532  & 47        \\\\\n",
       "\t 2011-01-01 & 11         & 10.574468  & 47        \\\\\n",
       "\t 2011-01-01 & 12         &  3.863636  & 44        \\\\\n",
       "\\end{tabular}\n"
      ],
      "text/markdown": [
       "\n",
       "DATE | hour | delay | n | \n",
       "|---|---|---|---|---|---|\n",
       "| 2011-01-01 |  7         |  5.233333  | 30         | \n",
       "| 2011-01-01 |  8         |  4.222222  | 18         | \n",
       "| 2011-01-01 |  9         |  4.103448  | 29         | \n",
       "| 2011-01-01 | 10         |  2.425532  | 47         | \n",
       "| 2011-01-01 | 11         | 10.574468  | 47         | \n",
       "| 2011-01-01 | 12         |  3.863636  | 44         | \n",
       "\n",
       "\n"
      ],
      "text/plain": [
       "  DATE       hour delay     n \n",
       "1 2011-01-01  7    5.233333 30\n",
       "2 2011-01-01  8    4.222222 18\n",
       "3 2011-01-01  9    4.103448 29\n",
       "4 2011-01-01 10    2.425532 47\n",
       "5 2011-01-01 11   10.574468 47\n",
       "6 2011-01-01 12    3.863636 44"
      ]
     },
     "metadata": {},
     "output_type": "display_data"
    }
   ],
   "source": [
    "# Solution: the pipe operator from magrittr\n",
    "# x %>% f(y) -> f(x, y)\n",
    "\n",
    "hourly_delay <- flights %>%\n",
    "                filter(!is.na(dep_delay)) %>%\n",
    "                group_by(DATE, hour) %>%\n",
    "                summarise(delay = mean(dep_delay), n = n()) %>%\n",
    "                filter(n > 10)\n",
    "# Hint: pronounce %>% as then\n",
    "\n",
    "head(hourly_delay)"
   ]
  },
  {
   "cell_type": "code",
   "execution_count": null,
   "metadata": {
    "collapsed": true
   },
   "outputs": [],
   "source": []
  },
  {
   "cell_type": "code",
   "execution_count": null,
   "metadata": {
    "collapsed": true
   },
   "outputs": [],
   "source": []
  },
  {
   "cell_type": "markdown",
   "metadata": {
    "collapsed": true
   },
   "source": []
  },
  {
   "cell_type": "code",
   "execution_count": null,
   "metadata": {
    "collapsed": true
   },
   "outputs": [],
   "source": []
  },
  {
   "cell_type": "code",
   "execution_count": null,
   "metadata": {
    "collapsed": true
   },
   "outputs": [],
   "source": []
  },
  {
   "cell_type": "code",
   "execution_count": null,
   "metadata": {
    "collapsed": true
   },
   "outputs": [],
   "source": []
  },
  {
   "cell_type": "code",
   "execution_count": null,
   "metadata": {
    "collapsed": true
   },
   "outputs": [],
   "source": []
  },
  {
   "cell_type": "code",
   "execution_count": null,
   "metadata": {
    "collapsed": true
   },
   "outputs": [],
   "source": []
  },
  {
   "cell_type": "markdown",
   "metadata": {
    "collapsed": true
   },
   "source": [
    "### References\n",
    "\n",
    "1. Wickham, Hadley, *Tidy Data*, Journal of Statistical Software, August 2014, Volume 59, Issue 10. [https://www.jstatsoft.org/article/view/v059i10/v59i10.pdf](https://www.jstatsoft.org/article/view/v059i10/v59i10.pdf)\n",
    "2. Hadley Wickham's \"dplyr\" tutorial at useR 2014 (1/2) [https://www.youtube.com/watch?v=8SGif63VW6E](https://www.youtube.com/watch?v=8SGif63VW6E)\n",
    "3. Hadley Wickham's \"dplyr\" tutorial at useR 2014 (2/2) [https://www.youtube.com/watch?v=Ue08LVuk790](https://www.youtube.com/watch?v=Ue08LVuk790)\n",
    "4. Slides for 2. and 3. are in the repo at **WonderfulML\\docs\\slides\\2014 Wickham-dplyr-tutorial.pdf**\n",
    "5. Data sets for the 2014 dplyr tutorial, [https://www.dropbox.com/sh/i8qnluwmuieicxc/AAAgt9tIKoIm7WZKIyK25lh6a](https://www.dropbox.com/sh/i8qnluwmuieicxc/AAAgt9tIKoIm7WZKIyK25lh6a)\n",
    "6. RSQLite documentation: [https://cran.r-project.org/web/packages/RSQLite/RSQLite.pdf](https://cran.r-project.org/web/packages/RSQLite/RSQLite.pdf)\n",
    "7. SQLite documentation regarding date types: [https://www.sqlite.org/datatype3.html#date_and_time_datatype](https://www.sqlite.org/datatype3.html#date_and_time_datatype)\n",
    "8. SQLite documentation regarding table structures (pragma): [http://www.sqlite.org/pragma.html#pragma_table_info](http://www.sqlite.org/pragma.html#pragma_table_info) \n",
    "9. SQL Zoo Tutorial - http://sqlzoo.net  \n",
    "10.  \n",
    "11.  \n",
    "12.  \n"
   ]
  }
 ],
 "metadata": {
  "kernelspec": {
   "display_name": "R",
   "language": "R",
   "name": "ir"
  },
  "language_info": {
   "codemirror_mode": "r",
   "file_extension": ".r",
   "mimetype": "text/x-r-source",
   "name": "R",
   "pygments_lexer": "r",
   "version": "3.3.2"
  }
 },
 "nbformat": 4,
 "nbformat_minor": 2
}
