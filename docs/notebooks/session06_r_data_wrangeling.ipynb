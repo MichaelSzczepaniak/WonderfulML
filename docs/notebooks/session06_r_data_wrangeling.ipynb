{
 "cells": [
  {
   "cell_type": "markdown",
   "metadata": {},
   "source": [
    "## The Wonderful World of ML - Session 6: Data Wrangling in R - Part 1"
   ]
  },
  {
   "cell_type": "markdown",
   "metadata": {},
   "source": [
    "### Why focus on data wrangling?"
   ]
  },
  {
   "cell_type": "markdown",
   "metadata": {},
   "source": [
    "In the first of these sessions, we jumped right into a few of the basic ML algorithms: linear regresssion, logistic regression, LDA, QDA, and decision trees.  In this session we'll step back and look at data wrangling.  It's an important topic because the literature suggests [[1]](https://www.jstatsoft.org/article/view/v059i10/v59i10.pdf), it consumes roughly 80% of the time spent doing an analysis.\n",
    "\n",
    "If it takes this much time just to get the data in a usable form, it makes sense to spend a little time in building some skills in this area.\n",
    "\n",
    "\n"
   ]
  },
  {
   "cell_type": "code",
   "execution_count": null,
   "metadata": {
    "collapsed": true
   },
   "outputs": [],
   "source": []
  },
  {
   "cell_type": "code",
   "execution_count": null,
   "metadata": {
    "collapsed": true
   },
   "outputs": [],
   "source": []
  },
  {
   "cell_type": "code",
   "execution_count": null,
   "metadata": {
    "collapsed": true
   },
   "outputs": [],
   "source": []
  },
  {
   "cell_type": "code",
   "execution_count": null,
   "metadata": {
    "collapsed": true
   },
   "outputs": [],
   "source": []
  },
  {
   "cell_type": "code",
   "execution_count": null,
   "metadata": {
    "collapsed": true
   },
   "outputs": [],
   "source": []
  },
  {
   "cell_type": "code",
   "execution_count": null,
   "metadata": {
    "collapsed": true
   },
   "outputs": [],
   "source": []
  },
  {
   "cell_type": "code",
   "execution_count": null,
   "metadata": {
    "collapsed": true
   },
   "outputs": [],
   "source": []
  },
  {
   "cell_type": "markdown",
   "metadata": {
    "collapsed": true
   },
   "source": [
    "### Connect to example database\n",
    "\n",
    "We'll use the data from the dplyr tutorial given by Hadely Wickham here: [[2]](https://www.youtube.com/watch?v=8SGif63VW6E), [[3]](https://www.youtube.com/watch?v=Ue08LVuk790).  The database has been downloaded to the project so we can connect to it locally.  Here's a bit of code to do the connection and list out the tables in the database:"
   ]
  },
  {
   "cell_type": "code",
   "execution_count": 6,
   "metadata": {},
   "outputs": [
    {
     "ename": "ERROR",
     "evalue": "Error in library(RSQLite): there is no package called 'RSQLite'\n",
     "output_type": "error",
     "traceback": [
      "Error in library(RSQLite): there is no package called 'RSQLite'\nTraceback:\n",
      "1. library(RSQLite)",
      "2. stop(txt, domain = NA)"
     ]
    }
   ],
   "source": [
    "suppressMessages(suppressWarnings(library(DBI)))\n",
    "install.packages('RSQLite')  # run this and then comment out\n",
    "suppressMessages(suppressWarnings(library(RSQLite)))\n",
    "# connect to the sqlite file - currently in the notebooks dir of the project\n",
    "# so we need to go up 2 levels to get to the data dir\n",
    "con = dbConnect(SQLite(), dbname=\"../../data/2014_dplyr_flight_data/hflights.sqlite3\")\n",
    "# get a list of all tables\n",
    "alltables = dbListTables(con)\n",
    "alltables"
   ]
  },
  {
   "cell_type": "markdown",
   "metadata": {},
   "source": [
    "### All roads lead to Rome - Many ways to get the same result\n",
    "\n",
    "A typical scenario which I've run into when I start some kind of analysis boils down to a series of choice that range from one of the two following extremes:\n",
    "\n",
    "+ Write (what's often turns out to be) a complex SQL query to give you exactly what you need: both content and structure.\n",
    "+ Write a simple SQL query that gets you the basic data content, but not in the right structure.  Then do a bunch of wrangling with dplyr to it into the right form.\n",
    "\n",
    "This trade-off isn't apparent until you have do one or more joins to get the kind of dataframe you need to work on.  We'll show such an example, but for now, we'll keep it simple while we cover the basics."
   ]
  },
  {
   "cell_type": "markdown",
   "metadata": {
    "collapsed": true
   },
   "source": [
    "### SQL Basics\n",
    "\n",
    "Let's make a simple SQL call from R to our database and take a look at the resulting dataframe."
   ]
  },
  {
   "cell_type": "code",
   "execution_count": null,
   "metadata": {},
   "outputs": [],
   "source": [
    "query_string <- \"SELECT * FROM flights\"  # get all the records in the flights table\n",
    "# Fetch all query results into a data frame:\n",
    "flight_data <- dbGetQuery(con, query_string)\n",
    "head(flight_data)\n",
    "nrow(flight_data)\n",
    "\n",
    "# in case we need the df from the csv\n",
    "#library(dplyr)\n",
    "#path_flight_data <- \"D:\\\\dev\\\\WonderfulML\\\\data\\\\2014_dplyr_flight_data\\\\flights.csv\"\n",
    "#flights_csv <- tbl_df(read.csv(path_flight_data, stringsAsFactors = FALSE))\n",
    "#flights_csv$date <- as.Date(flights$date)"
   ]
  },
  {
   "cell_type": "markdown",
   "metadata": {},
   "source": [
    "Let's fix those dates.  This is the kind of stuff you'll typically run into when you start working with a new dataset.  After reading a little of the SQLite doc's on date types [[6]](https://www.sqlite.org/datatype3.html#date_and_time_datatype), we discover that there are no explicit \"date\" types.  Instead, dates are expressed as either TEXT, INTEGER, or REAL types.\n",
    "\n",
    "So how do we find out what type what types each field are in?  Again, you need some database-specific info here which you can get of the doc's.  To save a some time, you submit a query using structured like this:"
   ]
  },
  {
   "cell_type": "code",
   "execution_count": null,
   "metadata": {},
   "outputs": [],
   "source": [
    "data_types_flights <- dbGetQuery(con, \"Pragma table_info (flights)\")\n",
    "data_types_flights"
   ]
  },
  {
   "cell_type": "markdown",
   "metadata": {
    "collapsed": true
   },
   "source": []
  },
  {
   "cell_type": "code",
   "execution_count": null,
   "metadata": {},
   "outputs": [],
   "source": [
    "query_string <- paste0(\"SELECT date(date, '6682 years', '38 days') as DATE, \",\n",
    "                       \"hour, minute, dep, arr, dep_delay, arr_delay, carrier, \",\n",
    "                       \"flight, dest, plane, cancelled, time, dist FROM flights\")\n",
    "flight_data <- dbGetQuery(con, query_string)\n",
    "head(flight_data)\n",
    "msg <- paste0(\"type before conversion: \", class(flight_data$DATE))\n",
    "msg\n",
    "suppressMessages(suppressWarnings(library(dplyr)))\n",
    "flight_data <- mutate(flight_data, DATE = as.Date(DATE))\n",
    "msg <- paste0(\"type AFTER conversion: \", class(flight_data$DATE))\n",
    "msg"
   ]
  },
  {
   "cell_type": "markdown",
   "metadata": {},
   "source": [
    "Single table dplyr verbs:\n",
    "\n",
    "+ **filter**: keep rows matching criteria\n",
    "+ **select**: pick columns by name\n",
    "+ **arrange**: reorder rows\n",
    "+ **mutate**: add new variables\n",
    "+ **summarise**: reduce variables to values (typically used with **group_by**)\n",
    "\n",
    "Let's look at how to use **filter**.  From page 18 in Hadley's slides [4]:"
   ]
  },
  {
   "cell_type": "code",
   "execution_count": null,
   "metadata": {},
   "outputs": [],
   "source": [
    "df <- data.frame(color = c(\"blue\", \"black\", \"blue\", \"blue\", \"black\"), value = 1:5)\n",
    "suppressMessages(suppressWarnings(library(dplyr)))\n",
    "filter(df, color == \"blue\")"
   ]
  },
  {
   "cell_type": "markdown",
   "metadata": {},
   "source": [
    "Find all flights:\n",
    "+ To SFO or OAK\n",
    "+ In January\n",
    "+ Delayed by more than an hour\n",
    "+ That departed between midnight and five am.\n",
    "+ Where the arrival delay was more than twice the departure delay"
   ]
  },
  {
   "cell_type": "code",
   "execution_count": null,
   "metadata": {
    "collapsed": true
   },
   "outputs": [],
   "source": [
    "# In dplyr: step by step\n",
    "\n",
    "p1 <- filter(flights, dest %in% c(\"SFO\", \"OAK\"))\n",
    "p2 <- filter(flights, date < \"2001-02-01\")  # or if ANDing together: p2 <- filter(p1, date < \"2001-02-01\")\n",
    "p3 <- filter(flights, dep_delay > 60)\n"
   ]
  },
  {
   "cell_type": "code",
   "execution_count": null,
   "metadata": {
    "collapsed": true
   },
   "outputs": [],
   "source": [
    "# In SQL\n",
    "\n",
    "query1 <- paste0(\"SELECT * FROM flights \",\n",
    "                 \"WHERE dest IN ('SFO, 'OAK')\") # be careful with quotes here!\n",
    "p1_sql <- dbGetQuery(con, query1)"
   ]
  },
  {
   "cell_type": "code",
   "execution_count": null,
   "metadata": {
    "collapsed": true
   },
   "outputs": [],
   "source": []
  },
  {
   "cell_type": "markdown",
   "metadata": {},
   "source": [
    "Notice how similar this is to using SQL WHERE clauses!\n",
    "\n",
    "Let's take a quick look at **select**.  From page 23-24 in Hadley's slides [4]:"
   ]
  },
  {
   "cell_type": "code",
   "execution_count": 8,
   "metadata": {},
   "outputs": [
    {
     "data": {
      "text/html": [
       "<table>\n",
       "<thead><tr><th scope=col>color</th></tr></thead>\n",
       "<tbody>\n",
       "\t<tr><td>blue </td></tr>\n",
       "\t<tr><td>black</td></tr>\n",
       "\t<tr><td>blue </td></tr>\n",
       "\t<tr><td>blue </td></tr>\n",
       "\t<tr><td>black</td></tr>\n",
       "</tbody>\n",
       "</table>\n"
      ],
      "text/latex": [
       "\\begin{tabular}{r|l}\n",
       " color\\\\\n",
       "\\hline\n",
       "\t blue \\\\\n",
       "\t black\\\\\n",
       "\t blue \\\\\n",
       "\t blue \\\\\n",
       "\t black\\\\\n",
       "\\end{tabular}\n"
      ],
      "text/markdown": [
       "\n",
       "color | \n",
       "|---|---|---|---|---|\n",
       "| blue  | \n",
       "| black | \n",
       "| blue  | \n",
       "| blue  | \n",
       "| black | \n",
       "\n",
       "\n"
      ],
      "text/plain": [
       "  color\n",
       "1 blue \n",
       "2 black\n",
       "3 blue \n",
       "4 blue \n",
       "5 black"
      ]
     },
     "metadata": {},
     "output_type": "display_data"
    },
    {
     "data": {
      "text/html": [
       "<table>\n",
       "<thead><tr><th scope=col>value</th></tr></thead>\n",
       "<tbody>\n",
       "\t<tr><td>1</td></tr>\n",
       "\t<tr><td>2</td></tr>\n",
       "\t<tr><td>3</td></tr>\n",
       "\t<tr><td>4</td></tr>\n",
       "\t<tr><td>5</td></tr>\n",
       "</tbody>\n",
       "</table>\n"
      ],
      "text/latex": [
       "\\begin{tabular}{r|l}\n",
       " value\\\\\n",
       "\\hline\n",
       "\t 1\\\\\n",
       "\t 2\\\\\n",
       "\t 3\\\\\n",
       "\t 4\\\\\n",
       "\t 5\\\\\n",
       "\\end{tabular}\n"
      ],
      "text/markdown": [
       "\n",
       "value | \n",
       "|---|---|---|---|---|\n",
       "| 1 | \n",
       "| 2 | \n",
       "| 3 | \n",
       "| 4 | \n",
       "| 5 | \n",
       "\n",
       "\n"
      ],
      "text/plain": [
       "  value\n",
       "1 1    \n",
       "2 2    \n",
       "3 3    \n",
       "4 4    \n",
       "5 5    "
      ]
     },
     "metadata": {},
     "output_type": "display_data"
    }
   ],
   "source": [
    "select(df, color)\n",
    "select(df, -color)"
   ]
  },
  {
   "cell_type": "markdown",
   "metadata": {
    "collapsed": true
   },
   "source": [
    "So it's like SQL Select, but more powerful because we do things like:"
   ]
  },
  {
   "cell_type": "code",
   "execution_count": 9,
   "metadata": {},
   "outputs": [
    {
     "ename": "ERROR",
     "evalue": "Error in select(flights, ends_with(\"delay\")): object 'flights' not found\n",
     "output_type": "error",
     "traceback": [
      "Error in select(flights, ends_with(\"delay\")): object 'flights' not found\nTraceback:\n",
      "1. select(flights, ends_with(\"delay\"))"
     ]
    }
   ],
   "source": [
    "select(flights, ends_with(\"delay\"))\n",
    "select(flights, contains(\"delay\"))"
   ]
  },
  {
   "cell_type": "markdown",
   "metadata": {
    "collapsed": true
   },
   "source": [
    "How would you do this above in SQL?  Hint: It's not trivial!!!"
   ]
  },
  {
   "cell_type": "markdown",
   "metadata": {},
   "source": [
    "The 3rd dplyr verb from our list is **arrange** which is sort of like an **ORDER BY** clause in SQL:"
   ]
  },
  {
   "cell_type": "code",
   "execution_count": 10,
   "metadata": {},
   "outputs": [
    {
     "data": {
      "text/html": [
       "<table>\n",
       "<thead><tr><th scope=col>color</th><th scope=col>value</th></tr></thead>\n",
       "<tbody>\n",
       "\t<tr><td>black</td><td>2    </td></tr>\n",
       "\t<tr><td>black</td><td>5    </td></tr>\n",
       "\t<tr><td>blue </td><td>1    </td></tr>\n",
       "\t<tr><td>blue </td><td>3    </td></tr>\n",
       "\t<tr><td>blue </td><td>4    </td></tr>\n",
       "</tbody>\n",
       "</table>\n"
      ],
      "text/latex": [
       "\\begin{tabular}{r|ll}\n",
       " color & value\\\\\n",
       "\\hline\n",
       "\t black & 2    \\\\\n",
       "\t black & 5    \\\\\n",
       "\t blue  & 1    \\\\\n",
       "\t blue  & 3    \\\\\n",
       "\t blue  & 4    \\\\\n",
       "\\end{tabular}\n"
      ],
      "text/markdown": [
       "\n",
       "color | value | \n",
       "|---|---|---|---|---|\n",
       "| black | 2     | \n",
       "| black | 5     | \n",
       "| blue  | 1     | \n",
       "| blue  | 3     | \n",
       "| blue  | 4     | \n",
       "\n",
       "\n"
      ],
      "text/plain": [
       "  color value\n",
       "1 black 2    \n",
       "2 black 5    \n",
       "3 blue  1    \n",
       "4 blue  3    \n",
       "5 blue  4    "
      ]
     },
     "metadata": {},
     "output_type": "display_data"
    },
    {
     "data": {
      "text/html": [
       "<table>\n",
       "<thead><tr><th scope=col>color</th><th scope=col>value</th></tr></thead>\n",
       "<tbody>\n",
       "\t<tr><td>blue </td><td>1    </td></tr>\n",
       "\t<tr><td>blue </td><td>3    </td></tr>\n",
       "\t<tr><td>blue </td><td>4    </td></tr>\n",
       "\t<tr><td>black</td><td>2    </td></tr>\n",
       "\t<tr><td>black</td><td>5    </td></tr>\n",
       "</tbody>\n",
       "</table>\n"
      ],
      "text/latex": [
       "\\begin{tabular}{r|ll}\n",
       " color & value\\\\\n",
       "\\hline\n",
       "\t blue  & 1    \\\\\n",
       "\t blue  & 3    \\\\\n",
       "\t blue  & 4    \\\\\n",
       "\t black & 2    \\\\\n",
       "\t black & 5    \\\\\n",
       "\\end{tabular}\n"
      ],
      "text/markdown": [
       "\n",
       "color | value | \n",
       "|---|---|---|---|---|\n",
       "| blue  | 1     | \n",
       "| blue  | 3     | \n",
       "| blue  | 4     | \n",
       "| black | 2     | \n",
       "| black | 5     | \n",
       "\n",
       "\n"
      ],
      "text/plain": [
       "  color value\n",
       "1 blue  1    \n",
       "2 blue  3    \n",
       "3 blue  4    \n",
       "4 black 2    \n",
       "5 black 5    "
      ]
     },
     "metadata": {},
     "output_type": "display_data"
    }
   ],
   "source": [
    "arrange(df, color)\n",
    "arrange(df, desc(color))"
   ]
  },
  {
   "cell_type": "markdown",
   "metadata": {},
   "source": [
    "Exercise from page 29 in Hadley's slides [4]:\n",
    "\n",
    "+ Order the flights by departure date and time.\n",
    "+ Which flights were most delayed?\n",
    "+ Which flights caught up the most time during the flight?"
   ]
  },
  {
   "cell_type": "code",
   "execution_count": null,
   "metadata": {
    "collapsed": true
   },
   "outputs": [],
   "source": [
    "r1 <- arrange(flights, date, hour, minute)\n",
    "r2 <- arrange(flights, desc(dep_delay))\n",
    "r3 <- arrange(flights, desc(arr_delay))\n",
    "r4 <- arrange(flights, desc(dep_delay - arr_delay))"
   ]
  },
  {
   "cell_type": "markdown",
   "metadata": {},
   "source": [
    "The next dplyr verb is **mutate** which we've had a peek at earlier in this notebook.  This allows us to create new columns or transform existing ones.  As a simple example from page 31 in Hadley's slides [4]:"
   ]
  },
  {
   "cell_type": "code",
   "execution_count": 11,
   "metadata": {},
   "outputs": [
    {
     "data": {
      "text/html": [
       "<table>\n",
       "<thead><tr><th scope=col>color</th><th scope=col>value</th><th scope=col>double</th></tr></thead>\n",
       "<tbody>\n",
       "\t<tr><td>blue </td><td>1    </td><td> 2   </td></tr>\n",
       "\t<tr><td>black</td><td>2    </td><td> 4   </td></tr>\n",
       "\t<tr><td>blue </td><td>3    </td><td> 6   </td></tr>\n",
       "\t<tr><td>blue </td><td>4    </td><td> 8   </td></tr>\n",
       "\t<tr><td>black</td><td>5    </td><td>10   </td></tr>\n",
       "</tbody>\n",
       "</table>\n"
      ],
      "text/latex": [
       "\\begin{tabular}{r|lll}\n",
       " color & value & double\\\\\n",
       "\\hline\n",
       "\t blue  & 1     &  2   \\\\\n",
       "\t black & 2     &  4   \\\\\n",
       "\t blue  & 3     &  6   \\\\\n",
       "\t blue  & 4     &  8   \\\\\n",
       "\t black & 5     & 10   \\\\\n",
       "\\end{tabular}\n"
      ],
      "text/markdown": [
       "\n",
       "color | value | double | \n",
       "|---|---|---|---|---|\n",
       "| blue  | 1     |  2    | \n",
       "| black | 2     |  4    | \n",
       "| blue  | 3     |  6    | \n",
       "| blue  | 4     |  8    | \n",
       "| black | 5     | 10    | \n",
       "\n",
       "\n"
      ],
      "text/plain": [
       "  color value double\n",
       "1 blue  1      2    \n",
       "2 black 2      4    \n",
       "3 blue  3      6    \n",
       "4 blue  4      8    \n",
       "5 black 5     10    "
      ]
     },
     "metadata": {},
     "output_type": "display_data"
    }
   ],
   "source": [
    "mutate(df, double = 2 * value)"
   ]
  },
  {
   "cell_type": "markdown",
   "metadata": {},
   "source": [
    "How would you create a column for the average speed?"
   ]
  },
  {
   "cell_type": "code",
   "execution_count": null,
   "metadata": {
    "collapsed": true
   },
   "outputs": [],
   "source": [
    "# In SQL\n",
    "query2 <- \"SELECT (dist/time) as AVG_SPEED FROM flights\"\n",
    "r2_sql <- dbGetQuery(con, query2)\n",
    "\n",
    "# In dplyr\n",
    "r2_dplyr <- mutate(flights, AVG_SPEED = dist/time)"
   ]
  },
  {
   "cell_type": "markdown",
   "metadata": {},
   "source": [
    "The last dplyr verb on our list is **summerise** (if your Australian) or **summerize** (if you prefer US English).  Either on works exactly the same.  Most basic way to use this verb is without a group_by like this:"
   ]
  },
  {
   "cell_type": "code",
   "execution_count": 12,
   "metadata": {},
   "outputs": [
    {
     "data": {
      "text/html": [
       "<table>\n",
       "<thead><tr><th scope=col>total</th></tr></thead>\n",
       "<tbody>\n",
       "\t<tr><td>15</td></tr>\n",
       "</tbody>\n",
       "</table>\n"
      ],
      "text/latex": [
       "\\begin{tabular}{r|l}\n",
       " total\\\\\n",
       "\\hline\n",
       "\t 15\\\\\n",
       "\\end{tabular}\n"
      ],
      "text/markdown": [
       "\n",
       "total | \n",
       "|---|\n",
       "| 15 | \n",
       "\n",
       "\n"
      ],
      "text/plain": [
       "  total\n",
       "1 15   "
      ]
     },
     "metadata": {},
     "output_type": "display_data"
    }
   ],
   "source": [
    "summarise(df, total = sum(value))"
   ]
  },
  {
   "cell_type": "markdown",
   "metadata": {},
   "source": [
    "If you wanted to get the totals for each color, you'll need to do a group_by like this:"
   ]
  },
  {
   "cell_type": "code",
   "execution_count": 14,
   "metadata": {},
   "outputs": [
    {
     "data": {
      "text/html": [
       "<table>\n",
       "<thead><tr><th scope=col>color</th><th scope=col>total</th></tr></thead>\n",
       "<tbody>\n",
       "\t<tr><td>black</td><td>7    </td></tr>\n",
       "\t<tr><td>blue </td><td>8    </td></tr>\n",
       "</tbody>\n",
       "</table>\n"
      ],
      "text/latex": [
       "\\begin{tabular}{r|ll}\n",
       " color & total\\\\\n",
       "\\hline\n",
       "\t black & 7    \\\\\n",
       "\t blue  & 8    \\\\\n",
       "\\end{tabular}\n"
      ],
      "text/markdown": [
       "\n",
       "color | total | \n",
       "|---|---|\n",
       "| black | 7     | \n",
       "| blue  | 8     | \n",
       "\n",
       "\n"
      ],
      "text/plain": [
       "  color total\n",
       "1 black 7    \n",
       "2 blue  8    "
      ]
     },
     "metadata": {},
     "output_type": "display_data"
    }
   ],
   "source": [
    "by_color <- group_by(df, color)\n",
    "summarise(by_color, total = sum(value))"
   ]
  },
  {
   "cell_type": "markdown",
   "metadata": {
    "collapsed": true
   },
   "source": [
    "Nice list of the summarize function on page 39 of the slides:\n",
    "\n",
    "min(x), median(x), max(x),\n",
    "quantile(x, p)\n",
    "n(), n_distinct(), sum(x), mean(x)\n",
    "sum(x > 10), mean(x > 10)\n",
    "sd(x), var(x), IQR(x), mad(x)"
   ]
  },
  {
   "cell_type": "code",
   "execution_count": null,
   "metadata": {},
   "outputs": [],
   "source": []
  },
  {
   "cell_type": "markdown",
   "metadata": {
    "collapsed": true
   },
   "source": [
    "### Pipes - I didn't like these at first, but they grow on you!\n",
    "\n",
    "First a little motivation... Can you tell what this is doing?"
   ]
  },
  {
   "cell_type": "code",
   "execution_count": null,
   "metadata": {},
   "outputs": [],
   "source": [
    "# Downside of functional interface is that it's hard to read multiple operations:\n",
    "hourly_delay <- filter(\n",
    "    summarise(\n",
    "        group_by(filter(flights, !is.na(dep_delay)),\n",
    "                 date, hour),\n",
    "        delay = mean(dep_delay),\n",
    "        n = n()),\n",
    "    n > 10\n",
    ")"
   ]
  },
  {
   "cell_type": "markdown",
   "metadata": {},
   "source": [
    "### A more readable way to do the above"
   ]
  },
  {
   "cell_type": "code",
   "execution_count": null,
   "metadata": {},
   "outputs": [],
   "source": [
    "# Solution: the pipe operator from magrittr\n",
    "# x %>% f(y) -> f(x, y)\n",
    "\n",
    "hourly_delay <- flights %>%\n",
    "                filter(!is.na(dep_delay)) %>%\n",
    "                group_by(date, hour) %>%\n",
    "                summarise(delay = mean(dep_delay), n = n()) %>%\n",
    "                filter(n > 10)\n",
    "\n",
    "# Hint: pronounce %>% as then"
   ]
  },
  {
   "cell_type": "code",
   "execution_count": null,
   "metadata": {},
   "outputs": [],
   "source": []
  },
  {
   "cell_type": "code",
   "execution_count": null,
   "metadata": {},
   "outputs": [],
   "source": []
  },
  {
   "cell_type": "markdown",
   "metadata": {
    "collapsed": true
   },
   "source": []
  },
  {
   "cell_type": "code",
   "execution_count": null,
   "metadata": {},
   "outputs": [],
   "source": []
  },
  {
   "cell_type": "code",
   "execution_count": null,
   "metadata": {},
   "outputs": [],
   "source": []
  },
  {
   "cell_type": "code",
   "execution_count": null,
   "metadata": {},
   "outputs": [],
   "source": []
  },
  {
   "cell_type": "code",
   "execution_count": null,
   "metadata": {
    "collapsed": true
   },
   "outputs": [],
   "source": []
  },
  {
   "cell_type": "code",
   "execution_count": null,
   "metadata": {
    "collapsed": true
   },
   "outputs": [],
   "source": []
  },
  {
   "cell_type": "markdown",
   "metadata": {
    "collapsed": true
   },
   "source": [
    "### References\n",
    "\n",
    "1. Wickham, Hadley, *Tidy Data*, Journal of Statistical Software, August 2014, Volume 59, Issue 10. [https://www.jstatsoft.org/article/view/v059i10/v59i10.pdf](https://www.jstatsoft.org/article/view/v059i10/v59i10.pdf)\n",
    "2. Hadley Wickham's \"dplyr\" tutorial at useR 2014 (1/2) [https://www.youtube.com/watch?v=8SGif63VW6E](https://www.youtube.com/watch?v=8SGif63VW6E)\n",
    "3. Hadley Wickham's \"dplyr\" tutorial at useR 2014 (2/2) [https://www.youtube.com/watch?v=Ue08LVuk790](https://www.youtube.com/watch?v=Ue08LVuk790)\n",
    "4. Slides for 2. and 3. are in the repo at **WonderfulML\\docs\\slides\\2014 Wickham-dplyr-tutorial.pdf**\n",
    "5. Data sets for the 2014 dplyr tutorial, [https://www.dropbox.com/sh/i8qnluwmuieicxc/AAAgt9tIKoIm7WZKIyK25lh6a](https://www.dropbox.com/sh/i8qnluwmuieicxc/AAAgt9tIKoIm7WZKIyK25lh6a)\n",
    "6. RSQLite documentation: [https://cran.r-project.org/web/packages/RSQLite/RSQLite.pdf](https://cran.r-project.org/web/packages/RSQLite/RSQLite.pdf)\n",
    "7. SQLite documentation regarding date types: [https://www.sqlite.org/datatype3.html#date_and_time_datatype](https://www.sqlite.org/datatype3.html#date_and_time_datatype)\n",
    "8. SQLite documentation regarding table structures (pragma): [http://www.sqlite.org/pragma.html#pragma_table_info](http://www.sqlite.org/pragma.html#pragma_table_info) \n",
    "9. SQL Zoo Tutorial - http://sqlzoo.net\n",
    "10.\n",
    "11.\n",
    "12.\n"
   ]
  }
 ],
 "metadata": {
  "kernelspec": {
   "display_name": "R",
   "language": "R",
   "name": "ir"
  },
  "language_info": {
   "codemirror_mode": "r",
   "file_extension": ".r",
   "mimetype": "text/x-r-source",
   "name": "R",
   "pygments_lexer": "r",
   "version": "3.3.2"
  }
 },
 "nbformat": 4,
 "nbformat_minor": 2
}
