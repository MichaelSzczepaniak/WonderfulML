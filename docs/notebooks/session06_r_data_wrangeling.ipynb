{
 "cells": [
  {
   "cell_type": "markdown",
   "metadata": {},
   "source": [
    "## The Wonderful World of ML - Session 6: Data Wrangling in R - Part 1"
   ]
  },
  {
   "cell_type": "markdown",
   "metadata": {},
   "source": [
    "### Why focus on data wrangling?"
   ]
  },
  {
   "cell_type": "markdown",
   "metadata": {},
   "source": [
    "In the first of these sessions, we jumped right into a few of the basic ML algorithms: linear regresssion, logistic regression, LDA, QDA, and decision trees.  In this session we'll step back and look at data wrangling.  It's an important topic because the literature suggests [[1]](https://www.jstatsoft.org/article/view/v059i10/v59i10.pdf), it consumes roughly 80% of the time spent doing an analysis.\n",
    "\n",
    "If it takes this much time just to get the data in a usable form, it makes sense to spend a little time in building some skills in this area.\n",
    "\n",
    "\n"
   ]
  },
  {
   "cell_type": "code",
   "execution_count": null,
   "metadata": {
    "collapsed": true
   },
   "outputs": [],
   "source": []
  },
  {
   "cell_type": "code",
   "execution_count": null,
   "metadata": {
    "collapsed": true
   },
   "outputs": [],
   "source": []
  },
  {
   "cell_type": "code",
   "execution_count": null,
   "metadata": {
    "collapsed": true
   },
   "outputs": [],
   "source": []
  },
  {
   "cell_type": "code",
   "execution_count": null,
   "metadata": {
    "collapsed": true
   },
   "outputs": [],
   "source": []
  },
  {
   "cell_type": "code",
   "execution_count": null,
   "metadata": {
    "collapsed": true
   },
   "outputs": [],
   "source": []
  },
  {
   "cell_type": "code",
   "execution_count": null,
   "metadata": {
    "collapsed": true
   },
   "outputs": [],
   "source": []
  },
  {
   "cell_type": "code",
   "execution_count": null,
   "metadata": {
    "collapsed": true
   },
   "outputs": [],
   "source": []
  },
  {
   "cell_type": "markdown",
   "metadata": {
    "collapsed": true
   },
   "source": [
    "### Connect to example database\n",
    "\n",
    "We'll use the data from the dplyr tutorial given by Hadely Wickham here: [[2]](https://www.youtube.com/watch?v=8SGif63VW6E), [[3]](https://www.youtube.com/watch?v=Ue08LVuk790).  The database has been downloaded to the project so we can connect to it locally.  Here's a bit of code to do the connection and list out the tables in the database:"
   ]
  },
  {
   "cell_type": "code",
   "execution_count": 3,
   "metadata": {
    "collapsed": false
   },
   "outputs": [
    {
     "data": {
      "text/html": [
       "<ol class=list-inline>\n",
       "\t<li>'airports'</li>\n",
       "\t<li>'flights'</li>\n",
       "\t<li>'planes'</li>\n",
       "\t<li>'sqlite_stat1'</li>\n",
       "\t<li>'weather'</li>\n",
       "</ol>\n"
      ],
      "text/latex": [
       "\\begin{enumerate*}\n",
       "\\item 'airports'\n",
       "\\item 'flights'\n",
       "\\item 'planes'\n",
       "\\item 'sqlite\\_stat1'\n",
       "\\item 'weather'\n",
       "\\end{enumerate*}\n"
      ],
      "text/markdown": [
       "1. 'airports'\n",
       "2. 'flights'\n",
       "3. 'planes'\n",
       "4. 'sqlite_stat1'\n",
       "5. 'weather'\n",
       "\n",
       "\n"
      ],
      "text/plain": [
       "[1] \"airports\"     \"flights\"      \"planes\"       \"sqlite_stat1\" \"weather\"     "
      ]
     },
     "metadata": {},
     "output_type": "display_data"
    }
   ],
   "source": [
    "library(DBI)\n",
    "library(RSQLite)\n",
    "# connect to the sqlite file - currently in the notebooks dir of the project\n",
    "# so we need to go up 2 levels to get to the data dir\n",
    "con = dbConnect(SQLite(), dbname=\"../../data/2014_dplyr_flight_data/hflights.sqlite3\")\n",
    "# get a list of all tables\n",
    "alltables = dbListTables(con)\n",
    "alltables"
   ]
  },
  {
   "cell_type": "markdown",
   "metadata": {
    "collapsed": false
   },
   "source": [
    "### All roads lead to Rome - Many ways to get the same result\n",
    "\n",
    "A typical scenario which I've run into when I start some kind of analysis boils down to a series of choice that range from one of the two following extremes:\n",
    "\n",
    "+ Write (what's often turns out to be) a complex SQL query to give you exactly what you need: both content and structure.\n",
    "+ Write a simple SQL query that gets you the basic data content, but not in the right structure.  Then do a bunch of wrangling with dplyr to it into the right form.\n",
    "\n",
    "This trade-off isn't apparent until you have do one or more joins to get the kind of dataframe you need to work on.  We'll show such an example, but for now, we'll keep it simple while we cover the basics."
   ]
  },
  {
   "cell_type": "markdown",
   "metadata": {
    "collapsed": true
   },
   "source": [
    "### SQL Basics\n",
    "\n",
    "TODO"
   ]
  },
  {
   "cell_type": "code",
   "execution_count": 7,
   "metadata": {
    "collapsed": false
   },
   "outputs": [
    {
     "data": {
      "text/html": [
       "<table>\n",
       "<thead><tr><th scope=col>date</th><th scope=col>hour</th><th scope=col>minute</th><th scope=col>dep</th><th scope=col>arr</th><th scope=col>dep_delay</th><th scope=col>arr_delay</th><th scope=col>carrier</th><th scope=col>flight</th><th scope=col>dest</th><th scope=col>plane</th><th scope=col>cancelled</th><th scope=col>time</th><th scope=col>dist</th></tr></thead>\n",
       "<tbody>\n",
       "\t<tr><td>14975 </td><td>14    </td><td> 0    </td><td>1400  </td><td>1500  </td><td> 0    </td><td>-10   </td><td>AA    </td><td>428   </td><td>DFW   </td><td>N576AA</td><td>0     </td><td>40    </td><td>224   </td></tr>\n",
       "\t<tr><td>14976 </td><td>14    </td><td> 1    </td><td>1401  </td><td>1501  </td><td> 1    </td><td> -9   </td><td>AA    </td><td>428   </td><td>DFW   </td><td>N557AA</td><td>0     </td><td>45    </td><td>224   </td></tr>\n",
       "\t<tr><td>14977 </td><td>13    </td><td>52    </td><td>1352  </td><td>1502  </td><td>-8    </td><td> -8   </td><td>AA    </td><td>428   </td><td>DFW   </td><td>N541AA</td><td>0     </td><td>48    </td><td>224   </td></tr>\n",
       "\t<tr><td>14978 </td><td>14    </td><td> 3    </td><td>1403  </td><td>1513  </td><td> 3    </td><td>  3   </td><td>AA    </td><td>428   </td><td>DFW   </td><td>N403AA</td><td>0     </td><td>39    </td><td>224   </td></tr>\n",
       "\t<tr><td>14979 </td><td>14    </td><td> 5    </td><td>1405  </td><td>1507  </td><td> 5    </td><td> -3   </td><td>AA    </td><td>428   </td><td>DFW   </td><td>N492AA</td><td>0     </td><td>44    </td><td>224   </td></tr>\n",
       "\t<tr><td>14980 </td><td>13    </td><td>59    </td><td>1359  </td><td>1503  </td><td>-1    </td><td> -7   </td><td>AA    </td><td>428   </td><td>DFW   </td><td>N262AA</td><td>0     </td><td>45    </td><td>224   </td></tr>\n",
       "</tbody>\n",
       "</table>\n"
      ],
      "text/latex": [
       "\\begin{tabular}{r|llllllllllllll}\n",
       " date & hour & minute & dep & arr & dep\\_delay & arr\\_delay & carrier & flight & dest & plane & cancelled & time & dist\\\\\n",
       "\\hline\n",
       "\t 14975  & 14     &  0     & 1400   & 1500   &  0     & -10    & AA     & 428    & DFW    & N576AA & 0      & 40     & 224   \\\\\n",
       "\t 14976  & 14     &  1     & 1401   & 1501   &  1     &  -9    & AA     & 428    & DFW    & N557AA & 0      & 45     & 224   \\\\\n",
       "\t 14977  & 13     & 52     & 1352   & 1502   & -8     &  -8    & AA     & 428    & DFW    & N541AA & 0      & 48     & 224   \\\\\n",
       "\t 14978  & 14     &  3     & 1403   & 1513   &  3     &   3    & AA     & 428    & DFW    & N403AA & 0      & 39     & 224   \\\\\n",
       "\t 14979  & 14     &  5     & 1405   & 1507   &  5     &  -3    & AA     & 428    & DFW    & N492AA & 0      & 44     & 224   \\\\\n",
       "\t 14980  & 13     & 59     & 1359   & 1503   & -1     &  -7    & AA     & 428    & DFW    & N262AA & 0      & 45     & 224   \\\\\n",
       "\\end{tabular}\n"
      ],
      "text/markdown": [
       "\n",
       "date | hour | minute | dep | arr | dep_delay | arr_delay | carrier | flight | dest | plane | cancelled | time | dist | \n",
       "|---|---|---|---|---|---|\n",
       "| 14975  | 14     |  0     | 1400   | 1500   |  0     | -10    | AA     | 428    | DFW    | N576AA | 0      | 40     | 224    | \n",
       "| 14976  | 14     |  1     | 1401   | 1501   |  1     |  -9    | AA     | 428    | DFW    | N557AA | 0      | 45     | 224    | \n",
       "| 14977  | 13     | 52     | 1352   | 1502   | -8     |  -8    | AA     | 428    | DFW    | N541AA | 0      | 48     | 224    | \n",
       "| 14978  | 14     |  3     | 1403   | 1513   |  3     |   3    | AA     | 428    | DFW    | N403AA | 0      | 39     | 224    | \n",
       "| 14979  | 14     |  5     | 1405   | 1507   |  5     |  -3    | AA     | 428    | DFW    | N492AA | 0      | 44     | 224    | \n",
       "| 14980  | 13     | 59     | 1359   | 1503   | -1     |  -7    | AA     | 428    | DFW    | N262AA | 0      | 45     | 224    | \n",
       "\n",
       "\n"
      ],
      "text/plain": [
       "  date  hour minute dep  arr  dep_delay arr_delay carrier flight dest plane \n",
       "1 14975 14    0     1400 1500  0        -10       AA      428    DFW  N576AA\n",
       "2 14976 14    1     1401 1501  1         -9       AA      428    DFW  N557AA\n",
       "3 14977 13   52     1352 1502 -8         -8       AA      428    DFW  N541AA\n",
       "4 14978 14    3     1403 1513  3          3       AA      428    DFW  N403AA\n",
       "5 14979 14    5     1405 1507  5         -3       AA      428    DFW  N492AA\n",
       "6 14980 13   59     1359 1503 -1         -7       AA      428    DFW  N262AA\n",
       "  cancelled time dist\n",
       "1 0         40   224 \n",
       "2 0         45   224 \n",
       "3 0         48   224 \n",
       "4 0         39   224 \n",
       "5 0         44   224 \n",
       "6 0         45   224 "
      ]
     },
     "metadata": {},
     "output_type": "display_data"
    },
    {
     "data": {
      "text/html": [
       "227496"
      ],
      "text/latex": [
       "227496"
      ],
      "text/markdown": [
       "227496"
      ],
      "text/plain": [
       "[1] 227496"
      ]
     },
     "metadata": {},
     "output_type": "display_data"
    }
   ],
   "source": [
    "query_string <- \"SELECT * FROM flights\"  # get all the records in the flights table\n",
    "# Fetch all query results into a data frame:\n",
    "flight_data <- dbGetQuery(con, query_string)\n",
    "head(flight_data)\n",
    "nrow(flight_data)"
   ]
  },
  {
   "cell_type": "markdown",
   "metadata": {},
   "source": [
    "Let's fix those dates.  This is the kind of stuff you'll typically run into when you start working with a new dataset.  After reading a little of the SQLite doc's on date types [[6]](https://www.sqlite.org/datatype3.html#date_and_time_datatype), we discover that there are no explicit \"date\" types.  Instead, dates are expressed as either TEXT, INTEGER, or REAL types.\n",
    "\n",
    "So how do we find out what type"
   ]
  },
  {
   "cell_type": "code",
   "execution_count": 8,
   "metadata": {
    "collapsed": false
   },
   "outputs": [
    {
     "data": {
      "text/html": [
       "<table>\n",
       "<thead><tr><th scope=col>cid</th><th scope=col>name</th><th scope=col>type</th><th scope=col>notnull</th><th scope=col>dflt_value</th><th scope=col>pk</th></tr></thead>\n",
       "<tbody>\n",
       "\t<tr><td> 0       </td><td>date     </td><td>REAL     </td><td>0        </td><td>NA       </td><td>0        </td></tr>\n",
       "\t<tr><td> 1       </td><td>hour     </td><td>INTEGER  </td><td>0        </td><td>NA       </td><td>0        </td></tr>\n",
       "\t<tr><td> 2       </td><td>minute   </td><td>INTEGER  </td><td>0        </td><td>NA       </td><td>0        </td></tr>\n",
       "\t<tr><td> 3       </td><td>dep      </td><td>INTEGER  </td><td>0        </td><td>NA       </td><td>0        </td></tr>\n",
       "\t<tr><td> 4       </td><td>arr      </td><td>INTEGER  </td><td>0        </td><td>NA       </td><td>0        </td></tr>\n",
       "\t<tr><td> 5       </td><td>dep_delay</td><td>INTEGER  </td><td>0        </td><td>NA       </td><td>0        </td></tr>\n",
       "\t<tr><td> 6       </td><td>arr_delay</td><td>INTEGER  </td><td>0        </td><td>NA       </td><td>0        </td></tr>\n",
       "\t<tr><td> 7       </td><td>carrier  </td><td>TEXT     </td><td>0        </td><td>NA       </td><td>0        </td></tr>\n",
       "\t<tr><td> 8       </td><td>flight   </td><td>INTEGER  </td><td>0        </td><td>NA       </td><td>0        </td></tr>\n",
       "\t<tr><td> 9       </td><td>dest     </td><td>TEXT     </td><td>0        </td><td>NA       </td><td>0        </td></tr>\n",
       "\t<tr><td>10       </td><td>plane    </td><td>TEXT     </td><td>0        </td><td>NA       </td><td>0        </td></tr>\n",
       "\t<tr><td>11       </td><td>cancelled</td><td>INTEGER  </td><td>0        </td><td>NA       </td><td>0        </td></tr>\n",
       "\t<tr><td>12       </td><td>time     </td><td>INTEGER  </td><td>0        </td><td>NA       </td><td>0        </td></tr>\n",
       "\t<tr><td>13       </td><td>dist     </td><td>INTEGER  </td><td>0        </td><td>NA       </td><td>0        </td></tr>\n",
       "</tbody>\n",
       "</table>\n"
      ],
      "text/latex": [
       "\\begin{tabular}{r|llllll}\n",
       " cid & name & type & notnull & dflt\\_value & pk\\\\\n",
       "\\hline\n",
       "\t  0        & date      & REAL      & 0         & NA        & 0        \\\\\n",
       "\t  1        & hour      & INTEGER   & 0         & NA        & 0        \\\\\n",
       "\t  2        & minute    & INTEGER   & 0         & NA        & 0        \\\\\n",
       "\t  3        & dep       & INTEGER   & 0         & NA        & 0        \\\\\n",
       "\t  4        & arr       & INTEGER   & 0         & NA        & 0        \\\\\n",
       "\t  5          & dep\\_delay & INTEGER     & 0           & NA          & 0          \\\\\n",
       "\t  6          & arr\\_delay & INTEGER     & 0           & NA          & 0          \\\\\n",
       "\t  7        & carrier   & TEXT      & 0         & NA        & 0        \\\\\n",
       "\t  8        & flight    & INTEGER   & 0         & NA        & 0        \\\\\n",
       "\t  9        & dest      & TEXT      & 0         & NA        & 0        \\\\\n",
       "\t 10        & plane     & TEXT      & 0         & NA        & 0        \\\\\n",
       "\t 11        & cancelled & INTEGER   & 0         & NA        & 0        \\\\\n",
       "\t 12        & time      & INTEGER   & 0         & NA        & 0        \\\\\n",
       "\t 13        & dist      & INTEGER   & 0         & NA        & 0        \\\\\n",
       "\\end{tabular}\n"
      ],
      "text/markdown": [
       "\n",
       "cid | name | type | notnull | dflt_value | pk | \n",
       "|---|---|---|---|---|---|---|---|---|---|---|---|---|---|\n",
       "|  0        | date      | REAL      | 0         | NA        | 0         | \n",
       "|  1        | hour      | INTEGER   | 0         | NA        | 0         | \n",
       "|  2        | minute    | INTEGER   | 0         | NA        | 0         | \n",
       "|  3        | dep       | INTEGER   | 0         | NA        | 0         | \n",
       "|  4        | arr       | INTEGER   | 0         | NA        | 0         | \n",
       "|  5        | dep_delay | INTEGER   | 0         | NA        | 0         | \n",
       "|  6        | arr_delay | INTEGER   | 0         | NA        | 0         | \n",
       "|  7        | carrier   | TEXT      | 0         | NA        | 0         | \n",
       "|  8        | flight    | INTEGER   | 0         | NA        | 0         | \n",
       "|  9        | dest      | TEXT      | 0         | NA        | 0         | \n",
       "| 10        | plane     | TEXT      | 0         | NA        | 0         | \n",
       "| 11        | cancelled | INTEGER   | 0         | NA        | 0         | \n",
       "| 12        | time      | INTEGER   | 0         | NA        | 0         | \n",
       "| 13        | dist      | INTEGER   | 0         | NA        | 0         | \n",
       "\n",
       "\n"
      ],
      "text/plain": [
       "   cid name      type    notnull dflt_value pk\n",
       "1   0  date      REAL    0       NA         0 \n",
       "2   1  hour      INTEGER 0       NA         0 \n",
       "3   2  minute    INTEGER 0       NA         0 \n",
       "4   3  dep       INTEGER 0       NA         0 \n",
       "5   4  arr       INTEGER 0       NA         0 \n",
       "6   5  dep_delay INTEGER 0       NA         0 \n",
       "7   6  arr_delay INTEGER 0       NA         0 \n",
       "8   7  carrier   TEXT    0       NA         0 \n",
       "9   8  flight    INTEGER 0       NA         0 \n",
       "10  9  dest      TEXT    0       NA         0 \n",
       "11 10  plane     TEXT    0       NA         0 \n",
       "12 11  cancelled INTEGER 0       NA         0 \n",
       "13 12  time      INTEGER 0       NA         0 \n",
       "14 13  dist      INTEGER 0       NA         0 "
      ]
     },
     "metadata": {},
     "output_type": "display_data"
    }
   ],
   "source": [
    "data_types_flights <- dbGetQuery(con, \"Pragma table_info (flights)\")\n",
    "data_types_flights"
   ]
  },
  {
   "cell_type": "code",
   "execution_count": null,
   "metadata": {
    "collapsed": true
   },
   "outputs": [],
   "source": []
  },
  {
   "cell_type": "code",
   "execution_count": 13,
   "metadata": {
    "collapsed": false
   },
   "outputs": [
    {
     "data": {
      "text/html": [
       "<table>\n",
       "<thead><tr><th scope=col>DATE</th><th scope=col>hour</th><th scope=col>minute</th><th scope=col>dep</th><th scope=col>arr</th><th scope=col>dep_delay</th><th scope=col>arr_delay</th><th scope=col>carrier</th><th scope=col>flight</th><th scope=col>dest</th><th scope=col>plane</th><th scope=col>cancelled</th><th scope=col>time</th><th scope=col>dist</th></tr></thead>\n",
       "<tbody>\n",
       "\t<tr><td>2011-01-01</td><td>14        </td><td> 0        </td><td>1400      </td><td>1500      </td><td> 0        </td><td>-10       </td><td>AA        </td><td>428       </td><td>DFW       </td><td>N576AA    </td><td>0         </td><td>40        </td><td>224       </td></tr>\n",
       "\t<tr><td>2011-01-02</td><td>14        </td><td> 1        </td><td>1401      </td><td>1501      </td><td> 1        </td><td> -9       </td><td>AA        </td><td>428       </td><td>DFW       </td><td>N557AA    </td><td>0         </td><td>45        </td><td>224       </td></tr>\n",
       "\t<tr><td>2011-01-03</td><td>13        </td><td>52        </td><td>1352      </td><td>1502      </td><td>-8        </td><td> -8       </td><td>AA        </td><td>428       </td><td>DFW       </td><td>N541AA    </td><td>0         </td><td>48        </td><td>224       </td></tr>\n",
       "\t<tr><td>2011-01-04</td><td>14        </td><td> 3        </td><td>1403      </td><td>1513      </td><td> 3        </td><td>  3       </td><td>AA        </td><td>428       </td><td>DFW       </td><td>N403AA    </td><td>0         </td><td>39        </td><td>224       </td></tr>\n",
       "\t<tr><td>2011-01-05</td><td>14        </td><td> 5        </td><td>1405      </td><td>1507      </td><td> 5        </td><td> -3       </td><td>AA        </td><td>428       </td><td>DFW       </td><td>N492AA    </td><td>0         </td><td>44        </td><td>224       </td></tr>\n",
       "\t<tr><td>2011-01-06</td><td>13        </td><td>59        </td><td>1359      </td><td>1503      </td><td>-1        </td><td> -7       </td><td>AA        </td><td>428       </td><td>DFW       </td><td>N262AA    </td><td>0         </td><td>45        </td><td>224       </td></tr>\n",
       "</tbody>\n",
       "</table>\n"
      ],
      "text/latex": [
       "\\begin{tabular}{r|llllllllllllll}\n",
       " DATE & hour & minute & dep & arr & dep\\_delay & arr\\_delay & carrier & flight & dest & plane & cancelled & time & dist\\\\\n",
       "\\hline\n",
       "\t 2011-01-01 & 14         &  0         & 1400       & 1500       &  0         & -10        & AA         & 428        & DFW        & N576AA     & 0          & 40         & 224       \\\\\n",
       "\t 2011-01-02 & 14         &  1         & 1401       & 1501       &  1         &  -9        & AA         & 428        & DFW        & N557AA     & 0          & 45         & 224       \\\\\n",
       "\t 2011-01-03 & 13         & 52         & 1352       & 1502       & -8         &  -8        & AA         & 428        & DFW        & N541AA     & 0          & 48         & 224       \\\\\n",
       "\t 2011-01-04 & 14         &  3         & 1403       & 1513       &  3         &   3        & AA         & 428        & DFW        & N403AA     & 0          & 39         & 224       \\\\\n",
       "\t 2011-01-05 & 14         &  5         & 1405       & 1507       &  5         &  -3        & AA         & 428        & DFW        & N492AA     & 0          & 44         & 224       \\\\\n",
       "\t 2011-01-06 & 13         & 59         & 1359       & 1503       & -1         &  -7        & AA         & 428        & DFW        & N262AA     & 0          & 45         & 224       \\\\\n",
       "\\end{tabular}\n"
      ],
      "text/markdown": [
       "\n",
       "DATE | hour | minute | dep | arr | dep_delay | arr_delay | carrier | flight | dest | plane | cancelled | time | dist | \n",
       "|---|---|---|---|---|---|\n",
       "| 2011-01-01 | 14         |  0         | 1400       | 1500       |  0         | -10        | AA         | 428        | DFW        | N576AA     | 0          | 40         | 224        | \n",
       "| 2011-01-02 | 14         |  1         | 1401       | 1501       |  1         |  -9        | AA         | 428        | DFW        | N557AA     | 0          | 45         | 224        | \n",
       "| 2011-01-03 | 13         | 52         | 1352       | 1502       | -8         |  -8        | AA         | 428        | DFW        | N541AA     | 0          | 48         | 224        | \n",
       "| 2011-01-04 | 14         |  3         | 1403       | 1513       |  3         |   3        | AA         | 428        | DFW        | N403AA     | 0          | 39         | 224        | \n",
       "| 2011-01-05 | 14         |  5         | 1405       | 1507       |  5         |  -3        | AA         | 428        | DFW        | N492AA     | 0          | 44         | 224        | \n",
       "| 2011-01-06 | 13         | 59         | 1359       | 1503       | -1         |  -7        | AA         | 428        | DFW        | N262AA     | 0          | 45         | 224        | \n",
       "\n",
       "\n"
      ],
      "text/plain": [
       "  DATE       hour minute dep  arr  dep_delay arr_delay carrier flight dest\n",
       "1 2011-01-01 14    0     1400 1500  0        -10       AA      428    DFW \n",
       "2 2011-01-02 14    1     1401 1501  1         -9       AA      428    DFW \n",
       "3 2011-01-03 13   52     1352 1502 -8         -8       AA      428    DFW \n",
       "4 2011-01-04 14    3     1403 1513  3          3       AA      428    DFW \n",
       "5 2011-01-05 14    5     1405 1507  5         -3       AA      428    DFW \n",
       "6 2011-01-06 13   59     1359 1503 -1         -7       AA      428    DFW \n",
       "  plane  cancelled time dist\n",
       "1 N576AA 0         40   224 \n",
       "2 N557AA 0         45   224 \n",
       "3 N541AA 0         48   224 \n",
       "4 N403AA 0         39   224 \n",
       "5 N492AA 0         44   224 \n",
       "6 N262AA 0         45   224 "
      ]
     },
     "metadata": {},
     "output_type": "display_data"
    },
    {
     "data": {
      "text/html": [
       "'type before conversion: character'"
      ],
      "text/latex": [
       "'type before conversion: character'"
      ],
      "text/markdown": [
       "'type before conversion: character'"
      ],
      "text/plain": [
       "[1] \"type before conversion: character\""
      ]
     },
     "metadata": {},
     "output_type": "display_data"
    },
    {
     "data": {
      "text/html": [
       "'type AFTER conversion: Date'"
      ],
      "text/latex": [
       "'type AFTER conversion: Date'"
      ],
      "text/markdown": [
       "'type AFTER conversion: Date'"
      ],
      "text/plain": [
       "[1] \"type AFTER conversion: Date\""
      ]
     },
     "metadata": {},
     "output_type": "display_data"
    }
   ],
   "source": [
    "query_string <- paste0(\"SELECT date(date, '6682 years', '38 days') as DATE, \",\n",
    "                       \"hour, minute, dep, arr, dep_delay, arr_delay, carrier, \",\n",
    "                       \"flight, dest, plane, cancelled, time, dist FROM flights\")\n",
    "flight_data <- dbGetQuery(con, query_string)\n",
    "head(flight_data)\n",
    "msg <- paste0(\"type before conversion: \", class(flight_data$DATE))\n",
    "msg\n",
    "suppressMessages(suppressWarnings(library(dplyr)))\n",
    "flight_data <- mutate(flight_data, DATE = as.Date(DATE))\n",
    "msg <- paste0(\"type AFTER conversion: \", class(flight_data$DATE))\n",
    "msg"
   ]
  },
  {
   "cell_type": "code",
   "execution_count": null,
   "metadata": {
    "collapsed": false
   },
   "outputs": [],
   "source": [
    "\n"
   ]
  },
  {
   "cell_type": "code",
   "execution_count": null,
   "metadata": {
    "collapsed": false
   },
   "outputs": [],
   "source": []
  },
  {
   "cell_type": "code",
   "execution_count": null,
   "metadata": {
    "collapsed": true
   },
   "outputs": [],
   "source": []
  },
  {
   "cell_type": "code",
   "execution_count": null,
   "metadata": {
    "collapsed": true
   },
   "outputs": [],
   "source": []
  },
  {
   "cell_type": "code",
   "execution_count": null,
   "metadata": {
    "collapsed": true
   },
   "outputs": [],
   "source": []
  },
  {
   "cell_type": "markdown",
   "metadata": {},
   "source": [
    "$$\\newcommand{\\xv}{\\mathbf{x}}\n",
    "\\newcommand{\\Xv}{\\mathbf{X}}\n",
    "\\newcommand{\\yv}{\\mathbf{y}}\n",
    "\\newcommand{\\Yv}{\\mathbf{Y}}\n",
    "\\newcommand{\\zv}{\\mathbf{z}}\n",
    "\\newcommand{\\av}{\\mathbf{a}}\n",
    "\\newcommand{\\Wv}{\\mathbf{W}}\n",
    "\\newcommand{\\wv}{\\mathbf{w}}\n",
    "\\newcommand{\\betav}{\\mathbf{\\beta}}\n",
    "\\newcommand{\\gv}{\\mathbf{g}}\n",
    "\\newcommand{\\Hv}{\\mathbf{H}}\n",
    "\\newcommand{\\dv}{\\mathbf{d}}\n",
    "\\newcommand{\\Vv}{\\mathbf{V}}\n",
    "\\newcommand{\\vv}{\\mathbf{v}}\n",
    "\\newcommand{\\tv}{\\mathbf{t}}\n",
    "\\newcommand{\\Tv}{\\mathbf{T}}\n",
    "\\newcommand{\\Sv}{\\mathbf{S}}\n",
    "\\newcommand{\\zv}{\\mathbf{z}}\n",
    "\\newcommand{\\Zv}{\\mathbf{Z}}\n",
    "\\newcommand{\\Norm}{\\mathcal{N}}\n",
    "\\newcommand{\\muv}{\\boldsymbol{\\mu}}\n",
    "\\newcommand{\\sigmav}{\\boldsymbol{\\sigma}}\n",
    "\\newcommand{\\phiv}{\\boldsymbol{\\phi}}\n",
    "\\newcommand{\\Phiv}{\\boldsymbol{\\Phi}}\n",
    "\\newcommand{\\Sigmav}{\\boldsymbol{\\Sigma}}\n",
    "\\newcommand{\\Lambdav}{\\boldsymbol{\\Lambda}}\n",
    "\\newcommand{\\half}{\\frac{1}{2}}\n",
    "\\newcommand{\\argmax}[1]{\\underset{#1}{\\operatorname{argmax}}}\n",
    "\\newcommand{\\argmin}[1]{\\underset{#1}{\\operatorname{argmin}}}\n",
    "\\newcommand{\\dimensionbar}[1]{\\underset{#1}{\\operatorname{|}}}\n",
    "\\newcommand{\\dimensionbar}[1]{\\underset{#1}{\\operatorname{|}}}\n",
    "\\newcommand{\\grad}{\\mathbf{\\nabla}}\n",
    "\\newcommand{\\ebx}[1]{e^{\\wv_{#1}^T \\xv_n}}\n",
    "\\newcommand{\\eby}[1]{e^{y_{n,#1}}}\n",
    "\\newcommand{\\Tiv}{\\mathbf{Ti}}\n",
    "\\newcommand{\\Fv}{\\mathbf{F}}\n",
    "\\newcommand{\\ones}[1]{\\mathbf{1}_{#1}}\n",
    "$$"
   ]
  },
  {
   "cell_type": "markdown",
   "metadata": {
    "collapsed": true
   },
   "source": []
  },
  {
   "cell_type": "markdown",
   "metadata": {
    "collapsed": true
   },
   "source": []
  },
  {
   "cell_type": "markdown",
   "metadata": {
    "collapsed": true
   },
   "source": []
  },
  {
   "cell_type": "markdown",
   "metadata": {
    "collapsed": true
   },
   "source": []
  },
  {
   "cell_type": "markdown",
   "metadata": {},
   "source": []
  },
  {
   "cell_type": "markdown",
   "metadata": {},
   "source": []
  },
  {
   "cell_type": "markdown",
   "metadata": {},
   "source": []
  },
  {
   "cell_type": "markdown",
   "metadata": {},
   "source": []
  },
  {
   "cell_type": "markdown",
   "metadata": {},
   "source": []
  },
  {
   "cell_type": "markdown",
   "metadata": {},
   "source": []
  },
  {
   "cell_type": "code",
   "execution_count": null,
   "metadata": {
    "collapsed": false
   },
   "outputs": [],
   "source": []
  },
  {
   "cell_type": "markdown",
   "metadata": {},
   "source": []
  },
  {
   "cell_type": "code",
   "execution_count": null,
   "metadata": {
    "collapsed": false,
    "scrolled": false
   },
   "outputs": [],
   "source": []
  },
  {
   "cell_type": "markdown",
   "metadata": {},
   "source": []
  },
  {
   "cell_type": "code",
   "execution_count": null,
   "metadata": {
    "collapsed": false
   },
   "outputs": [],
   "source": []
  },
  {
   "cell_type": "markdown",
   "metadata": {},
   "source": []
  },
  {
   "cell_type": "code",
   "execution_count": null,
   "metadata": {
    "collapsed": false
   },
   "outputs": [],
   "source": []
  },
  {
   "cell_type": "markdown",
   "metadata": {
    "collapsed": true
   },
   "source": []
  },
  {
   "cell_type": "code",
   "execution_count": null,
   "metadata": {
    "collapsed": false
   },
   "outputs": [],
   "source": []
  },
  {
   "cell_type": "markdown",
   "metadata": {
    "collapsed": true
   },
   "source": []
  },
  {
   "cell_type": "code",
   "execution_count": null,
   "metadata": {
    "collapsed": false
   },
   "outputs": [],
   "source": []
  },
  {
   "cell_type": "markdown",
   "metadata": {},
   "source": []
  },
  {
   "cell_type": "markdown",
   "metadata": {},
   "source": []
  },
  {
   "cell_type": "code",
   "execution_count": null,
   "metadata": {
    "collapsed": false
   },
   "outputs": [],
   "source": []
  },
  {
   "cell_type": "code",
   "execution_count": null,
   "metadata": {
    "collapsed": false
   },
   "outputs": [],
   "source": []
  },
  {
   "cell_type": "code",
   "execution_count": null,
   "metadata": {
    "collapsed": false
   },
   "outputs": [],
   "source": []
  },
  {
   "cell_type": "markdown",
   "metadata": {
    "collapsed": true
   },
   "source": []
  },
  {
   "cell_type": "code",
   "execution_count": null,
   "metadata": {
    "collapsed": false
   },
   "outputs": [],
   "source": []
  },
  {
   "cell_type": "code",
   "execution_count": null,
   "metadata": {
    "collapsed": false
   },
   "outputs": [],
   "source": []
  },
  {
   "cell_type": "code",
   "execution_count": null,
   "metadata": {
    "collapsed": false
   },
   "outputs": [],
   "source": []
  },
  {
   "cell_type": "code",
   "execution_count": null,
   "metadata": {
    "collapsed": true
   },
   "outputs": [],
   "source": []
  },
  {
   "cell_type": "code",
   "execution_count": null,
   "metadata": {
    "collapsed": true
   },
   "outputs": [],
   "source": []
  },
  {
   "cell_type": "markdown",
   "metadata": {
    "collapsed": true
   },
   "source": [
    "### References\n",
    "\n",
    "1. Wickham, Hadley, *Tidy Data*, Journal of Statistical Software, August 2014, Volume 59, Issue 10. [https://www.jstatsoft.org/article/view/v059i10/v59i10.pdf](https://www.jstatsoft.org/article/view/v059i10/v59i10.pdf)\n",
    "2. Hadley Wickham's \"dplyr\" tutorial at useR 2014 (1/2) [https://www.youtube.com/watch?v=8SGif63VW6E](https://www.youtube.com/watch?v=8SGif63VW6E)\n",
    "3. Hadley Wickham's \"dplyr\" tutorial at useR 2014 (2/2) [https://www.youtube.com/watch?v=Ue08LVuk790](https://www.youtube.com/watch?v=Ue08LVuk790)\n",
    "4. Data sets for the 2014 dplyr tutorial, [https://www.dropbox.com/sh/i8qnluwmuieicxc/AAAgt9tIKoIm7WZKIyK25lh6a](https://www.dropbox.com/sh/i8qnluwmuieicxc/AAAgt9tIKoIm7WZKIyK25lh6a)\n",
    "5. RSQLite documentation: [https://cran.r-project.org/web/packages/RSQLite/RSQLite.pdf](https://cran.r-project.org/web/packages/RSQLite/RSQLite.pdf)\n",
    "6. SQLite documentation regarding date types: [https://www.sqlite.org/datatype3.html#date_and_time_datatype](https://www.sqlite.org/datatype3.html#date_and_time_datatype)\n",
    "7. SQLite documentation regarding table structures (pragma): [http://www.sqlite.org/pragma.html#pragma_table_info](http://www.sqlite.org/pragma.html#pragma_table_info) \n",
    "8. \n"
   ]
  }
 ],
 "metadata": {
  "kernelspec": {
   "display_name": "R",
   "language": "R",
   "name": "ir"
  },
  "language_info": {
   "codemirror_mode": "r",
   "file_extension": ".r",
   "mimetype": "text/x-r-source",
   "name": "R",
   "pygments_lexer": "r",
   "version": "3.4.3"
  }
 },
 "nbformat": 4,
 "nbformat_minor": 2
}
