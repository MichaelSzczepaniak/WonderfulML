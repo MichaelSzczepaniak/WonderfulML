{
 "cells": [
  {
   "cell_type": "code",
   "execution_count": null,
   "metadata": {
    "collapsed": true
   },
   "outputs": [],
   "source": []
  },
  {
   "cell_type": "code",
   "execution_count": null,
   "metadata": {
    "collapsed": true
   },
   "outputs": [],
   "source": []
  },
  {
   "cell_type": "markdown",
   "metadata": {},
   "source": [
    "Download the data into it's own folder (**data**) and read it in from there so we don't need a network connection to get at it later.  Set <code>stringsAsFactors = FALSE</code> because we'll do this manually ourselves."
   ]
  },
  {
   "cell_type": "code",
   "execution_count": 1,
   "metadata": {},
   "outputs": [
    {
     "data": {
      "text/html": [
       "<table>\n",
       "<thead><tr><th scope=col>PassengerId</th><th scope=col>Survived</th><th scope=col>Pclass</th><th scope=col>Name</th><th scope=col>Sex</th><th scope=col>Age</th><th scope=col>SibSp</th><th scope=col>Parch</th><th scope=col>Ticket</th><th scope=col>Fare</th><th scope=col>Cabin</th><th scope=col>Embarked</th></tr></thead>\n",
       "<tbody>\n",
       "\t<tr><td>1                                                  </td><td>0                                                  </td><td>3                                                  </td><td>Braund, Mr. Owen Harris                            </td><td>male                                               </td><td>22                                                 </td><td>1                                                  </td><td>0                                                  </td><td>A/5 21171                                          </td><td> 7.2500                                            </td><td>NA                                                 </td><td>S                                                  </td></tr>\n",
       "\t<tr><td>2                                                  </td><td>1                                                  </td><td>1                                                  </td><td>Cumings, Mrs. John Bradley (Florence Briggs Thayer)</td><td>female                                             </td><td>38                                                 </td><td>1                                                  </td><td>0                                                  </td><td>PC 17599                                           </td><td>71.2833                                            </td><td>C85                                                </td><td>C                                                  </td></tr>\n",
       "\t<tr><td>3                                                  </td><td>1                                                  </td><td>3                                                  </td><td>Heikkinen, Miss. Laina                             </td><td>female                                             </td><td>26                                                 </td><td>0                                                  </td><td>0                                                  </td><td>STON/O2. 3101282                                   </td><td> 7.9250                                            </td><td>NA                                                 </td><td>S                                                  </td></tr>\n",
       "\t<tr><td>4                                                  </td><td>1                                                  </td><td>1                                                  </td><td>Futrelle, Mrs. Jacques Heath (Lily May Peel)       </td><td>female                                             </td><td>35                                                 </td><td>1                                                  </td><td>0                                                  </td><td>113803                                             </td><td>53.1000                                            </td><td>C123                                               </td><td>S                                                  </td></tr>\n",
       "\t<tr><td>5                                                  </td><td>0                                                  </td><td>3                                                  </td><td>Allen, Mr. William Henry                           </td><td>male                                               </td><td>35                                                 </td><td>0                                                  </td><td>0                                                  </td><td>373450                                             </td><td> 8.0500                                            </td><td>NA                                                 </td><td>S                                                  </td></tr>\n",
       "\t<tr><td>6                                                  </td><td>0                                                  </td><td>3                                                  </td><td>Moran, Mr. James                                   </td><td>male                                               </td><td>NA                                                 </td><td>0                                                  </td><td>0                                                  </td><td>330877                                             </td><td> 8.4583                                            </td><td>NA                                                 </td><td>Q                                                  </td></tr>\n",
       "</tbody>\n",
       "</table>\n"
      ],
      "text/latex": [
       "\\begin{tabular}{r|llllllllllll}\n",
       " PassengerId & Survived & Pclass & Name & Sex & Age & SibSp & Parch & Ticket & Fare & Cabin & Embarked\\\\\n",
       "\\hline\n",
       "\t 1                                                   & 0                                                   & 3                                                   & Braund, Mr. Owen Harris                             & male                                                & 22                                                  & 1                                                   & 0                                                   & A/5 21171                                           &  7.2500                                             & NA                                                  & S                                                  \\\\\n",
       "\t 2                                                   & 1                                                   & 1                                                   & Cumings, Mrs. John Bradley (Florence Briggs Thayer) & female                                              & 38                                                  & 1                                                   & 0                                                   & PC 17599                                            & 71.2833                                             & C85                                                 & C                                                  \\\\\n",
       "\t 3                                                   & 1                                                   & 3                                                   & Heikkinen, Miss. Laina                              & female                                              & 26                                                  & 0                                                   & 0                                                   & STON/O2. 3101282                                    &  7.9250                                             & NA                                                  & S                                                  \\\\\n",
       "\t 4                                                   & 1                                                   & 1                                                   & Futrelle, Mrs. Jacques Heath (Lily May Peel)        & female                                              & 35                                                  & 1                                                   & 0                                                   & 113803                                              & 53.1000                                             & C123                                                & S                                                  \\\\\n",
       "\t 5                                                   & 0                                                   & 3                                                   & Allen, Mr. William Henry                            & male                                                & 35                                                  & 0                                                   & 0                                                   & 373450                                              &  8.0500                                             & NA                                                  & S                                                  \\\\\n",
       "\t 6                                                   & 0                                                   & 3                                                   & Moran, Mr. James                                    & male                                                & NA                                                  & 0                                                   & 0                                                   & 330877                                              &  8.4583                                             & NA                                                  & Q                                                  \\\\\n",
       "\\end{tabular}\n"
      ],
      "text/markdown": [
       "\n",
       "PassengerId | Survived | Pclass | Name | Sex | Age | SibSp | Parch | Ticket | Fare | Cabin | Embarked | \n",
       "|---|---|---|---|---|---|\n",
       "| 1                                                   | 0                                                   | 3                                                   | Braund, Mr. Owen Harris                             | male                                                | 22                                                  | 1                                                   | 0                                                   | A/5 21171                                           |  7.2500                                             | NA                                                  | S                                                   | \n",
       "| 2                                                   | 1                                                   | 1                                                   | Cumings, Mrs. John Bradley (Florence Briggs Thayer) | female                                              | 38                                                  | 1                                                   | 0                                                   | PC 17599                                            | 71.2833                                             | C85                                                 | C                                                   | \n",
       "| 3                                                   | 1                                                   | 3                                                   | Heikkinen, Miss. Laina                              | female                                              | 26                                                  | 0                                                   | 0                                                   | STON/O2. 3101282                                    |  7.9250                                             | NA                                                  | S                                                   | \n",
       "| 4                                                   | 1                                                   | 1                                                   | Futrelle, Mrs. Jacques Heath (Lily May Peel)        | female                                              | 35                                                  | 1                                                   | 0                                                   | 113803                                              | 53.1000                                             | C123                                                | S                                                   | \n",
       "| 5                                                   | 0                                                   | 3                                                   | Allen, Mr. William Henry                            | male                                                | 35                                                  | 0                                                   | 0                                                   | 373450                                              |  8.0500                                             | NA                                                  | S                                                   | \n",
       "| 6                                                   | 0                                                   | 3                                                   | Moran, Mr. James                                    | male                                                | NA                                                  | 0                                                   | 0                                                   | 330877                                              |  8.4583                                             | NA                                                  | Q                                                   | \n",
       "\n",
       "\n"
      ],
      "text/plain": [
       "  PassengerId Survived Pclass\n",
       "1 1           0        3     \n",
       "2 2           1        1     \n",
       "3 3           1        3     \n",
       "4 4           1        1     \n",
       "5 5           0        3     \n",
       "6 6           0        3     \n",
       "  Name                                                Sex    Age SibSp Parch\n",
       "1 Braund, Mr. Owen Harris                             male   22  1     0    \n",
       "2 Cumings, Mrs. John Bradley (Florence Briggs Thayer) female 38  1     0    \n",
       "3 Heikkinen, Miss. Laina                              female 26  0     0    \n",
       "4 Futrelle, Mrs. Jacques Heath (Lily May Peel)        female 35  1     0    \n",
       "5 Allen, Mr. William Henry                            male   35  0     0    \n",
       "6 Moran, Mr. James                                    male   NA  0     0    \n",
       "  Ticket           Fare    Cabin Embarked\n",
       "1 A/5 21171         7.2500 NA    S       \n",
       "2 PC 17599         71.2833 C85   C       \n",
       "3 STON/O2. 3101282  7.9250 NA    S       \n",
       "4 113803           53.1000 C123  S       \n",
       "5 373450            8.0500 NA    S       \n",
       "6 330877            8.4583 NA    Q       "
      ]
     },
     "metadata": {},
     "output_type": "display_data"
    }
   ],
   "source": [
    "# get the training data here: https://www.kaggle.com/c/titanic/data/train.csv\n",
    "#data_all <- read.csv(\"../data/titanic_train.csv\", na.strings = c(\"NA\", \"\"), stringsAsFactors = FALSE)\n",
    "data_all <- read.csv(\"https://raw.githubusercontent.com/MichaelSzczepaniak/WonderfulML/master/data/titanic_train.csv\", na.strings = c(\"NA\", \"\"), stringsAsFactors = FALSE)\n",
    "head(data_all)"
   ]
  },
  {
   "cell_type": "markdown",
   "metadata": {},
   "source": [
    "Looks like there is some missing data that we'll need to deal with.  Let's start by determining the numer of missing values in each field."
   ]
  },
  {
   "cell_type": "code",
   "execution_count": 2,
   "metadata": {},
   "outputs": [
    {
     "data": {
      "text/html": [
       "<table>\n",
       "<thead><tr><th></th><th scope=col>na_count</th></tr></thead>\n",
       "<tbody>\n",
       "\t<tr><th scope=row>PassengerId</th><td>  0</td></tr>\n",
       "\t<tr><th scope=row>Survived</th><td>  0</td></tr>\n",
       "\t<tr><th scope=row>Pclass</th><td>  0</td></tr>\n",
       "\t<tr><th scope=row>Name</th><td>  0</td></tr>\n",
       "\t<tr><th scope=row>Sex</th><td>  0</td></tr>\n",
       "\t<tr><th scope=row>Age</th><td>177</td></tr>\n",
       "\t<tr><th scope=row>SibSp</th><td>  0</td></tr>\n",
       "\t<tr><th scope=row>Parch</th><td>  0</td></tr>\n",
       "\t<tr><th scope=row>Ticket</th><td>  0</td></tr>\n",
       "\t<tr><th scope=row>Fare</th><td>  0</td></tr>\n",
       "\t<tr><th scope=row>Cabin</th><td>687</td></tr>\n",
       "\t<tr><th scope=row>Embarked</th><td>  2</td></tr>\n",
       "</tbody>\n",
       "</table>\n"
      ],
      "text/latex": [
       "\\begin{tabular}{r|l}\n",
       "  & na\\_count\\\\\n",
       "\\hline\n",
       "\tPassengerId &   0\\\\\n",
       "\tSurvived &   0\\\\\n",
       "\tPclass &   0\\\\\n",
       "\tName &   0\\\\\n",
       "\tSex &   0\\\\\n",
       "\tAge & 177\\\\\n",
       "\tSibSp &   0\\\\\n",
       "\tParch &   0\\\\\n",
       "\tTicket &   0\\\\\n",
       "\tFare &   0\\\\\n",
       "\tCabin & 687\\\\\n",
       "\tEmbarked &   2\\\\\n",
       "\\end{tabular}\n"
      ],
      "text/markdown": [
       "\n",
       "| <!--/--> | na_count | \n",
       "|---|---|---|---|---|---|---|---|---|---|---|---|\n",
       "| PassengerId |   0 | \n",
       "| Survived |   0 | \n",
       "| Pclass |   0 | \n",
       "| Name |   0 | \n",
       "| Sex |   0 | \n",
       "| Age | 177 | \n",
       "| SibSp |   0 | \n",
       "| Parch |   0 | \n",
       "| Ticket |   0 | \n",
       "| Fare |   0 | \n",
       "| Cabin | 687 | \n",
       "| Embarked |   2 | \n",
       "\n",
       "\n"
      ],
      "text/plain": [
       "            na_count\n",
       "PassengerId   0     \n",
       "Survived      0     \n",
       "Pclass        0     \n",
       "Name          0     \n",
       "Sex           0     \n",
       "Age         177     \n",
       "SibSp         0     \n",
       "Parch         0     \n",
       "Ticket        0     \n",
       "Fare          0     \n",
       "Cabin       687     \n",
       "Embarked      2     "
      ]
     },
     "metadata": {},
     "output_type": "display_data"
    }
   ],
   "source": [
    "na_count <- sapply(data_all, function(y) sum(length(which(is.na(y)))))\n",
    "na_count <- data.frame(na_count)\n",
    "na_count"
   ]
  },
  {
   "cell_type": "markdown",
   "metadata": {},
   "source": [
    "Let's take a quick look at **Survival** by **Sex** and **Pclass**."
   ]
  },
  {
   "cell_type": "code",
   "execution_count": 3,
   "metadata": {},
   "outputs": [
    {
     "data": {
      "text/html": [
       "<ol class=list-inline>\n",
       "\t<li>1</li>\n",
       "\t<li>2</li>\n",
       "\t<li>3</li>\n",
       "</ol>\n"
      ],
      "text/latex": [
       "\\begin{enumerate*}\n",
       "\\item 1\n",
       "\\item 2\n",
       "\\item 3\n",
       "\\end{enumerate*}\n"
      ],
      "text/markdown": [
       "1. 1\n",
       "2. 2\n",
       "3. 3\n",
       "\n",
       "\n"
      ],
      "text/plain": [
       "[1] 1 2 3"
      ]
     },
     "metadata": {},
     "output_type": "display_data"
    }
   ],
   "source": [
    "data_all$Survived <- factor(data_all$Survived)\n",
    "data_all$Sex <- factor(data_all$Sex)\n",
    "sort(unique(data_all$Pclass))"
   ]
  },
  {
   "cell_type": "code",
   "execution_count": 9,
   "metadata": {},
   "outputs": [
    {
     "data": {
      "image/png": "[encoded data removed]"
     },
     "metadata": {},
     "output_type": "display_data"
    }
   ],
   "source": [
    "source(\"PlotTools.R\")\n",
    "# magic commands are an ipython kernel thing and don't work in an R notebook...\n",
    "#%%R -i df -w 800 -h 480 -u px\n",
    "# Make class barplot\n",
    "library(ggplot2)\n",
    "data_all$Pclass <- factor(data_all$Pclass)\n",
    "p0 <- ggplot(data_all, aes(Survived))\n",
    "options(jupyter.plot_mimetypes = 'image/png')\n",
    "p1 <- p0 + geom_bar(aes(fill = Pclass), position = \"dodge\") + coord_flip()\n",
    "p1 <- p1 + theme(legend.position = \"top\")\n",
    "#p <- p + ggtitle(sprintf(\"Mime type = '%s'\", getOption(\"jupyter.plot_mimetypes\")))\n",
    "#print(p1)\n",
    "\n",
    "p2 <- p0 + geom_bar(aes(fill = Sex), position = \"dodge\") + coord_flip()\n",
    "p2 <- p2 + theme(legend.position = \"top\")\n",
    "#print(p2)\n",
    "\n",
    "multiplot(p1, p2, cols=2)"
   ]
  },
  {
   "cell_type": "markdown",
   "metadata": {},
   "source": [
    "No surprise that your chances of survival were better if you were in 1st class and/or female.  This makes me wonder if the old adage \"women and children first\" was being followed, so let's take a look at age next."
   ]
  },
  {
   "cell_type": "code",
   "execution_count": null,
   "metadata": {
    "collapsed": true
   },
   "outputs": [],
   "source": []
  },
  {
   "cell_type": "code",
   "execution_count": null,
   "metadata": {
    "collapsed": true
   },
   "outputs": [],
   "source": []
  },
  {
   "cell_type": "code",
   "execution_count": null,
   "metadata": {
    "collapsed": true
   },
   "outputs": [],
   "source": []
  },
  {
   "cell_type": "code",
   "execution_count": null,
   "metadata": {
    "collapsed": true
   },
   "outputs": [],
   "source": []
  }
 ],
 "metadata": {
  "kernelspec": {
   "display_name": "R",
   "language": "R",
   "name": "ir"
  },
  "language_info": {
   "codemirror_mode": "r",
   "file_extension": ".r",
   "mimetype": "text/x-r-source",
   "name": "R",
   "pygments_lexer": "r",
   "version": "3.3.2"
  }
 },
 "nbformat": 4,
 "nbformat_minor": 2
}
